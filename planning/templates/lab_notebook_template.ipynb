{
 "cells": [
  {
   "cell_type": "markdown",
   "metadata": {},
   "source": [
    "# Week [X] Lab: [LAB_TITLE]\n",
    "\n",
    "<a href=\"https://colab.research.google.com/github/bradleyboehmke/uc-bana-4080/blob/main/labs/[FILENAME].ipynb\" target=\"_parent\"><img src=\"https://colab.research.google.com/assets/colab-badge.svg\" alt=\"Open In Colab\"/></a>\n",
    "\n",
    "[LAB_DESCRIPTION_AND_CONTEXT]\n",
    "\n",
    "## 🎯 Learning Objectives\n",
    "By the end of this lab, you will be able to:\n",
    "- [OBJECTIVE_1]\n",
    "- [OBJECTIVE_2] \n",
    "- [OBJECTIVE_3]\n",
    "- [OBJECTIVE_4]\n",
    "\n",
    "## 📚 This Lab Reinforces\n",
    "- **[Reading/Chapter Reference 1]**\n",
    "- **[Reading/Chapter Reference 2]**\n",
    "- **[Reading/Chapter Reference 3]**\n",
    "\n",
    "## 🕐 Estimated Time & Structure\n",
    "**Total Time:** [X] minutes  \n",
    "**Mode:** [Individual/Group/Mixed]\n",
    "\n",
    "- **[0–X min]** [SECTION_1_DESCRIPTION]\n",
    "- **[X–Y min]** [SECTION_2_DESCRIPTION]\n",
    "- **[Y–Z min]** [SECTION_3_DESCRIPTION]\n",
    "- **[Z–END min]** [WRAP_UP_DESCRIPTION]\n",
    "\n",
    "You are encouraged to work in small groups of **2–4 students** and complete the lab together.\n",
    "\n",
    "## 💡 Why This Matters\n",
    "[BUSINESS_CONTEXT_AND_REAL_WORLD_RELEVANCE]"
   ]
  },
  {
   "cell_type": "markdown",
   "metadata": {},
   "source": [
    "## Setup\n",
    "[SETUP_INSTRUCTIONS_AND_CONTEXT]"
   ]
  },
  {
   "cell_type": "code",
   "execution_count": null,
   "metadata": {},
   "outputs": [],
   "source": [
    "# Required imports\n",
    "[IMPORT_STATEMENTS]\n",
    "\n",
    "# Load data/setup (if applicable)\n",
    "[DATA_LOADING_CODE]\n",
    "\n",
    "# Quick preview/verification\n",
    "[PREVIEW_CODE]"
   ]
  },
  {
   "cell_type": "markdown",
   "metadata": {},
   "source": [
    "## Part 1 — [SECTION_1_TITLE] ([TIME_ESTIMATE] minutes)\n",
    "\n",
    "[SECTION_DESCRIPTION_AND_CONTEXT]\n",
    "\n",
    "### [SUBSECTION_1_TITLE]\n",
    "\n",
    "[EXPLANATION_OR_INSTRUCTIONS]\n",
    "\n",
    "**📋 Step-by-step instructions:**\n",
    "1. [STEP_1]\n",
    "2. [STEP_2]\n",
    "3. [STEP_3]\n",
    "4. [STEP_4]"
   ]
  },
  {
   "cell_type": "code",
   "execution_count": null,
   "metadata": {},
   "outputs": [],
   "source": [
    "# [DESCRIPTIVE_COMMENT]\n",
    "[CODE_EXAMPLE_OR_STARTER]"
   ]
  },
  {
   "cell_type": "markdown",
   "metadata": {},
   "source": [
    "### 🧠 Your Turn — [EXERCISE_TITLE]\n",
    "\n",
    "[EXERCISE_DESCRIPTION]\n",
    "\n",
    "**Tasks:**\n",
    "- [TASK_1]\n",
    "- [TASK_2]\n",
    "- [TASK_3]\n",
    "\n",
    "💡 **Hint:** [HELPFUL_HINT_IF_NEEDED]"
   ]
  },
  {
   "cell_type": "code",
   "execution_count": null,
   "metadata": {},
   "outputs": [],
   "source": [
    "# Your code here\n"
   ]
  },
  {
   "cell_type": "markdown",
   "metadata": {},
   "source": [
    "### ✅ Check Your Understanding\n",
    "\n",
    "[MINI_ASSESSMENT_OR_DISCUSSION_QUESTIONS]\n",
    "\n",
    "**Questions to consider:**\n",
    "- [QUESTION_1]\n",
    "- [QUESTION_2]\n",
    "\n",
    "**Expected Result:** [WHAT_STUDENTS_SHOULD_SEE]"
   ]
  },
  {
   "cell_type": "markdown",
   "metadata": {},
   "source": [
    "## Part 2 — [SECTION_2_TITLE] ([TIME_ESTIMATE] minutes)\n",
    "\n",
    "[SECTION_DESCRIPTION]"
   ]
  },
  {
   "cell_type": "markdown",
   "metadata": {},
   "source": [
    "### [GUIDED_EXAMPLE_TITLE]\n",
    "\n",
    "[EXPLANATION_OF_CONCEPT]\n",
    "\n",
    "**Example:** [CONCRETE_BUSINESS_EXAMPLE]"
   ]
  },
  {
   "cell_type": "code",
   "execution_count": null,
   "metadata": {},
   "outputs": [],
   "source": [
    "# Guided example\n",
    "[DEMONSTRATION_CODE]"
   ]
  },
  {
   "cell_type": "markdown",
   "metadata": {},
   "source": [
    "### 🧪 Practice Exercise — [EXERCISE_TITLE]\n",
    "\n",
    "**Business Scenario:** [REALISTIC_BUSINESS_CONTEXT]\n",
    "\n",
    "**Your Task:** [CLEAR_TASK_DESCRIPTION]\n",
    "\n",
    "**Step-by-step approach:**\n",
    "1. [STEP_1]\n",
    "2. [STEP_2] \n",
    "3. [STEP_3]"
   ]
  },
  {
   "cell_type": "code",
   "execution_count": null,
   "metadata": {},
   "outputs": [],
   "source": [
    "# Your solution here\n"
   ]
  },
  {
   "cell_type": "markdown",
   "metadata": {},
   "source": [
    "## Class Discussion/Q&A ([TIME_ESTIMATE] minutes)\n",
    "\n",
    "**Discussion prompts:**\n",
    "- [QUESTION_1]\n",
    "- [QUESTION_2]\n",
    "- [QUESTION_3]\n",
    "\n",
    "**Common blockers and clarifications:**\n",
    "- [COMMON_ISSUE_1]\n",
    "- [COMMON_ISSUE_2]"
   ]
  },
  {
   "cell_type": "markdown",
   "metadata": {},
   "source": [
    "## Part 3 — [CHALLENGE_SECTION] ([TIME_ESTIMATE] minutes)\n",
    "\n",
    "For the next several challenges...\n",
    "\n",
    "* You will not be given starter code to work with; rather, you need to start from a blank cell.\n",
    "* **DO NOT USE AI** to generate code for you. This is a [group/individual] exercise, and you should be writing the code [together/independently].\n",
    "* Work [with your group/independently] to write the code.\n",
    "* Feel free to ask questions or seek help from the instructor.\n",
    "* We'll stop and walk through each challenge together after each time block."
   ]
  },
  {
   "cell_type": "markdown",
   "metadata": {},
   "source": [
    "### Challenge 1 — [CHALLENGE_TITLE]\n",
    "\n",
    "**Question:** [BUSINESS_QUESTION]\n",
    "\n",
    "**Context:** [ADDITIONAL_CONTEXT_IF_NEEDED]"
   ]
  },
  {
   "cell_type": "code",
   "execution_count": null,
   "metadata": {},
   "outputs": [],
   "source": [
    "# Your turn: write code here to [CHALLENGE_DESCRIPTION]\n"
   ]
  },
  {
   "cell_type": "markdown",
   "metadata": {},
   "source": [
    "### Challenge 2 — [CHALLENGE_TITLE]\n",
    "\n",
    "**Question:** [BUSINESS_QUESTION]\n",
    "\n",
    "**Hint:** [STRATEGIC_HINT_NOT_CODE]"
   ]
  },
  {
   "cell_type": "code",
   "execution_count": null,
   "metadata": {},
   "outputs": [],
   "source": [
    "# Your turn: write code here to [CHALLENGE_DESCRIPTION]\n"
   ]
  },
  {
   "cell_type": "markdown",
   "metadata": {},
   "source": [
    "### Challenge 3 — [CHALLENGE_TITLE]\n",
    "\n",
    "**Question:** [BUSINESS_QUESTION]"
   ]
  },
  {
   "cell_type": "code",
   "execution_count": null,
   "metadata": {},
   "outputs": [],
   "source": [
    "# Your turn: write code here to [CHALLENGE_DESCRIPTION]\n"
   ]
  },
  {
   "cell_type": "markdown",
   "metadata": {},
   "source": [
    "## 🎯 (Optional) Extension Activities\n",
    "\n",
    "If you finish early or want additional practice:\n",
    "\n",
    "### Extension 1: [EXTENSION_TITLE]\n",
    "[ADVANCED_CHALLENGE_DESCRIPTION]\n",
    "\n",
    "### Extension 2: [EXTENSION_TITLE] \n",
    "[CREATIVE_APPLICATION_DESCRIPTION]\n",
    "\n",
    "### Extension 3: Brainstorm — What else is interesting?\n",
    "Write **3 questions** you'd like to explore with this dataset in future weeks.\n",
    "\n",
    "Examples to spark ideas:\n",
    "- [EXAMPLE_QUESTION_1]\n",
    "- [EXAMPLE_QUESTION_2]\n",
    "- [EXAMPLE_QUESTION_3]"
   ]
  },
  {
   "cell_type": "markdown",
   "metadata": {},
   "source": [
    "## 🎓 Lab Wrap-Up & Reflection\n",
    "\n",
    "### ✅ What You Accomplished\n",
    "In this lab, you practiced:\n",
    "- [ACCOMPLISHMENT_1]\n",
    "- [ACCOMPLISHMENT_2] \n",
    "- [ACCOMPLISHMENT_3]\n",
    "- [ACCOMPLISHMENT_4]\n",
    "\n",
    "### 🤔 Reflection Questions\n",
    "Take 2-3 minutes to consider:\n",
    "- What concept from today clicked for you?\n",
    "- What would you like more practice with?\n",
    "- How might you use today's skills in a real business context?\n",
    "\n",
    "### 🔗 Connection to Course Goals\n",
    "[HOW_THIS_LAB_CONNECTS_TO_BROADER_LEARNING]\n",
    "\n",
    "### 📋 Next Steps\n",
    "- **Homework:** [HOMEWORK_REFERENCE]\n",
    "- **Next Tuesday:** [NEXT_WEEK_PREVIEW]\n",
    "- **Additional Practice:** [OPTIONAL_RESOURCES]\n",
    "\n",
    "---\n",
    "**💾 Save your work** and be ready to share your approach and findings. [SPECIFIC_SHARING_INSTRUCTIONS]"
   ]
  },
  {
   "cell_type": "markdown",
   "metadata": {},
   "source": [
    "## 🚨 Troubleshooting & Common Issues\n",
    "\n",
    "**Issue 1:** [COMMON_PROBLEM]\n",
    "- **Solution:** [SOLUTION_APPROACH]\n",
    "\n",
    "**Issue 2:** [COMMON_PROBLEM]\n",
    "- **Solution:** [SOLUTION_APPROACH]\n",
    "\n",
    "**Issue 3:** [COMMON_PROBLEM]\n",
    "- **Solution:** [SOLUTION_APPROACH]\n",
    "\n",
    "**General Debugging Tips:**\n",
    "- [TIP_1]\n",
    "- [TIP_2]\n",
    "- [TIP_3]"
   ]
  }
 ],
 "metadata": {
  "kernelspec": {
   "display_name": "Python 3",
   "language": "python",
   "name": "python3"
  },
  "language_info": {
   "codemirror_mode": {
    "name": "ipython",
    "version": 3
   },
   "file_extension": ".py",
   "mimetype": "text/x-python",
   "name": "python",
   "nbconvert_exporter": "python",
   "pygments_lexer": "ipython3",
   "version": "3.8.5"
  }
 },
 "nbformat": 4,
 "nbformat_minor": 4
}