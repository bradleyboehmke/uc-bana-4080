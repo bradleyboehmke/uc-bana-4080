{
 "cells": [
  {
   "cell_type": "markdown",
   "metadata": {},
   "source": [
    "<a href=\"https://colab.research.google.com/github/bradleyboehmke/uc-bana-4080/blob/main/example-notebooks/wk4_data_detective.ipynb\" target=\"_parent\"><img src=\"https://colab.research.google.com/assets/colab-badge.svg\" alt=\"Open In Colab\"/></a>"
   ]
  },
  {
   "cell_type": "markdown",
   "metadata": {},
   "source": [
    "# Week 4: Data Wrangling in Python 🛠️\n",
    "\n",
    "## Today's Mission:\n",
    "- Learn to manipulate, summarize, and join data\n",
    "- Master data wrangling skills with Complete Journey data\n",
    "- Solve real business questions through code-with-me challenges\n",
    "\n",
    "**Follow along with the slides and complete the challenges below!**"
   ]
  },
  {
   "cell_type": "markdown",
   "metadata": {},
   "source": [
    "## Getting Started: Load Complete Journey Data\n",
    "\n",
    "Let's start by loading the Complete Journey datasets that we'll use throughout today's lesson!"
   ]
  },
  {
   "cell_type": "code",
   "execution_count": null,
   "metadata": {},
   "outputs": [],
   "source": [
    "# You may need to install the package first\n",
    "# !pip install completejourney-py\n",
    "\n",
    "import pandas as pd\n",
    "from completejourney_py import get_data\n",
    "\n",
    "# Load all Complete Journey datasets\n",
    "cj_data = get_data()\n",
    "print(\"Available datasets:\")\n",
    "cj_data.keys()"
   ]
  },
  {
   "cell_type": "markdown",
   "metadata": {},
   "source": [
    "## Explore the Data Relationships\n",
    "\n",
    "Let's take a quick look at each dataset to understand what we're working with:"
   ]
  },
  {
   "cell_type": "code",
   "execution_count": null,
   "metadata": {},
   "outputs": [],
   "source": [
    "# Quick overview of each dataset\n",
    "for name, df in cj_data.items():\n",
    "    print(f\"\\n{name.upper()}:\")\n",
    "    print(f\"Shape: {df.shape}\")\n",
    "    print(f\"Columns: {list(df.columns)}\")"
   ]
  },
  {
   "cell_type": "code",
   "execution_count": null,
   "metadata": {},
   "outputs": [],
   "source": [
    "# take a look at the transactions data\n",
    "transactions = cj_data['transactions']\n",
    "transactions.head()"
   ]
  },
  {
   "cell_type": "markdown",
   "metadata": {},
   "source": [
    "## Brainstorm Business Questions\n",
    "\n",
    "Before we dive into data wrangling, let's think about what kinds of questions a grocery retailer might want to answer:\n",
    "\n",
    "**Example questions:**\n",
    "- What income level is buying the most?\n",
    "- Do families with kids spend more than families without kids?\n",
    "- Which department and product is the most commonly purchased?\n",
    "- Which coupon was used the most?\n",
    "\n",
    "**Your group's questions:**\n",
    "\n",
    "1. question 1 here\n",
    "2. question 2 here\n",
    "3. question 3 here"
   ]
  },
  {
   "cell_type": "markdown",
   "metadata": {},
   "source": [
    "---\n",
    "\n",
    "# Part 1: Manipulating Data 🔧\n",
    "\n",
    "Let's start with some examples using the Ames housing data to learn the techniques:"
   ]
  },
  {
   "cell_type": "markdown",
   "metadata": {},
   "source": [
    "## Loading Example Data: Ames Housing\n",
    "\n",
    "We'll use this messy dataset to learn data manipulation techniques:"
   ]
  },
  {
   "cell_type": "code",
   "execution_count": null,
   "metadata": {},
   "outputs": [],
   "source": [
    "# Load the Ames housing data\n",
    "ames = pd.read_csv(\"https://raw.githubusercontent.com/bradleyboehmke/uc-bana-4080/main/data/ames_raw.csv\")\n",
    "ames.head()"
   ]
  },
  {
   "cell_type": "markdown",
   "metadata": {},
   "source": [
    "## Renaming Columns\n",
    "\n",
    "Notice the inconsistent column names? Let's clean them up:"
   ]
  },
  {
   "cell_type": "code",
   "execution_count": null,
   "metadata": {},
   "outputs": [],
   "source": [
    "# Method 1: Rename specific columns\n",
    "ames.rename(columns={\n",
    "    'MS SubClass': 'ms_subclass',\n",
    "    'MS Zoning': 'ms_zoning'\n",
    "    }, inplace=True)\n",
    "\n",
    "ames.head()"
   ]
  },
  {
   "cell_type": "code",
   "execution_count": null,
   "metadata": {},
   "outputs": [],
   "source": [
    "# Method 2: Clean ALL column names at once\n",
    "ames.columns = (\n",
    "  ames.columns.\n",
    "  str.lower()               # convert to lowercase\n",
    "  .str.replace(' ', '_')    # replace spaces with underscores\n",
    "  .str.replace('-', '_')    # replace hyphens with underscores\n",
    "  .str.strip()              # strip out extra leading/ending spaces\n",
    ")\n",
    "\n",
    "ames.head()"
   ]
  },
  {
   "cell_type": "markdown",
   "metadata": {},
   "source": [
    "## Dropping Columns\n",
    "\n",
    "Sometimes we want to remove columns we don't need:"
   ]
  },
  {
   "cell_type": "code",
   "execution_count": null,
   "metadata": {},
   "outputs": [],
   "source": [
    "# Drop columns we don't need\n",
    "cols_to_drop = ['order', 'pid', 'ms_subclass']\n",
    "ames.drop(columns=cols_to_drop, inplace=True)\n",
    "ames.head()"
   ]
  },
  {
   "cell_type": "markdown",
   "metadata": {},
   "source": [
    "## Adding New Columns\n",
    "\n",
    "Create new metrics from existing data:"
   ]
  },
  {
   "cell_type": "code",
   "execution_count": null,
   "metadata": {},
   "outputs": [],
   "source": [
    "# Create a price per square foot column\n",
    "ames['price_per_sqft'] = ames['saleprice'] / ames['gr_liv_area']\n",
    "ames.head()"
   ]
  },
  {
   "cell_type": "code",
   "execution_count": null,
   "metadata": {},
   "outputs": [],
   "source": [
    "# Transform month numbers to month names\n",
    "months = {\n",
    "    1: 'Jan', 2: 'Feb', 3: 'Mar', 4: 'Apr', 5: 'May', 6: 'Jun', \n",
    "    7: 'Jul', 8: 'Aug', 9: 'Sep', 10: 'Oct', 11: 'Nov', 12: 'Dec'\n",
    "}\n",
    "\n",
    "ames['mo_sold'] = ames['mo_sold'].map(months)\n",
    "ames.head()"
   ]
  },
  {
   "cell_type": "markdown",
   "metadata": {},
   "source": [
    "## Handling Missing Values\n",
    "\n",
    "Check for and handle missing data:"
   ]
  },
  {
   "cell_type": "code",
   "execution_count": null,
   "metadata": {},
   "outputs": [],
   "source": [
    "# Check for missing values\n",
    "ames.isnull().sum().sort_values(ascending=False).head(10)"
   ]
  },
  {
   "cell_type": "code",
   "execution_count": null,
   "metadata": {},
   "outputs": [],
   "source": [
    "# Fill missing pool quality values\n",
    "ames['pool_qc'] = ames['pool_qc'].fillna('no pool')\n",
    "ames['pool_qc'].value_counts()"
   ]
  },
  {
   "cell_type": "markdown",
   "metadata": {},
   "source": [
    "## 🧑‍💻 Code With Me: Clean Product Names\n",
    "\n",
    "**Business Question:** Our marketing team wants cleaner product category names for their dashboard. Can we standardize the Complete Journey product categories?\n",
    "\n",
    "Let's work together to solve this!"
   ]
  },
  {
   "cell_type": "code",
   "execution_count": null,
   "metadata": {},
   "outputs": [],
   "source": [
    "# Load the products data\n",
    "products = cj_data[\"products\"]\n",
    "products['product_category'].value_counts()"
   ]
  },
  {
   "cell_type": "markdown",
   "metadata": {},
   "source": [
    "**Your turn:** Help me clean these category names by:\n",
    "1. Converting to lowercase\n",
    "2. Replacing spaces/hyphens with underscores  \n",
    "3. Creating a new column called `clean_category`"
   ]
  },
  {
   "cell_type": "code",
   "execution_count": null,
   "metadata": {},
   "outputs": [],
   "source": [
    "# Fill in the blanks together!\n",
    "products['clean_category'] = (\n",
    "    products['product_category']\n",
    "    .str.______()                    # convert to lowercase\n",
    "    .str.replace(' ', '_')           # replace spaces\n",
    "    .str.replace('__', '__')         # replace hyphens (fill in the blanks)\n",
    ")\n",
    "\n",
    "products[['product_category', 'clean_category']].head()"
   ]
  },
  {
   "cell_type": "markdown",
   "metadata": {},
   "source": [
    "## 🧑‍💻 Code With Me: Create Business Metrics\n",
    "\n",
    "**Business Question:** Our analytics team wants to calculate unit prices to identify premium vs budget products."
   ]
  },
  {
   "cell_type": "code",
   "execution_count": null,
   "metadata": {},
   "outputs": [],
   "source": [
    "# Let's look at our transaction data\n",
    "transactions = cj_data[\"transactions\"]\n",
    "transactions[['sales_value', 'quantity']].head()"
   ]
  },
  {
   "cell_type": "markdown",
   "metadata": {},
   "source": [
    "**Your turn:** Help me create a `unit_price` column:"
   ]
  },
  {
   "cell_type": "code",
   "execution_count": null,
   "metadata": {},
   "outputs": [],
   "source": [
    "# Fill in the blanks together!\n",
    "transactions['unit_price'] = transactions['_______'] / transactions['_______']\n",
    "\n",
    "# Let's see which products have the highest unit prices\n",
    "transactions[['product_id', 'sales_value', 'quantity', 'unit_price']].head()"
   ]
  },
  {
   "cell_type": "markdown",
   "metadata": {},
   "source": [
    "---\n",
    "\n",
    "# Part 2: Summarizing Data 📊\n",
    "\n",
    "Now let's learn how to aggregate and summarize our data:"
   ]
  },
  {
   "cell_type": "markdown",
   "metadata": {},
   "source": [
    "## Simple Aggregations\n",
    "\n",
    "Computing summary statistics for individual columns:"
   ]
  },
  {
   "cell_type": "code",
   "execution_count": null,
   "metadata": {},
   "outputs": [],
   "source": [
    "# Basic statistics on the Ames data\n",
    "avg_price = ames['saleprice'].mean()\n",
    "print(f\"Avg Sale Price: ${avg_price:,.2f}\")\n",
    "\n",
    "min_ppsqft = ames['price_per_sqft'].min()\n",
    "max_ppsqft = ames['price_per_sqft'].max()\n",
    "print(f\"Min & Max Price per Sqft: ${min_ppsqft:,.2f} - ${max_ppsqft:,.2f}\")"
   ]
  },
  {
   "cell_type": "code",
   "execution_count": null,
   "metadata": {},
   "outputs": [],
   "source": [
    "# Summary stats for multiple columns\n",
    "cols = ['gr_liv_area', 'saleprice', 'price_per_sqft']\n",
    "ames[cols].mean()"
   ]
  },
  {
   "cell_type": "markdown",
   "metadata": {},
   "source": [
    "## Multiple Aggregations with .agg()\n",
    "\n",
    "When you need different statistics for different columns:"
   ]
  },
  {
   "cell_type": "code",
   "execution_count": null,
   "metadata": {},
   "outputs": [],
   "source": [
    "ames.agg({\n",
    "    'saleprice': ['mean', 'median'],\n",
    "    'price_per_sqft': ['mean', 'min', 'max']\n",
    "})"
   ]
  },
  {
   "cell_type": "markdown",
   "metadata": {},
   "source": [
    "## Group-level Aggregations\n",
    "\n",
    "The real power comes from grouping and summarizing:"
   ]
  },
  {
   "cell_type": "code",
   "execution_count": null,
   "metadata": {},
   "outputs": [],
   "source": [
    "# Average sale price by neighborhood\n",
    "(\n",
    "  ames.\n",
    "  groupby('neighborhood', as_index=False).\n",
    "  agg({'saleprice': ['mean', 'median']})\n",
    ")"
   ]
  },
  {
   "cell_type": "code",
   "execution_count": null,
   "metadata": {},
   "outputs": [],
   "source": [
    "# Group by multiple variables\n",
    "(\n",
    "  ames.\n",
    "  groupby(['neighborhood', 'mo_sold'], as_index=False).\n",
    "  agg({'saleprice': 'mean'})\n",
    ")"
   ]
  },
  {
   "cell_type": "markdown",
   "metadata": {},
   "source": [
    "## 🧑‍💻 Code With Me: Top Revenue Products\n",
    "\n",
    "**Business Question:** Which products generate the most revenue? Our merchandising team needs this for inventory planning."
   ]
  },
  {
   "cell_type": "code",
   "execution_count": null,
   "metadata": {},
   "outputs": [],
   "source": [
    "# Let's look at our transaction data\n",
    "transactions = cj_data[\"transactions\"]\n",
    "transactions[['product_id', 'sales_value', 'quantity']].head()"
   ]
  },
  {
   "cell_type": "markdown",
   "metadata": {},
   "source": [
    "**Your turn:** Help me find the top revenue-generating products:"
   ]
  },
  {
   "cell_type": "code",
   "execution_count": null,
   "metadata": {},
   "outputs": [],
   "source": [
    "# Fill in the blanks together!\n",
    "product_revenue = (\n",
    "    transactions\n",
    "    .groupby('_______', as_index=False)\n",
    "    .agg({'sales_value': '_______'})\n",
    "    .sort_values('sales_value', ascending=False)\n",
    ")\n",
    "\n",
    "product_revenue.head(10)"
   ]
  },
  {
   "cell_type": "markdown",
   "metadata": {},
   "source": [
    "## 🧑‍💻 Code With Me: Store Performance\n",
    "\n",
    "**Business Question:** Which stores are performing best? Our operations team wants to understand store-level performance."
   ]
  },
  {
   "cell_type": "code",
   "execution_count": null,
   "metadata": {},
   "outputs": [],
   "source": [
    "# Look at store information in our transactions\n",
    "transactions['store_id'].value_counts().head()"
   ]
  },
  {
   "cell_type": "markdown",
   "metadata": {},
   "source": [
    "**Your turn:** Help me compare total sales and transaction counts by store:"
   ]
  },
  {
   "cell_type": "code",
   "execution_count": null,
   "metadata": {},
   "outputs": [],
   "source": [
    "# Fill in the blanks together!\n",
    "store_performance = (\n",
    "    transactions\n",
    "    .groupby('_______', as_index=False)\n",
    "    .agg({\n",
    "        'sales_value': ['_______', '_______'],  # sum, mean\n",
    "        'basket_id': '_______'                  # count (for # of transactions)\n",
    "    })\n",
    ")\n",
    "\n",
    "store_performance.head()"
   ]
  },
  {
   "cell_type": "markdown",
   "metadata": {},
   "source": [
    "---\n",
    "\n",
    "# Part 3: Joining Data 🔗\n",
    "\n",
    "Most business questions require combining multiple datasets:"
   ]
  },
  {
   "cell_type": "markdown",
   "metadata": {},
   "source": [
    "## Understanding Data Relationships\n",
    "\n",
    "In the Complete Journey data:\n",
    "- `household_id` connects **transactions** with **demographics**\n",
    "- `product_id` connects **transactions** with **products**\n",
    "- `coupon_upc` connects **coupons** with **coupon_redemptions**"
   ]
  },
  {
   "cell_type": "markdown",
   "metadata": {},
   "source": [
    "## Basic Merge Example\n",
    "\n",
    "Let's see how to join transactions with products:"
   ]
  },
  {
   "cell_type": "code",
   "execution_count": null,
   "metadata": {},
   "outputs": [],
   "source": [
    "# Example: What is the total sales value for the top 10 selling products?\n",
    "transactions = cj_data[\"transactions\"]\n",
    "products = cj_data[\"products\"]\n",
    "\n",
    "(\n",
    "    transactions\n",
    "    .merge(products, how='inner', on='product_id')\n",
    "    .groupby(['product_id', 'product_category'], as_index=False)\n",
    "    .agg({'sales_value': 'sum'})\n",
    "    .nlargest(10, 'sales_value')\n",
    ")"
   ]
  },
  {
   "cell_type": "markdown",
   "metadata": {},
   "source": [
    "## 🧑‍💻 Code With Me: Customer Demographics Analysis\n",
    "\n",
    "**Business Question:** Do families with kids spend more than families without kids? Our marketing team wants to target family-friendly promotions."
   ]
  },
  {
   "cell_type": "code",
   "execution_count": null,
   "metadata": {},
   "outputs": [],
   "source": [
    "# Let's explore what we have\n",
    "transactions = cj_data[\"transactions\"]\n",
    "demographics = cj_data[\"demographics\"] \n",
    "\n",
    "demographics[['household_id', 'kids_count']].head()"
   ]
  },
  {
   "cell_type": "markdown",
   "metadata": {},
   "source": [
    "**Your turn:** Help me join transactions with demographics:"
   ]
  },
  {
   "cell_type": "code",
   "execution_count": null,
   "metadata": {},
   "outputs": [],
   "source": [
    "# Fill in the blanks together!\n",
    "family_data = (\n",
    "    transactions\n",
    "    .merge(demographics, on='_______', how='_______')\n",
    ")\n",
    "\n",
    "family_data[['household_id', 'sales_value', 'kids_count']].head()"
   ]
  },
  {
   "cell_type": "markdown",
   "metadata": {},
   "source": [
    "## 🧑‍💻 Code With Me: Family Spending Analysis\n",
    "\n",
    "**Continuing our analysis:** Now let's compare spending between families with and without kids."
   ]
  },
  {
   "cell_type": "code",
   "execution_count": null,
   "metadata": {},
   "outputs": [],
   "source": [
    "# First, let's create a family type column\n",
    "family_data['family_type'] = family_data['kids_count'].apply(\n",
    "    lambda x: 'Has Kids' if x > 0 else 'No Kids'\n",
    ")\n",
    "\n",
    "family_data['family_type'].value_counts()"
   ]
  },
  {
   "cell_type": "markdown",
   "metadata": {},
   "source": [
    "**Your turn:** Help me compare average spending by family type:"
   ]
  },
  {
   "cell_type": "code",
   "execution_count": null,
   "metadata": {},
   "outputs": [],
   "source": [
    "# Fill in the blanks together!\n",
    "family_spending = (\n",
    "    family_data\n",
    "    .groupby('_______', as_index=False)\n",
    "    .agg({'sales_value': ['_______', '_______', 'count']})  # mean, sum\n",
    ")\n",
    "\n",
    "family_spending"
   ]
  },
  {
   "cell_type": "markdown",
   "metadata": {},
   "source": [
    "**Discussion:** What does this tell us about family spending patterns?"
   ]
  },
  {
   "cell_type": "markdown",
   "metadata": {},
   "source": [
    "---\n",
    "\n",
    "# Practice Section: Your Turn! 🎯\n",
    "\n",
    "Now try some challenges on your own using the Complete Journey data:"
   ]
  },
  {
   "cell_type": "markdown",
   "metadata": {},
   "source": [
    "## Challenge 1: Data Manipulation\n",
    "\n",
    "**Task:** Clean up the demographics data by:\n",
    "1. Creating a new column `income_level` that categorizes income ranges as \"Low\", \"Medium\", or \"High\"\n",
    "2. Creating a new column `has_kids` that is True/False based on kids_count"
   ]
  },
  {
   "cell_type": "code",
   "execution_count": null,
   "metadata": {},
   "outputs": [],
   "source": [
    "# Your code here:\n",
    "\n"
   ]
  },
  {
   "cell_type": "markdown",
   "metadata": {},
   "source": [
    "## Challenge 2: Data Summarization\n",
    "\n",
    "**Task:** Find the top 5 product categories by total sales value"
   ]
  },
  {
   "cell_type": "code",
   "execution_count": null,
   "metadata": {},
   "outputs": [],
   "source": [
    "# Your code here:\n",
    "\n"
   ]
  },
  {
   "cell_type": "markdown",
   "metadata": {},
   "source": [
    "## Challenge 3: Data Joining\n",
    "\n",
    "**Task:** Answer one of your group's brainstormed questions by joining appropriate datasets and summarizing the results"
   ]
  },
  {
   "cell_type": "code",
   "execution_count": null,
   "metadata": {},
   "outputs": [],
   "source": [
    "# Your code here:\n",
    "\n"
   ]
  },
  {
   "cell_type": "markdown",
   "metadata": {},
   "source": [
    "---\n",
    "\n",
    "# 🧾 Quick Reference\n",
    "\n",
    "| Task | Syntax Example |\n",
    "|------|----------------|\n",
    "| Rename columns | `df.rename(columns={\"old\":\"new\"}, inplace=True)` |\n",
    "| Create a new column | `df[\"unit_price\"] = df[\"sales_value\"] / df[\"quantity\"]` |\n",
    "| Drop column(s) | `df.drop(columns=[\"col1\",\"col2\"], inplace=True)` |\n",
    "| Fill missing values | `df[\"col\"].fillna(0, inplace=True)` |\n",
    "| Group and single aggregation | `df.groupby(\"dept\")[\"sales_value\"].sum()` |\n",
    "| Group with multiple aggregations | `df.groupby(\"dept\").agg({\"sales_value\":[\"sum\",\"mean\"], \"quantity\":\"sum\"})` |\n",
    "| Sort results | `df.sort_values([\"sales_value\"], ascending=False)` |\n",
    "| Most frequent items | `df[\"product_id\"].value_counts()` |\n",
    "| Join two tables (inner) | `pd.merge(left_df, right_df, on=\"key\", how=\"left\")` |\n",
    "\n",
    "## Key Takeaways\n",
    "\n",
    "- **Clean data first:** Standardized columns and clear keys prevent surprises\n",
    "- **groupby + agg:** This combination unlocks most business questions\n",
    "- **Joins are essential:** Most real insights require combining multiple datasets\n",
    "- **Build systematically:** manipulate → summarize → join → summarize → interpret\n",
    "\n",
    "**You're now ready for Thursday's lab! 🚀**"
   ]
  }
 ],
 "metadata": {
  "kernelspec": {
   "display_name": "venv (3.12.10)",
   "language": "python",
   "name": "python3"
  },
  "language_info": {
   "codemirror_mode": {
    "name": "ipython",
    "version": 3
   },
   "file_extension": ".py",
   "mimetype": "text/x-python",
   "name": "python",
   "nbconvert_exporter": "python",
   "pygments_lexer": "ipython3",
   "version": "3.12.10"
  }
 },
 "nbformat": 4,
 "nbformat_minor": 4
}
