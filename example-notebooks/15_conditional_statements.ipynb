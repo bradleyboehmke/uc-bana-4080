{
 "cells": [
  {
   "cell_type": "markdown",
   "id": "3ccd1a03",
   "metadata": {},
   "source": [
    "# Controlling Program Flow with Conditional Statements\n",
    "\n",
    "<a href=\"https://colab.research.google.com/github/bradleyboehmke/uc-bana-4080/blob/main/example-notebooks/15_conditional_statements.ipynb\" target=\"_parent\"><img src=\"https://colab.research.google.com/assets/colab-badge.svg\" alt=\"Open In Colab\"/></a>\n",
    "\n",
    "This notebook accompanies [this textbook chapter](https://bradleyboehmke.github.io/uc-bana-4080/16-conditional-statements.html) and allows you to run the code examples interactively.\n"
   ]
  },
  {
   "cell_type": "markdown",
   "id": "7a9b3beb",
   "metadata": {},
   "source": [
    "## Prerequisites"
   ]
  },
  {
   "cell_type": "code",
   "execution_count": null,
   "id": "198ec61c",
   "metadata": {},
   "outputs": [],
   "source": [
    "import pandas as pd\n",
    "import numpy as np"
   ]
  },
  {
   "cell_type": "markdown",
   "id": "70d49b00",
   "metadata": {},
   "source": [
    "\n",
    "Also, most of the examples use toy data; however, when illustrating concepts integrated with Pandas we will use the  Complete Journey transaction data:\n"
   ]
  },
  {
   "cell_type": "code",
   "execution_count": null,
   "id": "2deea4bf",
   "metadata": {},
   "outputs": [],
   "source": [
    "from completejourney_py import get_data\n",
    "\n",
    "df = get_data()['transactions']"
   ]
  },
  {
   "cell_type": "markdown",
   "id": "116c3c36",
   "metadata": {},
   "source": [
    "\n",
    "## if statement\n"
   ]
  },
  {
   "cell_type": "code",
   "execution_count": null,
   "id": "fdf6a953",
   "metadata": {},
   "outputs": [],
   "source": [
    "x = -8\n",
    "\n",
    "if x < 0:\n",
    "    print('x contains a negative number')"
   ]
  },
  {
   "cell_type": "code",
   "execution_count": null,
   "id": "208dc078",
   "metadata": {},
   "outputs": [],
   "source": [
    "# multiple lines in the statement are fine as long as they have the\n",
    "# same indentation\n",
    "if x < 0:\n",
    "    new_value = abs(x)\n",
    "    print(f'absolute value of x is {new_value}')"
   ]
  },
  {
   "cell_type": "code",
   "execution_count": null,
   "id": "fada3f28",
   "metadata": {},
   "outputs": [],
   "source": [
    "# single line approach\n",
    "if x < 0: print('x contains a negative number')"
   ]
  },
  {
   "cell_type": "code",
   "execution_count": null,
   "id": "cdbb2c51",
   "metadata": {},
   "outputs": [],
   "source": [
    "# a conditional statement on an empty object is equivalent to False\n",
    "empty_list = []\n",
    "if empty_list:\n",
    "    print(\"since empty_list is False this won't exectute\")"
   ]
  },
  {
   "cell_type": "code",
   "execution_count": null,
   "id": "bdf995e8",
   "metadata": {},
   "outputs": [],
   "source": [
    "# a conditional statement on a non-empty object is equivalent to True\n",
    "non_empty_list = ['not', 'empty']\n",
    "if non_empty_list:\n",
    "    print(\"This list is not empty\")"
   ]
  },
  {
   "cell_type": "markdown",
   "id": "6d1d890a",
   "metadata": {},
   "source": [
    "\n",
    "Python uses `and` and `or` operators to evaluate multiple expressions. They always return a single `True` or `False`. Moreover, Python will stop evaluating multiple expressions as soon as the result is known.\n"
   ]
  },
  {
   "cell_type": "code",
   "execution_count": null,
   "id": "3e12667f",
   "metadata": {},
   "outputs": [],
   "source": [
    "x = -1\n",
    "y = 4\n",
    "if x < 0 or y < 0:\n",
    "    print('At least one of these objects are less than zero.')"
   ]
  },
  {
   "cell_type": "code",
   "execution_count": null,
   "id": "23168970",
   "metadata": {},
   "outputs": [],
   "source": [
    "if x < 0 and y < 0:\n",
    "    print('Both x and y or less than zero')"
   ]
  },
  {
   "cell_type": "markdown",
   "id": "71f4dc78",
   "metadata": {},
   "source": [
    "## Multiway Branching"
   ]
  },
  {
   "cell_type": "code",
   "execution_count": null,
   "id": "535e201a",
   "metadata": {},
   "outputs": [],
   "source": [
    "x = 22.50\n",
    "\n",
    "if 0 <= x < 10:\n",
    "    print('low')\n",
    "elif 10 <= x < 20:\n",
    "    print('medium-low')\n",
    "elif 20 <= x < 30:\n",
    "    print('medium')\n",
    "else:\n",
    "    print('preferred')"
   ]
  },
  {
   "cell_type": "markdown",
   "id": "c95392a5",
   "metadata": {},
   "source": [
    "## Switch Statements"
   ]
  },
  {
   "cell_type": "code",
   "execution_count": null,
   "id": "26ff6762",
   "metadata": {},
   "outputs": [],
   "source": [
    "choice = 'ham'\n",
    "\n",
    "if choice == 'spam':\n",
    "    print(1.25)\n",
    "elif choice == 'ham':\n",
    "    print(1.99)\n",
    "elif choice == 'eggs':\n",
    "    print(0.99)\n",
    "elif choice == 'bacon':\n",
    "    print(1.10)\n",
    "else:\n",
    "    print('Bad choice')"
   ]
  },
  {
   "cell_type": "markdown",
   "id": "ffd28e1f",
   "metadata": {},
   "source": [
    "\n",
    "However, this approach is a bit verbose. An efficient alternative is to use a dictionary that provides the same key-value matching as a `switch` statement. \n"
   ]
  },
  {
   "cell_type": "code",
   "execution_count": null,
   "id": "5f4f05a3",
   "metadata": {},
   "outputs": [],
   "source": [
    "options = {'spam': 1.25, 'ham': 1.99, 'eggs': 0.99, 'bacon': 1.10}"
   ]
  },
  {
   "cell_type": "markdown",
   "id": "8abd3086",
   "metadata": {},
   "source": [
    "\n",
    "You can either index this dictionary for the matching key:\n"
   ]
  },
  {
   "cell_type": "code",
   "execution_count": null,
   "id": "78789072",
   "metadata": {},
   "outputs": [],
   "source": [
    "options[choice]"
   ]
  },
  {
   "cell_type": "markdown",
   "id": "8a140118",
   "metadata": {},
   "source": [
    "\n",
    "Or, a more trustworthy approach is to use the `get()` method. This allows you to provide a default response in the case that the key you are looking for is not in the dictionary\n",
    "\n"
   ]
  },
  {
   "cell_type": "code",
   "execution_count": null,
   "id": "313c72df",
   "metadata": {},
   "outputs": [],
   "source": [
    "options.get(choice, 'Bad choice')"
   ]
  },
  {
   "cell_type": "code",
   "execution_count": null,
   "id": "1b5e58bb",
   "metadata": {},
   "outputs": [],
   "source": [
    "choice = 'broccoli'\n",
    "options.get(choice, 'Bad choice')"
   ]
  },
  {
   "cell_type": "code",
   "execution_count": null,
   "id": "35bb552c",
   "metadata": {},
   "outputs": [],
   "source": [
    "def produce_revenue(sqft, visits, trend):\n",
    "    total = 9.91 * sqft * visits * trend\n",
    "    return round(total, 2)\n",
    "\n",
    "def frozen_revenue(sqft, visits, trend):\n",
    "    prod = produce_revenue(sqft, visits, trend)\n",
    "    total = 3.28 * sqft * visits * trend - prod * .005\n",
    "    return round(total, 2)\n",
    "\n",
    "expected_annual_revenue = {\n",
    "    'produce':    produce_revenue,\n",
    "    'frozen':     frozen_revenue,\n",
    "    'pharmacy':   lambda: 16.11 * visits * trend\n",
    "    }\n",
    "\n",
    "choice = 'frozen'\n",
    "expected_annual_revenue.get(choice, 'Bad choice')(sqft=937, visits=465, trend=0.98)"
   ]
  },
  {
   "cell_type": "markdown",
   "id": "24f88265",
   "metadata": {},
   "source": [
    "## Applying in Pandas"
   ]
  },
  {
   "cell_type": "code",
   "execution_count": null,
   "id": "fff36acb",
   "metadata": {},
   "outputs": [],
   "source": [
    "df['value'] = df['sales_value'].apply(lambda x: 'high value' if x > 10 else 'low value')\n",
    "df.head()"
   ]
  },
  {
   "cell_type": "code",
   "execution_count": null,
   "id": "80f2c397",
   "metadata": {},
   "outputs": [],
   "source": [
    "df.groupby('value').size()"
   ]
  },
  {
   "cell_type": "markdown",
   "id": "b6cada55",
   "metadata": {},
   "source": [
    "\n",
    "An alternative, and much faster approach is to use `np.where()`, which requires numpy to be loaded. `np.where` has been show to be over 2.5 times faster than `apply()`:\n"
   ]
  },
  {
   "cell_type": "code",
   "execution_count": null,
   "id": "bf1f9c88",
   "metadata": {},
   "outputs": [],
   "source": [
    "df['value'] = np.where(df['sales_value'] > 10, 'high value', 'low value')\n",
    "df.head()"
   ]
  },
  {
   "cell_type": "markdown",
   "id": "8d9e09e8",
   "metadata": {},
   "source": [
    "\n",
    "As our conditions get more complex, it often becomes useful to create a separate function and use `apply`.  This approach is probably the most legible; however, not always the fastest approach if you are working with significantly large data.\n"
   ]
  },
  {
   "cell_type": "code",
   "execution_count": null,
   "id": "afc45bd1",
   "metadata": {},
   "outputs": [],
   "source": [
    "def flag(df):\n",
    "    if (df['quantity'] > 20) or (df['sales_value'] > 10):\n",
    "        return 'Large purchase'\n",
    "    elif (df['quantity'] > 10) or (df['sales_value'] > 5):\n",
    "        return 'Medium purchase'\n",
    "    elif (df['quantity'] > 0) or (df['sales_value'] > 0):\n",
    "        return 'Small purchase'\n",
    "    else:\n",
    "        return 'Alternative transaction'\n",
    "\n",
    "df['purchase_flag'] = df.apply(flag, axis = 1)\n",
    "df.head()"
   ]
  },
  {
   "cell_type": "code",
   "execution_count": null,
   "id": "a379440c",
   "metadata": {},
   "outputs": [],
   "source": [
    "df.groupby('purchase_flag').size()"
   ]
  }
 ],
 "metadata": {
  "language_info": {
   "name": "python"
  }
 },
 "nbformat": 4,
 "nbformat_minor": 5
}
