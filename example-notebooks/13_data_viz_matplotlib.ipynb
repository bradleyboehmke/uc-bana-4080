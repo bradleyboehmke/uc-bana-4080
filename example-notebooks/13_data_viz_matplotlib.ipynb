{
 "cells": [
  {
   "cell_type": "markdown",
   "id": "c08dd378",
   "metadata": {},
   "source": [
    "# Fundamentals of Plotting with Matplotlib\n",
    "\n",
    "<a href=\"https://colab.research.google.com/github/bradleyboehmke/uc-bana-4080/blob/main/example-notebooks/13_data_viz_matplotlib.ipynb\" target=\"_parent\"><img src=\"https://colab.research.google.com/assets/colab-badge.svg\" alt=\"Open In Colab\"/></a>\n",
    "\n",
    "This notebook accompanies the textbook chapter and allows you to run the code examples interactively."
   ]
  },
  {
   "cell_type": "markdown",
   "id": "5c479c22",
   "metadata": {},
   "source": [
    "## Importing the pyplot module"
   ]
  },
  {
   "cell_type": "code",
   "execution_count": null,
   "id": "2e2bffc2",
   "metadata": {},
   "outputs": [],
   "source": [
    "import matplotlib.pyplot as plt"
   ]
  },
  {
   "cell_type": "markdown",
   "id": "a5f2671c",
   "metadata": {},
   "source": [
    "## Figures and axes"
   ]
  },
  {
   "cell_type": "code",
   "execution_count": null,
   "id": "30d00c82",
   "metadata": {},
   "outputs": [],
   "source": [
    "fig, ax = plt.subplots()"
   ]
  },
  {
   "cell_type": "code",
   "execution_count": null,
   "id": "6d3f8b99",
   "metadata": {},
   "outputs": [],
   "source": [
    "type(fig)"
   ]
  },
  {
   "cell_type": "code",
   "execution_count": null,
   "id": "7b582d38",
   "metadata": {},
   "outputs": [],
   "source": [
    "type(ax)"
   ]
  },
  {
   "cell_type": "markdown",
   "id": "e50e7aae",
   "metadata": {},
   "source": [
    "### Distinguishing the Figure from the Axes"
   ]
  },
  {
   "cell_type": "code",
   "execution_count": null,
   "id": "68254092",
   "metadata": {},
   "outputs": [],
   "source": [
    "# set figure and axes colors\n",
    "fig.set_facecolor('skyblue')\n",
    "ax.set_facecolor('sandybrown')\n",
    "\n",
    "# show result\n",
    "fig"
   ]
  },
  {
   "cell_type": "markdown",
   "id": "88fc2273",
   "metadata": {},
   "source": [
    "### Setting the size of the Figure upon creation"
   ]
  },
  {
   "cell_type": "code",
   "execution_count": null,
   "id": "737e73e5",
   "metadata": {},
   "outputs": [],
   "source": [
    "fig, ax = plt.subplots(figsize=(8, 4))\n",
    "fig.set_facecolor('skyblue')\n",
    "ax.set_facecolor('sandybrown')"
   ]
  },
  {
   "cell_type": "markdown",
   "id": "f182d8dd",
   "metadata": {},
   "source": [
    "### Calling Axes methods - `get_` and `set_` methods"
   ]
  },
  {
   "cell_type": "code",
   "execution_count": null,
   "id": "fd6f4b46",
   "metadata": {},
   "outputs": [],
   "source": [
    "ax.get_title()"
   ]
  },
  {
   "cell_type": "code",
   "execution_count": null,
   "id": "c8c749fc",
   "metadata": {},
   "outputs": [],
   "source": [
    "ax.set_title('My First Matplotlib Graph')"
   ]
  },
  {
   "cell_type": "code",
   "execution_count": null,
   "id": "88677c2b",
   "metadata": {},
   "outputs": [],
   "source": [
    "fig"
   ]
  },
  {
   "cell_type": "code",
   "execution_count": null,
   "id": "eaf83402",
   "metadata": {},
   "outputs": [],
   "source": [
    "ax.get_title()"
   ]
  },
  {
   "cell_type": "code",
   "execution_count": null,
   "id": "74260b8b",
   "metadata": {},
   "outputs": [],
   "source": [
    "ax.get_xlim()"
   ]
  },
  {
   "cell_type": "code",
   "execution_count": null,
   "id": "767fa964",
   "metadata": {},
   "outputs": [],
   "source": [
    "ax.get_ylim()"
   ]
  },
  {
   "cell_type": "code",
   "execution_count": null,
   "id": "6efd6872",
   "metadata": {},
   "outputs": [],
   "source": [
    "ax.set_xlim(0, 5)\n",
    "ax.set_ylim(-10, 50)\n",
    "fig"
   ]
  },
  {
   "cell_type": "code",
   "execution_count": null,
   "id": "9dd3c89b",
   "metadata": {},
   "outputs": [],
   "source": [
    "ax.get_xticks()"
   ]
  },
  {
   "cell_type": "code",
   "execution_count": null,
   "id": "351b273d",
   "metadata": {},
   "outputs": [],
   "source": [
    "ax.get_yticks()"
   ]
  },
  {
   "cell_type": "code",
   "execution_count": null,
   "id": "d3502a74",
   "metadata": {},
   "outputs": [],
   "source": [
    "ax.set_xticks([1.8, 3.99, 4.4])\n",
    "ax.set_yticks([-99, -9, -1, 22, 44])\n",
    "fig"
   ]
  },
  {
   "cell_type": "code",
   "execution_count": null,
   "id": "23f8f3b8",
   "metadata": {},
   "outputs": [],
   "source": [
    "ax.get_xticklabels()"
   ]
  },
  {
   "cell_type": "code",
   "execution_count": null,
   "id": "f1903c54",
   "metadata": {},
   "outputs": [],
   "source": [
    "ax.set_xticklabels(['dog', 'cat', 'snake'])\n",
    "ax.set_yticklabels(['Boehmke', 'D', 'A', 'R', 'B'])\n",
    "fig"
   ]
  },
  {
   "cell_type": "markdown",
   "id": "766bb995",
   "metadata": {},
   "source": [
    "### Setting text styles"
   ]
  },
  {
   "cell_type": "code",
   "execution_count": null,
   "id": "d041f8fb",
   "metadata": {},
   "outputs": [],
   "source": [
    "ax.set_title(\n",
    "    'Tests',\n",
    "    size=20, \n",
    "    color='firebrick',\n",
    "    backgroundcolor='steelblue',\n",
    "    fontname='Courier New',\n",
    "    rotation=70\n",
    "    )\n",
    "fig"
   ]
  },
  {
   "cell_type": "code",
   "execution_count": null,
   "id": "390a26f6",
   "metadata": {},
   "outputs": [],
   "source": [
    "ax.set_xlabel(\n",
    "    'New and Imporved X-Axis Stylized Label',\n",
    "    size=15,\n",
    "    color='indigo', \n",
    "    fontname='Times New Roman', \n",
    "    rotation=15\n",
    "    )\n",
    "fig"
   ]
  },
  {
   "cell_type": "markdown",
   "id": "a50d79a8",
   "metadata": {},
   "source": [
    "## Plotting Data"
   ]
  },
  {
   "cell_type": "code",
   "execution_count": null,
   "id": "9c41f487",
   "metadata": {},
   "outputs": [],
   "source": [
    "import pandas as pd\n",
    "from completejourney_py import get_data\n",
    "\n",
    "cj_data = get_data()\n",
    "df = (\n",
    "    cj_data['transactions']\n",
    "    .merge(cj_data['products'], how='inner', on='product_id')\n",
    "    .merge(cj_data['demographics'], how='inner', on='household_id')\n",
    ")\n",
    "\n",
    "df.head()"
   ]
  },
  {
   "cell_type": "markdown",
   "id": "87d8ecf1",
   "metadata": {},
   "source": [
    "### Line `plot`s"
   ]
  },
  {
   "cell_type": "code",
   "execution_count": null,
   "id": "e2ade6ea",
   "metadata": {},
   "outputs": [],
   "source": [
    "daily_sales = (\n",
    "    df\n",
    "    .set_index('transaction_timestamp')['sales_value']\n",
    "    .resample('D')\n",
    "    .sum()\n",
    "    .to_frame()\n",
    "    .reset_index()\n",
    ")\n",
    "daily_sales.head()"
   ]
  },
  {
   "cell_type": "code",
   "execution_count": null,
   "id": "5563e3ce",
   "metadata": {},
   "outputs": [],
   "source": [
    "fig, ax = plt.subplots(figsize=(10, 4))\n",
    "ax.plot('transaction_timestamp', 'sales_value', data=daily_sales);"
   ]
  },
  {
   "cell_type": "code",
   "execution_count": null,
   "id": "3d877779",
   "metadata": {},
   "outputs": [],
   "source": [
    "fig, ax = plt.subplots(figsize=(10, 4))\n",
    "\n",
    "# create/modify line plot\n",
    "ax.plot(\n",
    "    'transaction_timestamp', \n",
    "    'sales_value', \n",
    "    data=daily_sales, \n",
    "    linestyle=':', \n",
    "    color='gray',\n",
    "    linewidth=2\n",
    "    )\n",
    "\n",
    "# add additional context\n",
    "ax.set_title('Total daily sales across all stores', size=20)\n",
    "ax.set_ylabel('Total sales ($)');"
   ]
  },
  {
   "cell_type": "code",
   "execution_count": null,
   "id": "a0b2f6af",
   "metadata": {},
   "outputs": [],
   "source": [
    "from datetime import date as dt\n",
    "\n",
    "fig, ax = plt.subplots(figsize=(10, 4))\n",
    "\n",
    "# create/modify line plot\n",
    "ax.plot(\n",
    "    'transaction_timestamp', \n",
    "    'sales_value', \n",
    "    data=daily_sales, \n",
    "    linestyle=':', \n",
    "    color='gray',\n",
    "    linewidth=2\n",
    "    )\n",
    "\n",
    "# add additional context\n",
    "ax.set_title('Total daily sales across all stores', size=20)\n",
    "ax.set_ylabel('Total sales ($)');\n",
    "\n",
    "# add gridlines, arrow, and text\n",
    "ax.grid(linestyle='dashed')\n",
    "ax.annotate(\n",
    "    'Christmas Eve', \n",
    "    xy=([dt(2017, 12, 20), 15900]), \n",
    "    xytext=([dt(2017, 9, 1), 15500]), \n",
    "    arrowprops={'color':'blue', 'width':2},\n",
    "    size=10\n",
    "    );"
   ]
  },
  {
   "cell_type": "markdown",
   "id": "cb6ec02b",
   "metadata": {},
   "source": [
    "### Other plots"
   ]
  },
  {
   "cell_type": "code",
   "execution_count": null,
   "id": "70c4390d",
   "metadata": {},
   "outputs": [],
   "source": [
    "totals_by_store = df.groupby('store_id').agg({'sales_value': 'sum', 'quantity': 'sum'})\n",
    "\n",
    "# histogram\n",
    "fig, ax = plt.subplots(figsize=(8, 4))\n",
    "ax.hist('sales_value', data=totals_by_store, bins=30);"
   ]
  },
  {
   "cell_type": "code",
   "execution_count": null,
   "id": "b9ed8229",
   "metadata": {},
   "outputs": [],
   "source": [
    "# boxplot\n",
    "fig, ax = plt.subplots(figsize=(8, 4))\n",
    "ax.boxplot('sales_value', data=totals_by_store, vert=False)\n",
    "\n",
    "# adjust axes\n",
    "ax.set_xscale('log')\n",
    "ax.set_yticklabels('')\n",
    "ax.set_yticks([]);"
   ]
  },
  {
   "cell_type": "code",
   "execution_count": null,
   "id": "7f7def4e",
   "metadata": {},
   "outputs": [],
   "source": [
    "# scatter plot\n",
    "fig, ax = plt.subplots(figsize=(8, 4))\n",
    "ax.scatter('quantity', 'sales_value', data=totals_by_store, c='gray', s=5);"
   ]
  },
  {
   "cell_type": "markdown",
   "id": "b653360d",
   "metadata": {},
   "source": [
    "### Adding more dimensions"
   ]
  },
  {
   "cell_type": "code",
   "execution_count": null,
   "id": "078dfee3",
   "metadata": {},
   "outputs": [],
   "source": [
    "store_count = (\n",
    "    df\n",
    "    .groupby('store_id', as_index=False)\n",
    "    .size()\n",
    "    .rename(columns={'size': 'n'})\n",
    ")\n",
    "\n",
    "totals_by_store = (\n",
    "    df\n",
    "    .groupby('store_id', as_index=False)\n",
    "    .agg({'sales_value': 'sum', 'quantity': 'sum'})\n",
    "    .merge(store_count)\n",
    ")\n",
    "\n",
    "totals_by_store.head()"
   ]
  },
  {
   "cell_type": "code",
   "execution_count": null,
   "id": "9349359e",
   "metadata": {},
   "outputs": [],
   "source": [
    "size_adj = totals_by_store['n']**0.4\n",
    "n_outliers = totals_by_store['n'] > totals_by_store['n'].quantile(0.95)\n",
    "\n",
    "fig, ax = plt.subplots(figsize=(8, 4))\n",
    "ax.scatter('quantity', 'sales_value', data=totals_by_store, c=n_outliers, s=size_adj);"
   ]
  },
  {
   "cell_type": "markdown",
   "id": "950e3c1e",
   "metadata": {},
   "source": [
    "### Multiple plots"
   ]
  },
  {
   "cell_type": "code",
   "execution_count": null,
   "id": "211722c9",
   "metadata": {},
   "outputs": [],
   "source": [
    "fig, ax_array = plt.subplots(2, 2, figsize=(8, 6), constrained_layout=True)"
   ]
  },
  {
   "cell_type": "code",
   "execution_count": null,
   "id": "eb488c6d",
   "metadata": {},
   "outputs": [],
   "source": [
    "type(ax_array)"
   ]
  },
  {
   "cell_type": "code",
   "execution_count": null,
   "id": "733e5a38",
   "metadata": {},
   "outputs": [],
   "source": [
    "ax_array.shape"
   ]
  },
  {
   "cell_type": "code",
   "execution_count": null,
   "id": "3e0b5c19",
   "metadata": {},
   "outputs": [],
   "source": [
    "ax_array"
   ]
  },
  {
   "cell_type": "code",
   "execution_count": null,
   "id": "e5145d0e",
   "metadata": {},
   "outputs": [],
   "source": [
    "ax1 = ax_array[0, 0]  # row 0, col 0\n",
    "ax2 = ax_array[0, 1]  # row 0, col 1\n",
    "ax3 = ax_array[1, 0]  # row 1, col 0\n",
    "ax4 = ax_array[1, 1]  # row 1, col 1"
   ]
  },
  {
   "cell_type": "code",
   "execution_count": null,
   "id": "a78a0b24",
   "metadata": {},
   "outputs": [],
   "source": [
    "# plot 1\n",
    "ax1.plot(\n",
    "    'transaction_timestamp', \n",
    "    'sales_value', \n",
    "    data=daily_sales, \n",
    "    linestyle=':', \n",
    "    color='gray',\n",
    "    linewidth=2\n",
    "    )\n",
    "\n",
    "# add additional context\n",
    "ax1.set_title('Total daily sales across all stores', size=12)\n",
    "ax1.set_ylabel('Total sales ($)');\n",
    "\n",
    "# add gridlines, arrow, and text\n",
    "ax1.grid(linestyle='dashed')\n",
    "ax1.tick_params(axis='x', which='major', labelsize=8, labelrotation=45)\n",
    "ax1.annotate(\n",
    "    'Christmas Eve', \n",
    "    xy=([dt(2017, 12, 20), 15900]), \n",
    "    xytext=([dt(2017, 7, 1), 15500]), \n",
    "    arrowprops={'color':'blue', 'width':0.5},\n",
    "    size=8\n",
    "    )\n",
    "    \n",
    "# plot 2\n",
    "ax2.scatter('quantity', 'sales_value', data=totals_by_store, c=n_outliers, s=size_adj)\n",
    "ax2.set_title('Total store-level sales vs quantity.', size=12)\n",
    "\n",
    "# plot 3\n",
    "ax3.hist('sales_value', data=totals_by_store, bins=30)\n",
    "ax3.set_title('Histogram of total store-level sales.', size=12)\n",
    "\n",
    "# plot 4\n",
    "ax4.boxplot('quantity', data=totals_by_store, vert=False)\n",
    "ax4.set_xscale('log')\n",
    "ax4.set_yticklabels('')\n",
    "ax4.set_yticks([])\n",
    "ax4.set_title('Histogram of total store-level quantity.', size=12);\n",
    "\n",
    "# final plot title\n",
    "fig.suptitle('Total store-level sales and quantities (2017)', fontsize=20)\n",
    "fig"
   ]
  },
  {
   "cell_type": "markdown",
   "id": "48ed11c9",
   "metadata": {},
   "source": [
    "## Exercise: Customizing Pizza Visualizations with Matplotlib"
   ]
  },
  {
   "cell_type": "code",
   "execution_count": null,
   "id": "1d13c2a6",
   "metadata": {},
   "outputs": [],
   "source": [
    "import matplotlib.pyplot as plt\n",
    "import pandas as pd\n",
    "from completejourney_py import get_data\n",
    "\n",
    "cj_data = get_data()\n",
    "df = (\n",
    "    cj_data['transactions']\n",
    "    .merge(cj_data['products'], how='inner', on='product_id')\n",
    "    .merge(cj_data['demographics'], how='inner', on='household_id')\n",
    ")"
   ]
  }
 ],
 "metadata": {
  "language_info": {
   "name": "python"
  }
 },
 "nbformat": 4,
 "nbformat_minor": 5
}
