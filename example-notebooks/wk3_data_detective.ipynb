{
 "cells": [
  {
   "cell_type": "markdown",
   "metadata": {
    "colab_type": "text",
    "id": "view-in-github"
   },
   "source": [
    "<a href=\"https://colab.research.google.com/github/bradleyboehmke/uc-bana-4080/blob/main/example-notebooks/wk3_data_detective.ipynb\" target=\"_parent\"><img src=\"https://colab.research.google.com/assets/colab-badge.svg\" alt=\"Open In Colab\"/></a>"
   ]
  },
  {
   "cell_type": "markdown",
   "metadata": {},
   "source": [
    "# Week 3: Become a Data Detective 🔍\n",
    "\n",
    "## Today's Mission:\n",
    "- Learn to import real-world datasets\n",
    "- Master DataFrame investigation techniques  \n",
    "- Discover the power of data subsetting\n",
    "\n",
    "**Follow along with the slides and complete the challenges below!**"
   ]
  },
  {
   "cell_type": "markdown",
   "metadata": {},
   "source": [
    "## Getting Data Into Python\n",
    "\n",
    "Let's start by importing the pandas library and loading our first dataset!"
   ]
  },
  {
   "cell_type": "code",
   "execution_count": null,
   "metadata": {},
   "outputs": [],
   "source": [
    "# Step 1: Import pandas and load the Ames housing data\n",
    "import pandas as pd\n",
    "\n",
    "# Load the real estate data\n",
    "ames = pd.read_csv(\"https://raw.githubusercontent.com/bradleyboehmke/uc-bana-4080/main/data/ames_raw.csv\")\n",
    "\n",
    "# What type of object did we create?\n",
    "print(f\"Type of object: {type(ames)}\")"
   ]
  },
  {
   "cell_type": "code",
   "execution_count": null,
   "metadata": {},
   "outputs": [],
   "source": [
    "# Take a quick look at our DataFrame\n",
    "ames"
   ]
  },
  {
   "cell_type": "markdown",
   "metadata": {},
   "source": [
    "## Getting to Know Your Data 🧐\n",
    "\n",
    "Think of these as your **\"data detective questions\"**:"
   ]
  },
  {
   "cell_type": "code",
   "execution_count": null,
   "metadata": {},
   "outputs": [],
   "source": [
    "# 🔍 \"How big is this dataset?\"\n",
    "ames.shape"
   ]
  },
  {
   "cell_type": "code",
   "execution_count": null,
   "metadata": {},
   "outputs": [],
   "source": [
    "# 👀 \"What does the data look like?\"\n",
    "ames.head()"
   ]
  },
  {
   "cell_type": "code",
   "execution_count": null,
   "metadata": {},
   "outputs": [],
   "source": [
    "# 📊 \"What types of data do I have?\"\n",
    "ames.info()"
   ]
  },
  {
   "cell_type": "code",
   "execution_count": null,
   "metadata": {},
   "outputs": [],
   "source": [
    "# 📋 \"What are my column names?\"\n",
    "ames.columns"
   ]
  },
  {
   "cell_type": "code",
   "execution_count": null,
   "metadata": {},
   "outputs": [],
   "source": [
    "# 🎯 \"What data types am I working with?\"\n",
    "ames.dtypes"
   ]
  },
  {
   "cell_type": "code",
   "execution_count": null,
   "metadata": {},
   "outputs": [],
   "source": [
    "# 📈 \"What are the basic statistics?\"\n",
    "ames.describe()"
   ]
  },
  {
   "cell_type": "markdown",
   "metadata": {},
   "source": [
    "## Understanding Series vs DataFrames\n",
    "\n",
    "Let's explore the difference between extracting a single column (Series) vs multiple columns (DataFrame):"
   ]
  },
  {
   "cell_type": "code",
   "execution_count": null,
   "metadata": {},
   "outputs": [],
   "source": [
    "# Extract one column - this returns a Series\n",
    "prices = ames['SalePrice']\n",
    "print(f\"Type: {type(prices)}\")\n",
    "prices.head()"
   ]
  },
  {
   "cell_type": "code",
   "execution_count": null,
   "metadata": {},
   "outputs": [],
   "source": [
    "# Single brackets = Series\n",
    "print(f\"Single brackets: {type(ames['SalePrice'])}\")\n",
    "\n",
    "# Double brackets = DataFrame  \n",
    "print(f\"Double brackets: {type(ames[['SalePrice']])}\")"
   ]
  },
  {
   "cell_type": "code",
   "execution_count": null,
   "metadata": {},
   "outputs": [],
   "source": [
    "# Multiple columns = DataFrame\n",
    "ames[['SalePrice', 'Year Built']].head(3)"
   ]
  },
  {
   "cell_type": "markdown",
   "metadata": {},
   "source": [
    "## Data Mystery #1 🕵️\n",
    "\n",
    "**Challenge:** Using our Ames dataset, can you find:\n",
    "\n",
    "1. How many houses are in our dataset?\n",
    "2. What's the highest sale price?\n",
    "3. What's the average year built?\n",
    "\n",
    "**Detective Tools:** `.shape`, `.max()`, `.mean()`"
   ]
  },
  {
   "cell_type": "code",
   "execution_count": null,
   "metadata": {},
   "outputs": [],
   "source": [
    "# Mystery 1: How many houses are in our dataset?\n",
    "# Your code here:\n",
    "\n"
   ]
  },
  {
   "cell_type": "code",
   "execution_count": null,
   "metadata": {},
   "outputs": [],
   "source": [
    "# Mystery 2: What's the highest sale price?\n",
    "# Your code here:\n",
    "\n"
   ]
  },
  {
   "cell_type": "code",
   "execution_count": null,
   "metadata": {},
   "outputs": [],
   "source": [
    "# Mystery 3: What's the average year built?\n",
    "# Hint: Remember the column name has a space!\n",
    "# Your code here:\n",
    "\n"
   ]
  },
  {
   "cell_type": "markdown",
   "metadata": {},
   "source": [
    "## Selecting Columns: Pick Your Variables\n",
    "\n",
    "Let's practice selecting specific columns from our dataset:"
   ]
  },
  {
   "cell_type": "code",
   "execution_count": null,
   "metadata": {},
   "outputs": [],
   "source": [
    "# Method 1: Select multiple columns\n",
    "house_basics = ames[['SalePrice', 'Year Built']]\n",
    "house_basics.head(3)"
   ]
  },
  {
   "cell_type": "code",
   "execution_count": null,
   "metadata": {},
   "outputs": [],
   "source": [
    "# Method 2: For just one column (as a Series)\n",
    "just_prices = ames['SalePrice']\n",
    "print(f\"Type: {type(just_prices)}\")\n",
    "print(f\"First few values: {just_prices.head(3).tolist()}\")"
   ]
  },
  {
   "cell_type": "markdown",
   "metadata": {},
   "source": [
    "## Filtering Rows: The Magic of Conditions\n",
    "\n",
    "The process: Ask a yes/no question about each row!"
   ]
  },
  {
   "cell_type": "code",
   "execution_count": null,
   "metadata": {},
   "outputs": [],
   "source": [
    "# Step 1: Create a condition (True/False for each row)\n",
    "# Which houses sold for more than $200,000?\n",
    "expensive_houses = ames['SalePrice'] > 200000\n",
    "expensive_houses"
   ]
  },
  {
   "cell_type": "code",
   "execution_count": null,
   "metadata": {},
   "outputs": [],
   "source": [
    "# Step 2: Use the condition to filter\n",
    "# Keep only the True rows\n",
    "filtered_ames = ames[expensive_houses]\n",
    "print(f\"Original dataset: {ames.shape[0]} houses\")\n",
    "print(f\"Expensive houses: {filtered_ames.shape[0]} houses\")\n",
    "filtered_ames.head()"
   ]
  },
  {
   "cell_type": "markdown",
   "metadata": {},
   "source": [
    "## Building More Complex Filters\n",
    "\n",
    "Let's combine multiple conditions using `&` (AND) and `|` (OR):"
   ]
  },
  {
   "cell_type": "code",
   "execution_count": null,
   "metadata": {},
   "outputs": [],
   "source": [
    "# Step 1: Define our conditions\n",
    "expensive = ames['SalePrice'] > 200000\n",
    "recent = ames['Year Built'] > 2000\n",
    "\n",
    "# Step 2: Combine with & (AND)\n",
    "expensive_and_recent = expensive & recent\n",
    "\n",
    "# Step 3: Filter the data\n",
    "result = ames[expensive_and_recent]\n",
    "print(f\"Expensive AND recent houses: {result.shape[0]}\")"
   ]
  },
  {
   "cell_type": "markdown",
   "metadata": {},
   "source": [
    "## The Powerful .loc Accessor\n",
    "\n",
    "Professional tip: Use `.loc[]` for clean, readable filtering"
   ]
  },
  {
   "cell_type": "code",
   "execution_count": null,
   "metadata": {},
   "outputs": [],
   "source": [
    "# Basic filtering with .loc\n",
    "recent_houses = ames.loc[ames['Year Built'] > 2000]\n",
    "print(f\"Shape: {recent_houses.shape}\")"
   ]
  },
  {
   "cell_type": "code",
   "execution_count": null,
   "metadata": {},
   "outputs": [],
   "source": [
    "# Select columns AND filter rows with .loc\n",
    "rows = ames['Year Built'] > 2000\n",
    "cols = ['SalePrice', 'Year Built']\n",
    "\n",
    "recent_prices = ames.loc[rows, cols]\n",
    "recent_prices.head()"
   ]
  },
  {
   "cell_type": "markdown",
   "metadata": {},
   "source": [
    "## Data Mystery #2 🕵️‍♀️\n",
    "\n",
    "**Your Challenge:** Be the real estate detective!\n",
    "\n",
    "Using the Ames dataset, find:\n",
    "\n",
    "1. **How many houses** were built in 2005 or later?\n",
    "2. **What's the average price** of houses with more than 2000 sq ft living area? (use `Gr Liv Area` column)\n",
    "3. **Challenge:** Find houses that are both expensive (>$300k) AND large (>2500 sq ft)\n",
    "\n",
    "**Hint:** Use `.loc[]` for clean solutions"
   ]
  },
  {
   "cell_type": "code",
   "execution_count": null,
   "metadata": {},
   "outputs": [],
   "source": [
    "# Challenge 1: How many houses were built in 2005 or later?\n",
    "# Your code here:\n",
    "\n"
   ]
  },
  {
   "cell_type": "code",
   "execution_count": null,
   "metadata": {},
   "outputs": [],
   "source": [
    "# Challenge 2: What's the average price of houses with more than 2000 sq ft living area?\n",
    "# Your code here:\n",
    "\n"
   ]
  },
  {
   "cell_type": "code",
   "execution_count": null,
   "metadata": {},
   "outputs": [],
   "source": [
    "# Challenge 3: Find houses that are both expensive (>$300k) AND large (>2500 sq ft)\n",
    "# Your code here:\n",
    "\n"
   ]
  },
  {
   "cell_type": "markdown",
   "metadata": {},
   "source": [
    "## Real-World Detective Work Challenge!\n",
    "\n",
    "Now let's work with the planes dataset and solve the same challenge you tried in the spreadsheet!\n",
    "\n",
    "**Your Task:** Find the **average number of seats** on aircraft manufactured by **Embraer** in **2004 or later**"
   ]
  },
  {
   "cell_type": "code",
   "execution_count": null,
   "metadata": {},
   "outputs": [],
   "source": [
    "# Load the planes dataset\n",
    "planes = pd.read_csv(\"https://raw.githubusercontent.com/bradleyboehmke/uc-bana-4080/main/data/planes.csv\")\n",
    "\n",
    "# Take a quick look at the data structure\n",
    "planes.head()"
   ]
  },
  {
   "cell_type": "code",
   "execution_count": null,
   "metadata": {},
   "outputs": [],
   "source": [
    "# Now it's your turn! Write Python code to:\n",
    "# 1. Filter for Embraer aircraft built in 2004 or later\n",
    "# 2. Calculate the average number of seats\n",
    "\n",
    "# Your code here:\n",
    "\n"
   ]
  },
  {
   "cell_type": "markdown",
   "metadata": {},
   "source": [
    "## 🎉 Congratulations, Data Detective!\n",
    "\n",
    "You've successfully learned how to:\n",
    "- Import datasets with pandas\n",
    "- Inspect data with detective questions\n",
    "- Distinguish between DataFrames and Series\n",
    "- Select specific columns\n",
    "- Filter rows with conditions\n",
    "- Combine filtering and selection with `.loc[]`\n",
    "\n",
    "## 🧾 Detective's Quick Reference\n",
    "\n",
    "| Detective Task | Pandas Code | Returns |\n",
    "|----------------|-------------|---------|\n",
    "| **Inspect data size** | `df.shape` | Tuple (rows, cols) |\n",
    "| **Preview data** | `df.head()` | First 5 rows |\n",
    "| **Get column info** | `df.info()` | Data types & missing values |\n",
    "| **Select one column** | `df['col']` | Series |\n",
    "| **Select multiple columns** | `df[['col1', 'col2']]` | DataFrame |\n",
    "| **Filter rows** | `df[df['col'] > value]` | DataFrame |\n",
    "| **Filter + Select** | `df.loc[condition, ['col1', 'col2']]` | DataFrame |\n",
    "\n",
    "### Golden Rule: \n",
    "Always start with `.head()`, `.info()`, and `.shape` to understand your data!\n",
    "\n",
    "### Remember:\n",
    "Every dataset tells a story. Now you have the tools to read it! 🔍"
   ]
  }
 ],
 "metadata": {
  "colab": {
   "include_colab_link": true,
   "provenance": []
  },
  "kernelspec": {
   "display_name": "venv (3.12.10)",
   "language": "python",
   "name": "python3"
  },
  "language_info": {
   "codemirror_mode": {
    "name": "ipython",
    "version": 3
   },
   "file_extension": ".py",
   "mimetype": "text/x-python",
   "name": "python",
   "nbconvert_exporter": "python",
   "pygments_lexer": "ipython3",
   "version": "3.12.10"
  }
 },
 "nbformat": 4,
 "nbformat_minor": 4
}
