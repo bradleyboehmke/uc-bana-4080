{
 "cells": [
  {
   "cell_type": "markdown",
   "id": "e06e669b",
   "metadata": {},
   "source": [
    "# Writing Your Own Functions\n",
    "\n",
    "<a href=\"https://colab.research.google.com/github/bradleyboehmke/uc-bana-4080/blob/main/example-notebooks/17_functions.ipynb\" target=\"_parent\"><img src=\"https://colab.research.google.com/assets/colab-badge.svg\" alt=\"Open In Colab\"/></a>\n",
    "\n",
    "This notebook accompanies [this textbook chapter](https://bradleyboehmke.github.io/uc-bana-4080/18-functions.html) and allows you to run the code examples interactively."
   ]
  },
  {
   "cell_type": "markdown",
   "id": "4e7a3c1a",
   "metadata": {},
   "source": [
    "## Prerequisites"
   ]
  },
  {
   "cell_type": "code",
   "execution_count": null,
   "id": "1f73ae64",
   "metadata": {},
   "outputs": [],
   "source": [
    "import numpy as np\n",
    "import pandas as pd\n",
    "from completejourney_py import get_data\n",
    "\n",
    "df = get_data()['transactions']"
   ]
  },
  {
   "cell_type": "markdown",
   "id": "92aa068e",
   "metadata": {},
   "source": [
    "## When to write functions"
   ]
  },
  {
   "cell_type": "code",
   "execution_count": null,
   "id": "d009820d",
   "metadata": {},
   "outputs": [],
   "source": [
    "# array containing 4 sets of 10 random numbers\n",
    "x = np.random.random_sample((4, 10))\n",
    "\n",
    "x[0] = (x[0] - x[0].min()) / (x[0].max() - x[0].min())\n",
    "x[1] = (x[1] - x[1].min()) / (x[1].max() - x[1].min())\n",
    "x[2] = (x[2] - x[2].min()) / (x[1].max() - x[2].min())\n",
    "x[3] = (x[3] - x[3].min()) / (x[3].max() - x[3].min())"
   ]
  },
  {
   "cell_type": "code",
   "execution_count": null,
   "id": "41382af0",
   "metadata": {},
   "outputs": [],
   "source": [
    "x = np.random.random_sample((4, 10))\n",
    "\n",
    "def rescale(array):\n",
    "    for index, vector in enumerate(array):\n",
    "        array[index] = (vector - vector.min()) / (vector.max() - vector.min())\n",
    "\n",
    "    return(array)\n",
    "\n",
    "rescale(x)"
   ]
  },
  {
   "cell_type": "markdown",
   "id": "d4b8deac",
   "metadata": {},
   "source": [
    "## Functions vs methods"
   ]
  },
  {
   "cell_type": "code",
   "execution_count": null,
   "id": "32223c75",
   "metadata": {},
   "outputs": [],
   "source": [
    "# stand alone function\n",
    "sum(x)"
   ]
  },
  {
   "cell_type": "code",
   "execution_count": null,
   "id": "83ebb83a",
   "metadata": {},
   "outputs": [],
   "source": [
    "# method\n",
    "x.sum(axis = 0)"
   ]
  },
  {
   "cell_type": "code",
   "execution_count": null,
   "id": "1d036c5a",
   "metadata": {},
   "outputs": [],
   "source": [
    "# overall sum\n",
    "x.sum()"
   ]
  },
  {
   "cell_type": "code",
   "execution_count": null,
   "id": "76796b9b",
   "metadata": {},
   "outputs": [],
   "source": [
    "# sum of each column\n",
    "x.sum(axis = 0)"
   ]
  },
  {
   "cell_type": "code",
   "execution_count": null,
   "id": "ba17c8f9",
   "metadata": {},
   "outputs": [],
   "source": [
    "# sum of each row\n",
    "x.sum(axis = 1)"
   ]
  },
  {
   "cell_type": "markdown",
   "id": "537a21c8",
   "metadata": {},
   "source": [
    "## Defining functions"
   ]
  },
  {
   "cell_type": "code",
   "execution_count": null,
   "id": "799ebbef",
   "metadata": {},
   "outputs": [],
   "source": [
    "def yell(text):\n",
    "    new_text = text.upper()\n",
    "    return new_text\n",
    "\n",
    "yell('hello world!')"
   ]
  },
  {
   "cell_type": "code",
   "execution_count": null,
   "id": "fab18377",
   "metadata": {},
   "outputs": [],
   "source": [
    "def store_sales(data, store, week):\n",
    "    filt = (data['store_id'] == store) & (data['week'] == week)\n",
    "    total_sales = data['sales_value'][filt].sum()\n",
    "    return total_sales\n",
    "\n",
    "store_sales(data=df, store=309, week=48)"
   ]
  },
  {
   "cell_type": "markdown",
   "id": "bf1b1b28",
   "metadata": {},
   "source": [
    "## Parameters vs arguments"
   ]
  },
  {
   "cell_type": "code",
   "execution_count": null,
   "id": "27345a29",
   "metadata": {},
   "outputs": [],
   "source": [
    "# implicitly computing store sales for store 46 during week 43\n",
    "store_sales(df, 46, 43)"
   ]
  },
  {
   "cell_type": "code",
   "execution_count": null,
   "id": "600868b6",
   "metadata": {},
   "outputs": [],
   "source": [
    "# implicitly computing store sales for store 43 (does not exist) during week 46\n",
    "store_sales(df, 43, 46)"
   ]
  },
  {
   "cell_type": "code",
   "execution_count": null,
   "id": "d0096449",
   "metadata": {},
   "outputs": [],
   "source": [
    "# explicitly computing store sales for store 46 during week 43\n",
    "store_sales(data=df, week=43, store=46)"
   ]
  },
  {
   "cell_type": "code",
   "execution_count": null,
   "id": "f481d268",
   "metadata": {},
   "outputs": [],
   "source": [
    "def store_sales(data, store, week, qty_greater_than=0):\n",
    "    filt = (data['store_id'] == store) & (data['week'] == week) & (data['quantity'] > qty_greater_than)\n",
    "    total_sales = data['sales_value'][filt].sum()\n",
    "    return total_sales\n",
    "\n",
    "# you do not need to specify an input for qty_greater_than\n",
    "store_sales(data=df, store=309, week=48)"
   ]
  },
  {
   "cell_type": "code",
   "execution_count": null,
   "id": "166e497f",
   "metadata": {},
   "outputs": [],
   "source": [
    "# but you can if you want to change it from the default\n",
    "store_sales(data=df, store=309, week=48, qty_greater_than=2)"
   ]
  },
  {
   "cell_type": "code",
   "execution_count": null,
   "id": "9b47dc26",
   "metadata": {},
   "outputs": [],
   "source": [
    "def yell(*args):\n",
    "    new_text = ' '.join(args).upper()\n",
    "    return new_text\n",
    "\n",
    "yell('hello world!', 'I', 'love', 'Python!!')"
   ]
  },
  {
   "cell_type": "code",
   "execution_count": null,
   "id": "b77f76da",
   "metadata": {},
   "outputs": [],
   "source": [
    "# **kwargs just creates a dictionary\n",
    "def students(**kwargs):\n",
    "    print(kwargs)\n",
    "\n",
    "students(student1='John', student2='Robert', student3='Sally')"
   ]
  },
  {
   "cell_type": "code",
   "execution_count": null,
   "id": "30f2d159",
   "metadata": {},
   "outputs": [],
   "source": [
    "# we can use this dictionary however necessary\n",
    "def print_student_names(**kwargs):\n",
    "    for key, value in kwargs.items():\n",
    "        print(f'{key} = {value}')\n",
    "\n",
    "print_student_names(student1='John', student2='Robert', student3='Sally')"
   ]
  },
  {
   "cell_type": "code",
   "execution_count": null,
   "id": "9895d9f8",
   "metadata": {},
   "outputs": [],
   "source": [
    "def some_function(name, age):\n",
    "    return f'{name} is {age} years old'\n",
    "\n",
    "some_function('Tom', 27)"
   ]
  },
  {
   "cell_type": "code",
   "execution_count": null,
   "id": "b8ec70bc",
   "metadata": {},
   "outputs": [],
   "source": [
    "def some_function(name: str, age: int) -> str:\n",
    "    return f'{name} is {age} years old'\n",
    "\n",
    "some_function('Tom', 27)"
   ]
  },
  {
   "cell_type": "code",
   "execution_count": null,
   "id": "a5a35278",
   "metadata": {},
   "outputs": [],
   "source": [
    "help(some_function)"
   ]
  },
  {
   "cell_type": "code",
   "execution_count": null,
   "id": "cd1975d1",
   "metadata": {},
   "outputs": [],
   "source": [
    "def store_sales(data: pd.DataFrame, store: int, week: int) -> float:\n",
    "    filt = (data['store_id'] == store) & (data['week'] == week)\n",
    "    total_sales = data['sales_value'][filt].sum()\n",
    "    return total_sales\n",
    "\n",
    "store_sales(data=df, store=309, week=48)"
   ]
  },
  {
   "cell_type": "markdown",
   "id": "41d1dce5",
   "metadata": {},
   "source": [
    "## Docstrings"
   ]
  },
  {
   "cell_type": "code",
   "execution_count": null,
   "id": "7eb7c63e",
   "metadata": {},
   "outputs": [],
   "source": [
    "def store_sales(data: pd.DataFrame, store: int, week: int) -> float:\n",
    "    \"\"\"\n",
    "    Compute total store sales.\n",
    "\n",
    "    This function computes the total sales for a given\n",
    "    store and week based on a user supplied DataFrame that\n",
    "    contains sales in a column named `sales_value`.\n",
    "\n",
    "    Parameters\n",
    "    ----------\n",
    "    data : DataFrame\n",
    "        Pandas DataFrame\n",
    "    store : int\n",
    "        Integer value representing store number\n",
    "    week : int\n",
    "        Integer value representing week of year\n",
    "\n",
    "    Returns\n",
    "    -------\n",
    "    float\n",
    "        A float object representing total store sales\n",
    "\n",
    "    See Also\n",
    "    --------\n",
    "    store_visits : Computes total store visits\n",
    "\n",
    "    Examples\n",
    "    --------\n",
    "    >>> store_sales(data=df, store=309, week=48)\n",
    "    395.6\n",
    "    >>> store_sales(data=df, store=46, week=43)\n",
    "    60.39\n",
    "    \"\"\"\n",
    "    filt = (data['store_id'] == store) & (data['week'] == week)\n",
    "    total_sales = data['sales_value'][filt].sum()\n",
    "    return total_sales"
   ]
  },
  {
   "cell_type": "markdown",
   "id": "981c795e",
   "metadata": {},
   "source": [
    "## Errors and exceptions"
   ]
  },
  {
   "cell_type": "code",
   "execution_count": null,
   "id": "f5008200",
   "metadata": {},
   "outputs": [],
   "source": [
    "#| error: true\n",
    "\n",
    "def store_sales(data: pd.DataFrame, store: int, week: int) -> float:\n",
    "     # argument validation\n",
    "    if not isinstance(data, pd.DataFrame): raise Exception('`data` should be a Pandas DataFrame')\n",
    "    if not isinstance(store, int): raise Exception('`store` should be an integer')\n",
    "    if not isinstance(week, int): raise Exception('`week` should be an integer')\n",
    "\n",
    "    # computation\n",
    "    filt = (data['store_id'] == store) & (data['week'] == week)\n",
    "    total_sales = data['sales_value'][filt].sum()\n",
    "    return total_sales\n",
    "\n",
    "store_sales(data=df, store='309', week=48)"
   ]
  },
  {
   "cell_type": "code",
   "execution_count": null,
   "id": "5a22fb06",
   "metadata": {},
   "outputs": [],
   "source": [
    "#| error: true\n",
    "\n",
    "def store_sales(data: pd.DataFrame, store: int, week: int) -> float:\n",
    "    # argument validation\n",
    "    if not isinstance(data, pd.DataFrame): raise TypeError('`data` should be a Pandas DataFrame')\n",
    "    if not isinstance(store, int): raise TypeError('`store` should be an integer')\n",
    "    if not isinstance(week, int): raise TypeError('`week` should be an integer')\n",
    "\n",
    "    # computation\n",
    "    filt = (data['store_id'] == store) & (data['week'] == week)\n",
    "    total_sales = data['sales_value'][filt].sum()\n",
    "    return total_sales\n",
    "\n",
    "store_sales(data=df, store='309', week=48)"
   ]
  },
  {
   "cell_type": "code",
   "execution_count": null,
   "id": "b568ebd4",
   "metadata": {},
   "outputs": [],
   "source": [
    "store_sales(data=df, store=35, week=48)"
   ]
  },
  {
   "cell_type": "code",
   "execution_count": null,
   "id": "4052d3aa",
   "metadata": {},
   "outputs": [],
   "source": [
    "def store_sales(data: pd.DataFrame, store: int, week: int) -> float:\n",
    "    # argument validation\n",
    "    if not isinstance(data, pd.DataFrame): raise TypeError('`data` should be a Pandas DataFrame')\n",
    "    if not isinstance(store, int): raise TypeError('`store` should be an integer')\n",
    "    if not isinstance(week, int): raise TypeError('`week` should be an integer')\n",
    "    if store not in data.store_id.unique():\n",
    "        raise ValueError(f'`store` {store} does not exist in the supplied DataFrame')\n",
    "\n",
    "\n",
    "    # computation\n",
    "    filt = (data['store_id'] == store) & (data['week'] == week)\n",
    "    total_sales = data['sales_value'][filt].sum()\n",
    "    return total_sales\n",
    "\n",
    "store_sales(data=df, store=35, week=48)"
   ]
  },
  {
   "cell_type": "code",
   "execution_count": null,
   "id": "19eb8148",
   "metadata": {},
   "outputs": [],
   "source": [
    "def apply_discount(product, discount):\n",
    "    price = round(product['price'] * (1.0 - discount), 2)\n",
    "    assert 0 <= price <= product['price']\n",
    "    return price"
   ]
  },
  {
   "cell_type": "code",
   "execution_count": null,
   "id": "963bcbe8",
   "metadata": {},
   "outputs": [],
   "source": [
    "# 25% off 3.50 should equal 2.62\n",
    "milk = {'name': 'Chocolate Milk', 'price': 3.50}\n",
    "apply_discount(milk, 0.25)"
   ]
  },
  {
   "cell_type": "code",
   "execution_count": null,
   "id": "50f33e3b",
   "metadata": {},
   "outputs": [],
   "source": [
    "# 200% discount is not allowed\n",
    "apply_discount(milk, 2.00)"
   ]
  },
  {
   "cell_type": "code",
   "execution_count": null,
   "id": "d33589c7",
   "metadata": {},
   "outputs": [],
   "source": [
    "def apply_discount(product, discount):\n",
    "    price = round(product['price'] * (1.0 - discount), 2)\n",
    "    assert 0 <= price <= product['price'], 'Invalid discount applied'\n",
    "    return price\n",
    "\n",
    "apply_discount(milk, 2.00)"
   ]
  },
  {
   "cell_type": "code",
   "execution_count": null,
   "id": "22282463",
   "metadata": {},
   "outputs": [],
   "source": [
    "# this discount is created somewhere else in the program\n",
    "discount = 2\n",
    "\n",
    "# if discount causes an error adjust it\n",
    "try:\n",
    "    apply_discount(milk, discount)\n",
    "except Exception:\n",
    "    if discount > 1: discount = 0.99\n",
    "    if discount < 0: discount = 0\n",
    "    apply_discount(milk, discount)"
   ]
  },
  {
   "cell_type": "code",
   "execution_count": null,
   "id": "799acec9",
   "metadata": {},
   "outputs": [],
   "source": [
    "try:\n",
    "    store_sales(data=df, store=35, week=48)\n",
    "except TypeError:\n",
    "    print('do something specific for a `TypeError`')\n",
    "except ValueError:\n",
    "    print('do something specific for a `ValueError`')\n",
    "else:\n",
    "    print('do something specific for all other errors')"
   ]
  },
  {
   "cell_type": "code",
   "execution_count": null,
   "id": "b4c3b26e",
   "metadata": {},
   "outputs": [],
   "source": [
    "try:\n",
    "    store_sales(data=df, store=35, week=48)\n",
    "except TypeError:\n",
    "    raise\n",
    "except ValueError:\n",
    "    raise\n",
    "finally:\n",
    "    print('Code to close database connection')"
   ]
  },
  {
   "cell_type": "markdown",
   "id": "b20ec9db",
   "metadata": {},
   "source": [
    "## Scoping"
   ]
  },
  {
   "cell_type": "code",
   "execution_count": null,
   "id": "bb4db78a",
   "metadata": {},
   "outputs": [],
   "source": [
    "x = 84\n",
    "\n",
    "def func(x):\n",
    "  return x + 1\n",
    "\n",
    "func(x = 50)"
   ]
  },
  {
   "cell_type": "code",
   "execution_count": null,
   "id": "837f87f4",
   "metadata": {},
   "outputs": [],
   "source": [
    "x"
   ]
  },
  {
   "cell_type": "code",
   "execution_count": null,
   "id": "a4643b80",
   "metadata": {},
   "outputs": [],
   "source": [
    "y = 'Boehmke'\n",
    "\n",
    "def func(x):\n",
    "  return x + ' ' + y\n",
    "\n",
    "func(x = 'Brad')"
   ]
  },
  {
   "cell_type": "code",
   "execution_count": null,
   "id": "5fd4c732",
   "metadata": {},
   "outputs": [],
   "source": [
    "y = 'Boehmke'\n",
    "\n",
    "def my_name(sep):\n",
    "    x = 'Brad'\n",
    "    def my_paste():\n",
    "        return x + sep + y\n",
    "    return my_paste()\n",
    "\n",
    "my_name(sep=' ')"
   ]
  },
  {
   "cell_type": "code",
   "execution_count": null,
   "id": "b0fdc364",
   "metadata": {},
   "outputs": [],
   "source": [
    "y = 8451\n",
    "\n",
    "def convert(x):\n",
    "    x = str(x)\n",
    "    firstpart, secondpart = x[:len(x)//2], x[len(x)//2:]\n",
    "    global y\n",
    "    y = firstpart + '.' + secondpart\n",
    "    return y\n",
    "\n",
    "convert(8451)"
   ]
  },
  {
   "cell_type": "code",
   "execution_count": null,
   "id": "20cf81f9",
   "metadata": {},
   "outputs": [],
   "source": [
    "y"
   ]
  },
  {
   "cell_type": "markdown",
   "id": "76ce5f64",
   "metadata": {},
   "source": [
    "## Anonymous functions"
   ]
  },
  {
   "cell_type": "code",
   "execution_count": null,
   "id": "1c6903ba",
   "metadata": {},
   "outputs": [],
   "source": [
    "nums = [48, 6, 9, 21, 1]\n",
    "\n",
    "list(map(lambda x: x ** 2, nums))"
   ]
  },
  {
   "cell_type": "code",
   "execution_count": null,
   "id": "7763e8d8",
   "metadata": {},
   "outputs": [],
   "source": [
    "(\n",
    "    df['sales_value']\n",
    "    .apply(lambda x: 'high value' if x > 10 else 'low value')\n",
    ")"
   ]
  },
  {
   "cell_type": "code",
   "execution_count": null,
   "id": "d424abc3",
   "metadata": {},
   "outputs": [],
   "source": [
    "(\n",
    "    df[['basket_id', 'sales_value', 'quantity']]\n",
    "    .groupby('basket_id')\n",
    "    .apply(lambda x: (x['sales_value'] / x['quantity']).mean())\n",
    ")"
   ]
  },
  {
   "cell_type": "markdown",
   "id": "5e5a1330",
   "metadata": {},
   "source": [
    "## Exercise: Practicing Function Writing and Application\n",
    "\n",
    "In this exercise set, you’ll practice defining and applying custom Python functions, using type hints and docstrings, and leveraging methods like `.apply()` to work with real-world data. These tasks will help solidify your understanding of functions and how to use them in data cleaning, feature engineering, and exploratory analysis workflows."
   ]
  },
  {
   "cell_type": "markdown",
   "id": "c6e01e54",
   "metadata": {},
   "source": [
    "## 1. Load and Inspect the Data\n",
    "\n",
    "Download the [`companies.csv` dataset](https://github.com/bradleyboehmke/uc-bana-4080/blob/main/data/companies.csv) and load it into a DataFrame. This dataset contains company names and financial attributes.\n",
    "\n",
    "Inspect the first few rows. What columns are available?"
   ]
  },
  {
   "cell_type": "code",
   "execution_count": null,
   "id": "d0d2943c",
   "metadata": {},
   "outputs": [],
   "source": []
  },
  {
   "cell_type": "markdown",
   "id": "0ab0039a",
   "metadata": {},
   "source": [
    "## 2. Define the `is_incorporated()` Function\n",
    "\n",
    "Write a function `is_incorporated(name)` that checks whether the input string `name` contains the substring `\"inc\"` or `\"Inc\"`. If either appears in the name, return `True`; otherwise return `False`.\n",
    "\n",
    "Test it using a few sample strings like:\n",
    "\n",
    "```python\n",
    "is_incorporated(\"Acme Inc.\")\n",
    "is_incorporated(\"Global Tech\")\n",
    "```"
   ]
  },
  {
   "cell_type": "code",
   "execution_count": null,
   "id": "ac580c1e",
   "metadata": {},
   "outputs": [],
   "source": []
  },
  {
   "cell_type": "markdown",
   "id": "5abc25d3",
   "metadata": {},
   "source": [
    "## 3. Add Type Hints and a Docstring\n",
    "\n",
    "Now update your `is_incorporated()` function to include:\n",
    "\n",
    "* A **type hint** for the `name` parameter and the return type\n",
    "* A **docstring** describing what the function does, the input parameter, and the return value\n",
    "\n",
    "Use the `help()` function or hover in your IDE to verify the documentation."
   ]
  },
  {
   "cell_type": "code",
   "execution_count": null,
   "id": "59b25cf8",
   "metadata": {},
   "outputs": [],
   "source": []
  },
  {
   "cell_type": "markdown",
   "id": "cfe9aacf",
   "metadata": {},
   "source": [
    "## 4. Apply the Function with a Loop\n",
    "\n",
    "Use a `for` loop to iterate through the `Name` column of the `companies` DataFrame. For each value, call your `is_incorporated()` function and print the company name along with whether it's incorporated.\n",
    "\n",
    "Your output might look like:\n",
    "\n",
    "```\n",
    "Acme Inc. → True  \n",
    "Global Tech → False  \n",
    "Bright Inc. → True\n",
    "```"
   ]
  },
  {
   "cell_type": "code",
   "execution_count": null,
   "id": "b207c2fb",
   "metadata": {},
   "outputs": [],
   "source": []
  },
  {
   "cell_type": "markdown",
   "id": "71d64272",
   "metadata": {},
   "source": [
    "## 5. Apply the Function with `.apply()`\n",
    "\n",
    "Now rewrite your logic using the `.apply()` method instead of a `for` loop.\n",
    "\n",
    "* Apply `is_incorporated()` to the `Name` column\n",
    "* Store the result in a new column called `\"is_incorporated\"`\n",
    "* Print the updated DataFrame to verify the new column"
   ]
  },
  {
   "cell_type": "code",
   "execution_count": null,
   "id": "5dbf058e",
   "metadata": {},
   "outputs": [],
   "source": []
  }
 ],
 "metadata": {
  "language_info": {
   "name": "python"
  }
 },
 "nbformat": 4,
 "nbformat_minor": 5
}
