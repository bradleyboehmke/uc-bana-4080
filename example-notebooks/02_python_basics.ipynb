{
 "cells": [
  {
   "cell_type": "markdown",
   "metadata": {},
   "source": [
    "<a href=\"https://colab.research.google.com/github/bradleyboehmke/uc-bana-4080/blob/main/example-notebooks/02_python_basics.ipynb\" target=\"_parent\"><img src=\"https://colab.research.google.com/assets/colab-badge.svg\" alt=\"Open In Colab\"/></a>"
   ]
  },
  {
   "cell_type": "markdown",
   "metadata": {},
   "source": [
    "# 🧰 Python Basics – Working with Data and Variables\n",
    "\n",
    "Welcome to your first real dive into Python! This notebook lets you experiment with basic data types, variables, comparison operators, and more.\n",
    "\n",
    "Click the ▶️ button next to each code cell to run it. Feel free to modify the code and see what happens!"
   ]
  },
  {
   "cell_type": "code",
   "execution_count": null,
   "metadata": {},
   "outputs": [],
   "source": [
    "# Store your name and age\n",
    "name = \"Taylor\"\n",
    "age = 22\n",
    "\n",
    "# Print a custom message\n",
    "print(\"Hi \" + name + \"! You are \" + str(age) + \" years old.\")\n",
    "\n",
    "# Do a little math\n",
    "print(\"You'll turn 30 in \" + str(30 - age) + \" years.\")"
   ]
  },
  {
   "cell_type": "markdown",
   "metadata": {},
   "source": [
    "## 🔢 Numeric Types and Math\n",
    "Let's do some basic math operations with integers and floats."
   ]
  },
  {
   "cell_type": "code",
   "execution_count": null,
   "metadata": {},
   "outputs": [],
   "source": [
    "# Basic operations\n",
    "print(10 + 3.5)\n",
    "print(10 - 3.5)\n",
    "print(10 * 3.5)\n",
    "print(10 / 3.5)\n",
    "print(10 ** 2)\n",
    "print(10 // 3.5)\n",
    "print(10 % 3.5)"
   ]
  },
  {
   "cell_type": "markdown",
   "metadata": {},
   "source": [
    "## 🔤 Strings\n",
    "Play around with string operations."
   ]
  },
  {
   "cell_type": "code",
   "execution_count": null,
   "metadata": {},
   "outputs": [],
   "source": [
    "print(\"Python\" + \"Rocks\")\n",
    "print(\"ha\" * 5)\n",
    "print(\"banana\"[1])\n",
    "print(\"banana\"[::-1])"
   ]
  },
  {
   "cell_type": "markdown",
   "metadata": {},
   "source": [
    "## ✅ Booleans and Comparisons\n",
    "Work with True/False values and comparison operators."
   ]
  },
  {
   "cell_type": "code",
   "execution_count": null,
   "metadata": {},
   "outputs": [],
   "source": [
    "print(10 > 3)\n",
    "print(2 < 1)\n",
    "print(4 == 4.0)\n",
    "print(4 != 5)\n",
    "print(\"apple\" == \"apple\")\n",
    "print(\"Apple\" == \"apple\")\n",
    "print(\"cat\" < \"dog\")"
   ]
  },
  {
   "cell_type": "markdown",
   "metadata": {},
   "source": [
    "## 📏 Mini Exercise: Pizza Math\n",
    "Calculate the cost per square inch for a pizza."
   ]
  },
  {
   "cell_type": "code",
   "execution_count": null,
   "metadata": {},
   "outputs": [],
   "source": [
    "pi = 3.14159\n",
    "small_pizza = 8 / (pi * (12 / 2) ** 2)\n",
    "large_pizza = 12 / (pi * (15 / 2) ** 2)\n",
    "\n",
    "print(\"12-inch pizza: \", small_pizza)\n",
    "print(\"15-inch pizza: \", large_pizza)\n",
    "print(\"Is the smaller pizza a better or equal deal?\", small_pizza <= large_pizza)"
   ]
  },
  {
   "cell_type": "markdown",
   "metadata": {},
   "source": [
    "## 🎟️ Final Practice: Event Summary\n",
    "Now put it all together in a realistic example."
   ]
  },
  {
   "cell_type": "code",
   "execution_count": null,
   "metadata": {},
   "outputs": [],
   "source": [
    "# Number of attendees and ticket price\n",
    "attendees = 48\n",
    "ticket_price = 12.50\n",
    "\n",
    "# Calculate total revenue\n",
    "total_revenue = attendees * ticket_price\n",
    "\n",
    "# Set a revenue goal\n",
    "revenue_goal = 600\n",
    "\n",
    "# Print a summary message\n",
    "print(\"You sold \" + str(attendees) + \" tickets at $\" + str(ticket_price) + \" each.\")\n",
    "print(\"Total revenue: $\" + str(total_revenue))\n",
    "\n",
    "# Compare to revenue goal\n",
    "goal_met = total_revenue >= revenue_goal\n",
    "print(\"Did we meet our revenue goal: \" + str(goal_met))"
   ]
  }
 ],
 "metadata": {
  "colab": {
   "name": "python_basics_variables.ipynb",
   "provenance": []
  },
  "kernelspec": {
   "display_name": "Python 3",
   "language": "python",
   "name": "python3"
  },
  "language_info": {
   "name": "python",
   "version": "3.10"
  }
 },
 "nbformat": 4,
 "nbformat_minor": 0
}
