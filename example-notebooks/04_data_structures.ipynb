{
 "cells": [
  {
   "cell_type": "markdown",
   "metadata": {},
   "source": [
    "# 🧱 Python Data Structures – Lists, Tuples, and Dictionaries\n",
    "This notebook provides hands-on examples for:\n",
    "- Creating and modifying lists\n",
    "- Working with tuples\n",
    "- Using dictionaries to store key-value data"
   ]
  },
  {
   "cell_type": "markdown",
   "metadata": {},
   "source": [
    "## 📋 Lists"
   ]
  },
  {
   "cell_type": "code",
   "execution_count": 1,
   "metadata": {},
   "outputs": [
    {
     "name": "stdout",
     "output_type": "stream",
     "text": [
      "[79, 83, 81, 89, 78]\n"
     ]
    }
   ],
   "source": [
    "# Create a list of temperatures\n",
    "temps = [79, 83, 81, 89, 78]\n",
    "print(temps)"
   ]
  },
  {
   "cell_type": "code",
   "execution_count": 2,
   "metadata": {},
   "outputs": [
    {
     "name": "stdout",
     "output_type": "stream",
     "text": [
      "[79, 83, 81, 89, 78, 85]\n"
     ]
    }
   ],
   "source": [
    "# Add today's temperature\n",
    "temps.append(85)\n",
    "print(temps)"
   ]
  },
  {
   "cell_type": "code",
   "execution_count": 3,
   "metadata": {},
   "outputs": [
    {
     "name": "stdout",
     "output_type": "stream",
     "text": [
      "[76, 83, 81, 89, 78, 85]\n"
     ]
    }
   ],
   "source": [
    "# Correct the first day's value\n",
    "temps[0] = 76\n",
    "print(temps)"
   ]
  },
  {
   "cell_type": "code",
   "execution_count": 4,
   "metadata": {},
   "outputs": [
    {
     "name": "stdout",
     "output_type": "stream",
     "text": [
      "[76, 78, 81, 83, 85, 89]\n"
     ]
    }
   ],
   "source": [
    "# Sort the list\n",
    "temps.sort()\n",
    "print(temps)"
   ]
  },
  {
   "cell_type": "markdown",
   "metadata": {},
   "source": [
    "## 📌 Tuples"
   ]
  },
  {
   "cell_type": "code",
   "execution_count": 5,
   "metadata": {},
   "outputs": [
    {
     "name": "stdout",
     "output_type": "stream",
     "text": [
      "BANA\n"
     ]
    }
   ],
   "source": [
    "schooling = ('UC', 'BANA', '4080')\n",
    "print(schooling[1])  # Accessing 'BANA'"
   ]
  },
  {
   "cell_type": "code",
   "execution_count": 6,
   "metadata": {},
   "outputs": [],
   "source": [
    "# Try changing a value (will error)\n",
    "# schooling[1] = 'Business Analytics'"
   ]
  },
  {
   "cell_type": "code",
   "execution_count": 7,
   "metadata": {},
   "outputs": [
    {
     "name": "stdout",
     "output_type": "stream",
     "text": [
      "university='UC', program='BANA', class_id='4080'\n"
     ]
    }
   ],
   "source": [
    "# Tuple unpacking\n",
    "university, program, class_id = schooling\n",
    "print(f'{university=}, {program=}, {class_id=}')"
   ]
  },
  {
   "cell_type": "markdown",
   "metadata": {},
   "source": [
    "## 🗂️ Dictionaries"
   ]
  },
  {
   "cell_type": "code",
   "execution_count": 8,
   "metadata": {},
   "outputs": [
    {
     "name": "stdout",
     "output_type": "stream",
     "text": [
      "{'John': {'nickname': 'Johnny', 'phone_number': '555-1234', 'age': 20}, 'Sam': {'nickname': 'Sammy', 'phone_number': '555-5678', 'age': 21}, 'Taylor': {'nickname': 'Tay', 'phone_number': '555-8888', 'age': 22}}\n"
     ]
    }
   ],
   "source": [
    "john_doe = {\n",
    "    'nickname': 'Johnny',\n",
    "    'phone_number': '555-1234',\n",
    "    'age': 20\n",
    "}\n",
    "\n",
    "classmate2 = {\n",
    "    'nickname': 'Sammy',\n",
    "    'phone_number': '555-5678',\n",
    "    'age': 21\n",
    "}\n",
    "\n",
    "contacts = {\n",
    "    'John': john_doe,\n",
    "    'Sam': classmate2\n",
    "}\n",
    "\n",
    "# Add a third contact\n",
    "contacts['Taylor'] = {\n",
    "    'nickname': 'Tay',\n",
    "    'phone_number': '555-8888',\n",
    "    'age': 22\n",
    "}\n",
    "\n",
    "print(contacts)"
   ]
  },
  {
   "cell_type": "markdown",
   "metadata": {},
   "source": [
    "## ✅ Recap\n",
    "- Lists: Ordered and mutable\n",
    "- Tuples: Ordered and immutable\n",
    "- Dictionaries: Key-value store, great for labeled data"
   ]
  }
 ],
 "metadata": {
  "colab": {
   "name": "04_data_structures.ipynb",
   "provenance": []
  },
  "kernelspec": {
   "display_name": "venv",
   "language": "python",
   "name": "python3"
  },
  "language_info": {
   "codemirror_mode": {
    "name": "ipython",
    "version": 3
   },
   "file_extension": ".py",
   "mimetype": "text/x-python",
   "name": "python",
   "nbconvert_exporter": "python",
   "pygments_lexer": "ipython3",
   "version": "3.9.6"
  }
 },
 "nbformat": 4,
 "nbformat_minor": 0
}
