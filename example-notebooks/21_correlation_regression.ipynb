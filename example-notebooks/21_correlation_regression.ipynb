{
 "cells": [
  {
   "cell_type": "markdown",
   "metadata": {},
   "source": [
    "<a href=\"https://colab.research.google.com/github/bradleyboehmke/uc-bana-4080/blob/main/example-notebooks/21_correlation_regression.ipynb\" target=\"_parent\"><img src=\"https://colab.research.google.com/assets/colab-badge.svg\" alt=\"Open In Colab\"/></a>"
   ]
  },
  {
   "cell_type": "markdown",
   "metadata": {},
   "source": [
    "# Correlation and Linear Regression Foundations\n",
    "\n",
    "This notebook contains code examples from the **Correlation and Linear Regression Foundations** chapter (Chapter 21) of the BANA 4080 textbook. Follow along to practice measuring relationships between variables and building predictive models using correlation and linear regression.\n",
    "\n",
    "## 📚 Chapter Overview\n",
    "\n",
    "In business, we rarely care about individual variables in isolation. Instead, we ask questions like: *Does increasing marketing spend actually increase sales?* This chapter introduces tools for analyzing relationships between variables through correlation and linear regression.\n",
    "\n",
    "## 🎯 What You'll Practice\n",
    "\n",
    "- Calculate and interpret correlation coefficients between variables\n",
    "- Build and interpret simple linear regression models with one predictor\n",
    "- Extend regression models to include multiple numeric predictors\n",
    "- Handle categorical predictors using dummy encoding\n",
    "- Make predictions and extract business insights from regression models\n",
    "\n",
    "## 💡 How to Use This Notebook\n",
    "\n",
    "1. **Read the chapter first** - This notebook supplements the textbook, not replaces it\n",
    "2. **Run cells sequentially** - Code builds on previous examples\n",
    "3. **Experiment freely** - Modify code to test your understanding\n",
    "4. **Practice variations** - Try different approaches to reinforce learning\n",
    "\n",
    "**Note:** Some code cells are collapsed to keep the notebook focused on key concepts. If any code seems overwhelming, don't worry about the implementation details - focus on understanding the results and business insights!"
   ]
  },
  {
   "cell_type": "markdown",
   "metadata": {},
   "source": [
    "## Setup and Data Loading"
   ]
  },
  {
   "cell_type": "code",
   "execution_count": null,
   "metadata": {},
   "outputs": [],
   "source": [
    "# Import required libraries\n",
    "import pandas as pd\n",
    "import matplotlib.pyplot as plt\n",
    "import numpy as np\n",
    "from sklearn.linear_model import LinearRegression\n",
    "\n",
    "# You may need to install the ISLP package if you haven't already:\n",
    "# !pip install ISLP\n",
    "# Don't worry about the details of this import if it seems complex!\n",
    "try:\n",
    "    from ISLP import load_data\n",
    "    print(\"ISLP package loaded successfully!\")\n",
    "except ImportError:\n",
    "    print(\"ISLP package not found. You may need to install it using: !pip install ISLP\")\n",
    "\n",
    "# Load the Advertising dataset directly from GitHub\n",
    "advertising_url = \"https://raw.githubusercontent.com/bradleyboehmke/uc-bana-4080/main/data/Advertising.csv\"\n",
    "advertising = pd.read_csv(advertising_url)\n",
    "print(\"\\nAdvertising dataset loaded from GitHub:\")\n",
    "advertising.head()"
   ]
  },
  {
   "cell_type": "markdown",
   "metadata": {},
   "source": [
    "## Understanding Correlation\n",
    "\n",
    "Correlation measures how strongly two variables move together in a linear relationship. Let's start by exploring relationships in our data visually, then quantify them with correlation coefficients."
   ]
  },
  {
   "cell_type": "code",
   "execution_count": null,
   "metadata": {},
   "outputs": [],
   "source": [
    "# Create example dataset: advertising spend vs. weekly sales\n",
    "data = pd.DataFrame({\n",
    "    \"ad_spend\": [400, 500, 600, 700, 800, 900, 1000, 1100, 1200, 1300, 1400, 1500, 1600, 1700, 1800, 1900, 2000, 2100, 2200, 2300],\n",
    "    \"weekly_sales\": [4200, 4400, 4100, 4800, 5600, 5200, 4900, 5500, 5300, 5900, 5700, 6300, 6900, 6200, 5800, 6600, 7100, 6800, 7300, 7800]\n",
    "})\n",
    "\n",
    "# First look at the relationship visually\n",
    "plt.figure(figsize=(8, 6))\n",
    "plt.scatter(data[\"ad_spend\"], data[\"weekly_sales\"])\n",
    "plt.xlabel(\"Advertising Spend ($)\")\n",
    "plt.ylabel(\"Weekly Sales\")\n",
    "plt.title(\"Ad Spend vs. Weekly Sales\")\n",
    "plt.grid(True, alpha=0.3)\n",
    "plt.show()\n",
    "\n",
    "print(\"What pattern do you see in the relationship?\")"
   ]
  },
  {
   "cell_type": "code",
   "execution_count": null,
   "metadata": {},
   "outputs": [],
   "source": [
    "# Now compute the correlation to quantify the relationship\n",
    "correlation_matrix = data.corr()\n",
    "print(\"Correlation Matrix:\")\n",
    "print(correlation_matrix)\n",
    "\n",
    "# Extract just the correlation between ad_spend and weekly_sales\n",
    "correlation_value = data[\"ad_spend\"].corr(data[\"weekly_sales\"])\n",
    "print(f\"\\nCorrelation between ad_spend and weekly_sales: {correlation_value:.3f}\")\n",
    "print(f\"This indicates a {'strong' if abs(correlation_value) > 0.7 else 'moderate' if abs(correlation_value) > 0.3 else 'weak'} {'positive' if correlation_value > 0 else 'negative'} linear relationship.\")"
   ]
  },
  {
   "cell_type": "markdown",
   "metadata": {},
   "source": [
    "### 🏃‍♂️ Try It Yourself\n",
    "\n",
    "Using the Advertising dataset, create scatterplots between `sales` and each advertising channel (`TV`, `radio`, `newspaper`). Then compute correlations and identify which channel has the strongest relationship with sales."
   ]
  },
  {
   "cell_type": "code",
   "execution_count": null,
   "metadata": {},
   "outputs": [],
   "source": [
    "# Your code here - create scatterplots and compute correlations\n",
    "# Hint: Use plt.subplot() to create multiple plots, or create separate plots\n",
    "# Use advertising.corr() to compute all correlations at once\n"
   ]
  },
  {
   "cell_type": "markdown",
   "metadata": {},
   "source": [
    "## Simple Linear Regression\n",
    "\n",
    "While correlation tells us variables move together, regression provides an equation to predict one variable from another. Let's build our first regression model."
   ]
  },
  {
   "cell_type": "code",
   "execution_count": null,
   "metadata": {},
   "outputs": [],
   "source": [
    "# Prepare the data for regression\n",
    "X = data[[\"ad_spend\"]]  # Feature matrix (note the double brackets)\n",
    "y = data[\"weekly_sales\"]  # Target variable\n",
    "\n",
    "# Fit the regression model\n",
    "model = LinearRegression()\n",
    "model.fit(X, y)\n",
    "\n",
    "# Extract key model components\n",
    "intercept = model.intercept_\n",
    "coefficient = model.coef_[0]\n",
    "\n",
    "print(f\"Regression Results:\")\n",
    "print(f\"Intercept: {intercept:.2f}\")\n",
    "print(f\"Ad Spend Coefficient: {coefficient:.2f}\")\n",
    "print(f\"\\nEquation: Weekly Sales = {intercept:.2f} + {coefficient:.2f} × Ad Spend\")\n",
    "\n",
    "print(f\"\\nInterpretation:\")\n",
    "print(f\"- When ad spend is $0, expected weekly sales = ${intercept:.0f}\")\n",
    "print(f\"- For every $1 increase in ad spend, weekly sales increase by ${coefficient:.2f}\")"
   ]
  },
  {
   "cell_type": "code",
   "execution_count": null,
   "metadata": {},
   "outputs": [],
   "source": [
    "# Visualize the regression line\n",
    "plt.figure(figsize=(10, 6))\n",
    "plt.scatter(data[\"ad_spend\"], data[\"weekly_sales\"], alpha=0.7, label=\"Data points\")\n",
    "plt.plot(data[\"ad_spend\"], model.predict(X), color=\"red\", linewidth=2, label=\"Regression line\")\n",
    "\n",
    "# Add a prediction example\n",
    "prediction_x = 1500\n",
    "prediction_y = model.predict([[prediction_x]])[0]\n",
    "plt.scatter(prediction_x, prediction_y, color=\"orange\", s=100, zorder=5, \n",
    "           label=f\"Prediction: ${prediction_x} → ${prediction_y:.0f}\")\n",
    "\n",
    "plt.xlabel(\"Advertising Spend ($)\")\n",
    "plt.ylabel(\"Weekly Sales\")\n",
    "plt.title(\"Simple Linear Regression: Ad Spend vs Weekly Sales\")\n",
    "plt.legend()\n",
    "plt.grid(True, alpha=0.3)\n",
    "plt.show()"
   ]
  },
  {
   "cell_type": "code",
   "execution_count": null,
   "metadata": {},
   "outputs": [],
   "source": [
    "# Make predictions with our model\n",
    "# Scenario 1: What if we spend $1,500 on advertising?\n",
    "new_ad_spend = pd.DataFrame({\"ad_spend\": [1500]})\n",
    "predicted_sales = model.predict(new_ad_spend)\n",
    "print(f\"Prediction: If we spend $1,500 on advertising, we expect ${predicted_sales[0]:.0f} in weekly sales\")\n",
    "\n",
    "# Scenario 2: What about $2,500?\n",
    "new_ad_spend2 = pd.DataFrame({\"ad_spend\": [2500]})\n",
    "predicted_sales2 = model.predict(new_ad_spend2)\n",
    "print(f\"Prediction: If we spend $2,500 on advertising, we expect ${predicted_sales2[0]:.0f} in weekly sales\")\n",
    "\n",
    "print(f\"\\nNote: The second prediction extends beyond our data range (${data['ad_spend'].max()}), so be cautious about its reliability!\")"
   ]
  },
  {
   "cell_type": "markdown",
   "metadata": {},
   "source": [
    "### 🏃‍♂️ Try It Yourself\n",
    "\n",
    "Using the Advertising dataset, fit a simple regression model to predict `sales` from `TV` advertising spend. Extract the intercept and coefficient, interpret them in business terms, and make a prediction for $50k in TV advertising."
   ]
  },
  {
   "cell_type": "code",
   "execution_count": null,
   "metadata": {},
   "outputs": [],
   "source": [
    "# Your code here - fit a model using TV to predict sales\n",
    "# Remember: X should be advertising[[\"TV\"]] and y should be advertising[\"sales\"]\n"
   ]
  },
  {
   "cell_type": "markdown",
   "metadata": {},
   "source": [
    "## Multiple Linear Regression\n",
    "\n",
    "Real business scenarios are rarely influenced by just one factor. Multiple regression allows us to include several predictors simultaneously and understand each one's independent effect."
   ]
  },
  {
   "cell_type": "code",
   "execution_count": null,
   "metadata": {},
   "outputs": [],
   "source": [
    "# Create data with multiple predictors\n",
    "data2 = pd.DataFrame({\n",
    "    \"ad_spend\": [400, 500, 600, 700, 800, 900, 1000, 1100, 1200, 1300, 1400, 1500, 1600, 1700, 1800, 1900, 2000, 2100, 2200, 2300],\n",
    "    \"num_stores\": [3, 3, 4, 4, 4, 5, 5, 5, 5, 6, 6, 6, 6, 7, 7, 7, 8, 8, 8, 9],\n",
    "    \"weekly_sales\": [4200, 4400, 4100, 4800, 5600, 5200, 4900, 5500, 5300, 5900, 5700, 6300, 6900, 6200, 5800, 6600, 7100, 6800, 7300, 7800]\n",
    "})\n",
    "\n",
    "print(\"Data with multiple predictors:\")\n",
    "print(data2.head(10))"
   ]
  },
  {
   "cell_type": "code",
   "execution_count": null,
   "metadata": {},
   "outputs": [],
   "source": [
    "# Fit multiple regression model\n",
    "X2 = data2[[\"ad_spend\", \"num_stores\"]]  # Multiple features\n",
    "y2 = data2[\"weekly_sales\"]\n",
    "\n",
    "model2 = LinearRegression()\n",
    "model2.fit(X2, y2)\n",
    "\n",
    "# Extract model components\n",
    "intercept = model2.intercept_\n",
    "ad_spend_coef = model2.coef_[0]\n",
    "num_stores_coef = model2.coef_[1]\n",
    "\n",
    "print(f\"Multiple Regression Results:\")\n",
    "print(f\"Intercept: {intercept:.2f}\")\n",
    "print(f\"Ad Spend Coefficient: {ad_spend_coef:.2f}\")\n",
    "print(f\"Num Stores Coefficient: {num_stores_coef:.2f}\")\n",
    "\n",
    "print(f\"\\nEquation: Weekly Sales = {intercept:.2f} + {ad_spend_coef:.2f} × Ad Spend + {num_stores_coef:.2f} × Num Stores\")\n",
    "\n",
    "print(f\"\\nInterpretation:\")\n",
    "print(f\"- Holding num_stores constant, each $1 increase in ad_spend increases sales by ${ad_spend_coef:.2f}\")\n",
    "print(f\"- Holding ad_spend constant, each additional store {'increases' if num_stores_coef > 0 else 'decreases'} sales by ${abs(num_stores_coef):.2f}\")"
   ]
  },
  {
   "cell_type": "code",
   "execution_count": null,
   "metadata": {},
   "outputs": [],
   "source": [
    "# Make predictions with multiple features\n",
    "print(\"Multiple Regression Predictions:\")\n",
    "print(\"\\nScenario 1: $1500 ad spend, 5 stores\")\n",
    "scenario1 = pd.DataFrame({\"ad_spend\": [1500], \"num_stores\": [5]})\n",
    "pred1 = model2.predict(scenario1)\n",
    "print(f\"Predicted sales: ${pred1[0]:.0f}\")\n",
    "\n",
    "print(\"\\nScenario 2: $1500 ad spend, 7 stores\") \n",
    "scenario2 = pd.DataFrame({\"ad_spend\": [1500], \"num_stores\": [7]})\n",
    "pred2 = model2.predict(scenario2)\n",
    "print(f\"Predicted sales: ${pred2[0]:.0f}\")\n",
    "\n",
    "print(f\"\\nEffect of 2 additional stores: ${pred2[0] - pred1[0]:.0f} change in weekly sales\")\n",
    "print(f\"This equals 2 × {num_stores_coef:.2f} = {2 * num_stores_coef:.0f}\")"
   ]
  },
  {
   "cell_type": "markdown",
   "metadata": {},
   "source": [
    "### 🏃‍♂️ Try It Yourself\n",
    "\n",
    "Use the Advertising dataset to predict `sales` using all three advertising channels: `TV`, `radio`, and `newspaper`. Extract and interpret each coefficient, then write out the complete prediction equation."
   ]
  },
  {
   "cell_type": "code",
   "execution_count": null,
   "metadata": {},
   "outputs": [],
   "source": [
    "# Your code here - fit a model using TV, radio, and newspaper to predict sales\n",
    "# X should be advertising[[\"TV\", \"radio\", \"newspaper\"]]\n"
   ]
  },
  {
   "cell_type": "markdown",
   "metadata": {},
   "source": [
    "## Categorical Predictors with Dummy Encoding\n",
    "\n",
    "Many business factors are categorical (like region, customer type, or product category). We need to convert these to numbers using dummy encoding before including them in regression models."
   ]
  },
  {
   "cell_type": "code",
   "execution_count": null,
   "metadata": {},
   "outputs": [],
   "source": [
    "# Don't worry about the details of this data generation code!\n",
    "# Focus on understanding the results and the dummy encoding process\n",
    "np.random.seed(123)  # For reproducible results\n",
    "\n",
    "# Create data with regional differences\n",
    "# East region: lower baseline sales\n",
    "east_ad_spend = np.linspace(500, 2000, 25)\n",
    "east_base_sales = 3000 + 1.8 * east_ad_spend\n",
    "east_noise = np.random.normal(0, 200, 25)\n",
    "east_sales = east_base_sales + east_noise\n",
    "\n",
    "# West region: higher baseline sales\n",
    "west_ad_spend = np.linspace(500, 2000, 25)\n",
    "west_base_sales = 3800 + 1.8 * west_ad_spend  # Same slope, higher baseline\n",
    "west_noise = np.random.normal(0, 200, 25)\n",
    "west_sales = west_base_sales + west_noise\n",
    "\n",
    "# Combine into single DataFrame\n",
    "data3 = pd.DataFrame({\n",
    "    \"ad_spend\": np.concatenate([east_ad_spend, west_ad_spend]),\n",
    "    \"region\": [\"East\"] * 25 + [\"West\"] * 25,\n",
    "    \"weekly_sales\": np.concatenate([east_sales, west_sales])\n",
    "})\n",
    "\n",
    "print(\"Data with categorical predictor (region):\")\n",
    "print(data3.head(10))\n",
    "print(f\"\\nRegion counts:\")\n",
    "print(data3[\"region\"].value_counts())"
   ]
  },
  {
   "cell_type": "code",
   "execution_count": null,
   "metadata": {},
   "outputs": [],
   "source": [
    "# Create dummy variables using pandas\n",
    "# drop_first=True means we drop one category to avoid the \"dummy variable trap\"\n",
    "X3_encoded = pd.get_dummies(data3[[\"ad_spend\", \"region\"]], drop_first=True)\n",
    "print(\"Data after dummy encoding:\")\n",
    "print(X3_encoded.head(10))\n",
    "\n",
    "print(\"\\nNotice how:\")\n",
    "print(\"- 'region_West' = True (1) for West region stores\")\n",
    "print(\"- 'region_West' = False (0) for East region stores\")\n",
    "print(\"- East becomes the 'baseline' category\")"
   ]
  },
  {
   "cell_type": "code",
   "execution_count": null,
   "metadata": {},
   "outputs": [],
   "source": [
    "# Fit regression model with categorical predictor\n",
    "y3 = data3[\"weekly_sales\"]\n",
    "\n",
    "model3 = LinearRegression()\n",
    "model3.fit(X3_encoded, y3)\n",
    "\n",
    "# Extract model components\n",
    "intercept = model3.intercept_\n",
    "ad_spend_coef = model3.coef_[0]\n",
    "region_west_coef = model3.coef_[1]\n",
    "\n",
    "print(f\"Regression with Categorical Predictor Results:\")\n",
    "print(f\"Intercept: {intercept:.2f}\")\n",
    "print(f\"Ad Spend Coefficient: {ad_spend_coef:.2f}\")\n",
    "print(f\"Region West Coefficient: {region_west_coef:.2f}\")\n",
    "\n",
    "print(f\"\\nEquation: Weekly Sales = {intercept:.2f} + {ad_spend_coef:.2f} × Ad Spend + {region_west_coef:.2f} × Region_West\")\n",
    "\n",
    "print(f\"\\nInterpretation:\")\n",
    "print(f\"- Baseline (East region): When ad_spend = 0, expected sales = ${intercept:.0f}\")\n",
    "print(f\"- Each $1 increase in ad_spend increases sales by ${ad_spend_coef:.2f} (same for both regions)\")\n",
    "print(f\"- West region stores have ${region_west_coef:.0f} higher baseline sales than East region stores\")"
   ]
  },
  {
   "cell_type": "code",
   "execution_count": null,
   "metadata": {},
   "outputs": [],
   "source": [
    "# Visualize the categorical predictor model (creates parallel lines)\n",
    "plt.figure(figsize=(10, 6))\n",
    "\n",
    "# Separate data by region for plotting\n",
    "east_data = data3[data3[\"region\"] == \"East\"]\n",
    "west_data = data3[data3[\"region\"] == \"West\"]\n",
    "\n",
    "# Plot data points\n",
    "plt.scatter(east_data[\"ad_spend\"], east_data[\"weekly_sales\"], \n",
    "           color='blue', alpha=0.7, label='East Region', s=60)\n",
    "plt.scatter(west_data[\"ad_spend\"], west_data[\"weekly_sales\"], \n",
    "           color='red', alpha=0.7, label='West Region', s=60)\n",
    "\n",
    "# Create prediction lines for each region\n",
    "ad_range = np.linspace(data3[\"ad_spend\"].min(), data3[\"ad_spend\"].max(), 100)\n",
    "\n",
    "# East region line (region_West = 0)\n",
    "east_predictions = model3.intercept_ + model3.coef_[0] * ad_range\n",
    "plt.plot(ad_range, east_predictions, color='blue', linewidth=3, \n",
    "         label='East Region Line')\n",
    "\n",
    "# West region line (region_West = 1)\n",
    "west_predictions = model3.intercept_ + model3.coef_[0] * ad_range + model3.coef_[1]\n",
    "plt.plot(ad_range, west_predictions, color='red', linewidth=3, \n",
    "         label='West Region Line')\n",
    "\n",
    "plt.xlabel('Advertising Spend ($)')\n",
    "plt.ylabel('Weekly Sales')\n",
    "plt.title('Regression with Categorical Predictor: Parallel Lines by Region')\n",
    "plt.legend()\n",
    "plt.grid(True, alpha=0.3)\n",
    "plt.show()\n",
    "\n",
    "print(\"Notice how the lines are parallel - same slope, different intercepts!\")"
   ]
  },
  {
   "cell_type": "code",
   "execution_count": null,
   "metadata": {},
   "outputs": [],
   "source": [
    "# Make predictions for both regions\n",
    "print(\"Categorical Predictor Predictions:\")\n",
    "\n",
    "print(\"\\nEast region store with $1500 ad spend:\")\n",
    "east_scenario = pd.DataFrame({\n",
    "    \"ad_spend\": [1500], \n",
    "    \"region_West\": [0]  # East region\n",
    "})\n",
    "east_pred = model3.predict(east_scenario)\n",
    "print(f\"Predicted sales: ${east_pred[0]:.0f}\")\n",
    "\n",
    "print(\"\\nWest region store with $1500 ad spend:\")\n",
    "west_scenario = pd.DataFrame({\n",
    "    \"ad_spend\": [1500], \n",
    "    \"region_West\": [1]  # West region\n",
    "})\n",
    "west_pred = model3.predict(west_scenario)\n",
    "print(f\"Predicted sales: ${west_pred[0]:.0f}\")\n",
    "\n",
    "print(f\"\\nRegional difference: ${west_pred[0] - east_pred[0]:.0f}\")\n",
    "print(f\"(This equals the Region_West coefficient: ${region_west_coef:.0f})\")"
   ]
  },
  {
   "cell_type": "markdown",
   "metadata": {},
   "source": [
    "### 🏃‍♂️ Try It Yourself\n",
    "\n",
    "Using the Credit dataset from ISLP (if available), build a regression model with both numeric predictors and a categorical variable. If ISLP is not available, you can create your own sample dataset with a categorical variable."
   ]
  },
  {
   "cell_type": "code",
   "execution_count": null,
   "metadata": {},
   "outputs": [],
   "source": [
    "# Try using the Credit dataset if ISLP is available\n",
    "try:\n",
    "    Credit = load_data('Credit')\n",
    "    print(\"Credit dataset loaded successfully!\")\n",
    "    print(Credit.head())\n",
    "    print(\"\\nYour task: Build a regression model to predict 'Balance' using:\")\n",
    "    print(\"- Numeric predictors: Income, Limit, Age\")\n",
    "    print(\"- Categorical predictor: Gender (you'll need to dummy encode this)\")\n",
    "    \n",
    "    # Your code here\n",
    "    \n",
    "except:\n",
    "    print(\"ISLP not available. You can practice with the advertising dataset instead.\")\n",
    "    print(\"Try adding a categorical variable like 'season' to the advertising data!\")"
   ]
  },
  {
   "cell_type": "markdown",
   "metadata": {},
   "source": [
    "## Integration and Practice Challenges\n",
    "\n",
    "Now let's combine everything we've learned in more complex scenarios that mirror real business decision-making."
   ]
  },
  {
   "cell_type": "code",
   "execution_count": null,
   "metadata": {},
   "outputs": [],
   "source": [
    "# Comprehensive analysis of the Advertising dataset\n",
    "print(\"Comprehensive Advertising Analysis\")\n",
    "print(\"=\" * 40)\n",
    "\n",
    "# Step 1: Explore correlations\n",
    "print(\"\\n1. Correlation Analysis:\")\n",
    "correlation_with_sales = advertising[['TV', 'radio', 'newspaper', 'sales']].corr()['sales'].sort_values(ascending=False)\n",
    "print(correlation_with_sales)\n",
    "\n",
    "# Step 2: Build comprehensive model\n",
    "print(\"\\n2. Multiple Regression Model:\")\n",
    "X_final = advertising[['TV', 'radio', 'newspaper']]\n",
    "y_final = advertising['sales']\n",
    "\n",
    "final_model = LinearRegression()\n",
    "final_model.fit(X_final, y_final)\n",
    "\n",
    "print(f\"Intercept: {final_model.intercept_:.3f}\")\n",
    "for i, feature in enumerate(['TV', 'radio', 'newspaper']):\n",
    "    print(f\"{feature} coefficient: {final_model.coef_[i]:.3f}\")\n",
    "\n",
    "# Step 3: Business insights\n",
    "print(\"\\n3. Business Insights:\")\n",
    "coefficients = dict(zip(['TV', 'radio', 'newspaper'], final_model.coef_))\n",
    "best_channel = max(coefficients, key=coefficients.get)\n",
    "worst_channel = min(coefficients, key=coefficients.get)\n",
    "\n",
    "print(f\"- Most effective channel: {best_channel} (coefficient: {coefficients[best_channel]:.3f})\")\n",
    "print(f\"- Least effective channel: {worst_channel} (coefficient: {coefficients[worst_channel]:.3f})\")\n",
    "print(f\"- For every $1k spent on {best_channel}, sales increase by {coefficients[best_channel]:.3f} thousand units\")"
   ]
  },
  {
   "cell_type": "markdown",
   "metadata": {},
   "source": [
    "## 🚀 Practice Challenges\n",
    "\n",
    "Test your understanding with these business scenarios that combine multiple concepts from the chapter."
   ]
  },
  {
   "cell_type": "markdown",
   "metadata": {},
   "source": [
    "### Challenge 1: Marketing Budget Optimization\n",
    "\n",
    "You're a marketing manager with a $100k total budget to allocate across TV, radio, and newspaper advertising. Based on your regression model, which allocation would maximize expected sales?"
   ]
  },
  {
   "cell_type": "code",
   "execution_count": null,
   "metadata": {},
   "outputs": [],
   "source": [
    "# Your solution here\n",
    "# Hint: Consider the coefficients from your model above\n",
    "# Which channel gives the biggest \"bang for the buck\"?\n",
    "\n"
   ]
  },
  {
   "cell_type": "markdown",
   "metadata": {},
   "source": [
    "### Challenge 2: Regional Strategy Development\n",
    "\n",
    "Create a dataset with both advertising spend and a categorical variable (like \"season\" or \"market_size\"). Build a model and interpret how the categorical factor affects the relationship between advertising and sales."
   ]
  },
  {
   "cell_type": "code",
   "execution_count": null,
   "metadata": {},
   "outputs": [],
   "source": [
    "# Your solution here\n",
    "# Create your own dataset with both continuous and categorical predictors\n",
    "# Remember to use dummy encoding for categorical variables\n",
    "\n"
   ]
  },
  {
   "cell_type": "markdown",
   "metadata": {},
   "source": [
    "### Challenge 3: Model Comparison and Business Recommendations\n",
    "\n",
    "Compare a simple regression model (using only the best predictor) with a multiple regression model (using all predictors). Which would you recommend for business decision-making and why?"
   ]
  },
  {
   "cell_type": "code",
   "execution_count": null,
   "metadata": {},
   "outputs": [],
   "source": [
    "# Your solution here\n",
    "# Build both models and compare their predictions\n",
    "# Think about simplicity vs. comprehensiveness trade-offs\n",
    "\n"
   ]
  },
  {
   "cell_type": "markdown",
   "metadata": {},
   "source": [
    "## 📝 Chapter Summary\n",
    "\n",
    "In this notebook, you practiced:\n",
    "\n",
    "- ✅ **Measuring relationships** using correlation coefficients to quantify linear associations\n",
    "- ✅ **Building simple regression models** to predict outcomes from single predictors\n",
    "- ✅ **Extending to multiple regression** to understand how several factors jointly influence outcomes\n",
    "- ✅ **Handling categorical predictors** using dummy encoding to include qualitative factors\n",
    "- ✅ **Making business predictions** and translating statistical results into actionable insights\n",
    "\n",
    "## 🔗 Connections to Other Chapters\n",
    "\n",
    "- **Previous chapters**: Your data manipulation and visualization skills were essential for preparing data and understanding relationships\n",
    "- **Upcoming chapters**: These regression foundations will be crucial for advanced machine learning techniques and model evaluation\n",
    "\n",
    "## 📚 Additional Resources\n",
    "\n",
    "- [Advertising Dataset on GitHub](https://raw.githubusercontent.com/bradleyboehmke/uc-bana-4080/main/data/Advertising.csv)\n",
    "- [Guess the Correlation Game](https://www.guessthecorrelation.com/) - Practice interpreting correlation values\n",
    "- [Scikit-learn Linear Regression Documentation](https://scikit-learn.org/stable/modules/generated/sklearn.linear_model.LinearRegression.html)\n",
    "\n",
    "## 🎯 Next Steps\n",
    "\n",
    "1. **Review the chapter** to reinforce the theoretical foundations\n",
    "2. **Complete the end-of-chapter exercises** using the ISLP datasets\n",
    "3. **Practice with your own datasets** to build confidence with real-world data\n",
    "4. **Move on to model evaluation techniques** to learn how to assess regression performance"
   ]
  }
 ],
 "metadata": {
  "kernelspec": {
   "display_name": "Python 3",
   "language": "python",
   "name": "python3"
  },
  "language_info": {
   "codemirror_mode": {
    "name": "ipython",
    "version": 3
   },
   "file_extension": ".py",
   "mimetype": "text/x-python",
   "name": "python",
   "nbconvert_exporter": "python",
   "pygments_lexer": "ipython3",
   "version": "3.8.5"
  }
 },
 "nbformat": 4,
 "nbformat_minor": 4
}