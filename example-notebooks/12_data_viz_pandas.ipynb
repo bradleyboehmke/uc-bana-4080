{
 "cells": [
  {
   "cell_type": "markdown",
   "id": "b8825cb5",
   "metadata": {},
   "source": [
    "# Companion Notebook: Data Visualization with Pandas\n",
    "\n",
    "<a href=\"https://colab.research.google.com/github/bradleyboehmke/uc-bana-4080/blob/main/example-notebooks/12_data_viz_pandas.ipynb\" target=\"_parent\"><img src=\"https://colab.research.google.com/assets/colab-badge.svg\" alt=\"Open In Colab\"/></a>\n",
    "\n",
    "This notebook follows the content from *Chapter 13: Introduction to Data Visualization with Pandas*. It provides code examples to help you explore and visualize data using Pandas' built-in `.plot()` capabilities."
   ]
  },
  {
   "cell_type": "markdown",
   "id": "76ba0279",
   "metadata": {},
   "source": [
    "## Setup"
   ]
  },
  {
   "cell_type": "code",
   "execution_count": null,
   "id": "23a6d1c4",
   "metadata": {},
   "outputs": [],
   "source": [
    "import pandas as pd\n",
    "from completejourney_py import get_data\n",
    "\n",
    "# Load data\n",
    "cj_data = get_data()\n",
    "transactions = cj_data['transactions']\n",
    "products = cj_data['products']\n",
    "demographics = cj_data['demographics']\n",
    "\n",
    "# Merge data\n",
    "df = (\n",
    "    transactions\n",
    "    .merge(products, on='product_id', how='left')\n",
    "    .merge(demographics, on='household_id', how='left')\n",
    ")\n"
   ]
  },
  {
   "cell_type": "markdown",
   "id": "4b875c39",
   "metadata": {},
   "source": [
    "## Using `.plot` in Pandas"
   ]
  },
  {
   "cell_type": "code",
   "execution_count": null,
   "id": "f3b57c43",
   "metadata": {},
   "outputs": [],
   "source": [
    "# Example histogram\n",
    "df['sales_value'].plot(kind='hist', bins=20, log=True)"
   ]
  },
  {
   "cell_type": "markdown",
   "id": "19b9592c",
   "metadata": {},
   "source": [
    "## Univariate Visualizations"
   ]
  },
  {
   "cell_type": "code",
   "execution_count": null,
   "id": "b89bcdd4",
   "metadata": {},
   "outputs": [],
   "source": [
    "# Summary stats\n",
    "df['sales_value'].describe()"
   ]
  },
  {
   "cell_type": "code",
   "execution_count": null,
   "id": "795a11ee",
   "metadata": {},
   "outputs": [],
   "source": [
    "# Basic histogram\n",
    "df['sales_value'].plot.hist()"
   ]
  },
  {
   "cell_type": "code",
   "execution_count": null,
   "id": "98e6d33f",
   "metadata": {},
   "outputs": [],
   "source": [
    "# Adjusted histogram\n",
    "(\n",
    "    df.loc[df['sales_value'] > 0, 'sales_value']\n",
    "    .plot.hist(log=True, bins=30, title='Distribution of Sales Values')\n",
    ");"
   ]
  },
  {
   "cell_type": "code",
   "execution_count": null,
   "id": "ad0b04d4",
   "metadata": {},
   "outputs": [],
   "source": [
    "# Boxplot of store sales\n",
    "sales_by_store = df.groupby('store_id')['sales_value'].sum()\n",
    "sales_by_store.plot.box(logy=True, title='Distribution of total sales across all stores');"
   ]
  },
  {
   "cell_type": "code",
   "execution_count": null,
   "id": "d6f76545",
   "metadata": {},
   "outputs": [],
   "source": [
    "# KDE plot\n",
    "sales_by_store.plot.kde(title='Distribution of total sales across all stores');"
   ]
  },
  {
   "cell_type": "markdown",
   "id": "c7d7b594",
   "metadata": {},
   "source": [
    "## Time Series Visualizations"
   ]
  },
  {
   "cell_type": "code",
   "execution_count": null,
   "id": "8ce615f6",
   "metadata": {},
   "outputs": [],
   "source": [
    "sales = df.set_index('transaction_timestamp')['sales_value']"
   ]
  },
  {
   "cell_type": "code",
   "execution_count": null,
   "id": "a9e29a75",
   "metadata": {},
   "outputs": [],
   "source": [
    "# Hourly sales\n",
    "sales.resample('h').sum().plot.line(figsize=(10, 4));"
   ]
  },
  {
   "cell_type": "code",
   "execution_count": null,
   "id": "7c705168",
   "metadata": {},
   "outputs": [],
   "source": [
    "# Daily sales\n",
    "sales.resample('D').sum().plot.line(figsize=(10, 4));"
   ]
  },
  {
   "cell_type": "code",
   "execution_count": null,
   "id": "a6a1bac5",
   "metadata": {},
   "outputs": [],
   "source": [
    "# Sales by weekday\n",
    "day_order = ['Monday', 'Tuesday', 'Wednesday', 'Thursday', 'Friday', 'Saturday', 'Sunday']\n",
    "total_sales_by_weekday = (\n",
    "    sales\n",
    "    .resample('D')\n",
    "    .sum()\n",
    "    .rename(lambda idx: idx.day_name())\n",
    "    .groupby('transaction_timestamp')\n",
    "    .quantile([.25, .5, .75])\n",
    "    .unstack()\n",
    "    .reindex(day_order)\n",
    ")\n",
    "total_sales_by_weekday.plot.line(title='Median and IQR of total sales by weekday', figsize=(10, 4));"
   ]
  },
  {
   "cell_type": "code",
   "execution_count": null,
   "id": "9bcc278a",
   "metadata": {},
   "outputs": [],
   "source": [
    "# Median sales by weekday\n",
    "median_sales_by_weekday = total_sales_by_weekday[0.50]\n",
    "median_sales_by_weekday.plot.bar(title='Median total sales by weekday', figsize=(8, 4));"
   ]
  },
  {
   "cell_type": "markdown",
   "id": "98998ee5",
   "metadata": {},
   "source": [
    "## Bivariate Visualizations"
   ]
  },
  {
   "cell_type": "code",
   "execution_count": null,
   "id": "98304ed2",
   "metadata": {},
   "outputs": [],
   "source": [
    "# Scatter plot of quantity vs. sales_value\n",
    "df.plot.scatter(x='quantity', y='sales_value', title='Sales versus quantity', figsize=(8, 4));"
   ]
  },
  {
   "cell_type": "code",
   "execution_count": null,
   "id": "59e638a3",
   "metadata": {},
   "outputs": [],
   "source": [
    "# Bar plot: Top 10 departments by sales\n",
    "dept_sales = (\n",
    "    df\n",
    "    .groupby('department', as_index=False)\n",
    "    .agg({'sales_value': 'sum'})\n",
    "    .nlargest(10, 'sales_value')\n",
    "    .reset_index(drop=True)\n",
    ")\n",
    "dept_sales.sort_values('sales_value').plot.barh(x='department', y='sales_value', color='red');"
   ]
  },
  {
   "cell_type": "code",
   "execution_count": null,
   "id": "ee9b4b9e",
   "metadata": {},
   "outputs": [],
   "source": [
    "# Bar plot with multiple series\n",
    "dept_totals = (\n",
    "    df\n",
    "    .query(\"department != 'FUEL' & department != 'MISCELLANEOUS'\")\n",
    "    .groupby('department', as_index=False)\n",
    "    .agg({'sales_value': 'sum', 'quantity': 'sum'})\n",
    "    .nlargest(10, 'sales_value')\n",
    "    .reset_index(drop=True)\n",
    ")\n",
    "dept_totals.sort_values('sales_value').plot.barh(x='department', y=['sales_value', 'quantity']).legend(loc='lower right');"
   ]
  },
  {
   "cell_type": "markdown",
   "id": "bf57aa53",
   "metadata": {},
   "source": [
    "## Multi-Series Time Series Plots"
   ]
  },
  {
   "cell_type": "code",
   "execution_count": null,
   "id": "9a883000",
   "metadata": {},
   "outputs": [],
   "source": [
    "total_daily_discounts = (\n",
    "    df\n",
    "    .query(\"department == 'GROCERY'\")\n",
    "    .set_index('transaction_timestamp')\n",
    "    .loc[:, ['retail_disc', 'coupon_disc', 'coupon_match_disc']]\n",
    "    .resample('D')\n",
    "    .sum()\n",
    ")\n",
    "total_daily_discounts.plot.line(logy=True, figsize=(10, 4));"
   ]
  },
  {
   "cell_type": "code",
   "execution_count": null,
   "id": "fd560dc1",
   "metadata": {},
   "outputs": [],
   "source": [
    "total_daily_discounts.plot.kde(logx=True);"
   ]
  }
 ],
 "metadata": {
  "language_info": {
   "name": "python"
  }
 },
 "nbformat": 4,
 "nbformat_minor": 5
}
