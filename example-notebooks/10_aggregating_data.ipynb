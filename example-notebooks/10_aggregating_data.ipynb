{
 "cells": [
  {
   "cell_type": "markdown",
   "id": "0e274165",
   "metadata": {},
   "source": [
    "<a href=\"https://colab.research.google.com/github/bradleyboehmke/uc-bana-4080/blob/main/example-notebooks/10_aggregating_data.ipynb\" target=\"_parent\"><img src=\"https://colab.research.google.com/assets/colab-badge.svg\" alt=\"Open In Colab\"/></a>"
   ]
  },
  {
   "cell_type": "markdown",
   "id": "d12ee355",
   "metadata": {},
   "source": [
    "# Summarizing Data\n",
    "\n",
    "> “What we have is a data glut.”\n",
    "> — Vernor Vinge, Professor Emeritus of Mathematics, San Diego State University"
   ]
  },
  {
   "cell_type": "markdown",
   "id": "9a6891d5",
   "metadata": {},
   "source": [
    "As datasets grow in size and complexity, the ability to summarize information becomes an essential skill in any data scientist’s toolkit..."
   ]
  },
  {
   "cell_type": "code",
   "execution_count": null,
   "id": "d0207263",
   "metadata": {},
   "outputs": [],
   "source": [
    "import pandas as pd\n",
    "\n",
    "ames = pd.read_csv('https://raw.githubusercontent.com/bradleyboehmke/uc-bana-4080/refs/heads/main/data/ames_raw.csv')\n",
    "ames.head()"
   ]
  },
  {
   "cell_type": "markdown",
   "id": "6bda9155",
   "metadata": {},
   "source": [
    "### Summarizing a Series"
   ]
  },
  {
   "cell_type": "code",
   "execution_count": null,
   "id": "b0e00a81",
   "metadata": {},
   "outputs": [],
   "source": [
    "ames['SalePrice'].sum()"
   ]
  },
  {
   "cell_type": "code",
   "execution_count": null,
   "id": "4ee789c2",
   "metadata": {},
   "outputs": [],
   "source": [
    "ames['SalePrice'].mean()"
   ]
  },
  {
   "cell_type": "code",
   "execution_count": null,
   "id": "7de8bc87",
   "metadata": {},
   "outputs": [],
   "source": [
    "ames['SalePrice'].median()"
   ]
  },
  {
   "cell_type": "code",
   "execution_count": null,
   "id": "18c5abcf",
   "metadata": {},
   "outputs": [],
   "source": [
    "ames['SalePrice'].std()"
   ]
  },
  {
   "cell_type": "code",
   "execution_count": null,
   "id": "be12638d",
   "metadata": {},
   "outputs": [],
   "source": [
    "ames['Neighborhood'].nunique()"
   ]
  },
  {
   "cell_type": "code",
   "execution_count": null,
   "id": "d8ee25ef",
   "metadata": {},
   "outputs": [],
   "source": [
    "ames['Neighborhood'].mode()"
   ]
  },
  {
   "cell_type": "markdown",
   "id": "f958943d",
   "metadata": {},
   "source": [
    "### The `.describe()` Method"
   ]
  },
  {
   "cell_type": "code",
   "execution_count": null,
   "id": "8a5c76c9",
   "metadata": {},
   "outputs": [],
   "source": [
    "ames['SalePrice'].describe()"
   ]
  },
  {
   "cell_type": "code",
   "execution_count": null,
   "id": "2387f69b",
   "metadata": {},
   "outputs": [],
   "source": [
    "ames['Neighborhood'].describe()"
   ]
  },
  {
   "cell_type": "markdown",
   "id": "c03a1170",
   "metadata": {},
   "source": [
    "### Summarizing a DataFrame"
   ]
  },
  {
   "cell_type": "code",
   "execution_count": null,
   "id": "401e1c32",
   "metadata": {},
   "outputs": [],
   "source": [
    "ames[['SalePrice', 'Gr Liv Area']].mean()"
   ]
  },
  {
   "cell_type": "code",
   "execution_count": null,
   "id": "0e5f9093",
   "metadata": {},
   "outputs": [],
   "source": [
    "ames[['SalePrice', 'Gr Liv Area']].median()"
   ]
  },
  {
   "cell_type": "markdown",
   "id": "e7b3d1a8",
   "metadata": {},
   "source": [
    "### The `.agg()` Method"
   ]
  },
  {
   "cell_type": "code",
   "execution_count": null,
   "id": "ae1bc3c6",
   "metadata": {},
   "outputs": [],
   "source": [
    "ames.agg({'SalePrice': ['mean']})"
   ]
  },
  {
   "cell_type": "code",
   "execution_count": null,
   "id": "3699441e",
   "metadata": {},
   "outputs": [],
   "source": [
    "ames.agg({'SalePrice': ['mean'], 'Gr Liv Area': ['mean']})"
   ]
  },
  {
   "cell_type": "code",
   "execution_count": null,
   "id": "c259f175",
   "metadata": {},
   "outputs": [],
   "source": [
    "ames.agg({'SalePrice': ['mean', 'median'], 'Gr Liv Area': ['mean', 'min']})"
   ]
  },
  {
   "cell_type": "markdown",
   "id": "8ba03fe7",
   "metadata": {},
   "source": [
    "## Grouped Aggregation"
   ]
  },
  {
   "cell_type": "code",
   "execution_count": null,
   "id": "3a1b036d",
   "metadata": {},
   "outputs": [],
   "source": [
    "ames.groupby('Neighborhood').agg({'SalePrice': ['mean', 'median']}).head()"
   ]
  },
  {
   "cell_type": "code",
   "execution_count": null,
   "id": "8b0d9812",
   "metadata": {},
   "outputs": [],
   "source": [
    "ames.groupby('Neighborhood', as_index=False).agg({'SalePrice': ['mean', 'median']}).head()"
   ]
  },
  {
   "cell_type": "code",
   "execution_count": null,
   "id": "d691cdce",
   "metadata": {},
   "outputs": [],
   "source": [
    "ames.groupby(['Neighborhood', 'Yr Sold'], as_index=False).agg({'SalePrice': 'mean'})"
   ]
  },
  {
   "cell_type": "markdown",
   "id": "fd4e57cb",
   "metadata": {},
   "source": [
    "## COVID-19 College Data Aggregation Exercise"
   ]
  },
  {
   "cell_type": "code",
   "execution_count": null,
   "id": "e3fbf024",
   "metadata": {},
   "outputs": [],
   "source": [
    "data_url = \"https://raw.githubusercontent.com/nytimes/covid-19-data/refs/heads/master/colleges/colleges.csv\"\n",
    "college_df = pd.read_csv(data_url)\n",
    "college_df.head()"
   ]
  },
  {
   "cell_type": "code",
   "execution_count": null,
   "id": "95264b5a",
   "metadata": {},
   "outputs": [],
   "source": [
    "# Sample aggregation template\n",
    "# college_df['cases'].mean()\n",
    "# college_df[['cases', 'cases_2021']].sum()"
   ]
  }
 ],
 "metadata": {
  "language_info": {
   "name": "python"
  }
 },
 "nbformat": 4,
 "nbformat_minor": 5
}
