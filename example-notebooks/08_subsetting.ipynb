{
 "cells": [
  {
   "cell_type": "markdown",
   "id": "d7a4d81e",
   "metadata": {},
   "source": [
    "<a href=\"https://colab.research.google.com/github/bradleyboehmke/uc-bana-4080/blob/main/example-notebooks/08_subsetting.ipynb\" target=\"_parent\"><img src=\"https://colab.research.google.com/assets/colab-badge.svg\" alt=\"Open In Colab\"/></a>"
   ]
  },
  {
   "cell_type": "markdown",
   "id": "c1b7a629",
   "metadata": {},
   "source": [
    "# Subsetting Data\n",
    "This notebook contains code examples from the Subsetting Data chapter of the BANA 4080 textbook. Follow along to practice selecting and filtering data using pandas."
   ]
  },
  {
   "cell_type": "code",
   "execution_count": null,
   "id": "7a6dc6b0",
   "metadata": {},
   "outputs": [],
   "source": [
    "import pandas as pd\n",
    "\n",
    "planes_df = pd.read_csv('https://tinyurl.com/planes-data')\n",
    "planes_df.head()"
   ]
  },
  {
   "cell_type": "markdown",
   "id": "3820939a",
   "metadata": {},
   "source": [
    "## Selecting Variables"
   ]
  },
  {
   "cell_type": "code",
   "execution_count": null,
   "id": "203b3590",
   "metadata": {},
   "outputs": [],
   "source": [
    "planes_df['year'].head()"
   ]
  },
  {
   "cell_type": "code",
   "execution_count": null,
   "id": "aeeb49da",
   "metadata": {},
   "outputs": [],
   "source": [
    "type(planes_df['year'])"
   ]
  },
  {
   "cell_type": "code",
   "execution_count": null,
   "id": "69750b01",
   "metadata": {},
   "outputs": [],
   "source": [
    "planes_df[['year']].head()"
   ]
  },
  {
   "cell_type": "code",
   "execution_count": null,
   "id": "ff1bf7db",
   "metadata": {},
   "outputs": [],
   "source": [
    "type(planes_df[['year']].head())"
   ]
  },
  {
   "cell_type": "code",
   "execution_count": null,
   "id": "bb294735",
   "metadata": {},
   "outputs": [],
   "source": [
    "planes_df[['year', 'engines']].head()"
   ]
  },
  {
   "cell_type": "code",
   "execution_count": null,
   "id": "71baea28",
   "metadata": {},
   "outputs": [],
   "source": [
    "planes_df[['model', 'seats', 'engine']].head()"
   ]
  },
  {
   "cell_type": "markdown",
   "id": "f01a4bfd",
   "metadata": {},
   "source": [
    "## Subsetting Rows - Slicing"
   ]
  },
  {
   "cell_type": "code",
   "execution_count": null,
   "id": "18523cbd",
   "metadata": {},
   "outputs": [],
   "source": [
    "planes_df.loc[0:5]"
   ]
  },
  {
   "cell_type": "code",
   "execution_count": null,
   "id": "d0628d79",
   "metadata": {},
   "outputs": [],
   "source": [
    "planes_df.loc[[0, 2, 4, 6, 8]]"
   ]
  },
  {
   "cell_type": "markdown",
   "id": "a239b5e8",
   "metadata": {},
   "source": [
    "## Subsetting Rows - Filtering"
   ]
  },
  {
   "cell_type": "code",
   "execution_count": null,
   "id": "fab8d56c",
   "metadata": {},
   "outputs": [],
   "source": [
    "planes_df['manufacturer'] == 'EMBRAER'"
   ]
  },
  {
   "cell_type": "code",
   "execution_count": null,
   "id": "d1b3dcf7",
   "metadata": {},
   "outputs": [],
   "source": [
    "planes_df[planes_df['manufacturer'] == 'EMBRAER'].head()"
   ]
  },
  {
   "cell_type": "code",
   "execution_count": null,
   "id": "1b1a374a",
   "metadata": {},
   "outputs": [],
   "source": [
    "planes_df.loc[planes_df['manufacturer'] == 'EMBRAER'].head()"
   ]
  },
  {
   "cell_type": "code",
   "execution_count": null,
   "id": "a2489c81",
   "metadata": {},
   "outputs": [],
   "source": [
    "planes_df.loc[planes_df['year'] > 2002].head()"
   ]
  },
  {
   "cell_type": "code",
   "execution_count": null,
   "id": "432c085a",
   "metadata": {},
   "outputs": [],
   "source": [
    "planes_df.loc[(planes_df['year'] > 2002) & (planes_df['year'] < 2007)].head()"
   ]
  },
  {
   "cell_type": "code",
   "execution_count": null,
   "id": "b46035c2",
   "metadata": {},
   "outputs": [],
   "source": [
    "cond = (planes_df['year'] > 2002) & (planes_df['year'] < 2004)\n",
    "planes_df.loc[cond].head()"
   ]
  },
  {
   "cell_type": "markdown",
   "id": "dafe770f",
   "metadata": {},
   "source": [
    "## Selecting and Filtering Combined"
   ]
  },
  {
   "cell_type": "code",
   "execution_count": null,
   "id": "961fe85c",
   "metadata": {},
   "outputs": [],
   "source": [
    "planes_df_filtered = planes_df.loc[planes_df['manufacturer'] == 'EMBRAER']\n",
    "planes_df_filtered_and_selected = planes_df_filtered[['year', 'engines']]\n",
    "planes_df_filtered_and_selected.head()"
   ]
  },
  {
   "cell_type": "code",
   "execution_count": null,
   "id": "42d4ed7f",
   "metadata": {},
   "outputs": [],
   "source": [
    "planes_df.loc[planes_df['manufacturer'] == 'EMBRAER', ['year', 'engines']].head()"
   ]
  },
  {
   "cell_type": "code",
   "execution_count": null,
   "id": "17e3ad0e",
   "metadata": {},
   "outputs": [],
   "source": [
    "rows = planes_df['manufacturer'] == 'EMBRAER'\n",
    "cols = ['year', 'engines']\n",
    "planes_df.loc[rows, cols].head()"
   ]
  },
  {
   "cell_type": "markdown",
   "id": "2ec1aa70",
   "metadata": {},
   "source": [
    "## Views vs Copies"
   ]
  },
  {
   "cell_type": "code",
   "execution_count": null,
   "id": "38f78aa3",
   "metadata": {},
   "outputs": [],
   "source": [
    "tailnum_of_interest = planes_df['tailnum'] == 'N10156'\n",
    "planes_df[tailnum_of_interest]"
   ]
  },
  {
   "cell_type": "code",
   "execution_count": null,
   "id": "83a5e28a",
   "metadata": {},
   "outputs": [],
   "source": [
    "planes_df[tailnum_of_interest]['seats']"
   ]
  },
  {
   "cell_type": "code",
   "execution_count": null,
   "id": "ef899772",
   "metadata": {},
   "outputs": [],
   "source": [
    "planes_df.loc[tailnum_of_interest, 'seats'] = 60\n",
    "planes_df[tailnum_of_interest]"
   ]
  }
 ],
 "metadata": {
  "language_info": {
   "name": "python"
  }
 },
 "nbformat": 4,
 "nbformat_minor": 5
}
