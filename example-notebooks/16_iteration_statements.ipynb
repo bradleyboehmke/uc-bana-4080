{
 "cells": [
  {
   "cell_type": "markdown",
   "id": "b7f5f4d6",
   "metadata": {},
   "source": [
    "# Controlling Repetition with Iteration Statements\n",
    "\n",
    "<a href=\"https://colab.research.google.com/github/bradleyboehmke/uc-bana-4080/blob/main/example-notebooks/16_iteration_statements.ipynb\" target=\"_parent\"><img src=\"https://colab.research.google.com/assets/colab-badge.svg\" alt=\"Open In Colab\"/></a>\n",
    "\n",
    "This notebook accompanies [this textbook chapter](https://bradleyboehmke.github.io/uc-bana-4080/17-iteration-statements.html) and allows you to run the code examples interactively."
   ]
  },
  {
   "cell_type": "markdown",
   "id": "4a10d618",
   "metadata": {},
   "source": [
    "## Prerequisites"
   ]
  },
  {
   "cell_type": "code",
   "execution_count": null,
   "id": "bffce383",
   "metadata": {},
   "outputs": [],
   "source": [
    "import glob\n",
    "import os\n",
    "import random\n",
    "import pandas as pd"
   ]
  },
  {
   "cell_type": "markdown",
   "id": "e27380c0",
   "metadata": {},
   "source": [
    "## `for` loop"
   ]
  },
  {
   "cell_type": "code",
   "execution_count": null,
   "id": "a27141e7",
   "metadata": {},
   "outputs": [],
   "source": [
    "for number in range(10):\n",
    "    print(number)"
   ]
  },
  {
   "cell_type": "markdown",
   "id": "0f6da213",
   "metadata": {},
   "source": [
    "We can add multiple lines to our `for` loop; we just need to ensure that each line follows the same indentation patter:"
   ]
  },
  {
   "cell_type": "code",
   "execution_count": null,
   "id": "da9f4907",
   "metadata": {},
   "outputs": [],
   "source": [
    "for number in range(10):\n",
    "    squared = number * number\n",
    "    print(f'{number} squared = {squared}')"
   ]
  },
  {
   "cell_type": "markdown",
   "id": "25937ffd",
   "metadata": {},
   "source": [
    "Rather than just print out some result, we can also assign the computation to an object. For example, say we wanted to assign the squared result in the previous `for` loop to a dictionary where the key is the original number and the value is the squared value."
   ]
  },
  {
   "cell_type": "code",
   "execution_count": null,
   "id": "dcd69ee1",
   "metadata": {},
   "outputs": [],
   "source": [
    "squared_values = {}\n",
    "\n",
    "for number in range(10):\n",
    "    squared = number * number\n",
    "    squared_values[number] = squared\n",
    "\n",
    "squared_values"
   ]
  },
  {
   "cell_type": "markdown",
   "id": "c84c1090",
   "metadata": {},
   "source": [
    "## Controlling sequences"
   ]
  },
  {
   "cell_type": "markdown",
   "id": "2c8a420b",
   "metadata": {},
   "source": [
    "There are two ways to control the progression of a loop:\n",
    "\n",
    "* `continue`: terminates the current iteration and advances to the next.\n",
    "* `break`: exits the entire for loop.\n",
    "\n",
    "Both are used in conjunction with if statements. For example, this for loop will iterate for each element in `year`; however, when it gets to the element that equals the year of `covid` (2020) it will `break` out and end the for loop process."
   ]
  },
  {
   "cell_type": "code",
   "execution_count": null,
   "id": "f7a3f4fe",
   "metadata": {},
   "outputs": [],
   "source": [
    "# range will produce numbers starting at 2018 and up to but not include 2023\n",
    "years = range(2018, 2023)\n",
    "list(years)"
   ]
  },
  {
   "cell_type": "code",
   "execution_count": null,
   "id": "950475aa",
   "metadata": {},
   "outputs": [],
   "source": [
    "covid = 2020\n",
    "\n",
    "for year in years:\n",
    "    if year == covid: break\n",
    "    print(year)"
   ]
  },
  {
   "cell_type": "code",
   "execution_count": null,
   "id": "cc16dfc8",
   "metadata": {},
   "outputs": [],
   "source": [
    "for year in years:\n",
    "    if year == covid: continue\n",
    "    print(year)"
   ]
  },
  {
   "cell_type": "markdown",
   "id": "b672f76b",
   "metadata": {},
   "source": [
    "## List comprehensions"
   ]
  },
  {
   "cell_type": "markdown",
   "id": "988247b8",
   "metadata": {},
   "source": [
    "List comprehensions offer a shorthand syntax for `for` loops and are very common in the Python community. Although a little odd at first, the way to think of list comprehensions is as a backward `for` loop where we state the expression first, and then the sequence."
   ]
  },
  {
   "cell_type": "code",
   "execution_count": null,
   "id": "8f853c8e",
   "metadata": {},
   "outputs": [],
   "source": [
    "squared_values = []\n",
    "for number in range(5):\n",
    "    squared = number * number\n",
    "    squared_values.append(squared)\n",
    "\n",
    "squared_values"
   ]
  },
  {
   "cell_type": "markdown",
   "id": "313cd435",
   "metadata": {},
   "source": [
    "A list comprehension allows us to condense this pattern to a single line:"
   ]
  },
  {
   "cell_type": "code",
   "execution_count": null,
   "id": "dcb736bd",
   "metadata": {},
   "outputs": [],
   "source": [
    "squared_values = [number * number for number in range(5)]\n",
    "squared_values"
   ]
  },
  {
   "cell_type": "markdown",
   "id": "2e829315",
   "metadata": {},
   "source": [
    "List comprehensions even allow us to add conditional statements. For example, here we use a conditional statement to skip even numbers:"
   ]
  },
  {
   "cell_type": "code",
   "execution_count": null,
   "id": "f5c4f557",
   "metadata": {},
   "outputs": [],
   "source": [
    "squared_odd_values = [number * number for number in range(10) if number % 2 != 0]\n",
    "squared_odd_values"
   ]
  },
  {
   "cell_type": "markdown",
   "id": "dc7bf078",
   "metadata": {},
   "source": [
    "For more complex conditional statements, or if the list comprehension gets a bit long, we can use multiple lines to make it easier to digest:"
   ]
  },
  {
   "cell_type": "code",
   "execution_count": null,
   "id": "f3878929",
   "metadata": {},
   "outputs": [],
   "source": [
    "squared_certain_values = [\n",
    "    number * number for number in range(10)\n",
    "    if number % 2 != 0 and number != 5\n",
    "    ]\n",
    "\n",
    "squared_certain_values"
   ]
  },
  {
   "cell_type": "markdown",
   "id": "b5f466b2",
   "metadata": {},
   "source": [
    "There are other forms of comprehensions as well. For example, we can perform a dictionary comprehension where we follow the same patter; however, we use dict brackets (`{`) instead of list brackets (`[`):"
   ]
  },
  {
   "cell_type": "code",
   "execution_count": null,
   "id": "eca52c50",
   "metadata": {},
   "outputs": [],
   "source": [
    "squared_values_dict = {number: number*number for number in range(10)}\n",
    "squared_values_dict"
   ]
  },
  {
   "cell_type": "markdown",
   "id": "699bd623",
   "metadata": {},
   "source": [
    "## `while` loop"
   ]
  },
  {
   "cell_type": "markdown",
   "id": "3b5c1699",
   "metadata": {},
   "source": [
    "For example, the probability of flipping 10 coins and getting all heads or tails is $(\\frac{1}{2})^{10} = 0.0009765625$ (1 in 1024 tries). Let's implement this and see how many times it'll take to accomplish this feat.\n",
    "\n",
    "The following `while` statement will check if the number of unique values for 10 flips are 1, which implies that we flipped all heads or tails. If it is not equal to 1 then we repeat the process of flipping 10 coins and incrementing the number of tries. When our condition statement `ten_of_a_kind == True` then our while loop will stop."
   ]
  },
  {
   "cell_type": "code",
   "execution_count": null,
   "id": "3e2ef669",
   "metadata": {},
   "outputs": [],
   "source": [
    "# create a coin\n",
    "coin = ['heads', 'tails']\n",
    "\n",
    "# we'll use this to track how many tries it takes to get 10 heads or 10 tails\n",
    "n_tries = 0\n",
    "\n",
    "# signals if we got 10 heads or 10 tails\n",
    "ten_of_a_kind = False\n",
    "\n",
    "while not ten_of_a_kind:\n",
    "    # flip coin 10 times\n",
    "    ten_coin_flips = [random.choice(coin) for flip in range(11)]\n",
    "\n",
    "    # check if there\n",
    "    ten_of_a_kind = len(set(ten_coin_flips)) == 1\n",
    "\n",
    "    # add iteration to counter\n",
    "    n_tries += 1\n",
    "\n",
    "\n",
    "print(f'After {n_tries} flips: {ten_coin_flips}')"
   ]
  },
  {
   "cell_type": "markdown",
   "id": "ee2639fa",
   "metadata": {},
   "source": [
    "## Iterables"
   ]
  },
  {
   "cell_type": "markdown",
   "id": "881b3c06",
   "metadata": {},
   "source": [
    "Python strongly leverages the concept of _iterable objects_. An object is considered _iterable_ if it is either a physically stored sequence, or an object that produces one result at a time in the context of an interation tool like a `for` loop. Up to this point, our example looping structures have primarily iterated over a DataFrame or a list.\n",
    "\n",
    "When our `for` loop iterates over a DataFrame, underneath the hood it is first accessing the iterable object, and then iterating over each item. As the following illustrates, the default iterable components of a DataFrame are the columns:"
   ]
  },
  {
   "cell_type": "code",
   "execution_count": null,
   "id": "607a5556",
   "metadata": {},
   "outputs": [],
   "source": [
    "df = pd.DataFrame({'col1': [1, 2, 3], 'col2': [3, 4, 5], 'col3': [6, 6, 6]})\n",
    "\n",
    "I = df.__iter__() # access iterable object\n",
    "print(next(I))    # first iteration\n",
    "print(next(I))    # second iteration\n",
    "print(next(I))    # third iteration"
   ]
  },
  {
   "cell_type": "markdown",
   "id": "15039b6f",
   "metadata": {},
   "source": [
    "When our `for` loop iterates over a list, the same procedure unfolds. Note that when no more items are available to iterate over, a `StopIteration` is thrown which signals to our `for` loop that no more itertions should be performed."
   ]
  },
  {
   "cell_type": "code",
   "execution_count": null,
   "id": "74c656d4",
   "metadata": {},
   "outputs": [],
   "source": [
    "names = ['Robert', 'Sandy', 'John', 'Patrick']\n",
    "\n",
    "I = names.__iter__() # access iterable object\n",
    "print(next(I))       # first iteration\n",
    "print(next(I))       # second iteration\n",
    "print(next(I))       # third iteration\n",
    "print(next(I))       # fourth iteration\n",
    "print(next(I))       # no more items"
   ]
  },
  {
   "cell_type": "markdown",
   "id": "ba5c6258",
   "metadata": {},
   "source": [
    "Dictionaries and tuples are also iterable objects. Iterating over dictionary automatically returns one key at a time, which allows us to have the key and index for that key at the same time:"
   ]
  },
  {
   "cell_type": "code",
   "execution_count": null,
   "id": "a00c50ff",
   "metadata": {},
   "outputs": [],
   "source": [
    "D = {'a':1, 'b':2, 'c':3}\n",
    "\n",
    "I = D.__iter__()  # access iterable object\n",
    "print(next(I))    # first iteration\n",
    "print(next(I))    # second iteration\n",
    "print(next(I))    # third iteration"
   ]
  },
  {
   "cell_type": "code",
   "execution_count": null,
   "id": "3d399d66",
   "metadata": {},
   "outputs": [],
   "source": [
    "for key in D:\n",
    "    print(key, D[key])"
   ]
  },
  {
   "cell_type": "markdown",
   "id": "1751ef96",
   "metadata": {},
   "source": [
    "Although using these iterables in a for loop is quite common, you will often see two other approaches which include the iterables `range()` and `enumerate()`. range is often used to generate indexes in a for loop but you can use it anywhere you need a series of integers. However, range is an iterable that generates items on demand:"
   ]
  },
  {
   "cell_type": "code",
   "execution_count": null,
   "id": "b08dcab5",
   "metadata": {},
   "outputs": [],
   "source": [
    "values = range(5)\n",
    "\n",
    "I = values.__iter__()\n",
    "print(next(I))\n",
    "print(next(I))\n",
    "print(next(I))"
   ]
  },
  {
   "cell_type": "markdown",
   "id": "aae2be30",
   "metadata": {},
   "source": [
    "So if you wanted to iterate over each column in our DataFrame, an alternative is to use range. In this example, range produces the numeric index for each column so we simply use that value to index for the column within the for loop:"
   ]
  },
  {
   "cell_type": "code",
   "execution_count": null,
   "id": "24cdf07c",
   "metadata": {},
   "outputs": [],
   "source": [
    "unique_values = []\n",
    "for col in range(len(df.columns)):\n",
    "  value = df.iloc[:, col].nunique()\n",
    "  unique_values.append(value)\n",
    "\n",
    "unique_values"
   ]
  },
  {
   "cell_type": "markdown",
   "id": "460c0747",
   "metadata": {},
   "source": [
    "Another common iterator you will see is `enumerate`. Actually, the `enumerate` function returns a **generator object**, which also supports this iterator concept. The benefit of `enumerate` is that it returns a (index, value) tuple each time through the loop:"
   ]
  },
  {
   "cell_type": "code",
   "execution_count": null,
   "id": "19de6429",
   "metadata": {},
   "outputs": [],
   "source": [
    "E = enumerate(df) # access iterable object\n",
    "print(next(E))    # first iteration\n",
    "print(next(E))    # second iteration\n",
    "print(next(E))    # third iteration"
   ]
  },
  {
   "cell_type": "markdown",
   "id": "13b599a4",
   "metadata": {},
   "source": [
    "The `for` loop steps through these tuples automatically and allows us to unpack their values with tuple assignment in the header of the `for` loop. In the following example, we unpack the tuples into the variables `index` and `col` and we can now use both of these values however necessary in a for loop."
   ]
  },
  {
   "cell_type": "code",
   "execution_count": null,
   "id": "8e8be190",
   "metadata": {},
   "outputs": [],
   "source": [
    "for index, col in enumerate(df):\n",
    "    print(f'{index} - {col}')"
   ]
  },
  {
   "cell_type": "markdown",
   "id": "865e3d66",
   "metadata": {},
   "source": [
    "## Exercise: Practicing Looping and Iteration Patterns"
   ]
  },
  {
   "cell_type": "markdown",
   "id": "6bb14673",
   "metadata": {},
   "source": [
    "In this exercise set, you’ll practice using `for` loops, `while` loops, conditional logic, and comprehensions. These tasks will help you build fluency with the iteration patterns that show up frequently in data wrangling and automation tasks.a"
   ]
  },
  {
   "cell_type": "markdown",
   "id": "7a0368f5",
   "metadata": {},
   "source": [
    "## 1. Filter Capitalized Names with a Comprehension"
   ]
  },
  {
   "cell_type": "markdown",
   "id": "77d314de",
   "metadata": {},
   "source": [
    "Use the list of names below to write a **list comprehension** that returns only the values that start with a capital letter (i.e. a \"title case\" word)."
   ]
  },
  {
   "cell_type": "code",
   "execution_count": null,
   "id": "505cf081",
   "metadata": {},
   "outputs": [],
   "source": [
    "python\n",
    "names = ['Steve Irwin', 'koala', 'kangaroo', 'Australia', 'Sydney', 'desert']"
   ]
  },
  {
   "cell_type": "markdown",
   "id": "83146e15",
   "metadata": {},
   "source": [
    "*Hint: Try using the `.istitle()` method.*\n",
    "\n",
    "Which names are included in the result?"
   ]
  },
  {
   "cell_type": "markdown",
   "id": "ba218ba7",
   "metadata": {},
   "source": [
    "## 2. Generate the Fibonacci Sequence"
   ]
  },
  {
   "cell_type": "markdown",
   "id": "5f257189",
   "metadata": {},
   "source": [
    "The **Fibonacci Sequence** starts with the numbers 0 and 1, and each subsequent number is the sum of the two previous numbers. For example:\n",
    "`[0, 1, 1, 2, 3, 5, 8, 13, 21, 34, ...]`\n",
    "\n",
    "Write a `for` loop that generates the **first 25 Fibonacci numbers** and stores them in a list."
   ]
  },
  {
   "cell_type": "markdown",
   "id": "f1f54684",
   "metadata": {},
   "source": [
    "## 3. Sum with Conditional Skip"
   ]
  },
  {
   "cell_type": "markdown",
   "id": "bfe2dda9",
   "metadata": {},
   "source": [
    "Write a `for` loop that computes the sum of all numbers from 0 through 100, **excluding** the numbers in the list below:"
   ]
  },
  {
   "cell_type": "code",
   "execution_count": null,
   "id": "954c0fc8",
   "metadata": {},
   "outputs": [],
   "source": [
    "python\n",
    "skip_these_numbers = [8, 29, 43, 68, 98]"
   ]
  },
  {
   "cell_type": "markdown",
   "id": "95f5e31d",
   "metadata": {},
   "source": [
    "Tip: Use a `continue` statement to skip over those values. What is the resulting sum?"
   ]
  }
 ],
 "metadata": {
  "language_info": {
   "name": "python"
  }
 },
 "nbformat": 4,
 "nbformat_minor": 5
}
