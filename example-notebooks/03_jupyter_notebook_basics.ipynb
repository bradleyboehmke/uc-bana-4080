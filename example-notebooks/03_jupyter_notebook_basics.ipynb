{
 "cells": [
  {
   "cell_type": "markdown",
   "metadata": {},
   "source": [
    "<a href=\"https://colab.research.google.com/github/bradleyboehmke/uc-bana-4080/blob/main/example-notebooks/03_jupyter_notebook_basics.ipynb\" target=\"_parent\"><img src=\"https://colab.research.google.com/assets/colab-badge.svg\" alt=\"Open In Colab\"/></a>\n"
   ]
  },
  {
   "cell_type": "markdown",
   "metadata": {},
   "source": [
    "# Getting Started with Jupyter Notebooks\n",
    "\n",
    "This notebook is designed to help you practice:\n",
    "- Creating and running Python code cells\n",
    "- Writing and formatting Markdown\n",
    "- Understanding how notebook state and cell order affect execution\n",
    "- Running Python scripts within notebooks"
   ]
  },
  {
   "cell_type": "markdown",
   "metadata": {},
   "source": [
    "## ✍️ Markdown Practice\n",
    "Write a short sentence in Markdown below. Then run the cell to see it rendered."
   ]
  },
  {
   "cell_type": "markdown",
   "metadata": {},
   "source": [
    "Today I'm learning about **Jupyter notebooks**! 🎉"
   ]
  },
  {
   "cell_type": "code",
   "execution_count": null,
   "metadata": {},
   "outputs": [],
   "source": [
    "# Define a variable and print it\n",
    "x = 5\n",
    "print(f'The value of x is {x}')"
   ]
  },
  {
   "cell_type": "markdown",
   "metadata": {},
   "source": [
    "## 📋 Markdown Formatting Challenge\n",
    "\n",
    "Try editing and running this Markdown cell:"
   ]
  },
  {
   "cell_type": "markdown",
   "metadata": {},
   "source": [
    "### Grocery List\n",
    "- Popcorn\n",
    "- Chocolate\n",
    "- Soda\n",
    "\n",
    "Equation for area of a circle:  \n",
    "$A = \\pi r^2$"
   ]
  },
  {
   "cell_type": "markdown",
   "metadata": {},
   "source": [
    "## ⚠️ Execution Order Exploration\n",
    "Try running this code cell **before** running the one below it. What happens?"
   ]
  },
  {
   "cell_type": "code",
   "execution_count": null,
   "metadata": {},
   "outputs": [],
   "source": [
    "print(message)  # Try running this before the next cell"
   ]
  },
  {
   "cell_type": "code",
   "execution_count": null,
   "metadata": {},
   "outputs": [],
   "source": [
    "message = \"Hello from below!\""
   ]
  },
  {
   "cell_type": "markdown",
   "metadata": {},
   "source": [
    "## 🧪 Running a Python Script\n",
    "You can run external Python scripts from your notebook. First, ensure [`my_first_script.py`](https://colab.research.google.com/github/bradleyboehmke/uc-bana-4080/blob/main/example-notebooks/my_first_script.py) is in the same directory, then run the following:"
   ]
  },
  {
   "cell_type": "code",
   "execution_count": null,
   "metadata": {},
   "outputs": [],
   "source": [
    "%run my_first_script.py"
   ]
  },
  {
   "cell_type": "markdown",
   "metadata": {},
   "source": [
    "## ✅ Best Practices\n",
    "- Use Markdown to explain your logic\n",
    "- Keep cells short and readable\n",
    "- Restart and run all before sharing\n",
    "- Clear outputs before submission\n"
   ]
  },
  {
   "cell_type": "markdown",
   "metadata": {},
   "source": [
    "## ✅ Wrap-Up\n",
    "You've just practiced core skills that will make your notebooks more powerful, professional, and understandable.\n",
    "\n",
    "Ready to build data stories!"
   ]
  }
 ],
 "metadata": {
  "colab": {
   "name": "jupyter_notebook_basics.ipynb",
   "provenance": []
  },
  "kernelspec": {
   "display_name": "Python 3",
   "language": "python",
   "name": "python3"
  },
  "language_info": {
   "name": "python",
   "version": "3.10"
  }
 },
 "nbformat": 4,
 "nbformat_minor": 0
}
