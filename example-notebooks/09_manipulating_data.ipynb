{
 "cells": [
  {
   "cell_type": "markdown",
   "id": "cb2bd7c7",
   "metadata": {},
   "source": [
    "<a href=\"https://colab.research.google.com/github/bradleyboehmke/uc-bana-4080/blob/main/example-notebooks/09_manipulating_data.ipynb\" target=\"_parent\"><img src=\"https://colab.research.google.com/assets/colab-badge.svg\" alt=\"Open In Colab\"/></a>"
   ]
  },
  {
   "cell_type": "markdown",
   "id": "a1700973",
   "metadata": {},
   "source": [
    "# Chapter: Manipulating Data\n",
    "This notebook accompanies the BANA 4080 textbook chapter on manipulating data using pandas."
   ]
  },
  {
   "cell_type": "markdown",
   "id": "97da9070",
   "metadata": {},
   "source": [
    "## Loading the Ames Housing Data"
   ]
  },
  {
   "cell_type": "code",
   "execution_count": null,
   "id": "79c8cf2f",
   "metadata": {},
   "outputs": [],
   "source": [
    "import pandas as pd\n",
    "\n",
    "data_url = 'https://raw.githubusercontent.com/bradleyboehmke/uc-bana-4080/refs/heads/main/data/ames_raw.csv'\n",
    "ames = pd.read_csv(data_url)\n",
    "ames.head()"
   ]
  },
  {
   "cell_type": "markdown",
   "id": "7541d335",
   "metadata": {},
   "source": [
    "## Renaming Columns\n",
    "Standardizing column names using `.rename()` and `.str` string methods."
   ]
  },
  {
   "cell_type": "code",
   "execution_count": null,
   "id": "74c59f8b",
   "metadata": {},
   "outputs": [],
   "source": [
    "ames = ames.rename(columns={'MS SubClass': 'ms_subclass', 'MS Zoning': 'ms_zoning'})\n",
    "ames.head()"
   ]
  },
  {
   "cell_type": "code",
   "execution_count": null,
   "id": "bc71ae6d",
   "metadata": {},
   "outputs": [],
   "source": [
    "ames.columns = ames.columns.str.lower().str.replace(' ', '_')\n",
    "ames.head()"
   ]
  },
  {
   "cell_type": "markdown",
   "id": "c9ebc972",
   "metadata": {},
   "source": [
    "## Performing Calculations with Columns\n",
    "Creating new columns using scalar and vector operations."
   ]
  },
  {
   "cell_type": "code",
   "execution_count": null,
   "id": "14ea023b",
   "metadata": {},
   "outputs": [],
   "source": [
    "ames['sale_price_k'] = ames['saleprice'] / 1000\n",
    "ames.head()"
   ]
  },
  {
   "cell_type": "code",
   "execution_count": null,
   "id": "d036df09",
   "metadata": {},
   "outputs": [],
   "source": [
    "(ames['saleprice'] - 12).head()"
   ]
  },
  {
   "cell_type": "code",
   "execution_count": null,
   "id": "5822cea3",
   "metadata": {},
   "outputs": [],
   "source": [
    "(ames['saleprice'] * 10).head()"
   ]
  },
  {
   "cell_type": "code",
   "execution_count": null,
   "id": "d6b63683",
   "metadata": {},
   "outputs": [],
   "source": [
    "(ames['saleprice'] ** 2).head()"
   ]
  },
  {
   "cell_type": "markdown",
   "id": "a37ab8ba",
   "metadata": {},
   "source": [
    "## Removing Columns"
   ]
  },
  {
   "cell_type": "code",
   "execution_count": null,
   "id": "cd59572a",
   "metadata": {},
   "outputs": [],
   "source": [
    "ames = ames.drop(columns=['order', 'sale_price_k'])\n",
    "ames.head()"
   ]
  },
  {
   "cell_type": "markdown",
   "id": "6d4127b1",
   "metadata": {},
   "source": [
    "## Calculating with Multiple Columns"
   ]
  },
  {
   "cell_type": "code",
   "execution_count": null,
   "id": "659c43de",
   "metadata": {},
   "outputs": [],
   "source": [
    "ames['price_per_sqft'] = ames['saleprice'] / ames['gr_liv_area']\n",
    "ames.head()"
   ]
  },
  {
   "cell_type": "code",
   "execution_count": null,
   "id": "88bc67d9",
   "metadata": {},
   "outputs": [],
   "source": [
    "ames['nonsense'] = (ames['yr_sold'] + 12) * ames['gr_liv_area'] + ames['lot_area'] - 50\n",
    "ames.head()"
   ]
  },
  {
   "cell_type": "markdown",
   "id": "800c5c07",
   "metadata": {},
   "source": [
    "## Working with Non-Numeric (String) Columns"
   ]
  },
  {
   "cell_type": "code",
   "execution_count": null,
   "id": "6e997df5",
   "metadata": {},
   "outputs": [],
   "source": [
    "'Home in ' + ames['neighborhood'] + ' neighborhood sold under ' + ames['sale_condition'] + ' condition'"
   ]
  },
  {
   "cell_type": "code",
   "execution_count": null,
   "id": "8e058679",
   "metadata": {},
   "outputs": [],
   "source": [
    "ames['neighborhood'].str.len()"
   ]
  },
  {
   "cell_type": "code",
   "execution_count": null,
   "id": "9276e496",
   "metadata": {},
   "outputs": [],
   "source": [
    "ames['garage_type'].str.lower().str.replace('tchd', 'tached')"
   ]
  },
  {
   "cell_type": "markdown",
   "id": "a61fcb0c",
   "metadata": {},
   "source": [
    "## Replacing Values Using a Mapping"
   ]
  },
  {
   "cell_type": "code",
   "execution_count": null,
   "id": "218deaff",
   "metadata": {},
   "outputs": [],
   "source": [
    "value_mapping = {1: 'Jan', 2: 'Feb', 3: 'Mar', 4: 'Apr', 5: 'May', 6: 'Jun',\n",
    "                 7: 'Jul', 8: 'Aug', 9: 'Sep', 10: 'Oct', 11: 'Nov', 12: 'Dec'}"
   ]
  },
  {
   "cell_type": "code",
   "execution_count": null,
   "id": "656af414",
   "metadata": {},
   "outputs": [],
   "source": [
    "ames['mo_sold'] = ames['mo_sold'].replace(value_mapping)\n",
    "ames['mo_sold'].head()"
   ]
  },
  {
   "cell_type": "markdown",
   "id": "20609507",
   "metadata": {},
   "source": [
    "## Handling Missing Values"
   ]
  },
  {
   "cell_type": "code",
   "execution_count": null,
   "id": "78c441be",
   "metadata": {},
   "outputs": [],
   "source": [
    "ames.isnull().sum()"
   ]
  },
  {
   "cell_type": "code",
   "execution_count": null,
   "id": "ee1a379e",
   "metadata": {},
   "outputs": [],
   "source": [
    "ames.info()"
   ]
  },
  {
   "cell_type": "code",
   "execution_count": null,
   "id": "46cc7667",
   "metadata": {},
   "outputs": [],
   "source": [
    "missing = ames.isnull().any()\n",
    "ames[missing[missing].index]"
   ]
  },
  {
   "cell_type": "markdown",
   "id": "66be8091",
   "metadata": {},
   "source": [
    "## Visualizing Missing Data"
   ]
  },
  {
   "cell_type": "code",
   "execution_count": null,
   "id": "0ea4f4e5",
   "metadata": {},
   "outputs": [],
   "source": [
    "import seaborn as sns\n",
    "sns.set(rc={'figure.figsize':(12, 8)})"
   ]
  },
  {
   "cell_type": "code",
   "execution_count": null,
   "id": "d3126c3d",
   "metadata": {},
   "outputs": [],
   "source": [
    "ames_missing = ames[missing[missing].index]\n",
    "sns.heatmap(ames_missing.isnull(), cmap='viridis', cbar=False);"
   ]
  },
  {
   "cell_type": "markdown",
   "id": "4fa0066f",
   "metadata": {},
   "source": [
    "## Imputing Missing Values"
   ]
  },
  {
   "cell_type": "code",
   "execution_count": null,
   "id": "97e6a128",
   "metadata": {},
   "outputs": [],
   "source": [
    "import numpy as np\n",
    "\n",
    "df = pd.DataFrame([[np.nan, 2, np.nan, 0],\n",
    "                   [3, 4, np.nan, 1],\n",
    "                   [np.nan, np.nan, np.nan, 5],\n",
    "                   [np.nan, 3, np.nan, 4]],\n",
    "                  columns=list('ABCD'))\n",
    "df"
   ]
  },
  {
   "cell_type": "code",
   "execution_count": null,
   "id": "71fa751a",
   "metadata": {},
   "outputs": [],
   "source": [
    "df.fillna(0)"
   ]
  },
  {
   "cell_type": "code",
   "execution_count": null,
   "id": "11c69aa2",
   "metadata": {},
   "outputs": [],
   "source": [
    "df.fillna(df.mean())"
   ]
  },
  {
   "cell_type": "code",
   "execution_count": null,
   "id": "8c73207c",
   "metadata": {},
   "outputs": [],
   "source": [
    "df.bfill()"
   ]
  },
  {
   "cell_type": "code",
   "execution_count": null,
   "id": "c34e8a83",
   "metadata": {},
   "outputs": [],
   "source": [
    "df.ffill()"
   ]
  },
  {
   "cell_type": "markdown",
   "id": "f950d64c",
   "metadata": {},
   "source": [
    "## Applying Custom Functions"
   ]
  },
  {
   "cell_type": "code",
   "execution_count": null,
   "id": "afe873bc",
   "metadata": {},
   "outputs": [],
   "source": [
    "def is_luxury_home(x):\n",
    "    return 'Luxury' if x > 500000 else 'Non-luxury'\n",
    "\n",
    "ames['saleprice'].apply(is_luxury_home)"
   ]
  },
  {
   "cell_type": "code",
   "execution_count": null,
   "id": "2cb21810",
   "metadata": {},
   "outputs": [],
   "source": [
    "ames['saleprice'].apply(lambda x: 'Luxury' if x > 500000 else 'Non-luxury')"
   ]
  },
  {
   "cell_type": "code",
   "execution_count": null,
   "id": "eaa720d7",
   "metadata": {},
   "outputs": [],
   "source": [
    "def is_luxury_home(x, price):\n",
    "    return 'Luxury' if x > price else 'Non-luxury'\n",
    "\n",
    "ames['saleprice'].apply(is_luxury_home, price=200000)"
   ]
  },
  {
   "cell_type": "code",
   "execution_count": null,
   "id": "cec447d4",
   "metadata": {},
   "outputs": [],
   "source": [
    "def convert_to_sq_meters(x):\n",
    "    return x * 0.092903\n",
    "\n",
    "ames[['gr_liv_area', 'garage_area', 'lot_area']].map(convert_to_sq_meters)"
   ]
  }
 ],
 "metadata": {
  "kernelspec": {
   "display_name": "venv",
   "language": "python",
   "name": "python3"
  },
  "language_info": {
   "codemirror_mode": {
    "name": "ipython",
    "version": 3
   },
   "file_extension": ".py",
   "mimetype": "text/x-python",
   "name": "python",
   "nbconvert_exporter": "python",
   "pygments_lexer": "ipython3",
   "version": "3.9.6"
  }
 },
 "nbformat": 4,
 "nbformat_minor": 5
}
