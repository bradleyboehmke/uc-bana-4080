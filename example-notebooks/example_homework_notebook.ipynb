{
 "cells": [
  {
   "cell_type": "markdown",
   "id": "cell-0",
   "metadata": {},
   "source": [
    "# Homework 1\n",
    "\n",
    "<a href=\"https://colab.research.google.com/github/bradleyboehmke/uc-bana-4080/blob/main/example-notebooks/example_homework_notebook.ipynb\" target=\"_parent\"><img src=\"https://colab.research.google.com/assets/colab-badge.svg\" alt=\"Open In Colab\"/></a>\n",
    "\n",
    "**Course:** BANA 4080 - Introduction to Data Mining with Python (Section 1)  \n",
    "**Student:** Alex Johnson  \n",
    "**Date:** February 2024  \n",
    "**Instructor:** Dr. Brad Boehmke"
   ]
  },
  {
   "cell_type": "markdown",
   "id": "cell-1",
   "metadata": {},
   "source": [
    "## Question 1: Pizza Cost Analysis\n",
    "\n",
    "**Problem:** A 12-inch pizza costs $8. Calculate the cost per square inch.\n",
    "\n",
    "**Solution Approach:** \n",
    "1. Calculate the area of the pizza using the formula: Area = π × r²\n",
    "2. Divide the total cost by the area to get cost per square inch"
   ]
  },
  {
   "cell_type": "code",
   "execution_count": 1,
   "id": "cell-2",
   "metadata": {},
   "outputs": [
    {
     "name": "stdout",
     "output_type": "stream",
     "text": [
      "Pizza radius: 6.0 inches\n",
      "Pizza area: 113.10 square inches\n",
      "Cost per square inch: $0.0707\n"
     ]
    }
   ],
   "source": [
    "import math\n",
    "\n",
    "# Given information\n",
    "pizza_diameter = 12  # inches\n",
    "pizza_cost = 8  # dollars\n",
    "\n",
    "# Calculate radius\n",
    "radius = pizza_diameter / 2\n",
    "print(f\"Pizza radius: {radius} inches\")\n",
    "\n",
    "# Calculate area\n",
    "area = math.pi * radius**2\n",
    "print(f\"Pizza area: {area:.2f} square inches\")\n",
    "\n",
    "# Calculate cost per square inch\n",
    "cost_per_sq_inch = pizza_cost / area\n",
    "print(f\"Cost per square inch: ${cost_per_sq_inch:.4f}\")"
   ]
  },
  {
   "cell_type": "markdown",
   "id": "cell-3",
   "metadata": {},
   "source": [
    "**Answer:** The cost per square inch of the 12-inch pizza is approximately $0.0707."
   ]
  },
  {
   "cell_type": "markdown",
   "id": "cell-4",
   "metadata": {},
   "source": [
    "## Question 2: Compound Interest Calculation\n",
    "\n",
    "**Problem:** If you invest $1,000 at 5% annual interest compounded annually, how much will you have after 10 years?\n",
    "\n",
    "**Solution Approach:** Use the compound interest formula: A = P(1 + r)^t\n",
    "- A = final amount\n",
    "- P = principal ($1,000)\n",
    "- r = interest rate (0.05)\n",
    "- t = time in years (10)"
   ]
  },
  {
   "cell_type": "code",
   "execution_count": 2,
   "id": "cell-5",
   "metadata": {},
   "outputs": [
    {
     "name": "stdout",
     "output_type": "stream",
     "text": [
      "Initial investment: $1,000.00\n",
      "Interest rate: 5.0% annually\n",
      "Time period: 10 years\n",
      "Final amount: $1,628.89\n",
      "Interest earned: $628.89\n"
     ]
    }
   ],
   "source": [
    "# Given values\n",
    "principal = 1000  # dollars\n",
    "interest_rate = 0.05  # 5% as decimal\n",
    "years = 10\n",
    "\n",
    "# Calculate compound interest\n",
    "final_amount = principal * (1 + interest_rate)**years\n",
    "\n",
    "print(f\"Initial investment: ${principal:,.2f}\")\n",
    "print(f\"Interest rate: {interest_rate*100}% annually\")\n",
    "print(f\"Time period: {years} years\")\n",
    "print(f\"Final amount: ${final_amount:,.2f}\")\n",
    "\n",
    "# Calculate total interest earned\n",
    "interest_earned = final_amount - principal\n",
    "print(f\"Interest earned: ${interest_earned:,.2f}\")"
   ]
  },
  {
   "cell_type": "markdown",
   "id": "cell-6",
   "metadata": {},
   "source": [
    "**Answer:** After 10 years, the investment will grow to $1,628.89, earning $628.89 in interest."
   ]
  },
  {
   "cell_type": "markdown",
   "id": "cell-7",
   "metadata": {},
   "source": [
    "## Question 3: Grade Point Average (GPA) Calculation\n",
    "\n",
    "**Problem:** Calculate the GPA for a student with the following grades and credit hours:\n",
    "- Math (4 credits): A (4.0 points)\n",
    "- English (3 credits): B+ (3.3 points)\n",
    "- History (3 credits): A- (3.7 points)\n",
    "- Science (4 credits): B (3.0 points)\n",
    "\n",
    "**Solution Approach:** GPA = (Sum of grade points × credits) / Total credits"
   ]
  },
  {
   "cell_type": "code",
   "execution_count": 3,
   "id": "cell-8",
   "metadata": {},
   "outputs": [
    {
     "name": "stdout",
     "output_type": "stream",
     "text": [
      "Course Summary:\n",
      "----------------------------------------\n",
      "Math       4 credits × 4.0 =   16.0 points\n",
      "English    3 credits × 3.3 =    9.9 points\n",
      "History    3 credits × 3.7 =   11.1 points\n",
      "Science    4 credits × 3.0 =   12.0 points\n",
      "----------------------------------------\n",
      "Total: 14 credits, 49.0 points\n",
      "\n",
      "GPA: 3.500\n"
     ]
    }
   ],
   "source": [
    "# Course data: (course_name, credits, grade_points)\n",
    "courses = [\n",
    "    (\"Math\", 4, 4.0),\n",
    "    (\"English\", 3, 3.3),\n",
    "    (\"History\", 3, 3.7),\n",
    "    (\"Science\", 4, 3.0)\n",
    "]\n",
    "\n",
    "total_points = 0\n",
    "total_credits = 0\n",
    "\n",
    "print(\"Course Summary:\")\n",
    "print(\"-\" * 40)\n",
    "\n",
    "for course_name, credits, grade_points in courses:\n",
    "    points_earned = credits * grade_points\n",
    "    total_points += points_earned\n",
    "    total_credits += credits\n",
    "    \n",
    "    print(f\"{course_name:<10} {credits} credits × {grade_points} = {points_earned:>6.1f} points\")\n",
    "\n",
    "print(\"-\" * 40)\n",
    "print(f\"Total: {total_credits} credits, {total_points:.1f} points\")\n",
    "\n",
    "# Calculate GPA\n",
    "gpa = total_points / total_credits\n",
    "print(f\"\\nGPA: {gpa:.3f}\")"
   ]
  },
  {
   "cell_type": "markdown",
   "id": "cell-9",
   "metadata": {},
   "source": [
    "**Answer:** The student's GPA is 3.543."
   ]
  },
  {
   "cell_type": "markdown",
   "id": "cell-10",
   "metadata": {},
   "source": [
    "## Question 4: Sales Tax and Total Cost\n",
    "\n",
    "**Problem:** You're buying a laptop that costs $899 before tax. If the sales tax rate is 8.25%, what is the total amount you'll pay?\n",
    "\n",
    "**Solution Approach:** \n",
    "1. Calculate the tax amount: price × tax_rate\n",
    "2. Add tax to the original price for the total cost"
   ]
  },
  {
   "cell_type": "code",
   "execution_count": 4,
   "id": "cell-11",
   "metadata": {},
   "outputs": [
    {
     "name": "stdout",
     "output_type": "stream",
     "text": [
      "Laptop price: $899.00\n",
      "Tax rate: 8.25%\n",
      "Sales tax: $74.17\n",
      "Total cost: $973.17\n",
      "\n",
      "Verification (direct calculation): $973.17\n"
     ]
    }
   ],
   "source": [
    "# Given information\n",
    "laptop_price = 899.00  # dollars\n",
    "tax_rate = 0.0825  # 8.25% as decimal\n",
    "\n",
    "# Calculate sales tax\n",
    "sales_tax = laptop_price * tax_rate\n",
    "\n",
    "# Calculate total cost\n",
    "total_cost = laptop_price + sales_tax\n",
    "\n",
    "print(f\"Laptop price: ${laptop_price:,.2f}\")\n",
    "print(f\"Tax rate: {tax_rate*100}%\")\n",
    "print(f\"Sales tax: ${sales_tax:,.2f}\")\n",
    "print(f\"Total cost: ${total_cost:,.2f}\")\n",
    "\n",
    "# Alternative calculation (direct method)\n",
    "total_alternative = laptop_price * (1 + tax_rate)\n",
    "print(f\"\\nVerification (direct calculation): ${total_alternative:,.2f}\")"
   ]
  },
  {
   "cell_type": "markdown",
   "id": "cell-12",
   "metadata": {},
   "source": [
    "**Answer:** The total amount to pay for the laptop including 8.25% sales tax is $973.17."
   ]
  },
  {
   "cell_type": "markdown",
   "id": "cell-13",
   "metadata": {},
   "source": [
    "## Question 5: Fuel Efficiency Comparison\n",
    "\n",
    "**Problem:** Two cars are being compared:\n",
    "- Car A: Travels 420 miles on 12 gallons of gas\n",
    "- Car B: Travels 380 miles on 10 gallons of gas\n",
    "\n",
    "Which car is more fuel efficient (better miles per gallon)? What's the difference in efficiency?\n",
    "\n",
    "**Solution Approach:** Calculate miles per gallon (MPG) for each car and compare."
   ]
  },
  {
   "cell_type": "code",
   "execution_count": 5,
   "id": "cell-14",
   "metadata": {},
   "outputs": [
    {
     "name": "stdout",
     "output_type": "stream",
     "text": [
      "Fuel Efficiency Comparison:\n",
      "==============================\n",
      "Car A: 420 miles ÷ 12 gallons = 35.00 MPG\n",
      "Car B: 380 miles ÷ 10 gallons = 38.00 MPG\n",
      "\n",
      "Result: Car B is more fuel efficient\n",
      "Efficiency difference: 3.00 MPG\n"
     ]
    }
   ],
   "source": [
    "# Car A data\n",
    "car_a_miles = 420\n",
    "car_a_gallons = 12\n",
    "\n",
    "# Car B data\n",
    "car_b_miles = 380\n",
    "car_b_gallons = 10\n",
    "\n",
    "# Calculate MPG for each car\n",
    "car_a_mpg = car_a_miles / car_a_gallons\n",
    "car_b_mpg = car_b_miles / car_b_gallons\n",
    "\n",
    "print(\"Fuel Efficiency Comparison:\")\n",
    "print(\"=\" * 30)\n",
    "print(f\"Car A: {car_a_miles} miles ÷ {car_a_gallons} gallons = {car_a_mpg:.2f} MPG\")\n",
    "print(f\"Car B: {car_b_miles} miles ÷ {car_b_gallons} gallons = {car_b_mpg:.2f} MPG\")\n",
    "\n",
    "# Determine which is more efficient\n",
    "if car_a_mpg > car_b_mpg:\n",
    "    better_car = \"Car A\"\n",
    "    mpg_difference = car_a_mpg - car_b_mpg\n",
    "elif car_b_mpg > car_a_mpg:\n",
    "    better_car = \"Car B\"\n",
    "    mpg_difference = car_b_mpg - car_a_mpg\n",
    "else:\n",
    "    better_car = \"Both cars have equal efficiency\"\n",
    "    mpg_difference = 0\n",
    "\n",
    "print(f\"\\nResult: {better_car} is more fuel efficient\")\n",
    "if mpg_difference > 0:\n",
    "    print(f\"Efficiency difference: {mpg_difference:.2f} MPG\")"
   ]
  },
  {
   "cell_type": "markdown",
   "id": "cell-15",
   "metadata": {},
   "source": [
    "**Answer:** Car B is more fuel efficient with 38.00 MPG compared to Car A's 35.00 MPG. Car B has a 3.00 MPG advantage over Car A."
   ]
  },
  {
   "cell_type": "markdown",
   "id": "cell-16",
   "metadata": {},
   "source": [
    "## Summary\n",
    "\n",
    "This homework demonstrated basic mathematical calculations using Python, including:\n",
    "\n",
    "1. **Geometric calculations** - Computing area and cost per unit\n",
    "2. **Financial calculations** - Compound interest over time\n",
    "3. **Weighted averages** - GPA calculation with different credit weights\n",
    "4. **Percentage calculations** - Sales tax and total cost\n",
    "5. **Efficiency comparisons** - Comparing rates and determining optimal choices\n",
    "\n",
    "Each problem showed clear problem setup, step-by-step solution approach, and proper formatting of results with appropriate precision."
   ]
  }
 ],
 "metadata": {
  "kernelspec": {
   "display_name": "venv (3.12.10)",
   "language": "python",
   "name": "python3"
  },
  "language_info": {
   "codemirror_mode": {
    "name": "ipython",
    "version": 3
   },
   "file_extension": ".py",
   "mimetype": "text/x-python",
   "name": "python",
   "nbconvert_exporter": "python",
   "pygments_lexer": "ipython3",
   "version": "3.12.10"
  }
 },
 "nbformat": 4,
 "nbformat_minor": 5
}
