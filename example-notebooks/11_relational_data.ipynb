{
 "cells": [
  {
   "cell_type": "markdown",
   "id": "01fa03df",
   "metadata": {},
   "source": [
    "# Relational Data\n",
    "\n",
    "<a href=\"https://colab.research.google.com/github/bradleyboehmke/uc-bana-4080/blob/main/example-notebooks/11_relational_data.ipynb\" target=\"_parent\"><img src=\"https://colab.research.google.com/assets/colab-badge.svg\" alt=\"Open In Colab\"/></a>"
   ]
  },
  {
   "cell_type": "code",
   "execution_count": null,
   "id": "73d81289",
   "metadata": {},
   "outputs": [],
   "source": [
    "import pandas as pd\n",
    "from completejourney_py import get_data"
   ]
  },
  {
   "cell_type": "code",
   "execution_count": null,
   "id": "8038c6c7",
   "metadata": {},
   "outputs": [],
   "source": [
    "cj_data = get_data()\n",
    "cj_data.keys()"
   ]
  },
  {
   "cell_type": "code",
   "execution_count": null,
   "id": "5d2ac7ff",
   "metadata": {},
   "outputs": [],
   "source": [
    "transactions = cj_data['transactions']\n",
    "demographics = cj_data['demographics']\n",
    "\n",
    "transactions.head()"
   ]
  },
  {
   "cell_type": "code",
   "execution_count": null,
   "id": "6c921fa4",
   "metadata": {},
   "outputs": [],
   "source": [
    "demographics.head()"
   ]
  },
  {
   "cell_type": "code",
   "execution_count": null,
   "id": "88377aea",
   "metadata": {},
   "outputs": [],
   "source": [
    "x = pd.DataFrame({'id': [1, 2, 3], 'val_x': ['x1', 'x2', 'x3']})\n",
    "y = pd.DataFrame({'id': [1, 2, 4], 'val_y': ['y1', 'y2', 'y4']})\n",
    "\n",
    "x"
   ]
  },
  {
   "cell_type": "code",
   "execution_count": null,
   "id": "ef4c0315",
   "metadata": {},
   "outputs": [],
   "source": [
    "y"
   ]
  },
  {
   "cell_type": "code",
   "execution_count": null,
   "id": "fe04a3b5",
   "metadata": {},
   "outputs": [],
   "source": [
    "x.merge(y, on='id', how='inner')"
   ]
  },
  {
   "cell_type": "code",
   "execution_count": null,
   "id": "014c360e",
   "metadata": {},
   "outputs": [],
   "source": [
    "x.merge(y, on='id', how='left')"
   ]
  },
  {
   "cell_type": "code",
   "execution_count": null,
   "id": "2cf080fd",
   "metadata": {},
   "outputs": [],
   "source": [
    "x.merge(y, on='id', how='right')"
   ]
  },
  {
   "cell_type": "code",
   "execution_count": null,
   "id": "c147c6ae",
   "metadata": {},
   "outputs": [],
   "source": [
    "x.merge(y, on='id', how='outer')"
   ]
  },
  {
   "cell_type": "code",
   "execution_count": null,
   "id": "f7059016",
   "metadata": {},
   "outputs": [],
   "source": [
    "a = pd.DataFrame({'id_a': [1, 2, 3], 'val_a': ['x1', 'x2', 'x3']})\n",
    "b = pd.DataFrame({'id_b': [1, 2, 4], 'val_b': ['y1', 'y2', 'y4']})\n",
    "a.merge(b, left_on='id_a', right_on='id_b')"
   ]
  },
  {
   "cell_type": "code",
   "execution_count": null,
   "id": "409237d3",
   "metadata": {},
   "outputs": [],
   "source": [
    "products = cj_data['products']\n",
    "df = transactions.merge(products, on='product_id', how='left')\n",
    "df.head()"
   ]
  },
  {
   "cell_type": "code",
   "execution_count": null,
   "id": "705c9cad",
   "metadata": {},
   "outputs": [],
   "source": [
    "(\n",
    "    transactions\n",
    "    .merge(products, how='left', on='product_id')\n",
    "    .query(\"department == 'MEAT'\")\n",
    "    .groupby('product_category', as_index=False)\n",
    "    .agg({'sales_value': 'sum'})\n",
    "    .sort_values(by='sales_value', ascending=False)\n",
    ")"
   ]
  },
  {
   "cell_type": "code",
   "execution_count": null,
   "id": "c0f55840",
   "metadata": {},
   "outputs": [],
   "source": [
    "(\n",
    "    transactions\n",
    "    .merge(demographics, how='outer', indicator=True)\n",
    "    .query(\"_merge == 'left_only'\")\n",
    ").shape"
   ]
  }
 ],
 "metadata": {
  "kernelspec": {
   "display_name": "venv",
   "language": "python",
   "name": "python3"
  },
  "language_info": {
   "codemirror_mode": {
    "name": "ipython",
    "version": 3
   },
   "file_extension": ".py",
   "mimetype": "text/x-python",
   "name": "python",
   "nbconvert_exporter": "python",
   "pygments_lexer": "ipython3",
   "version": "3.9.6"
  }
 },
 "nbformat": 4,
 "nbformat_minor": 5
}
