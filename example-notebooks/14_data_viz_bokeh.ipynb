{
 "cells": [
  {
   "cell_type": "markdown",
   "id": "2b110bf5",
   "metadata": {},
   "source": [
    "# Interactive Data Visualization with Bokeh\n",
    "\n",
    "In the previous two lessons, you learned how to visualize data using **pandas**' high-level plotting tools for quick insights, and **matplotlib** for more detailed and customized charting.\n",
    "\n",
    "In this lesson, you’ll take your visualization skills to the next level with [**Bokeh**](https://bokeh.pydata.org/), a Python library designed for building **interactive visualizations in modern web browsers**. With Bokeh, you can create everything from simple scatterplots to fully-featured, dynamic dashboards — all in Python, no JavaScript required.\n",
    "\n",
    "Tools like Bokeh allow you to move beyond static charts and into the world of interactive, responsive data experiences. This shift enables visual storytelling, where users can explore data themselves, and helps you deliver more engaging, stakeholder-friendly output. Whether you're sharing insights with a non-technical audience or designing a data dashboard, Bokeh gives you the flexibility and power to communicate results in more impactful ways.\n",
    "\n",
    "Although Bokeh is considered a lower-level visualization API than pandas or seaborn, it strikes a great balance between ease of use and customizability. You’ll find it intuitive to get started with and incredibly powerful as you go deeper.\n",
    "\n",
    "::: {.callout}"
   ]
  },
  {
   "cell_type": "markdown",
   "id": "2310980f",
   "metadata": {},
   "source": [
    "## Try This First!"
   ]
  },
  {
   "cell_type": "markdown",
   "id": "1ff8095d",
   "metadata": {},
   "source": [
    "Check out some [example Bokeh interactive visualizations](https://demo.bokeh.org). Spend 1–2 minutes exploring it—hover over elements, interact with sliders, or zoom in on charts.\n",
    "\n",
    "**Now reflect:** How does this experience compare to the static charts you created with pandas or matplotlib? What stood out to you?\n",
    ":::\n",
    "\n",
    "In this chapter, you’ll get hands-on experience with Bokeh and learn how to create and customize interactive visualizations for the web. By the end of this lesson you will be able to:\n",
    "\n",
    "* Use Bokeh’s figure interface to build interactive charts from scratch.\n",
    "* Add hover tools, legends, and other interactive components to your plots.\n",
    "\n",
    "::: {.callout-note}"
   ]
  },
  {
   "cell_type": "markdown",
   "id": "995c9aa9",
   "metadata": {},
   "source": [
    "## 📓 Follow Along in Colab!"
   ]
  },
  {
   "cell_type": "markdown",
   "id": "6bd1e8b2",
   "metadata": {},
   "source": [
    "As you read through this chapter, we encourage you to follow along using the [companion notebook](https://github.com/bradleyboehmke/uc-bana-4080/blob/main/example-notebooks/14_data_viz_bokey.ipynb) in Google Colab (or other editor of choice). This interactive notebook lets you run code examples covered in the chapter—and experiment with your own ideas.\n",
    "\n",
    "👉 Open the [Bokeh Data Viz Notebook in Colab](https://colab.research.google.com/github/bradleyboehmke/uc-bana-4080/blob/main/example-notebooks/14_data_viz_bokey.ipynb).\n",
    ":::"
   ]
  },
  {
   "cell_type": "markdown",
   "id": "6c79c7e5",
   "metadata": {},
   "source": [
    "## Prerequisites"
   ]
  },
  {
   "cell_type": "code",
   "execution_count": null,
   "id": "01e2aeda",
   "metadata": {},
   "outputs": [],
   "source": [
    "import pandas as pd\n",
    "\n",
    "# Our main plotting package (must have explicit import of submodules)\n",
    "import bokeh.io\n",
    "import bokeh.models\n",
    "import bokeh.plotting\n",
    "import bokeh.transform\n",
    "\n",
    "# Enable viewing Bokeh plots in the notebook\n",
    "bokeh.io.output_notebook()"
   ]
  },
  {
   "cell_type": "code",
   "execution_count": null,
   "id": "8c1b401d",
   "metadata": {},
   "outputs": [],
   "source": [
    "df = pd.read_csv('../data/ames_clean.csv')\n",
    "df.head()"
   ]
  },
  {
   "cell_type": "markdown",
   "id": "adadf8c0",
   "metadata": {},
   "source": [
    "Most of the functionality of Bokeh is accessed through submodules such as `bokeh.plotting` and `bokeh.models`. Also, when using Bokeh in a notebook we need to run `bokeh.io.output_notebook()` to make our plots viewable and interactive.\n",
    "\n",
    "\n",
    "We'll use a [cleaned up version of the Ames, IA housing data](https://github.com/bradleyboehmke/uc-bana-4080/blob/main/data/ames_clean.csv) for illustration purposes:"
   ]
  },
  {
   "cell_type": "markdown",
   "id": "176e636f",
   "metadata": {},
   "source": [
    "## Bokeh's grammar and our first plot with Bokeh"
   ]
  },
  {
   "cell_type": "code",
   "execution_count": null,
   "id": "1645d887",
   "metadata": {},
   "outputs": [],
   "source": [
    "#| echo: false\n",
    "\n",
    "# Create the figure, stored in variable `p`\n",
    "p = bokeh.plotting.figure(\n",
    "    frame_width=700,\n",
    "    frame_height=350,\n",
    "    title='Relationship between home sale price and living area \\nAmes, Iowa (2006-2010)',\n",
    "    x_axis_label='Living Area (Square feet)',\n",
    "    y_axis_label='Sale Price'\n",
    ")\n",
    "\n",
    "source = bokeh.models.ColumnDataSource(df)\n",
    "\n",
    "p.scatter(\n",
    "    source=source,\n",
    "    x='GrLivArea',\n",
    "    y='SalePrice',\n",
    "    alpha=0.25\n",
    ")\n",
    "\n",
    "p.yaxis.formatter = bokeh.models.NumeralTickFormatter(format=\"$,\")\n",
    "p.xaxis.formatter = bokeh.models.NumeralTickFormatter(format=\",\")\n",
    "\n",
    "tooltips = [(\"Sale Price\",\"@SalePrice\"),(\"SqFt\",\"@GrLivArea\")]\n",
    "hover = bokeh.models.HoverTool(tooltips=tooltips, mode='mouse')\n",
    "p.add_tools(hover)\n",
    "\n",
    "bokeh.io.show(p)"
   ]
  },
  {
   "cell_type": "code",
   "execution_count": null,
   "id": "e4d836b1",
   "metadata": {},
   "outputs": [],
   "source": [
    "# Create the figure, stored in variable `p`\n",
    "p = bokeh.plotting.figure(\n",
    "    frame_width=700,\n",
    "    frame_height=350,\n",
    "    title='Relationship between home sale price and living area \\nAmes, Iowa (2006-2010)',\n",
    "    x_axis_label='Living Area (Square feet)',\n",
    "    y_axis_label='Sale Price'\n",
    ")"
   ]
  },
  {
   "cell_type": "code",
   "execution_count": null,
   "id": "d3fa8456",
   "metadata": {},
   "outputs": [],
   "source": [
    "source = bokeh.models.ColumnDataSource(df)"
   ]
  },
  {
   "cell_type": "code",
   "execution_count": null,
   "id": "fee3fc07",
   "metadata": {},
   "outputs": [],
   "source": [
    "p.scatter(\n",
    "    source=source,\n",
    "    x='GrLivArea',\n",
    "    y='SalePrice',\n",
    "    alpha=0.25\n",
    ");"
   ]
  },
  {
   "cell_type": "code",
   "execution_count": null,
   "id": "c515234a",
   "metadata": {},
   "outputs": [],
   "source": [
    "p.yaxis.formatter = bokeh.models.NumeralTickFormatter(format=\"$,\")\n",
    "p.xaxis.formatter = bokeh.models.NumeralTickFormatter(format=\",\")\n",
    "\n",
    "tooltips = [(\"Sale Price\",\"@SalePrice\"),(\"SqFt\",\"@GrLivArea\")]\n",
    "hover = bokeh.models.HoverTool(tooltips=tooltips, mode='mouse')\n",
    "p.add_tools(hover)"
   ]
  },
  {
   "cell_type": "code",
   "execution_count": null,
   "id": "97a40b63",
   "metadata": {},
   "outputs": [],
   "source": [
    "bokeh.io.show(p)"
   ]
  },
  {
   "cell_type": "markdown",
   "id": "9f99a74f",
   "metadata": {},
   "source": [
    "Constructing a plot with Bokeh consists of four main steps.\n",
    "\n",
    "1. Creating a figure on which to populate **glyphs** (symbols that represent data, e.g., dots for a scatter plot). Think of this figure as a \"canvas\" which sets the space on which you will \"paint\" your glyphs.\n",
    "2. Defining a data source that is the reference used to place the glyphs.\n",
    "3. Choose the kind of glyph you would like.\n",
    "4. Refining the plot by adding titles, formatted axis labels, or even interactive components.\n",
    "\n",
    "After completing these steps, you need to render the graphic.\n",
    "\n",
    "Let's go through these steps to generate an interactive scatter plot of home sales price and total living area. So you have the concrete example in mind, the final graphic will look like this:\n",
    "\n",
    "\n",
    "1\\. Our first step is creating a figure, our \"canvas.\" In creating the figure, we are implicitly thinking about what kind of representation for our data we want. That is, we have to specify axes and their labels. We might also want to specify the title of the figure, whether or not to have grid lines, and all sorts of other customizations. Naturally, we also want to specify the size of the figure.\n",
    "\n",
    "(Almost) all of this is accomplished in Bokeh by making a call to `bokeh.plotting.figure()` with the appropriate keyword arguments.\n",
    "\n",
    "\n",
    "There are many more keyword attributes you can assign, including [all of those listed in the Bokeh Plot class](https://bokeh.pydata.org/en/latest/docs/reference/models/plots.html#bokeh.models.plots.Plot) and [the additional ones listed in the Bokeh Figure class](https://bokeh.pydata.org/en/latest/docs/reference/plotting.html#bokeh.plotting.figure.Figure).\n",
    "\n",
    "2\\. Now that we have set up our canvas, we can decide on the data source. It is convenient to create a **`ColumnDataSource`**, a special Bokeh object that holds data to be displayed in a plot. (Later on we will see that we can change the data in a `ColumnDataSource` and the plot will automatically update!) Conveniently, we can instantiate a `ColumnDataSource` directly from a Pandas data frame.\n",
    "\n",
    "\n",
    "::: {.callout-note}\n",
    "We could also instantiate a data source using a dictionary of arrays, like...\n",
    "\n",
    "`source = bokeh.models.ColumnDataSource(dict(x=[1, 2, 3, 4], y=[1, 4, 9, 16]))`\n",
    ":::\n",
    "\n",
    "3\\. Since we are creating a scatter plot we will choose scatter as our glyph. This kind of glyph requires that we specify  which column of the data source will serve to place the glyphs along the $x$-axis and which will serve to place the glyphs along the $y$-axis. We choose the `'GrLivArea'` column to specify the $x$-coordinate of the glyph and the `'SalePrice'` column to specify the $y$-coordinate. Since there are a lot of observations clustered together we can control overplotting by adjusting the transparency with `alpha`.\n",
    "\n",
    "We accomplish step 3 by calling one of the [**glyph methods**](https://docs.bokeh.org/en/latest/docs/user_guide/plotting.html#scatter-markers) of the Bokeh `Figure` instance, `p`. Since we are choosing a scatter plot, the appropriate method is `p.scatter()`, and we use the `source`, `x`, and `y` kwargs to specify the positions of the glyphs.\n",
    "\n",
    "\n",
    "\n",
    "4\\. Lastly, we can refine the plot in various ways. In this example we make the x and y-axis labels comma and dollar formatted respectively. We can also add [interactive components](https://docs.bokeh.org/en/latest/docs/user_guide/interaction.html#userguide-interaction) to our visuals. Here, I add a hover tool so that sale price and total living area is displayed when my mouse hovers over a point. \n",
    "\n",
    "::: {.callout-tip}\n",
    "We can specify these features (axis configuration and tooltips) when we instantiate the figure or afterwards by assigning attribute values to an already instantiated figure. \n",
    ":::\n",
    "\n",
    "The syntax for a tooltip is a list of 2-tuples, where each tuple represents the tooltip you want. The first entry in the tuple is the label and the second is the column from the data source that has the values. The second entry must be preceded with an `@` symbol signifying that it is a field in the data source and not field that is intrinsic to the plot, which is preceded with a `$` sign. If there are spaces in the column heading, enclose the column name in braces (i.e. `{name with spaces}`). (See the [documentation for tooltip specification](https://bokeh.pydata.org/en/latest/docs/user_guide/tools.html#basic-tooltips) for more information.)\n",
    "\n",
    "\n",
    "Now that we have built the plot, we can render it in the notebook using `bokeh.io.show()`.\n",
    "\n",
    "\n",
    "In looking at the plot, notice a toolbar to right of the plot that enables you to zoom and pan within the plot."
   ]
  },
  {
   "cell_type": "markdown",
   "id": "96d2c985",
   "metadata": {},
   "source": [
    "## Coloring with other dimensions"
   ]
  },
  {
   "cell_type": "code",
   "execution_count": null,
   "id": "309c68a5",
   "metadata": {},
   "outputs": [],
   "source": [
    "# Create the figure, stored in variable `p`\n",
    "p = bokeh.plotting.figure(\n",
    "    frame_width=700,\n",
    "    frame_height=350,\n",
    "    title='Relationship between home sale price and living area \\nAmes, Iowa (2006-2010)',\n",
    "    x_axis_label='Living Area (Square feet)',\n",
    "    y_axis_label='Sale Price'\n",
    ")\n",
    "\n",
    "source = bokeh.models.ColumnDataSource(df)\n",
    "\n",
    "# create color mapper\n",
    "color_mapper = bokeh.transform.factor_cmap(\n",
    "    'CentralAir',\n",
    "    palette=['red', 'blue'],\n",
    "    factors=df['CentralAir'].unique()\n",
    "    )\n",
    "\n",
    "p.scatter(\n",
    "    source=source,\n",
    "    x='GrLivArea',\n",
    "    y='SalePrice',\n",
    "    marker='circle',\n",
    "    alpha=0.25,\n",
    "    fill_color=color_mapper,\n",
    "    line_color=color_mapper,\n",
    "    legend_field='CentralAir'\n",
    ")\n",
    "\n",
    "p.legend.title = \"Has central air\"\n",
    "\n",
    "p.yaxis.formatter = bokeh.models.NumeralTickFormatter(format=\"$,\")\n",
    "p.xaxis.formatter = bokeh.models.NumeralTickFormatter(format=\",\")\n",
    "\n",
    "tooltips = [(\"Sale Price\",\"@SalePrice\"),(\"SqFt\",\"@GrLivArea\")]\n",
    "hover = bokeh.models.HoverTool(tooltips=tooltips, mode='mouse')\n",
    "p.add_tools(hover)\n",
    "\n",
    "bokeh.io.show(p)"
   ]
  },
  {
   "cell_type": "markdown",
   "id": "6da3f01f",
   "metadata": {},
   "source": [
    "Let's say we wanted to make the same plot, but we wanted to color the points based on another feature such as whether the home has central air or not (`CentralAir`). To do this, we take advantage of two features of Bokeh.\n",
    "\n",
    "1. We create a color mapping using `factor_cmap()` that assigns colors to the discrete levels of a given factor (CentralAir in this example). Here, we simply assign red and blue colors; however, Bokeh has many [color palettes to choose from](https://docs.bokeh.org/en/latest/docs/reference/palettes.html).\n",
    "2. We can then use the `scatter` method to assign the glyph of choice and pass the `color_mapper` object to `fill_color` and/or `fill_line`. I also add the legend field so it shows up in the plot and we can format our legend as necessary (i.e. add title, change font)."
   ]
  },
  {
   "cell_type": "markdown",
   "id": "631eff43",
   "metadata": {},
   "source": [
    "## Saving Bokeh plots"
   ]
  },
  {
   "cell_type": "code",
   "execution_count": null,
   "id": "0eb62f89",
   "metadata": {},
   "outputs": [],
   "source": [
    "p.output_backend = 'svg'\n",
    "\n",
    "bokeh.io.show(p)"
   ]
  },
  {
   "cell_type": "code",
   "execution_count": null,
   "id": "5b530189",
   "metadata": {},
   "outputs": [],
   "source": [
    "p.output_backend = 'canvas'"
   ]
  },
  {
   "cell_type": "code",
   "execution_count": null,
   "id": "b7143f6e",
   "metadata": {},
   "outputs": [],
   "source": [
    "p.output_backend = 'canvas'"
   ]
  },
  {
   "cell_type": "code",
   "execution_count": null,
   "id": "d4288146",
   "metadata": {},
   "outputs": [],
   "source": [
    "p.output_backend = 'canvas'"
   ]
  },
  {
   "cell_type": "markdown",
   "id": "336dceb7",
   "metadata": {},
   "source": [
    "After you create your plot, you can save it to a variety of formats. Most commonly you would save them as PNG (for presentations), SVG (for publications in the paper of the past), and HTML (for the paper of the future or sharing with colleagues). \n",
    "\n",
    "To save as a PNG for quick use, you can click the disk icon in the tool bar. \n",
    "\n",
    "To save to SVG, you first change the output backend to `'svg'` and then you can click the disk icon again, and you will get an SVG rendering of the plot. After saving the SVG, you should change the output backend back to `'canvas'` because it has much better in-browser performance.\n",
    "\n",
    "\n",
    "Now, click the disk icon in the plot above to save it.\n",
    "\n",
    "After saving, we should switch back to canvas.\n",
    "\n",
    "\n",
    "You can also save the figure programmatically using the `bokeh.io.export_svgs()` function. This requires additional installations, so we will not do it here, but show the code to do it. Again, this will only work if the output backed is `'svg'`.\n",
    "\n",
    "```python\n",
    "p.output_backend = 'svg'\n",
    "bokeh.io.export_svgs(p, filename='ames_sale_price_vs_living_area.svg')\n",
    "p.output_backend = 'canvas'\n",
    "\n",
    "Finally, to save as HTML, you can use the `bokeh.io.save()` function. This saves your plot as a standalone HTML page. Note that the `title` kwarg is not the title of the plot, but the title of the web page that will appear on your Browser tab.\n",
    "\n",
    "```python\n",
    "bokeh.io.save(\n",
    "    p,\n",
    "    filename='ames_sale_price_vs_living_area.html',\n",
    "    title='Bokeh plot'\n",
    ");"
   ]
  },
  {
   "cell_type": "markdown",
   "id": "eaaf5db0",
   "metadata": {},
   "source": [
    "## Video Tutorial"
   ]
  },
  {
   "cell_type": "markdown",
   "id": "1aba801f",
   "metadata": {},
   "source": [
    "This lesson only scratches the surface of what Bokeh can do. From interactive widgets and streaming data to fully responsive dashboards, Bokeh offers a wide range of advanced capabilities. To see more examples and explore what's possible, visit the official Bokeh gallery at [https://demo.bokeh.org/](https://demo.bokeh.org/).\n",
    "\n",
    "::: {.callout}"
   ]
  },
  {
   "cell_type": "markdown",
   "id": "39c7f74d",
   "metadata": {},
   "source": [
    "## Video 🎥"
   ]
  },
  {
   "cell_type": "markdown",
   "id": "806fdcaf",
   "metadata": {},
   "source": [
    "The following video provides an overview of Bokeh and will also expose you to other types of plots you can create (i.e. line charts, histograms, area plots).\n",
    "\n",
    "{{< video https://www.youtube.com/watch?v=GUEYt9adD8s >}}\n",
    ":::"
   ]
  },
  {
   "cell_type": "markdown",
   "id": "67b24f97",
   "metadata": {},
   "source": [
    "## Summary"
   ]
  },
  {
   "cell_type": "markdown",
   "id": "cd6341dd",
   "metadata": {},
   "source": [
    "In this chapter, you explored the fundamentals of creating interactive data visualizations using **Bokeh**, a powerful Python library designed for the web. You learned how to use Bokeh’s `figure` interface to build plots from scratch, enhance them with interactive tools like hovers and legends, and combine multiple charts into dashboard-style layouts.\n",
    "\n",
    "Bokeh opens the door to **interactive, engaging visual storytelling**—ideal for exploratory analysis and sharing insights with stakeholders in a more dynamic format. While this chapter focused on the core building blocks, Bokeh supports much more, including advanced widgets, real-time data streaming, and fully customizable layouts.\n",
    "\n",
    "To explore Bokeh’s full capabilities, check out the [official demo gallery](https://demo.bokeh.org/)."
   ]
  },
  {
   "cell_type": "markdown",
   "id": "82f469bc",
   "metadata": {},
   "source": [
    "## Exercise: Exploring Housing Trends with Bokeh"
   ]
  },
  {
   "cell_type": "code",
   "execution_count": null,
   "id": "2d1609c5",
   "metadata": {},
   "outputs": [],
   "source": []
  },
  {
   "cell_type": "markdown",
   "id": "b9880240",
   "metadata": {},
   "source": [
    "In this exercise set, you’ll revisit the [Ames Housing dataset](https://github.com/bradleyboehmke/uc-bana-4080/blob/main/data/ames_clean.csv) and apply what you've learned about **Bokeh** to build interactive plots from scratch. These visualizations will give you hands-on practice with building charts, customizing tooltips, applying categorical coloring, and creating simple layouts.\n",
    "\n",
    "Use the [Ames Housing dataset](https://github.com/bradleyboehmke/uc-bana-4080/blob/main/data/ames_clean.csv) we used in this chapter, and import the necessary Bokeh modules as needed:\n",
    "\n",
    "```python\n",
    "import pandas as pd\n",
    "from bokeh.plotting import figure, show\n",
    "from bokeh.io import output_notebook\n",
    "from bokeh.transform import factor_cmap\n",
    "from bokeh.layouts import row, column\n",
    "from bokeh.models import HoverTool\n",
    "\n",
    "output_notebook()\n",
    "\n",
    "df = pd.read_csv(\"data/ames_housing.csv\")  # adjust path as needed\n",
    "\n",
    "::: {.callout-tip}"
   ]
  },
  {
   "cell_type": "markdown",
   "id": "18cc631d",
   "metadata": {},
   "source": [
    "## 💡 Stuck or unsure how to do something?"
   ]
  },
  {
   "cell_type": "markdown",
   "id": "d14f2f28",
   "metadata": {},
   "source": [
    "Use tools like **ChatGPT**, **GitHub Copilot**, or the [Bokeh documentation](https://docs.bokeh.org/en/latest/index.html) to help troubleshoot, format your plots, or discover ways to customize interactivity. Learning how to adapt examples is part of becoming a confident data visualizer.\n",
    ":::\n",
    "\n",
    "::: {.callout collapse=\"true\"}"
   ]
  },
  {
   "cell_type": "markdown",
   "id": "e3992199",
   "metadata": {},
   "source": [
    "## 1. Explore the Bokeh Gallery"
   ]
  },
  {
   "cell_type": "markdown",
   "id": "fe5b603e",
   "metadata": {},
   "source": [
    "Visit [https://demo.bokeh.org](https://demo.bokeh.org) and spend a few minutes exploring different chart types.\n",
    "\n",
    "* What kinds of visualizations stand out to you?\n",
    "* Can you imagine how these might be used in a data science or business setting?\n",
    "\n",
    "There’s no coding for this part—just use it for inspiration before diving into the next tasks.\n",
    ":::\n",
    "\n",
    "::: {.callout collapse=\"true\"}"
   ]
  },
  {
   "cell_type": "markdown",
   "id": "e4319c87",
   "metadata": {},
   "source": [
    "## 2. Bar Chart: Housing Count by Neighborhood"
   ]
  },
  {
   "cell_type": "markdown",
   "id": "ca15240e",
   "metadata": {},
   "source": [
    "Create a **Bokeh bar chart** that shows the number of houses sold per `Neighborhood`.\n",
    "\n",
    "* Use `groupby()` and `value_counts()` to prepare your data.\n",
    "* Create a vertical bar chart with `vbar()`.\n",
    "* Add a title, axis labels, and hover tooltips that show the neighborhood name and house count.\n",
    "* Bonus: Sort the bars in descending order.\n",
    "\n",
    ":::\n",
    "\n",
    "::: {.callout collapse=\"true\"}"
   ]
  },
  {
   "cell_type": "markdown",
   "id": "6d5b27ff",
   "metadata": {},
   "source": [
    "## 3. Scatter Plot: Living Area vs. Sale Price"
   ]
  },
  {
   "cell_type": "markdown",
   "id": "b64a3215",
   "metadata": {},
   "source": [
    "Visualize the relationship between `GrLivArea` (above ground living area) and `SalePrice`.\n",
    "\n",
    "* Create a **scatter plot** using `figure().circle()`.\n",
    "* Add a `HoverTool` that shows the address (or another interesting feature), living area, and sale price when you hover over points.\n",
    "* Bonus: Add color or marker size based on a third variable like `OverallQual`.\n",
    ":::\n",
    "\n",
    "::: {.callout collapse=\"true\"}"
   ]
  },
  {
   "cell_type": "markdown",
   "id": "a1b34a4f",
   "metadata": {},
   "source": [
    "## 4. Add Categorical Color to Your Scatter Plot"
   ]
  },
  {
   "cell_type": "markdown",
   "id": "d8b772d9",
   "metadata": {},
   "source": [
    "Enhance your scatter plot by mapping color to a **categorical feature** such as `CentralAir`, `BldgType`, or a binned version of `OverallQual`.\n",
    "\n",
    "* Use `factor_cmap` to map categories to colors.\n",
    "* Include a legend and adjust the plot size or layout if needed.\n",
    "\n",
    "**Bonus**: Use `ColumnDataSource` to simplify your interactivity.\n",
    ":::\n",
    "\n",
    "::: {.callout collapse=\"true\"}"
   ]
  },
  {
   "cell_type": "markdown",
   "id": "e67f251b",
   "metadata": {},
   "source": [
    "## 5. Combine Multiple Plots into a Layout"
   ]
  },
  {
   "cell_type": "markdown",
   "id": "72bf1c39",
   "metadata": {},
   "source": [
    "Create a second plot of your choice (e.g., a histogram of `SalePrice` or another scatter plot).\n",
    "\n",
    "* Use `row()` or `column()` to combine it with your earlier scatter plot.\n",
    "* Add a shared title or explanatory text.\n",
    "* Reflect: How might this layout be useful as a small dashboard for exploring housing data?\n",
    ":::"
   ]
  }
 ],
 "metadata": {},
 "nbformat": 4,
 "nbformat_minor": 5
}
