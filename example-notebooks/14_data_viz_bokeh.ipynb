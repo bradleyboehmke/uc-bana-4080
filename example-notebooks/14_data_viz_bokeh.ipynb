{
 "cells": [
  {
   "cell_type": "markdown",
   "id": "2b110bf5",
   "metadata": {},
   "source": [
    "# Interactive Data Visualization with Bokeh\n",
    "\n",
    "<a href=\"https://colab.research.google.com/github/bradleyboehmke/uc-bana-4080/blob/main/example-notebooks/14_data_viz_bokeh.ipynb\" target=\"_parent\"><img src=\"https://colab.research.google.com/assets/colab-badge.svg\" alt=\"Open In Colab\"/></a>\n",
    "\n",
    "This notebook accompanies [this textbook chapter](https://bradleyboehmke.github.io/uc-bana-4080/15-data-viz-bokeh.html) and allows you to run the code examples interactively."
   ]
  },
  {
   "cell_type": "markdown",
   "id": "6c79c7e5",
   "metadata": {},
   "source": [
    "## Prerequisites"
   ]
  },
  {
   "cell_type": "code",
   "execution_count": null,
   "id": "01e2aeda",
   "metadata": {},
   "outputs": [],
   "source": [
    "import pandas as pd\n",
    "\n",
    "# Our main plotting package (must have explicit import of submodules)\n",
    "import bokeh.io\n",
    "import bokeh.models\n",
    "import bokeh.plotting\n",
    "import bokeh.transform\n",
    "\n",
    "# Enable viewing Bokeh plots in the notebook\n",
    "bokeh.io.output_notebook()"
   ]
  },
  {
   "cell_type": "code",
   "execution_count": null,
   "id": "8c1b401d",
   "metadata": {},
   "outputs": [],
   "source": [
    "df = pd.read_csv('https://raw.githubusercontent.com/bradleyboehmke/uc-bana-4080/refs/heads/main/data/ames_clean.csv')\n",
    "df.head()"
   ]
  },
  {
   "cell_type": "markdown",
   "id": "176e636f",
   "metadata": {},
   "source": [
    "## Bokeh's grammar and our first plot with Bokeh"
   ]
  },
  {
   "cell_type": "code",
   "execution_count": null,
   "id": "e4d836b1",
   "metadata": {},
   "outputs": [],
   "source": [
    "# Create the figure, stored in variable `p`\n",
    "p = bokeh.plotting.figure(\n",
    "    frame_width=700,\n",
    "    frame_height=350,\n",
    "    title='Relationship between home sale price and living area \\nAmes, Iowa (2006-2010)',\n",
    "    x_axis_label='Living Area (Square feet)',\n",
    "    y_axis_label='Sale Price'\n",
    ")"
   ]
  },
  {
   "cell_type": "code",
   "execution_count": null,
   "id": "d3fa8456",
   "metadata": {},
   "outputs": [],
   "source": [
    "source = bokeh.models.ColumnDataSource(df)"
   ]
  },
  {
   "cell_type": "code",
   "execution_count": null,
   "id": "fee3fc07",
   "metadata": {},
   "outputs": [],
   "source": [
    "p.scatter(\n",
    "    source=source,\n",
    "    x='GrLivArea',\n",
    "    y='SalePrice',\n",
    "    alpha=0.25\n",
    ");"
   ]
  },
  {
   "cell_type": "code",
   "execution_count": null,
   "id": "c515234a",
   "metadata": {},
   "outputs": [],
   "source": [
    "p.yaxis.formatter = bokeh.models.NumeralTickFormatter(format=\"$,\")\n",
    "p.xaxis.formatter = bokeh.models.NumeralTickFormatter(format=\",\")\n",
    "\n",
    "tooltips = [(\"Sale Price\",\"@SalePrice\"),(\"SqFt\",\"@GrLivArea\")]\n",
    "hover = bokeh.models.HoverTool(tooltips=tooltips, mode='mouse')\n",
    "p.add_tools(hover)"
   ]
  },
  {
   "cell_type": "code",
   "execution_count": null,
   "id": "97a40b63",
   "metadata": {},
   "outputs": [],
   "source": [
    "bokeh.io.show(p)"
   ]
  },
  {
   "cell_type": "markdown",
   "id": "96d2c985",
   "metadata": {},
   "source": [
    "## Coloring with other dimensions"
   ]
  },
  {
   "cell_type": "code",
   "execution_count": null,
   "id": "309c68a5",
   "metadata": {},
   "outputs": [],
   "source": [
    "# Create the figure, stored in variable `p`\n",
    "p = bokeh.plotting.figure(\n",
    "    frame_width=700,\n",
    "    frame_height=350,\n",
    "    title='Relationship between home sale price and living area \\nAmes, Iowa (2006-2010)',\n",
    "    x_axis_label='Living Area (Square feet)',\n",
    "    y_axis_label='Sale Price'\n",
    ")\n",
    "\n",
    "source = bokeh.models.ColumnDataSource(df)\n",
    "\n",
    "# create color mapper\n",
    "color_mapper = bokeh.transform.factor_cmap(\n",
    "    'CentralAir',\n",
    "    palette=['red', 'blue'],\n",
    "    factors=df['CentralAir'].unique()\n",
    "    )\n",
    "\n",
    "p.scatter(\n",
    "    source=source,\n",
    "    x='GrLivArea',\n",
    "    y='SalePrice',\n",
    "    marker='circle',\n",
    "    alpha=0.25,\n",
    "    fill_color=color_mapper,\n",
    "    line_color=color_mapper,\n",
    "    legend_field='CentralAir'\n",
    ")\n",
    "\n",
    "p.legend.title = \"Has central air\"\n",
    "\n",
    "p.yaxis.formatter = bokeh.models.NumeralTickFormatter(format=\"$,\")\n",
    "p.xaxis.formatter = bokeh.models.NumeralTickFormatter(format=\",\")\n",
    "\n",
    "tooltips = [(\"Sale Price\",\"@SalePrice\"),(\"SqFt\",\"@GrLivArea\")]\n",
    "hover = bokeh.models.HoverTool(tooltips=tooltips, mode='mouse')\n",
    "p.add_tools(hover)\n",
    "\n",
    "bokeh.io.show(p)"
   ]
  },
  {
   "cell_type": "markdown",
   "id": "631eff43",
   "metadata": {},
   "source": [
    "## Saving Bokeh plots"
   ]
  },
  {
   "cell_type": "code",
   "execution_count": null,
   "id": "0eb62f89",
   "metadata": {},
   "outputs": [],
   "source": [
    "bokeh.io.save(\n",
    "    p,\n",
    "    filename='ames_sale_price_vs_living_area.html',\n",
    "    title='Bokeh plot'\n",
    ");"
   ]
  },
  {
   "cell_type": "markdown",
   "id": "82f469bc",
   "metadata": {},
   "source": [
    "## Exercise: Exploring Housing Trends with Bokeh"
   ]
  },
  {
   "cell_type": "markdown",
   "id": "b9880240",
   "metadata": {},
   "source": [
    "In this exercise set, you’ll revisit the [Ames Housing dataset](https://github.com/bradleyboehmke/uc-bana-4080/blob/main/data/ames_clean.csv) and apply what you've learned about **Bokeh** to build interactive plots from scratch. These visualizations will give you hands-on practice with building charts, customizing tooltips, applying categorical coloring, and creating simple layouts.\n",
    "\n",
    "Use the [Ames Housing dataset](https://github.com/bradleyboehmke/uc-bana-4080/blob/main/data/ames_clean.csv) we used in this chapter, and import the necessary Bokeh modules as needed:\n",
    "\n",
    "```python\n",
    "import pandas as pd\n",
    "from bokeh.plotting import figure, show\n",
    "from bokeh.io import output_notebook\n",
    "from bokeh.transform import factor_cmap\n",
    "from bokeh.layouts import row, column\n",
    "from bokeh.models import HoverTool\n",
    "\n",
    "output_notebook()\n",
    "\n",
    "# can also use this URL to download the dataset directly\n",
    "# https://raw.githubusercontent.com/bradleyboehmke/uc-bana-4080/refs/heads/main/data/ames_clean.csv\n",
    "df = pd.read_csv(\"data/ames_clean.csv\")  # adjust path as needed\n",
    "df.head()"
   ]
  },
  {
   "cell_type": "markdown",
   "id": "46435fe8",
   "metadata": {},
   "source": []
  }
 ],
 "metadata": {
  "language_info": {
   "name": "python"
  }
 },
 "nbformat": 4,
 "nbformat_minor": 5
}
