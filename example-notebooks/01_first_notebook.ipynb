{
  "nbformat": 4,
  "nbformat_minor": 0,
  "metadata": {
    "colab": {
      "provenance": [],
      "authorship_tag": "ABX9TyN4ssuFz0kztmlsOSMN/CcK",
      "include_colab_link": true
    },
    "kernelspec": {
      "name": "python3",
      "display_name": "Python 3"
    },
    "language_info": {
      "name": "python"
    }
  },
  "cells": [
    {
      "cell_type": "markdown",
      "metadata": {
        "id": "view-in-github",
        "colab_type": "text"
      },
      "source": [
        "<a href=\"https://colab.research.google.com/github/bradleyboehmke/uc-bana-4080/blob/main/example-notebooks/01_first_notebook.ipynb\" target=\"_parent\"><img src=\"https://colab.research.google.com/assets/colab-badge.svg\" alt=\"Open In Colab\"/></a>"
      ]
    },
    {
      "cell_type": "markdown",
      "source": [
        "# 📘 BANA 4080 – Your First Notebook\n",
        "\n",
        "Welcome to your first Jupyter notebook! Let's learn how to write and run Python code, as well as how to document your work using Markdown."
      ],
      "metadata": {
        "id": "eQMjueLJ6wOC"
      }
    },
    {
      "cell_type": "markdown",
      "source": [
        "## Code Cell: Your First Python Command\n",
        "\n",
        "Let's start with the classic:\n",
        "\n",
        "```python\n",
        "print(\"Hello, World!\")\n",
        "```\n",
        "\n",
        "👇 Run the cell below to see your first Python output:👇"
      ],
      "metadata": {
        "id": "lZByHuOa68XO"
      }
    },
    {
      "cell_type": "code",
      "source": [
        "print(\"Hello, World!\")"
      ],
      "metadata": {
        "id": "NEgPwMqa7DNC"
      },
      "execution_count": null,
      "outputs": []
    },
    {
      "cell_type": "markdown",
      "source": [
        "## Markdown Cells: Writing Notes in Your Notebook\n",
        "\n",
        "In addition to writing and running Python code, you can add text, titles, and even equations using Markdown.\n",
        "\n",
        "Try editing the cell below (double-click it) and then press Shift+Enter to render it."
      ],
      "metadata": {
        "id": "PETkkzcx7IA_"
      }
    },
    {
      "cell_type": "markdown",
      "source": [
        "# This is a big title (Markdown)\n",
        "## This is a smaller subtitle\n",
        "### This is even smaller\n",
        "\n",
        "You can *italicize*, **bold**, or ***do both***!\n",
        "\n",
        "- You can make bullet lists\n",
        "- Like this one!\n",
        "\n",
        "Or number things:\n",
        "1. First\n",
        "2. Second\n",
        "\n",
        "You can even write math:  \n",
        "$A = \\pi r^2$"
      ],
      "metadata": {
        "id": "g0T00SA07TFm"
      }
    },
    {
      "cell_type": "markdown",
      "source": [
        "## Try It Yourself\n",
        "\n",
        "Add a code cell and use `print()` to say hello to yourself. For example:\n",
        "\n",
        "```python\n",
        "print(\"Hello, Bradley!\")\n",
        "```\n",
        "\n",
        "## Add a Markdown cell that includes:\n",
        "\n",
        "* A heading (use #)\n",
        "* A short paragraph explaining what you're doing\n",
        "* An equation using LaTeX (optional)"
      ],
      "metadata": {
        "id": "irBVGJnS7XWU"
      }
    }
  ]
}