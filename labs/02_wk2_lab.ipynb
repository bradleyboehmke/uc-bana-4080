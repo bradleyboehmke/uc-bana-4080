{
 "cells": [
  {
   "cell_type": "markdown",
   "id": "0cc79831",
   "metadata": {},
   "source": [
    "# Week 2 Lab – Working in Jupyter, Data Structures, and Libraries\n",
    "\n",
    "In this lab, you'll get hands-on practice using **Jupyter notebooks**, **basic data structures**, and **Python libraries**. This session builds on what we covered in Tuesday’s class.\n",
    "\n",
    "You’ll work with a small group (2–4 students) and complete the following challenges together."
   ]
  },
  {
   "cell_type": "markdown",
   "id": "a3fe7caa",
   "metadata": {},
   "source": [
    "## 🧭 Part 1: Getting Comfortable in Jupyter Notebooks\n",
    "\n",
    "Jupyter notebooks let you combine code, text, and output in a single document. We'll start by learning to format Markdown and run Python cells.\n",
    "\n",
    "### 🧾 Markdown Reference – Quick Guide\n",
    "\n",
    "Here are some Markdown tools you can use in your bio:\n",
    "\n",
    "**Headings:**\n",
    "\n",
    "```\n",
    "# Heading 1\n",
    "## Heading 2\n",
    "```\n",
    "\n",
    "**Formatting:**\n",
    "\n",
    "```\n",
    "**bold**   *italic*\n",
    "```\n",
    "\n",
    "**Lists:**\n",
    "\n",
    "```\n",
    "- Item one\n",
    "- Item two\n",
    "```\n",
    "\n",
    "**Links:**\n",
    "\n",
    "```\n",
    "[My Website](https://example.com)\n",
    "```\n",
    "\n",
    "**Math:**\n",
    "\n",
    "```\n",
    "$E = mc^2$\n",
    "```\n",
    "\n",
    "**Images:**\n",
    "\n",
    "```\n",
    "![My photo](https://example.com/me.jpg)\n",
    "```"
   ]
  },
  {
   "cell_type": "markdown",
   "id": "9c88f6a0",
   "metadata": {},
   "source": [
    "### ✍️ Markdown Practice – Build Your Bio Notebook\n",
    "\n",
    "Open a new Jupyter notebook. Use Markdown cells to create a short bio that includes the following:\n",
    "\n",
    "- Your **name** as a level-1 heading (`#`)\n",
    "- A **photo** of yourself (either uploaded or linked)\n",
    "- A short paragraph describing yourself\n",
    "- Academic background\n",
    "- Professional background\n",
    "- Experience with Python and other tools\n",
    "- Use the following Markdown features:\n",
    "  - At least one **list**\n",
    "  - One **bold or italic** phrase\n",
    "  - One **Markdown link**\n",
    "  - *(Optional)* A math equation: `$A = \\pi r^2$`\n",
    "\n",
    "### 🧪 Add Some Python Code\n",
    "\n",
    "At the end of the notebook, write a few simple Python cells, like:"
   ]
  },
  {
   "cell_type": "code",
   "execution_count": null,
   "id": "7a9f7e52",
   "metadata": {},
   "outputs": [],
   "source": [
    "name = \"Taylor\"\n",
    "print(f\"Hi, my name is {name}!\")"
   ]
  },
  {
   "cell_type": "markdown",
   "id": "c5407ccb",
   "metadata": {},
   "source": [
    "You could also create variables and print a fun fact about yourself."
   ]
  },
  {
   "cell_type": "markdown",
   "id": "00c23271",
   "metadata": {},
   "source": [
    "## 🧺 Part 2: Practicing with Data Structures\n",
    "\n",
    "Now let’s explore Python’s built-in data structures. For each one, you’ll see an example and then complete a task with your group.\n",
    "\n",
    "### 📋 Lists\n",
    "\n",
    "A **list** is an ordered, mutable collection:\n"
   ]
  },
  {
   "cell_type": "markdown",
   "id": "d03d1e7d",
   "metadata": {},
   "source": [
    "groceries = [\"eggs\", \"milk\", \"bread\"]\n",
    "print(groceries[0])\n",
    "\n",
    "groceries.append(\"butter\")\n",
    "groceries.remove(\"milk\")\n",
    "print(groceries)"
   ]
  },
  {
   "cell_type": "markdown",
   "id": "29bd2aec",
   "metadata": {},
   "source": [
    "✅ Use when: Order matters and you’ll add/remove items\n",
    "\n",
    "#### 🧠 Your Turn – List Practice\n",
    "\n",
    "Create a list called `playlist` with at least 3 songs. Then:\n",
    "\n",
    "- Print the first song\n",
    "- Add two new songs\n",
    "- Remove one song\n",
    "- Print the third song"
   ]
  },
  {
   "cell_type": "markdown",
   "id": "7a82c5f2",
   "metadata": {},
   "source": [
    "### 📒 Tuples\n",
    "\n",
    "A **tuple** is ordered and immutable (cannot be changed):"
   ]
  },
  {
   "cell_type": "markdown",
   "id": "92c2e9c8",
   "metadata": {},
   "source": [
    "coordinates = (39.76, -84.19)\n",
    "print(coordinates[1])"
   ]
  },
  {
   "cell_type": "markdown",
   "id": "ae4fe80e",
   "metadata": {},
   "source": [
    "✅ Use when: The data is fixed and position matters\n",
    "\n",
    "You can also **unpack** a tuple into individual variables:"
   ]
  },
  {
   "cell_type": "code",
   "execution_count": null,
   "id": "eb0c1a54",
   "metadata": {},
   "outputs": [],
   "source": [
    "lat, lon = coordinates\n",
    "print(\"Latitude:\", lat)\n",
    "print(\"Longitude:\", lon)"
   ]
  },
  {
   "cell_type": "markdown",
   "id": "d6bb9ca6",
   "metadata": {},
   "source": [
    "This is useful when you want to assign names to tuple elements for clarity.\n",
    "\n",
    "#### 🧠 Your Turn – Tuple Practice\n",
    "\n",
    "Create a tuple called `my_birthday` with your birth **month**, **day**, and **year**. Then:\n",
    "\n",
    "- Print the month\n",
    "- Try changing the day — what happens?\n",
    "- Unpack your tuple into individual `month`, `day`, and `year` variables."
   ]
  },
  {
   "cell_type": "markdown",
   "id": "6f279466",
   "metadata": {},
   "source": [
    "### 🗂️ Dictionaries\n",
    "\n",
    "A **dictionary** stores key–value pairs:"
   ]
  },
  {
   "cell_type": "code",
   "execution_count": null,
   "id": "e2c1096d",
   "metadata": {},
   "outputs": [],
   "source": [
    "prices = {\"apple\": 0.99, \"banana\": 0.59}\n",
    "print(prices[\"banana\"])"
   ]
  },
  {
   "cell_type": "markdown",
   "id": "15ef80a7",
   "metadata": {},
   "source": [
    "✅ Use when: You need to map one value to another (e.g., name → price)\n",
    "\n",
    "#### 🧠 Your Turn – Dictionary Practice\n",
    "\n",
    "Create a dictionary called `grades` that maps **course names** to your **expected grades**. Then:\n",
    "\n",
    "- Print the grade for one course\n",
    "- Add a new course and grade\n",
    "- Update the grade for an existing course"
   ]
  },
  {
   "cell_type": "markdown",
   "id": "e9c2330f",
   "metadata": {},
   "source": [
    "### 🔢 Sets\n",
    "\n",
    "A **set** is unordered and contains only unique items:"
   ]
  },
  {
   "cell_type": "markdown",
   "id": "668fb907",
   "metadata": {},
   "source": [
    "colors = {\"red\", \"blue\", \"green\"}\n",
    "colors.add(\"red\")  # won't duplicate\n",
    "print(colors)"
   ]
  },
  {
   "cell_type": "markdown",
   "id": "35a1e90a",
   "metadata": {},
   "source": [
    "✅ Use when: You want only unique values\n",
    "\n",
    "#### 🧠 Your Turn – Set Practice\n",
    "\n",
    "Create a set called `favorite_colors` with 4 colors. Then:\n",
    "\n",
    "- Add a duplicate color\n",
    "- Add a new color\n",
    "- Print the set"
   ]
  },
  {
   "cell_type": "markdown",
   "id": "65ccd238",
   "metadata": {},
   "source": [
    "### 🧠 Final Challenge – Which Structure Would You Use?\n",
    "\n",
    "Read each scenario and decide which data structure is the best fit. Be ready to explain your reasoning.\n",
    "\n",
    "1. **You want to store a class roster and keep students listed in the order they registered.**\n",
    "2. **You need to look up the price of a product using the product's name.**\n",
    "3. **You’re recording survey responses, but you only want to store each unique response once.**\n",
    "\n",
    "Work together and write your answers in your notebook with a short explanation.  Once your group completes all activities, discuss:\n",
    "\n",
    "- Which data structure felt most natural to use?\n",
    "- Where might you use these structures in real-world data problems?"
   ]
  },
  {
   "cell_type": "markdown",
   "id": "08dbcf21",
   "metadata": {},
   "source": [
    "## 🧩 Part 3: Working with Modules & Libraries\n",
    "\n",
    "Python’s power comes from reusable code, and that starts with **modules** and **libraries**.\n",
    "\n",
    "### 🧪 Code in a `.py` File\n",
    "\n",
    "Sometimes you’ll write reusable functions or tools in a `.py` file and use them in your notebook:\n",
    "\n",
    "```python\n",
    "# in a file called helpers.py\n",
    "def greeting(name):\n",
    "    return f\"Hello, {name}!\"\n",
    "```\n",
    "\n",
    "```python\n",
    "# in your notebook\n",
    "import helpers\n",
    "greeting(\"Taylor\")  # Output: \"Hello, Taylor!\"\n",
    "```\n",
    "\n",
    "✅ Why do this?\n",
    "\n",
    "- Keeps notebooks clean\n",
    "- Promotes code reuse\n",
    "- Helps with testing and modularity\n",
    "\n",
    "You won’t need to write `.py` files yet, but you’ll likely see them in your future."
   ]
  },
  {
   "cell_type": "markdown",
   "id": "f3a7bdec",
   "metadata": {},
   "source": [
    "### 🧰 Using Python’s Standard Library\n",
    "\n",
    "The standard library includes tools for math, dates, randomness, and more — no installation needed.  Take a minute to see what's all in the Standard Library here - [https://docs.python.org/3/library/index.html](https://docs.python.org/3/library/index.html).\n",
    "\n",
    "Here are two fun challenges to explore them:"
   ]
  },
  {
   "cell_type": "markdown",
   "id": "ece0ce4e",
   "metadata": {},
   "source": [
    "#### 🎄 Challenge 1: Days Until Christmas\n",
    "\n",
    "Use the `datetime` module to calculate how many days remain until December 25th of this year."
   ]
  },
  {
   "cell_type": "code",
   "execution_count": null,
   "id": "0e4f1d60",
   "metadata": {},
   "outputs": [],
   "source": [
    "# Hint:\n",
    "from datetime import date"
   ]
  },
  {
   "cell_type": "markdown",
   "id": "1792d79d",
   "metadata": {},
   "source": [
    "#### 🎲 Challenge 2: Roll a Dice\n",
    "\n",
    "Use the `random` module to simulate rolling a 6-sided dice."
   ]
  },
  {
   "cell_type": "code",
   "execution_count": null,
   "id": "1258ebb5",
   "metadata": {},
   "outputs": [],
   "source": [
    "# Hint:\n",
    "import random\n",
    "random.randint(1, 6)"
   ]
  },
  {
   "cell_type": "markdown",
   "id": "7cf4508b",
   "metadata": {},
   "source": [
    "- Try modifying it to roll **two dice** and compute their sum!\n",
    "- Now compete within your group to see who can roll a pair of sixes first."
   ]
  },
  {
   "cell_type": "markdown",
   "id": "1bc33051",
   "metadata": {},
   "source": [
    "### 📦 Third-Party Libraries\n",
    "\n",
    "In addition to the standard library, Python has thousands of **third-party libraries** created by the community.\n",
    "\n",
    "- These libraries provide tools for data analysis, machine learning, visualization, web development, and more.\n",
    "- Most are hosted on [PyPI](https://pypi.org), the Python Package Index.\n",
    "- You install them using `pip`:\n",
    "\n",
    "```bash\n",
    "# in the command line or terminal\n",
    "pip install some_package\n",
    "\n",
    "# in a jupyter notebook cell\n",
    "!pip install some_package\n",
    "```"
   ]
  },
  {
   "cell_type": "markdown",
   "id": "c3e42150",
   "metadata": {},
   "source": [
    "#### 📦 Introducing `completejourney_py`\n",
    "\n",
    "This course uses the `completejourney_py` library to explore real-world retail data.\n",
    "\n",
    "- It includes transaction, product, and demographic datasets.  You can read about this data set [here]\\([https://bradleyboehmke.github.io/completejourney/articles/completejourney.html](https://bradleyboehmke.github.io/completejourney/articles/completejourney.html)) (these are the docs for the sister R package).\n",
    "- We'll use it in future labs and assignments.\n",
    "\n",
    "#### 🧪 Activity: Install the Library\n",
    "\n",
    "In a new notebook cell, try running:"
   ]
  },
  {
   "cell_type": "code",
   "execution_count": null,
   "id": "c32a82e4",
   "metadata": {},
   "outputs": [],
   "source": [
    "!pip install completejourney_py"
   ]
  },
  {
   "cell_type": "markdown",
   "id": "a46b2313",
   "metadata": {},
   "source": [
    "If it works, try importing it:"
   ]
  },
  {
   "cell_type": "code",
   "execution_count": null,
   "id": "0a43cd05",
   "metadata": {},
   "outputs": [],
   "source": [
    "import completejourney_py as cj"
   ]
  },
  {
   "cell_type": "markdown",
   "id": "9dd8ca89",
   "metadata": {},
   "source": [
    "- What do we call it when we import a package with a different name (like `cj` above)?\n",
    "- Let's go ahead and import the completejourney data.  Run the following code."
   ]
  },
  {
   "cell_type": "code",
   "execution_count": null,
   "id": "4e1576bb",
   "metadata": {},
   "outputs": [],
   "source": [
    "data = cj.get_data()"
   ]
  },
  {
   "cell_type": "markdown",
   "id": "6316199e",
   "metadata": {},
   "source": [
    "- Now take a look at the `data` object. Talk with your group and see if you can determine what type of data structure it is.\n",
    "- See if you can extract just the \"transactions\" data and save it as an object called \"transactions\".\n",
    "\n",
    "✅ You’re now ready to start exploring real datasets in future weeks!"
   ]
  },
  {
   "cell_type": "markdown",
   "id": "33f14d65",
   "metadata": {},
   "source": [
    "## ✅ Lab Wrap-Up\n",
    "\n",
    "In this lab, you practiced working with:\n",
    "\n",
    "- **Jupyter notebooks** to combine code, markdown, and output\n",
    "- **Python data structures** like lists, tuples, dictionaries, and sets\n",
    "- **Standard and third-party libraries** to extend what Python can do\n",
    "\n",
    "These skills are essential for the rest of this course and future classes.\n",
    "\n",
    "As you move forward, keep in mind:\n",
    "\n",
    "- Which data structure fits your task best?\n",
    "- How can you write clear, documented notebooks?\n",
    "- What libraries might help you solve a problem more efficiently?\n",
    "\n",
    "Keep experimenting, learning, and collaborating. You're off to a strong start!"
   ]
  }
 ],
 "metadata": {
  "language_info": {
   "name": "python"
  }
 },
 "nbformat": 4,
 "nbformat_minor": 5
}
