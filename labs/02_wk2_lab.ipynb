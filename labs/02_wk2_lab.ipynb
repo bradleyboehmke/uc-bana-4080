{
 "cells": [
  {
   "cell_type": "markdown",
   "id": "0cc79831",
   "metadata": {},
   "source": [
    "# Week 2 Lab – Working in Jupyter, Data Structures, and Libraries\n",
    "\n",
    "<a href=\"https://colab.research.google.com/github/bradleyboehmke/uc-bana-4080/blob/main/labs/02_wk2_lab.ipynb\" target=\"_parent\"><img src=\"https://colab.research.google.com/assets/colab-badge.svg\" alt=\"Open In Colab\"/></a>\n",
    "\n",
    "**Lab Duration:** 90 minutes\n",
    "\n",
    "In this lab, you'll get hands-on practice using:\n",
    "\n",
    "* **Jupyter notebooks** for professional analysis documentation\n",
    "* **Data structures** to solve business problems\n",
    "* **Python libraries** for real-world applications\n",
    " \n",
    "This session builds on what we covered in Tuesday's class. You'll work individually and in small groups (2–4 students) to complete the following challenges."
   ]
  },
  {
   "cell_type": "markdown",
   "id": "a3fe7caa",
   "metadata": {},
   "source": [
    "## 🎯 Part 1: Creating a Professional Bio Notebook (25 minutes)\n",
    "\n",
    "You'll create a comprehensive bio notebook that demonstrates professional formatting and organization skills.\n",
    "\n",
    "**Working Style:** Small groups (2-3 students) to help each other with questions, but each person creates their own unique bio notebook.\n",
    "\n",
    "### 📋 Requirements\n",
    "Create a notebook named `professional_bio_[your_name].ipynb` with the following structure:\n",
    "\n",
    "#### Section 1: Header & Introduction\n",
    "- **Level 1 header** with your full name\n",
    "- **Professional photo** (upload or link)\n",
    "- **Brief introduction paragraph** (2-3 sentences)\n",
    "\n",
    "#### Section 2: Background & Experience  \n",
    "- **Level 2 headers** for Academic Background and Professional Experience\n",
    "- **Bulleted lists** for degrees, jobs, skills\n",
    "- **Bold/italic formatting** for emphasis on key achievements\n",
    "\n",
    "#### Section 3: Technical Skills & Goals\n",
    "- **Math equation** showing a formula relevant to your field (use LaTeX)\n",
    "- **Numbered list** of 3 career goals\n",
    "- **Link** to your LinkedIn or portfolio website\n",
    "\n",
    "#### Section 4: Code Demonstration\n",
    "- **Code cell** that calculates and displays a fun fact about yourself\n",
    "- Example: days alive, years until graduation, etc.\n",
    "- Use variables and f-string formatting\n",
    "\n",
    "### 🧾 Markdown Reference – Quick Guide\n",
    "\n",
    "**Headings:** `# Heading 1`, `## Heading 2`  \n",
    "**Formatting:** `**bold**`, `*italic*`  \n",
    "**Lists:** `- Item one` or `1. Item one`  \n",
    "**Links:** `[My Website](https://example.com)`  \n",
    "**Math:** `$E = mc^2$`  \n",
    "**Images:** `![My photo](https://example.com/me.jpg)`\n",
    "\n",
    "### 👥 Group Collaboration Guidelines\n",
    "- **Sit in groups of 2-3 students** to help each other\n",
    "- **Share markdown tips** and troubleshoot formatting issues together\n",
    "- **Each person creates their own unique bio** - no copying content!\n",
    "- **Ask group members for feedback** on structure and clarity\n",
    "- **Help each other** with technical questions about Jupyter or markdown\n",
    "\n",
    "**Work in small groups for 25 minutes - aim to complete all sections with group support!**"
   ]
  },
  {
   "cell_type": "markdown",
   "id": "5a23ba92",
   "metadata": {},
   "source": [
    "## 🏢 Part 2: Data Structures for Business Analytics (35 minutes)\n",
    "\n",
    "### 📊 Quick Review & Setup (5 minutes)\n",
    "\n",
    "**Group Discussion Table:** With your group, review the four data structures and complete the business scenarios. For each structure, discuss why it would be appropriate for the given scenario.\n",
    "\n",
    "| Data Structure | Business Scenario | Why This Structure? (Discuss in Groups) |\n",
    "|----------------|-------------------|----------------------------------------|\n",
    "| **List** | Daily sales figures for the past 30 days | ? |\n",
    "| **Tuple** | GPS coordinates of company headquarters | ? |\n",
    "| **Set** | Email addresses for newsletter subscribers | ? |\n",
    "| **Dictionary** | Customer profiles with ID, name, and plan type | ? |\n",
    "\n",
    "**Group Discussion Questions (3 minutes):**\n",
    "\n",
    "- What makes each structure suited to its business scenario?\n",
    "- What would happen if you used the wrong structure?\n",
    "- Can you think of other business examples for each structure?\n"
   ]
  },
  {
   "cell_type": "markdown",
   "id": "9c88f6a0",
   "metadata": {},
   "source": [
    "### 🎯 Business Scenario Challenges (25 minutes)\n",
    "\n",
    "#### Challenge 1: E-commerce Analytics (10 minutes)\n",
    "  You work for an online retailer analyzing customer data:\n",
    "\n",
    "  **Your Task:**\n",
    "  1. Create a `customer_orders` list with these order amounts: [45.99, 67.50, 23.75, 89.00, 156.25]\n",
    "  2. Add a new order of $78.99 to the list\n",
    "  3. Calculate and print the total revenue\n",
    "  4. Find and print the highest order value\n",
    "\n",
    "  **Group Discussion:** Why is a list appropriate here? What if orders needed to be linked to customer IDs?"
   ]
  },
  {
   "cell_type": "code",
   "execution_count": null,
   "id": "7a9f7e52",
   "metadata": {},
   "outputs": [],
   "source": [
    "# Challenge 1 workspace - E-commerce Analytics\n",
    "customer_orders = [45.99, 67.50, 23.75, 89.00, 156.25]\n",
    "\n",
    "# Add your code here:"
   ]
  },
  {
   "cell_type": "markdown",
   "id": "c5407ccb",
   "metadata": {},
   "source": [
    "#### Challenge 2: Email Marketing Campaign (10 minutes)\n",
    "\n",
    "You're managing email subscribers and need to avoid duplicates:\n",
    "\n",
    "**Your Task:**\n",
    "\n",
    "1. Create a set with these emails: `{\"john@email.com\", \"sarah@email.com\", \"mike@email.com\"}`\n",
    "2. Try adding \"john@email.com\" again - what happens?\n",
    "3. Add three new unique emails\n",
    "4. Check if \"sarah@email.com\" is in your subscriber list\n",
    "5. Print the total number of unique subscribers\n",
    "\n",
    "**Group Discussion:** What would happen if you used a list instead of a set?"
   ]
  },
  {
   "cell_type": "code",
   "execution_count": null,
   "id": "00c23271",
   "metadata": {},
   "outputs": [],
   "source": [
    "# Add your code here:"
   ]
  },
  {
   "cell_type": "markdown",
   "id": "d03d1e7d",
   "metadata": {},
   "source": [
    "#### Challenge 3: Product Catalog System (Start - may finish during Part 3)\n",
    "You need a system to look up product information quickly:\n",
    "\n",
    "**Your Task:**\n",
    "1. Create a dictionary with product IDs as keys and info as values:\n",
    "   ```python\n",
    "   catalog = {\n",
    "       \"P001\": {\"name\": \"Laptop\", \"price\": 999.99, \"stock\": 15},\n",
    "       \"P002\": {\"name\": \"Mouse\", \"price\": 29.99, \"stock\": 50}\n",
    "   }\n",
    "   ```\n",
    "2. Add a new product: \"P003\" - Keyboard, $79.99, 25 in stock\n",
    "3. Update the laptop price to $899.99\n",
    "4. Print all product names"
   ]
  },
  {
   "cell_type": "markdown",
   "id": "7a82c5f2",
   "metadata": {},
   "source": [
    "### 🧠 Final Challenge: Structure Selection (5 minutes)\n",
    "**Quick Fire Round:** For each scenario, which structure would you choose?\n",
    "\n",
    "1. **Daily website visitor counts for trend analysis**\n",
    "2. **Employee ID lookup system for HR**\n",
    "3. **GPS coordinates for delivery truck routes**\n",
    "4. **Unique hashtags mentioned in social media posts**\n",
    "\n",
    "**Team Discussion:** Justify your choices!"
   ]
  },
  {
   "cell_type": "markdown",
   "id": "92c2e9c8",
   "metadata": {},
   "source": [
    "## 🛠️ Part 3: Mastering Python Libraries (30 minutes)\n",
    "\n",
    "### 🧰 Standard Library Challenge (15 minutes)\n",
    "\n",
    "The Python Standard Library is a collection of modules that come pre-installed with Python—no additional downloads required! These modules provide ready-to-use functions for common programming tasks like working with dates, generating random numbers, and interacting with your computer's operating system. Instead of writing complex code from scratch, you can simply import these modules and use their built-in functions. You can explore the full Standard Library documentation at\n",
    "[https://docs.python.org/3/library/](https://docs.python.org/3/library/) to discover hundreds of useful modules and functions.\n",
    "\n",
    "**Today's Challenge:** Learn to import and use three essential standard library modules through hands-on practice.\n",
    "\n",
    "#### Challenge 1: Working with Dates (5 minutes)\n",
    "\n",
    "**Example:** How to get today's date"
   ]
  },
  {
   "cell_type": "code",
   "execution_count": null,
   "id": "7c36f2d5",
   "metadata": {},
   "outputs": [],
   "source": [
    "import datetime\n",
    "\n",
    "today = datetime.date.today()\n",
    "print(f\"Today's date is: {today}\")"
   ]
  },
  {
   "cell_type": "markdown",
   "id": "8efe9dc3",
   "metadata": {},
   "source": [
    "**Your Challenge**: Calculate how many days until New Year's Day (January 1, 2025). Print the result in a complete sentence."
   ]
  },
  {
   "cell_type": "code",
   "execution_count": null,
   "id": "16d3b6e5",
   "metadata": {},
   "outputs": [],
   "source": [
    "# code here"
   ]
  },
  {
   "cell_type": "markdown",
   "id": "90ba1862",
   "metadata": {},
   "source": [
    "#### Challenge 2: Random Numbers (5 minutes)\n",
    "\n",
    "**Example:** How to generate a random number"
   ]
  },
  {
   "cell_type": "code",
   "execution_count": null,
   "id": "25ffe620",
   "metadata": {},
   "outputs": [],
   "source": [
    "import random\n",
    "\n",
    "# Generate a random number between 1 and 10\n",
    "random_number = random.randint(1, 10)\n",
    "print(f\"Random number: {random_number}\")"
   ]
  },
  {
   "cell_type": "markdown",
   "id": "0a8eb215",
   "metadata": {},
   "source": [
    "**Your Challenge**: You're running a promotion where customers get a discount between 5% and 25%. Generate a random discount percentage and print: \"Your discount today is: X%\". Next, generate a random discount for 5 different customers and store the customer ID (i.e. `customer1`, `customer2`, ..., `customer5`) along with the discount rate in a dictionary."
   ]
  },
  {
   "cell_type": "code",
   "execution_count": null,
   "id": "ce1a09be",
   "metadata": {},
   "outputs": [],
   "source": [
    "# code here"
   ]
  },
  {
   "cell_type": "markdown",
   "id": "09b220d1",
   "metadata": {},
   "source": [
    "#### Challenge 3: System Information (5 minutes)\n",
    "\n",
    "**Example:** How to get your current directory"
   ]
  },
  {
   "cell_type": "code",
   "execution_count": null,
   "id": "4dcffedc",
   "metadata": {},
   "outputs": [],
   "source": [
    "import os\n",
    "\n",
    "current_directory = os.getcwd()\n",
    "print(f\"I am working in: {current_directory}\")"
   ]
  },
  {
   "cell_type": "markdown",
   "id": "2366f606",
   "metadata": {},
   "source": [
    "**Your Challenge**: Find out what operating system you're running on using os.name and print a message like \"This code is running on: [system name]\"\n",
    "\n",
    "**Hint**: Look up os.name in the Python documentation or try different os functions!"
   ]
  },
  {
   "cell_type": "code",
   "execution_count": null,
   "id": "ccad2a4f",
   "metadata": {},
   "outputs": [],
   "source": [
    "# code here"
   ]
  },
  {
   "cell_type": "markdown",
   "id": "eb0c1a54",
   "metadata": {},
   "source": [
    "### 📦 Third-Party Libraries: completejourney_py (15 minutes)\n",
    "\n",
    "In addition to the standard library, Python has thousands of third-party libraries created by the community.\n",
    "\n",
    "- These libraries provide tools for data analysis, machine learning, visualization, web development, and more.\n",
    "- Most are hosted on [PyPI](https://pypi.org/), the Python Package Index.\n",
    "- You install them using pip:\n",
    "\n",
    "```python\n",
    "# in the command line or terminal\n",
    "pip install some_package\n",
    "\n",
    "# in a jupyter notebook cell\n",
    "!pip install some_package\n",
    "```\n"
   ]
  },
  {
   "cell_type": "markdown",
   "id": "7a0758bd",
   "metadata": {},
   "source": [
    "#### 📦 Introducing completejourney_py\n",
    "\n",
    "This course uses the `completejourney_py` library to explore real-world retail data.\n",
    "\n",
    "- It includes transaction, product, and demographic datasets.  You can read about this data set [here](https://bradleyboehmke.github.io/completejourney/articles/completejourney.html) (these are the docs for the sister R package).\n",
    "- We'll use it in future labs and assignments.\n",
    "\n",
    "\n",
    "#### 🧪 Activity: Install the Library\n"
   ]
  },
  {
   "cell_type": "code",
   "execution_count": null,
   "id": "d6bb9ca6",
   "metadata": {},
   "outputs": [],
   "source": [
    "# Install the library\n",
    "!pip install completejourney_py"
   ]
  },
  {
   "cell_type": "markdown",
   "id": "67d5226a",
   "metadata": {},
   "source": [
    "If it works, try importing it:"
   ]
  },
  {
   "cell_type": "code",
   "execution_count": null,
   "id": "82afb005",
   "metadata": {},
   "outputs": [],
   "source": [
    "import completejourney_py as cj"
   ]
  },
  {
   "cell_type": "markdown",
   "id": "12d672b5",
   "metadata": {},
   "source": [
    "- What do we call it when we import a package with a different name (like cj above)?\n",
    "- Let's go ahead and import the completejourney data.  Run the following code."
   ]
  },
  {
   "cell_type": "code",
   "execution_count": null,
   "id": "82ed2775",
   "metadata": {},
   "outputs": [],
   "source": [
    "data = cj.get_data()"
   ]
  },
  {
   "cell_type": "markdown",
   "id": "9aee5310",
   "metadata": {},
   "source": [
    "Questions:\n",
    "\n",
    "1. What type of object is 'data'? (use type())\n",
    "2. If it's a dictionary, what are the keys?\n",
    "3. Run the following code to see the first few rows of the transactions data frame. We're going to start exploring this data in future labs. See if you can check out some of the other data frames too (hint: use the keys from question 2).\n"
   ]
  },
  {
   "cell_type": "code",
   "execution_count": null,
   "id": "94618ded",
   "metadata": {},
   "outputs": [],
   "source": [
    "transactions = data['transactions']\n",
    "transactions.head()"
   ]
  },
  {
   "cell_type": "markdown",
   "id": "668fb907",
   "metadata": {},
   "source": [
    "## ✅ Lab Wrap-Up\n",
    "\n",
    "In this 90-minute lab, you practiced:\n",
    "\n",
    "- **Professional Jupyter notebook creation** with comprehensive markdown formatting\n",
    "- **Business-focused data structures** through realistic scenarios\n",
    "- **Python libraries** for practical business calculations and data exploration\n",
    "\n",
    "These skills form the foundation for professional data analysis work.\n",
    "\n",
    "### Key Takeaways:\n",
    "- **Choose the right data structure** based on your business needs\n",
    "- **Document your work professionally** using markdown\n",
    "- **Leverage libraries** to solve complex problems efficiently\n",
    "- **Think like a business analyst** when approaching data problems\n",
    "\n",
    "**Next week:** We'll dive deeper into working with real datasets using pandas and continue building your data analysis toolkit!"
   ]
  }
 ],
 "metadata": {
  "kernelspec": {
   "display_name": "venv (3.12.10)",
   "language": "python",
   "name": "python3"
  },
  "language_info": {
   "codemirror_mode": {
    "name": "ipython",
    "version": 3
   },
   "file_extension": ".py",
   "mimetype": "text/x-python",
   "name": "python",
   "nbconvert_exporter": "python",
   "pygments_lexer": "ipython3",
   "version": "3.12.10"
  }
 },
 "nbformat": 4,
 "nbformat_minor": 5
}
