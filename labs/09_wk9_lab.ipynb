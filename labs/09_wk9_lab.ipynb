{
 "cells": [
  {
   "cell_type": "markdown",
   "id": "cell-0",
   "metadata": {},
   "source": [
    "# Week 9 Lab: Correlation & Regression Analysis\n",
    "\n",
    "<a href=\"https://colab.research.google.com/github/bradleyboehmke/uc-bana-4080/blob/main/labs/09_wk9_lab.ipynb\" target=\"_parent\"><img src=\"https://colab.research.google.com/assets/colab-badge.svg\" alt=\"Open In Colab\"/></a>\n",
    "\n",
    "In this lab, you'll apply correlation analysis and linear regression to real business datasets, following the complete machine learning workflow from data exploration through model evaluation. You'll work with multiple datasets to understand how businesses use these techniques to drive strategic decisions, predict outcomes, and measure model performance.\n",
    "\n",
    "## 🎯 Learning Objectives\n",
    "By the end of this lab, you will be able to:\n",
    "- Calculate and interpret correlation coefficients for business relationships\n",
    "- Build and evaluate simple and multiple linear regression models using scikit-learn\n",
    "- Apply proper train/test split methodology for honest model evaluation\n",
    "- Interpret regression coefficients and evaluation metrics in business contexts\n",
    "\n",
    "## 📚 This Lab Reinforces\n",
    "- **Chapter 21: Correlation and Linear Regression Foundations**\n",
    "- **Chapter 22: Evaluating Regression Models**\n",
    "- **Week 9 Tuesday Slides: Correlation & Regression Foundations**\n",
    "\n",
    "## 🕐 Estimated Time & Structure\n",
    "**Total Time:** 75 minutes  \n",
    "**Mode:** Group (2-4 students)\n",
    "\n",
    "- **[0–30 min]** Guided practice with correlation analysis and regression modeling\n",
    "- **[30–35 min]** Class discussion and Q&A\n",
    "- **[35–70 min]** Independent group challenges with real business datasets\n",
    "- **[70–75 min]** Lab wrap-up and homework quiz preparation\n",
    "\n",
    "You are encouraged to work in small groups of **2–4 students** and complete the lab together.\n",
    "\n",
    "## 💡 Why This Matters\n",
    "Regression analysis is one of the most widely used techniques in business analytics. From predicting sales based on advertising spend to understanding factors that drive customer satisfaction, regression provides the foundation for data-driven decision making. This lab will prepare you to build, evaluate, and interpret regression models that businesses actually use to guide strategy and operations."
   ]
  },
  {
   "cell_type": "markdown",
   "id": "cell-1",
   "metadata": {},
   "source": [
    "## Setup\n",
    "We'll work with multiple datasets today: the Advertising dataset for guided practice, and three ISLP datasets (Credit, Hitters, College) for the independent challenges. These are the same datasets used in your textbook's end-of-chapter exercises.  You can read more about the ISLP datasets at [https://islp.readthedocs.io/en/latest/data.html](https://islp.readthedocs.io/en/latest/data.html)."
   ]
  },
  {
   "cell_type": "code",
   "execution_count": null,
   "id": "cell-2",
   "metadata": {},
   "outputs": [],
   "source": [
    "# Required imports\n",
    "import pandas as pd\n",
    "import numpy as np\n",
    "import matplotlib.pyplot as plt\n",
    "from sklearn.linear_model import LinearRegression\n",
    "from sklearn.model_selection import train_test_split\n",
    "from sklearn.metrics import r2_score, mean_squared_error, mean_absolute_error, root_mean_squared_error, mean_absolute_percentage_error\n",
    "\n",
    "# Load the Advertising dataset for guided practice\n",
    "advertising = pd.read_csv(\"https://raw.githubusercontent.com/bradleyboehmke/uc-bana-4080/main/data/Advertising.csv\")\n",
    "\n",
    "# Load ISLP datasets for challenges\n",
    "from ISLP import load_data\n",
    "credit = load_data('Credit')\n",
    "hitters = load_data('Hitters')\n",
    "college = load_data('College')\n",
    "\n",
    "# Quick preview\n",
    "print(\"Advertising dataset shape:\", advertising.shape)\n",
    "print(\"Credit dataset shape:\", credit.shape)\n",
    "print(\"Hitters dataset shape:\", hitters.shape)\n",
    "print(\"College dataset shape:\", college.shape)"
   ]
  },
  {
   "cell_type": "markdown",
   "id": "cell-3",
   "metadata": {},
   "source": [
    "## Part 1 — Correlation Analysis & Interpretation (10 minutes)\n",
    "\n",
    "We'll start by reinforcing correlation analysis using the Advertising dataset - the same data from Tuesday's lecture. This will help you practice measuring relationships between business variables and interpreting correlation coefficients.\n",
    "\n",
    "### Understanding Business Relationships\n",
    "\n",
    "Correlation helps us answer questions like: \"Which advertising channels have the strongest relationship with sales?\"\n",
    "\n",
    "**📋 Step-by-step instructions:**\n",
    "1. Explore the Advertising dataset structure\n",
    "2. Calculate correlation coefficients between all variables\n",
    "3. Interpret the relationships in business terms\n",
    "4. Create visualizations to support your findings"
   ]
  },
  {
   "cell_type": "code",
   "execution_count": null,
   "id": "cell-4",
   "metadata": {},
   "outputs": [],
   "source": [
    "# Explore the advertising dataset\n",
    "print(\"Advertising Dataset Overview:\")\n",
    "print(advertising.head())\n",
    "print(\"\\nDataset Info:\")\n",
    "print(advertising.info())\n",
    "print(\"\\nSummary Statistics:\")\n",
    "print(advertising.describe())"
   ]
  },
  {
   "cell_type": "code",
   "execution_count": null,
   "id": "cell-5",
   "metadata": {},
   "outputs": [],
   "source": [
    "# Calculate correlation matrix\n",
    "correlation_matrix = advertising.corr()\n",
    "print(\"Correlation Matrix:\")\n",
    "print(correlation_matrix)\n",
    "\n",
    "# Focus on sales correlations\n",
    "print(\"\\nCorrelations with Sales:\")\n",
    "sales_correlations = correlation_matrix['sales'].drop('sales').sort_values(ascending=False)\n",
    "print(sales_correlations)"
   ]
  },
  {
   "cell_type": "markdown",
   "id": "cell-6",
   "metadata": {},
   "source": [
    "### 🧠 Your Turn — Visualizing Relationships\n",
    "\n",
    "Create scatterplots to visualize the relationships between each advertising channel and sales.\n",
    "\n",
    "**Tasks:**\n",
    "- Create a subplot with 3 scatterplots (TV vs sales, radio vs sales, newspaper vs sales)\n",
    "- Add appropriate titles and labels\n",
    "- Based on the visualizations, rank the advertising channels by relationship strength\n",
    "\n",
    "💡 **Hint:** Use `plt.subplots(1, 3, figsize=(15, 4))` to create side-by-side plots"
   ]
  },
  {
   "cell_type": "code",
   "execution_count": null,
   "id": "cell-7",
   "metadata": {},
   "outputs": [],
   "source": [
    "# Your code here\n"
   ]
  },
  {
   "cell_type": "markdown",
   "id": "cell-8",
   "metadata": {},
   "source": [
    "### ✅ Check Your Understanding\n",
    "\n",
    "Based on your correlation analysis and visualizations:\n",
    "\n",
    "**Questions to consider:**\n",
    "- Which advertising channel has the strongest linear relationship with sales?\n",
    "- What does a correlation of 0.78 vs 0.05 tell you about business strategy?\n",
    "\n",
    "**Expected Result:** TV should show the strongest correlation (~0.78), followed by radio (~0.58), with newspaper showing a very weak relationship (~0.23)."
   ]
  },
  {
   "cell_type": "markdown",
   "id": "cell-9",
   "metadata": {},
   "source": [
    "## Part 2 — Linear Regression Modeling (20 minutes)\n",
    "\n",
    "Now we'll move from measuring relationships to making predictions using linear regression. You'll build both simple and multiple regression models and learn to interpret the results for business decision-making."
   ]
  },
  {
   "cell_type": "markdown",
   "id": "cell-10",
   "metadata": {},
   "source": [
    "### Simple Linear Regression\n",
    "\n",
    "Let's start with a simple regression model predicting sales from TV advertising spend.\n",
    "\n",
    "**Example:** A marketing manager wants to know: \"If I spend $50,000 on TV advertising, what sales can I expect?\""
   ]
  },
  {
   "cell_type": "code",
   "execution_count": null,
   "id": "cell-11",
   "metadata": {},
   "outputs": [],
   "source": [
    "# Simple regression: Sales predicted by TV advertising\n",
    "X_simple = advertising[['TV']]  # Feature matrix (note double brackets)\n",
    "y = advertising['sales']  # Target variable\n",
    "\n",
    "# Fit the model\n",
    "simple_model = LinearRegression()\n",
    "simple_model.fit(X_simple, y)"
   ]
  },
  {
   "cell_type": "markdown",
   "id": "0105989b",
   "metadata": {},
   "source": [
    "Now that we've fit the model, let's interpret the coefficients. Based on the model output, we can say that for every additional $1,000 spent on TV advertising, sales increase by approximately $48. The intercept indicates that if no money is spent on TV advertising, the baseline sales would be around $7,033."
   ]
  },
  {
   "cell_type": "code",
   "execution_count": null,
   "id": "9292b4f9",
   "metadata": {},
   "outputs": [],
   "source": [
    "# Extract results\n",
    "print(f\"Simple Regression Results:\")\n",
    "print(f\"Intercept: {simple_model.intercept_:.3f}\")\n",
    "print(f\"TV Coefficient: {simple_model.coef_[0]:.3f}\")\n",
    "print(f\"\\nEquation: Sales = {simple_model.intercept_:.3f} + {simple_model.coef_[0]:.3f} × TV\")"
   ]
  },
  {
   "cell_type": "markdown",
   "id": "2865383d",
   "metadata": {},
   "source": [
    "We can also make predictions. For example, if the marketing manager spends $50,000 on TV advertising, we can predict sales using the regression equation."
   ]
  },
  {
   "cell_type": "code",
   "execution_count": null,
   "id": "4abbd217",
   "metadata": {},
   "outputs": [],
   "source": [
    "# Make a prediction\n",
    "tv_spend = pd.DataFrame({'TV': [50]})\n",
    "predicted_sales = simple_model.predict(tv_spend)\n",
    "print(f\"\\nPrediction: $50k TV spend → {predicted_sales[0]:.2f} sales units\")"
   ]
  },
  {
   "cell_type": "markdown",
   "id": "ca1c7649",
   "metadata": {},
   "source": [
    "However, simple models can miss important factors. Let's expand to multiple regression and train a model that includes all three advertising channels."
   ]
  },
  {
   "cell_type": "code",
   "execution_count": null,
   "id": "cell-12",
   "metadata": {},
   "outputs": [],
   "source": [
    "# Multiple regression: Sales predicted by all advertising channels\n",
    "X_multiple = advertising[['TV', 'radio', 'newspaper']]\n",
    "\n",
    "# Fit the model\n",
    "multiple_model = LinearRegression()\n",
    "multiple_model.fit(X_multiple, y)"
   ]
  },
  {
   "cell_type": "markdown",
   "id": "6e8359ba",
   "metadata": {},
   "source": [
    "If we assess the coefficients of the multiple regression model, we find that TV and radio advertising both have positive impacts on sales, while newspaper advertising has a negligible effect. This suggests that the marketing manager should prioritize TV and radio channels for advertising spend."
   ]
  },
  {
   "cell_type": "code",
   "execution_count": null,
   "id": "eada42b0",
   "metadata": {},
   "outputs": [],
   "source": [
    "# Extract results\n",
    "print(f\"Multiple Regression Results:\")\n",
    "print(f\"Intercept: {multiple_model.intercept_:.3f}\")\n",
    "for feature, coef in zip(X_multiple.columns, multiple_model.coef_):\n",
    "    print(f\"{feature} Coefficient: {coef:.3f}\")"
   ]
  },
  {
   "cell_type": "markdown",
   "id": "c03aff0c",
   "metadata": {},
   "source": [
    "If we compare the R² values, we see that the multiple regression model explains significantly more variance in sales than the simple model, indicating a better fit."
   ]
  },
  {
   "cell_type": "code",
   "execution_count": null,
   "id": "1e1ef3b7",
   "metadata": {},
   "outputs": [],
   "source": [
    "# Compare R² values\n",
    "simple_r2 = simple_model.score(X_simple, y)\n",
    "multiple_r2 = multiple_model.score(X_multiple, y)\n",
    "print(f\"\\nSimple Model R²: {simple_r2:.3f}\")\n",
    "print(f\"Multiple Model R²: {multiple_r2:.3f}\")\n",
    "print(f\"Improvement: {multiple_r2 - simple_r2:.3f}\")"
   ]
  },
  {
   "cell_type": "markdown",
   "id": "cell-13",
   "metadata": {},
   "source": [
    "### 🧪 Practice Exercise — Model Evaluation with Train/Test Split\n",
    "\n",
    "**Business Scenario:** The marketing team wants to know how well their advertising prediction model will perform on future data. They need honest performance estimates before making budget decisions.\n",
    "\n",
    "**Your Task:** Implement proper train/test evaluation for the multiple regression model.\n",
    "\n",
    "**Step-by-step approach:**\n",
    "1. Split the data into training (70%) and test (30%) sets using `random_state=42`\n",
    "2. Train the multiple regression model on training data only\n",
    "3. Calculate R², RMSE, and MAE for both training and test sets\n",
    "4. Interpret the results: Is the model overfitting, underfitting, or generalizing well?"
   ]
  },
  {
   "cell_type": "code",
   "execution_count": null,
   "id": "cell-14",
   "metadata": {},
   "outputs": [],
   "source": [
    "# Your solution here\n"
   ]
  },
  {
   "cell_type": "markdown",
   "id": "cell-15",
   "metadata": {},
   "source": [
    "## Class Discussion/Q&A (5 minutes)\n",
    "\n",
    "**Discussion prompts:**\n",
    "- How do you interpret the difference between training and test performance?\n",
    "- Which evaluation metric (R², RMSE, MAE) would be most useful for marketing budget planning?\n",
    "- What business questions can regression analysis help answer?\n",
    "\n",
    "**Common blockers and clarifications:**\n",
    "- Remember that correlation ≠ causation - regression shows associations, not causal relationships\n",
    "- Train/test splits simulate real-world deployment where models make predictions on unseen data"
   ]
  },
  {
   "cell_type": "markdown",
   "id": "cell-16",
   "metadata": {},
   "source": [
    "## Part 3 — Independent Group Challenges (35 minutes)\n",
    "\n",
    "For the next three challenges, you'll work through complete regression workflows that directly prepare you for this week's homework quiz. The specific numerical results you obtain from these challenges will be used to answer questions on the Canvas quiz due Sunday.\n",
    "\n",
    "* You will not be given starter code to work with; rather, you need to start from a blank cell.\n",
    "* **DO NOT USE AI** to generate code for you. This is a group exercise, and you should be writing the code together.\n",
    "* Work with your group to write the code.\n",
    "* Feel free to ask questions or seek help from the instructor.\n",
    "* We'll stop and walk through each challenge together after each time block.\n",
    "* **Important**: Pay close attention to the specific parameters (random_state values, train/test splits) as these will generate the exact numerical answers needed for your homework quiz."
   ]
  },
  {
   "cell_type": "markdown",
   "id": "cell-17",
   "metadata": {},
   "source": [
    "### Challenge 1 — Credit Card Balance Analysis (12 minutes)\n",
    "\n",
    "**Business Question:** A regional bank wants to understand the factors that drive customers' credit card balances to improve their risk assessment models.\n",
    "\n",
    "**Your Task:** Using the Credit dataset, complete the following specific steps:\n",
    "\n",
    "1. **Correlation Analysis**: Calculate correlations between `Balance` and these variables: `Income`, `Limit`, `Age`. Based on the correlation values, which variable seems to be most strongly (and positively) correlated with the customer's credit card balance?\n",
    "\n",
    "2. **Data Splitting**: Split data into train/test sets (70/30 split, random_state=123). How many observations are in your train vs. test sets?\n",
    "\n",
    "3. **Model Building**: Build a simple regression model predicting `Balance` from `Income` using training data. Be sure to fit the model on the training data!\n",
    "\n",
    "4. **Coefficient Interpretation**: Extract the Income coefficient (round to 2 decimal places). Based on this coefficient, how would you explain the relationship between a customer's income and their credit card balance to the bank CEO?\n",
    "\n",
    "5. **Prediction**: Use your model to predict the credit card balance for someone with income = 115 (representing $115,000). What is the expected credit card balance for customers with this income level?\n",
    "\n",
    "6. **Model Evaluation**: Calculate the RMSE on the training and test set. Based on these values, does it appear the model generalizes well or does under/overfitting appear to be an issue? Based on the test set RMSE, how would you interpret this metric in business context?\n",
    "\n",
    "**Context:** These specific results will be used in your homework quiz, so record your numerical answers carefully."
   ]
  },
  {
   "cell_type": "code",
   "execution_count": null,
   "id": "cell-18",
   "metadata": {},
   "outputs": [],
   "source": [
    "# Your turn: write code here to analyze credit card balance relationships\n"
   ]
  },
  {
   "cell_type": "markdown",
   "id": "cell-19",
   "metadata": {},
   "source": [
    "### Challenge 2 — Baseball Salary Analysis (12 minutes)\n",
    "\n",
    "**Business Question:** A baseball team's general manager wants to understand what drives player salaries to make better contract decisions.\n",
    "\n",
    "**Your Task:** Complete these specific steps:\n",
    "\n",
    "1. **Data Cleaning**: Remove rows with missing salary data using `hitters.dropna(subset=['Salary'])`. How many players were removed due to missing salary information?\n",
    "\n",
    "2. **Data Splitting**: Split into train/test sets (70/30, random_state=456). How many players are in your training vs. test sets?\n",
    "\n",
    "3. **Multiple Regression**: Build a model predicting `Salary` from `Years`, `Hits`, and `RBI`. Why do you think these three variables might be important for determining a player's salary?\n",
    "\n",
    "4. **Coefficient Analysis**: Extract coefficients for all three predictors (round to 2 decimal places). Which factor appears to have the strongest impact on salary? Is this what you expected?\n",
    "\n",
    "5. **Business Interpretation**: Based on your coefficients, how would you explain to the team's owner what drives player salaries? Which statistic should they focus on when evaluating potential signings?\n",
    "\n",
    "6. **Model Performance**: Calculate train and test R² values. Based on the difference between these values, does the model show signs of overfitting? What does this mean for using the model to predict salaries for new players?\n",
    "\n",
    "7. **Prediction**: Predict salary for a player with: Years=10, Hits=150, RBI=75. How much should the team expect to pay a player with these statistics?\n",
    "\n",
    "**Context:** Record your specific numerical results for the homework quiz."
   ]
  },
  {
   "cell_type": "code",
   "execution_count": null,
   "id": "cell-20",
   "metadata": {},
   "outputs": [],
   "source": [
    "# Your turn: write code here to predict baseball salaries\n"
   ]
  },
  {
   "cell_type": "markdown",
   "id": "cell-21",
   "metadata": {},
   "source": [
    "### Challenge 3 — College Applications Analysis (11 minutes)\n",
    "\n",
    "**Business Question:** An education consultant needs to advise colleges on factors that drive application numbers.\n",
    "\n",
    "**Your Task:** Complete these specific steps:\n",
    "\n",
    "1. **Data Preparation**: Create dummy variables for `Private` using `pd.get_dummies(drop_first=True)`. After encoding, what are the column names in your feature matrix? What does `Private_Yes = 1` represent?\n",
    "\n",
    "2. **Data Splitting**: Split into train/test sets (75/25, random_state=789). How many colleges are in your training vs. test sets?\n",
    "\n",
    "3. **Multiple Regression**: Build a model predicting `Apps` using `Top10perc`, `Outstate`, and `Private_Yes`. Why might these three factors influence the number of applications a college receives?\n",
    "\n",
    "4. **Coefficient Analysis**: Extract all coefficients (round to 1 decimal place). Which factor has the largest positive impact on applications? Which factor might discourage applications?\n",
    "\n",
    "5. **Categorical Interpretation**: Focus on the `Private_Yes` coefficient. How would you explain to a college president the difference in applications between private and public institutions? Do private colleges receive more or fewer applications than public colleges, holding other factors constant?\n",
    "\n",
    "6. **Model Validation**: Calculate test set RMSE and R² values. Based on the R² value, how much of the variation in college applications does your model explain? Is this a useful level of predictive power?\n",
    "\n",
    "7. **Business Prediction**: Predict applications for a private college with Top10perc=75 and Outstate=25000. If you were consulting for this college, what would you tell them about their expected application volume compared to similar institutions?\n",
    "\n",
    "**Context:** These specific numerical results will appear on your homework quiz."
   ]
  },
  {
   "cell_type": "code",
   "execution_count": null,
   "id": "cell-22",
   "metadata": {},
   "outputs": [],
   "source": [
    "# Your turn: write code here to analyze college applications\n",
    "# 💡 Tip: When working with mixed data types (numeric + categorical), it's best to handle them separately \n",
    "# and then combine them with `pd.concat()`. Here's starter code for Challenge 3, Task 1:\n",
    "college_encoded = pd.concat([\n",
    "    college[['Top10perc', 'Outstate']], \n",
    "    pd.get_dummies(college[['Private']], drop_first=True)\n",
    "], axis=1)"
   ]
  },
  {
   "cell_type": "markdown",
   "id": "pakhfq0mqc",
   "metadata": {},
   "source": [
    "## 🎓 Lab Wrap-Up & Reflection\n",
    "\n",
    "### ✅ What You Accomplished\n",
    "In this lab, you practiced:\n",
    "- Calculating and interpreting correlation coefficients for business relationships\n",
    "- Building simple and multiple linear regression models with scikit-learn\n",
    "- Implementing proper train/test evaluation methodology\n",
    "- Interpreting regression coefficients and evaluation metrics in business contexts\n",
    "\n",
    "### 🤔 Reflection Questions\n",
    "Take 2-3 minutes to consider:\n",
    "- What was the most surprising relationship you discovered in the data?\n",
    "- How would you explain the importance of train/test splits to a business manager?\n",
    "- Which evaluation metric (R², RMSE, MAE) do you think is most useful for business decisions?\n",
    "\n",
    "### 🔗 Connection to Course Goals\n",
    "This lab bridges exploratory data analysis and predictive modeling - core skills for any business analyst. You've learned to move from \"what happened?\" (correlation) to \"what will happen?\" (regression) to \"how confident should we be?\" (evaluation).\n",
    "\n",
    "### 📋 Next Steps\n",
    "- **Homework:** Complete the Canvas quiz using your numerical results from today's challenges (due Sunday)\n",
    "- **Next Tuesday:** Classification models - predicting categorical outcomes (spam vs not spam, click vs not click)\n",
    "- **Additional Practice:** Explore additional ISLP datasets (https://islp.readthedocs.io/en/latest/data.html) and practice applying linear regression\n",
    "\n",
    "---\n",
    "**💾 Save your work** and be ready to share your findings and business recommendations. Your Canvas quiz will ask specific questions about the numerical results from today's three challenges."
   ]
  },
  {
   "cell_type": "markdown",
   "id": "cell-24",
   "metadata": {},
   "source": [
    "## 🚨 Troubleshooting & Common Issues\n",
    "\n",
    "**Issue 1:** \"ValueError: Input contains NaN values\"\n",
    "- **Solution:** Use `.dropna()` or `.fillna()` to handle missing values before fitting models\n",
    "\n",
    "**Issue 2:** \"X has 1 feature(s) but LinearRegression is expecting X features\"\n",
    "- **Solution:** Make sure to use double brackets `[[column]]` for single features or ensure consistent feature selection between training and prediction\n",
    "\n",
    "**Issue 3:** Dummy encoding not working properly\n",
    "- **Solution:** Use `pd.get_dummies(data, drop_first=True)` to avoid multicollinearity\n",
    "\n",
    "**Issue 4:** \"RuntimeWarning: invalid value encountered in matmul\" in Challenge 3\n",
    "- **Problem:** Applying `pd.get_dummies()` to both numeric and categorical columns together\n",
    "- **Solution:** Only apply dummy encoding to categorical variables. For Challenge 3, use:\n",
    "  ```python\n",
    "  # Correct approach: separate numeric and categorical processing\n",
    "  college_encoded = pd.concat([\n",
    "      college[['Top10perc', 'Outstate']], \n",
    "      pd.get_dummies(college[['Private']], drop_first=True)\n",
    "  ], axis=1)\n",
    "  ```\n",
    "\n",
    "**General Debugging Tips:**\n",
    "- Always check data shapes with `.shape` before fitting models\n",
    "- Print intermediate results to verify your data transformations\n",
    "- Use the same random_state value specified in challenges for reproducible results"
   ]
  }
 ],
 "metadata": {
  "kernelspec": {
   "display_name": "venv (3.12.10)",
   "language": "python",
   "name": "python3"
  },
  "language_info": {
   "codemirror_mode": {
    "name": "ipython",
    "version": 3
   },
   "file_extension": ".py",
   "mimetype": "text/x-python",
   "name": "python",
   "nbconvert_exporter": "python",
   "pygments_lexer": "ipython3",
   "version": "3.12.10"
  }
 },
 "nbformat": 4,
 "nbformat_minor": 5
}
