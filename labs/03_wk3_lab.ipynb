{
 "cells": [
  {
   "cell_type": "markdown",
   "id": "55d2b126",
   "metadata": {},
   "source": [
    "# Week 3 Lab — Importing, Exploring, and Subsetting DataFrames\n",
    "\n",
    "<a href=\"https://colab.research.google.com/github/bradleyboehmke/uc-bana-4080/blob/main/labs/03_wk3_lab.ipynb\" target=\"_parent\"><img src=\"https://colab.research.google.com/assets/colab-badge.svg\" alt=\"Open In Colab\"/></a>\n",
    "\n",
    "**Estimated time:** 60–75 minutes  \n",
    "**Mode:** Group-first, then Q&A, then group challenges\n",
    "\n",
    "In this lab, you will:\n",
    "- Import tabular data into a Pandas DataFrame\n",
    "- Explore the structure and attributes of your dataset\n",
    "- Apply subsetting techniques to filter rows and columns\n",
    "- Build flexible filtering logic to answer different questions\n",
    "\n",
    "This session builds on what we covered in Tuesday’s class and the reading lessons you should've read prior to today's Lab. You’ll work with a small group (2–4 students) and complete the Lab together.\n",
    "\n",
    "We will use the **[New York Times College COVID-19](https://github.com/nytimes/covid-19-data/tree/master/colleges)** dataset for our analysis.  And since we will rely on the Pandas library, make sure you have it installed in your Python environment. If you're using Google Colab, Pandas is typically pre-installed.\n"
   ]
  },
  {
   "cell_type": "code",
   "execution_count": null,
   "id": "2c3a8508",
   "metadata": {},
   "outputs": [],
   "source": [
    "import pandas as pd"
   ]
  },
  {
   "cell_type": "markdown",
   "id": "a6573323",
   "metadata": {},
   "source": [
    "## ⏱️ Plan\n",
    "- **0–30 min (Group Work):** Import + explore + basic subsetting  \n",
    "- **30–40 min (Class Q&A):** Surface blockers + clarify concepts  \n",
    "- **40–70 min (Group Challenges):** Three analysis challenges (10 min each)  \n",
    "- **70–75 min (Wrap):** Shareouts + next steps\n"
   ]
  },
  {
   "cell_type": "markdown",
   "id": "187297e1",
   "metadata": {},
   "source": [
    "## Part A — Group Work (first 30 minutes)\n",
    "\n",
    "### A1. Import the data\n",
    "Dataset URL:  \n",
    "```\n",
    "https://raw.githubusercontent.com/nytimes/covid-19-data/refs/heads/master/colleges/colleges.csv\n",
    "```\n",
    "**Task:** Load into a DataFrame named `college_df` and preview it.\n"
   ]
  },
  {
   "cell_type": "code",
   "execution_count": null,
   "id": "aa825caf",
   "metadata": {},
   "outputs": [],
   "source": [
    "import pandas as pd\n",
    "\n",
    "data_url = \"https://raw.githubusercontent.com/nytimes/covid-19-data/refs/heads/master/colleges/colleges.csv\"\n",
    "college_df = pd.read_csv(data_url)\n",
    "college_df.head()"
   ]
  },
  {
   "cell_type": "markdown",
   "id": "5228b64e",
   "metadata": {},
   "source": [
    "### A2. Get your bearings\n",
    "**Tasks:**\n",
    "1. List the **columns**\n",
    "2. Show the **first 20 rows**\n",
    "3. Report the **shape** (rows × columns)\n",
    "4. Show the **dtypes**\n",
    "5. Count **missing values** per column\n"
   ]
  },
  {
   "cell_type": "code",
   "execution_count": null,
   "id": "94f92899",
   "metadata": {},
   "outputs": [],
   "source": [
    "# 1) Columns\n",
    "college_df.columns"
   ]
  },
  {
   "cell_type": "code",
   "execution_count": null,
   "id": "ad9f17fc",
   "metadata": {},
   "outputs": [],
   "source": [
    "# 2) First 20 rows\n",
    "college_df.head(20)"
   ]
  },
  {
   "cell_type": "code",
   "execution_count": null,
   "id": "cee4f7d7",
   "metadata": {},
   "outputs": [],
   "source": [
    "# 3) Last 20 rows\n",
    "college_df.tail(20)"
   ]
  },
  {
   "cell_type": "code",
   "execution_count": null,
   "id": "d608272b",
   "metadata": {},
   "outputs": [],
   "source": [
    "# 4) Dimensions (rows, columns)\n",
    "college_df.shape"
   ]
  },
  {
   "cell_type": "code",
   "execution_count": null,
   "id": "786cf26c",
   "metadata": {},
   "outputs": [],
   "source": [
    "# 5) Data types & missing values (Null vs. Non-Null) for each column\n",
    "college_df.info()"
   ]
  },
  {
   "cell_type": "markdown",
   "id": "59334984",
   "metadata": {},
   "source": [
    "### A3. Focus the frame\n",
    "\n",
    "This dataset includes many columns, but for this exercise, we're going to focus only on:\n",
    "\n",
    "* `state`\n",
    "* `city`\n",
    "* `college`\n",
    "* `cases`\n",
    "\n",
    "Let's select just these columns and preview the first 10 rows.\n"
   ]
  },
  {
   "cell_type": "code",
   "execution_count": null,
   "id": "e8ca1075",
   "metadata": {},
   "outputs": [],
   "source": [
    "college_cases_df = college_df[[\"state\", \"city\", \"college\", \"cases\"]]\n",
    "college_cases_df.head(10)"
   ]
  },
  {
   "cell_type": "markdown",
   "id": "1edf4151",
   "metadata": {},
   "source": [
    "### A4. Quick subsetting reps\n"
   ]
  },
  {
   "cell_type": "markdown",
   "id": "62b0fb15",
   "metadata": {},
   "source": [
    "- Filter to **Ohio** rows with **cases > 100**\n",
    "- Count how many such rows"
   ]
  },
  {
   "cell_type": "markdown",
   "id": "8fe4cb14",
   "metadata": {},
   "source": [
    "Let's say we wanted to filter the DataFrame to only include rows where the `state` is \"Ohio\".  Recall we can use the following code snippet:\n"
   ]
  },
  {
   "cell_type": "code",
   "execution_count": null,
   "id": "9f48d885",
   "metadata": {},
   "outputs": [],
   "source": [
    "ohio_colleges = college_cases_df[\"state\"] == \"Ohio\"\n",
    "college_cases_df.loc[ohio_colleges]"
   ]
  },
  {
   "cell_type": "markdown",
   "id": "a0970447",
   "metadata": {},
   "source": [
    "Let's see how many cases we had across all Ohio colleges:"
   ]
  },
  {
   "cell_type": "code",
   "execution_count": null,
   "id": "81f8fee9",
   "metadata": {},
   "outputs": [],
   "source": [
    "ohio_college_cases = college_cases_df.loc[ohio_colleges]\n",
    "print(f\"Total Ohio cases: {ohio_college_cases['cases'].sum()}\")"
   ]
  },
  {
   "cell_type": "markdown",
   "id": "46cc66e3",
   "metadata": {},
   "source": [
    "Now let's say we wanted to filter the DataFrame to only include rows where the `state` is \"Ohio\" and the `cases` are greater than 100. We can combine these conditions using the `&` operator:"
   ]
  },
  {
   "cell_type": "code",
   "execution_count": null,
   "id": "9bb2229a",
   "metadata": {},
   "outputs": [],
   "source": [
    "over_100 = college_cases_df[\"cases\"] > 100\n",
    "ohio_over_100 = college_cases_df.loc[ohio_colleges & over_100]\n",
    "ohio_over_100"
   ]
  },
  {
   "cell_type": "code",
   "execution_count": null,
   "id": "b9c2a2cc",
   "metadata": {},
   "outputs": [],
   "source": [
    "# How many rows meet the criteria?\n",
    "ohio_over_100.shape[0]"
   ]
  },
  {
   "cell_type": "markdown",
   "id": "9fb86b95",
   "metadata": {},
   "source": [
    "### A5. A specific school\n",
    "\n",
    "Now let's see how we can filter the DataFrame to focus on a specific college, such as the University of Cincinnati (UC).\n",
    "\n",
    "- Filter rows where `college == \"University of Cincinnati\"`\n",
    "- How many cases were reported at UC?\n"
   ]
  },
  {
   "cell_type": "code",
   "execution_count": null,
   "id": "ab2120bc",
   "metadata": {},
   "outputs": [],
   "source": [
    "uc_df = college_cases_df[college_cases_df[\"college\"] == \"University of Cincinnati\"]\n",
    "uc_df"
   ]
  },
  {
   "cell_type": "markdown",
   "id": "631c35ea",
   "metadata": {},
   "source": [
    "If you get done before the 30 minutes are up, go ahead and adjust the above code to:\n",
    "\n",
    "* Filter for a different college, such as \"Ohio State University\" or \"Miami University\".  \n",
    "* How many cases were reported at that college?  \n",
    "* What about the University of Dayton?  How many cases were reported there?\n",
    "* How many cases were reported in Ohio compared to Kentucky?"
   ]
  },
  {
   "cell_type": "markdown",
   "id": "85f2b635",
   "metadata": {},
   "source": [
    "## Class Q&A (10 minutes)\n",
    "\n",
    "Prompts:\n",
    "- Any concerns with reading the CSV?\n",
    "- `.head()`, `.info()`, `.describe()` — when do you use each?\n",
    "- Series vs DataFrame — what clicked? what’s fuzzy?\n",
    "- `.loc` vs `[]` — when prefer which?\n"
   ]
  },
  {
   "cell_type": "markdown",
   "id": "bb3c655f",
   "metadata": {},
   "source": [
    "## Part B — Group Challenges (10 min each)\n",
    "\n",
    "For the next several challenges...\n",
    "\n",
    "* You will not be given starter code to work with; rather, you need to start from a blank cell.\n",
    "* **DO NOT USE AI** to generate code for you.  This is a group exercise, and you should be writing the code together.\n",
    "* Work with your group to write the code.\n",
    "* Feel free to ask questions or seek help from the instructor.\n",
    "* We'll stop and walk through each challenge together after the 10 minute time block is up.\n",
    "\n"
   ]
  },
  {
   "cell_type": "markdown",
   "id": "117ee689",
   "metadata": {},
   "source": [
    "### Challenge 1 — Tri-State Totals\n",
    "\n",
    "**Question:** What were the **total number of COVID cases** across all **Ohio, Indiana, and Kentucky** colleges?\n"
   ]
  },
  {
   "cell_type": "code",
   "execution_count": null,
   "id": "10ab3f2c",
   "metadata": {},
   "outputs": [],
   "source": [
    "# Your turn: write code here to compute the total cases for OH, IN, KY\n",
    "\n"
   ]
  },
  {
   "cell_type": "markdown",
   "id": "b9687e4a",
   "metadata": {},
   "source": [
    "### Challenge 2 — Community Colleges vs Others\n",
    "**Question:** What is the **average number of cases** across all **community colleges**?  \n",
    "Use name-based detection (e.g., `college.str.contains(\"Community\", case=False, na=False)`).  \n",
    "**Then compare**: Is this average **greater or lesser** than the average for **non‑community** schools?\n"
   ]
  },
  {
   "cell_type": "code",
   "execution_count": null,
   "id": "2b27fceb",
   "metadata": {},
   "outputs": [],
   "source": [
    "# Your turn: write code here to compute the average cases for community colleges\n",
    "\n",
    "# Then compute the average for non-community colleges and compare\n",
    "\n",
    "# Then use a comparison operator to see if the average cases for community colleges is greater than non-community colleges\n"
   ]
  },
  {
   "cell_type": "markdown",
   "id": "107af96b",
   "metadata": {},
   "source": [
    "### Challenge 3 — Community Colleges in OH/IN/KY\n",
    "**Question:** Among **community colleges** in **OH, IN, KY**, what is the **average number of cases**?  \n",
    "How does this compare to **all community colleges nationwide**?\n"
   ]
  },
  {
   "cell_type": "code",
   "execution_count": null,
   "id": "72af737f",
   "metadata": {},
   "outputs": [],
   "source": [
    "# Your turn: write code here to compare the average cases for community colleges in OH/IN/KY\n",
    "# vs the national community college average\n",
    "\n"
   ]
  },
  {
   "cell_type": "markdown",
   "id": "7e2b5f4c",
   "metadata": {},
   "source": [
    "### Challenge 4 — Top 5 Colleges\n",
    "\n",
    "**Question:** What are the **top 5 colleges** with the **highest number of cases**?  Hint: there are two methods you can use to get this answer.\n",
    "\n",
    "If you figure that out, now see if you can find the **top 5 colleges** with the **lowest number of cases**. Is this a fair assessment of the situation?  Why or why not?  How many colleges had zero cases?"
   ]
  },
  {
   "cell_type": "code",
   "execution_count": null,
   "id": "1496eefb",
   "metadata": {},
   "outputs": [],
   "source": [
    "# Your turn: write code here to compute the top 5 colleges with the highest number of cases\n",
    "## Then compute the top 5 colleges with the lowest number of cases\n"
   ]
  },
  {
   "cell_type": "markdown",
   "id": "96745b6e",
   "metadata": {},
   "source": [
    "### Challenge 5 — Top 5 Ohio Colleges\n",
    "\n",
    "**Question:** What are the **top 5 Ohio colleges** with the **highest number of cases**?  Now what about the **top 5 Ohio colleges** with the **lowest number of cases**. How many Ohio colleges had zero cases?"
   ]
  },
  {
   "cell_type": "code",
   "execution_count": null,
   "id": "aaf7d571",
   "metadata": {},
   "outputs": [],
   "source": [
    "# Your turn: write code here to compute the top 5 Ohio colleges with the highest and lowest number of cases\n",
    "\n"
   ]
  },
  {
   "cell_type": "markdown",
   "id": "5fd6d7b4",
   "metadata": {},
   "source": [
    "## (Optional) Brainstorm — What else is interesting?\n",
    "Write **3 questions** you’d like to explore with this dataset in future weeks.\n",
    "\n",
    "Examples to spark ideas (don’t answer now):\n",
    "- Top 5 states by average cases per college?\n",
    "- Trends by institution type (university vs community college)?\n",
    "- Largest city-level clusters?\n"
   ]
  },
  {
   "cell_type": "markdown",
   "id": "211c3752",
   "metadata": {},
   "source": [
    "---\n",
    "**Save your work** and be ready to share your group’s approach and findings.\n"
   ]
  }
 ],
 "metadata": {
  "kernelspec": {
   "display_name": "venv (3.12.10)",
   "language": "python",
   "name": "python3"
  },
  "language_info": {
   "codemirror_mode": {
    "name": "ipython",
    "version": 3
   },
   "file_extension": ".py",
   "mimetype": "text/x-python",
   "name": "python",
   "nbconvert_exporter": "python",
   "pygments_lexer": "ipython3",
   "version": "3.12.10"
  }
 },
 "nbformat": 4,
 "nbformat_minor": 5
}
