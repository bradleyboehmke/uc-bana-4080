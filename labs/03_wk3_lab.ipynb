{
 "cells": [
  {
   "cell_type": "markdown",
   "id": "55d2b126",
   "metadata": {},
   "source": [
    "# Week 3 Lab — Become a Data Detective 🔍\n",
    "\n",
    "<a href=\"https://colab.research.google.com/github/bradleyboehmke/uc-bana-4080/blob/main/labs/03_wk3_lab_update.ipynb\" target=\"_parent\"><img src=\"https://colab.research.google.com/assets/colab-badge.svg\" alt=\"Open In Colab\"/></a>\n",
    "\n",
    "## 🎯 Learning Objectives\n",
    "By the end of this lab, you will be able to:\n",
    "- Import tabular data into a Pandas DataFrame using multiple methods\n",
    "- Systematically explore dataset structure using data detective techniques\n",
    "- Distinguish between DataFrames and Series and know when to use each\n",
    "- Apply professional subsetting techniques to filter and select data\n",
    "\n",
    "## 📚 This Lab Reinforces\n",
    "- **Chapter 7**: Importing Data (file paths, data types, inspection methods)\n",
    "- **Chapter 8**: DataFrames (Series, indexing, attributes vs methods)\n",
    "- **Chapter 9**: Subsetting (filtering, selection, `.loc[]` best practices)\n",
    "\n",
    "## 🕐 Estimated Time & Structure\n",
    "**Total Time:** 75 minutes  \n",
    "**Mode:** Group-first, then Q&A, then group challenges\n",
    "\n",
    "- **[0–40 min]** Part A: Guided Data Detective Training\n",
    "- **[40–50 min]** Class Q&A: Surface blockers + clarify concepts\n",
    "- **[50–75 min]** Part B: Independent Group Challenges\n",
    "\n",
    "You are encouraged to work in small groups of **2–4 students** and complete the lab together.\n",
    "\n",
    "## 💡 Why This Matters\n",
    "Every data scientist starts a new project the same way: importing unknown data and systematically exploring it to understand what stories it might tell. Today you'll develop the professional habits that data detectives use to quickly assess, understand, and subset any dataset—skills that will serve you in every analysis you do.\n",
    "\n",
    "We will use the **[New York Times College COVID-19](https://github.com/nytimes/covid-19-data/tree/master/colleges)** dataset for our analysis."
   ]
  },
  {
   "cell_type": "markdown",
   "id": "a6573323",
   "metadata": {},
   "source": [
    "## Setup\n",
    "Since we will rely on the Pandas library, make sure you have it installed in your Python environment. If you're using Google Colab, Pandas is typically pre-installed."
   ]
  },
  {
   "cell_type": "code",
   "execution_count": null,
   "id": "2c3a8508",
   "metadata": {},
   "outputs": [],
   "source": [
    "import pandas as pd"
   ]
  },
  {
   "cell_type": "markdown",
   "id": "187297e1",
   "metadata": {},
   "source": [
    "## Part A — Guided Data Detective Training (40 minutes)\n",
    "\n",
    "### A1. Import the Dataset (5 minutes)\n",
    "\n",
    "**The Data Detective's First Step:** Every investigation starts with getting the data into your workspace.\n",
    "\n",
    "Dataset URL:  \n",
    "```\n",
    "https://raw.githubusercontent.com/nytimes/covid-19-data/refs/heads/master/colleges/colleges.csv\n",
    "```\n",
    "\n",
    "**📋 Your Task:** Load into a DataFrame named `college_df` and take your first look."
   ]
  },
  {
   "cell_type": "code",
   "execution_count": null,
   "id": "aa825caf",
   "metadata": {},
   "outputs": [],
   "source": [
    "# Import the dataset\n",
    "data_url = \"https://raw.githubusercontent.com/nytimes/covid-19-data/refs/heads/master/colleges/colleges.csv\"\n",
    "college_df = pd.read_csv(data_url)\n",
    "college_df.head()"
   ]
  },
  {
   "cell_type": "markdown",
   "id": "5228b64e",
   "metadata": {},
   "source": [
    "### A2. Systematic Data Investigation (10 minutes)\n",
    "\n",
    "**The Data Detective's Toolkit:** Before analyzing any dataset, professional data scientists ask the same systematic questions. Let's learn the essential detective methods.\n",
    "\n",
    "**📋 Detective Questions to Answer:**\n",
    "1. **\"How big is this dataset?\"** → Use `.shape`\n",
    "2. **\"What variables do I have?\"** → Use `.columns`\n",
    "3. **\"What does the data look like?\"** → Use `.head()` and `.tail()`\n",
    "4. **\"What types of data am I working with?\"** → Use `.dtypes` and `.info()`\n",
    "5. **\"Any missing data issues?\"** → Check `.info()` output"
   ]
  },
  {
   "cell_type": "code",
   "execution_count": null,
   "id": "94f92899",
   "metadata": {},
   "outputs": [],
   "source": [
    "# Detective Question 1: Dataset dimensions\n",
    "print(f\"Dataset shape: {college_df.shape}\")\n",
    "print(f\"This dataset has {college_df.shape[0]} rows and {college_df.shape[1]} columns\")"
   ]
  },
  {
   "cell_type": "code",
   "execution_count": null,
   "id": "b8c5a1f0",
   "metadata": {},
   "outputs": [],
   "source": [
    "# Detective Question 2: What variables are available?\n",
    "college_df.columns"
   ]
  },
  {
   "cell_type": "code",
   "execution_count": null,
   "id": "ad9f17fc",
   "metadata": {},
   "outputs": [],
   "source": [
    "# Detective Question 3: First look at the data\n",
    "college_df.head()"
   ]
  },
  {
   "cell_type": "code",
   "execution_count": null,
   "id": "cee4f7d7",
   "metadata": {},
   "outputs": [],
   "source": [
    "# Detective Question 3 continued: Last few rows\n",
    "college_df.tail()"
   ]
  },
  {
   "cell_type": "code",
   "execution_count": null,
   "id": "786cf26c",
   "metadata": {},
   "outputs": [],
   "source": [
    "# Detective Questions 4 & 5: Data types and missing values\n",
    "college_df.info()"
   ]
  },
  {
   "cell_type": "markdown",
   "id": "a7b9c2d1",
   "metadata": {},
   "source": [
    "### A2.5. DataFrame vs Series Mastery (5 minutes)\n",
    "\n",
    "**Essential Concept:** Understanding the difference between DataFrames and Series is crucial for effective data analysis.\n",
    "\n",
    "**🧪 Experiment:** Run each code block below and observe the differences."
   ]
  },
  {
   "cell_type": "code",
   "execution_count": null,
   "id": "series_comparison_1",
   "metadata": {},
   "outputs": [],
   "source": [
    "# Single brackets = Series\n",
    "cases_series = college_df['cases']\n",
    "print(f\"Type: {type(cases_series)}\")\n",
    "print(f\"Shape: {cases_series.shape}\")\n",
    "print(\"\\nFirst few values:\")\n",
    "cases_series.head()"
   ]
  },
  {
   "cell_type": "code",
   "execution_count": null,
   "id": "series_comparison_2",
   "metadata": {},
   "outputs": [],
   "source": [
    "# Double brackets = DataFrame\n",
    "cases_dataframe = college_df[['cases']]\n",
    "print(f\"Type: {type(cases_dataframe)}\")\n",
    "print(f\"Shape: {cases_dataframe.shape}\")\n",
    "print(\"\\nFirst few values:\")\n",
    "cases_dataframe.head()"
   ]
  },
  {
   "cell_type": "code",
   "execution_count": null,
   "id": "series_comparison_3",
   "metadata": {},
   "outputs": [],
   "source": [
    "# Multiple columns = DataFrame\n",
    "multiple_cols = college_df[['state', 'college', 'cases']]\n",
    "print(f\"Type: {type(multiple_cols)}\")\n",
    "print(f\"Shape: {multiple_cols.shape}\")\n",
    "multiple_cols.head()"
   ]
  },
  {
   "cell_type": "markdown",
   "id": "series_key_insight",
   "metadata": {},
   "source": [
    "**🔑 Key Insight:** Use `[[]]` when you want to keep working with DataFrame methods!"
   ]
  },
  {
   "cell_type": "markdown",
   "id": "a2_6_attributes_methods",
   "metadata": {},
   "source": [
    "### A2.6. Attributes vs Methods (3 minutes)\n",
    "\n",
    "**Detective Tool Classification:** Understanding when to use parentheses makes you look professional.\n",
    "\n",
    "**📋 Quick Classification Exercise:**"
   ]
  },
  {
   "cell_type": "code",
   "execution_count": null,
   "id": "attributes_demo",
   "metadata": {},
   "outputs": [],
   "source": [
    "# Attributes (no parentheses needed) - these are \"ID card\" information\n",
    "print(\"ATTRIBUTES (basic properties):\")\n",
    "print(f\"Shape: {college_df.shape}\")\n",
    "print(f\"Columns: {list(college_df.columns)}\")\n",
    "print(f\"Data types: {college_df.dtypes.to_dict()}\")"
   ]
  },
  {
   "cell_type": "code",
   "execution_count": null,
   "id": "methods_demo",
   "metadata": {},
   "outputs": [],
   "source": [
    "# Methods (parentheses required) - these DO something\n",
    "print(\"METHODS (actions that return results):\")\n",
    "print(\"\\nFirst 3 rows:\")\n",
    "print(college_df.head(3))\n",
    "print(\"\\nSummary info:\")\n",
    "college_df.info()"
   ]
  },
  {
   "cell_type": "markdown",
   "id": "memory_trick",
   "metadata": {},
   "source": [
    "**💡 Memory Trick:** Methods = Actions = Parentheses!"
   ]
  },
  {
   "cell_type": "markdown",
   "id": "59334984",
   "metadata": {},
   "source": [
    "### A3. Focus the Investigation (5 minutes)\n",
    "\n",
    "**Data Detective Principle:** Real investigations focus on relevant variables. This dataset includes many columns, but for this exercise, we're going to focus only on:\n",
    "\n",
    "* `state`\n",
    "* `city`\n",
    "* `college`\n",
    "* `cases`\n",
    "\n",
    "**📋 Your Task:** Select just these columns and preview the focused dataset."
   ]
  },
  {
   "cell_type": "code",
   "execution_count": null,
   "id": "e8ca1075",
   "metadata": {},
   "outputs": [],
   "source": [
    "# Create a focused dataset with key variables\n",
    "college_cases_df = college_df[['state', 'city', 'college', 'cases']]\n",
    "print(f\"Focused dataset shape: {college_cases_df.shape}\")\n",
    "college_cases_df.head(10)"
   ]
  },
  {
   "cell_type": "markdown",
   "id": "a3_5_index_exploration",
   "metadata": {},
   "source": [
    "### A3.5. Index Investigation (5 minutes)\n",
    "\n",
    "**Professional Practice:** Understanding and setting meaningful indexes makes data access faster and code more readable.\n",
    "\n",
    "**🔍 Index Detective Work:**"
   ]
  },
  {
   "cell_type": "code",
   "execution_count": null,
   "id": "index_exploration_1",
   "metadata": {},
   "outputs": [],
   "source": [
    "# What's our current index?\n",
    "print(\"Current index:\")\n",
    "print(college_cases_df.index)\n",
    "print(\"\\nIndex type:\", type(college_cases_df.index))"
   ]
  },
  {
   "cell_type": "code",
   "execution_count": null,
   "id": "index_exploration_2",
   "metadata": {},
   "outputs": [],
   "source": [
    "# Would a different column make a better index?\n",
    "# Let's check if college names are unique (good for indexing)\n",
    "total_colleges = len(college_cases_df)\n",
    "unique_colleges = college_cases_df['college'].nunique()\n",
    "print(f\"Total rows: {total_colleges}\")\n",
    "print(f\"Unique colleges: {unique_colleges}\")\n",
    "print(f\"Are college names unique? {total_colleges == unique_colleges}\")"
   ]
  },
  {
   "cell_type": "code",
   "execution_count": null,
   "id": "index_exploration_3",
   "metadata": {},
   "outputs": [],
   "source": [
    "# Since college names aren't unique, let's try a different approach\n",
    "# Create a copy with college names as index for demonstration\n",
    "college_indexed = college_cases_df.set_index('college')\n",
    "print(\"Sample of college-indexed data:\")\n",
    "college_indexed.head()\n",
    "\n",
    "# Try looking up a specific college\n",
    "# college_indexed.loc['University of Cincinnati']"
   ]
  },
  {
   "cell_type": "markdown",
   "id": "1edf4151",
   "metadata": {},
   "source": [
    "### A4. Professional Subsetting Practice (7 minutes)\n",
    "\n",
    "**Data Detective Skills:** Learning to filter and subset data efficiently using `.loc[]` - the professional standard.\n",
    "\n",
    "**📋 Step-by-Step Filtering Training:**"
   ]
  },
  {
   "cell_type": "code",
   "execution_count": null,
   "id": "ohio_filter_demo",
   "metadata": {},
   "outputs": [],
   "source": [
    "# Step 1: Create a condition (True/False for each row)\n",
    "ohio_condition = college_cases_df['state'] == 'Ohio'\n",
    "print(\"First 10 values of our condition:\")\n",
    "print(ohio_condition.head(10))\n",
    "print(f\"\\nNumber of Ohio colleges: {ohio_condition.sum()}\")"
   ]
  },
  {
   "cell_type": "code",
   "execution_count": null,
   "id": "ohio_filter_apply",
   "metadata": {},
   "outputs": [],
   "source": [
    "# Step 2: Apply the filter using .loc[]\n",
    "ohio_colleges = college_cases_df.loc[ohio_condition]\n",
    "print(f\"Ohio colleges dataset shape: {ohio_colleges.shape}\")\n",
    "ohio_colleges.head()"
   ]
  },
  {
   "cell_type": "code",
   "execution_count": null,
   "id": "ohio_total_cases",
   "metadata": {},
   "outputs": [],
   "source": [
    "# Step 3: Analyze the filtered data\n",
    "total_ohio_cases = ohio_colleges['cases'].sum()\n",
    "print(f\"Total COVID cases across all Ohio colleges: {total_ohio_cases:,}\")"
   ]
  },
  {
   "cell_type": "code",
   "execution_count": null,
   "id": "complex_filtering",
   "metadata": {},
   "outputs": [],
   "source": [
    "# Advanced filtering: Combine multiple conditions\n",
    "high_case_condition = college_cases_df['cases'] > 100\n",
    "ohio_high_cases = college_cases_df.loc[ohio_condition & high_case_condition]\n",
    "\n",
    "print(f\"Ohio colleges with >100 cases: {ohio_high_cases.shape[0]}\")\n",
    "ohio_high_cases.head()"
   ]
  },
  {
   "cell_type": "code",
   "execution_count": null,
   "id": "specific_school_demo",
   "metadata": {},
   "outputs": [],
   "source": [
    "# Professional technique: Look up a specific school\n",
    "uc_condition = college_cases_df['college'] == 'University of Cincinnati'\n",
    "uc_data = college_cases_df.loc[uc_condition]\n",
    "print(\"University of Cincinnati COVID data:\")\n",
    "uc_data"
   ]
  },
  {
   "cell_type": "markdown",
   "id": "85f2b635",
   "metadata": {},
   "source": [
    "## Class Q&A (10 minutes)\n",
    "\n",
    "**Discussion prompts:**\n",
    "- Any concerns with importing data from URLs vs. file paths?\n",
    "- DataFrame vs Series distinction - what clicked? What's still confusing?\n",
    "- Attributes vs Methods - when do you use parentheses?\n",
    "- `.loc[]` vs `[]` for filtering - which feels more professional and why?\n",
    "- Index concepts - when would you set a custom index?\n",
    "\n",
    "**Common blockers and clarifications:**\n",
    "- Forgetting parentheses on methods\n",
    "- Confusing `[]` vs `[[]]` for column selection\n",
    "- Using `and`/`or` instead of `&`/`|` in pandas conditions"
   ]
  },
  {
   "cell_type": "markdown",
   "id": "bb3c655f",
   "metadata": {},
   "source": [
    "## Part B — Independent Group Challenges (25 minutes)\n",
    "\n",
    "For the next several challenges...\n",
    "\n",
    "* You will not be given starter code to work with; rather, you need to start from a blank cell.\n",
    "* **DO NOT USE AI** to generate code for you. This is a group exercise, and you should be writing the code together.\n",
    "* Work with your group to write the code.\n",
    "* Feel free to ask questions or seek help from the instructor.\n",
    "* We'll stop and walk through each challenge together after each 5-minute time block.\n",
    "\n",
    "**Professional Practice:** Use `.loc[]` for all filtering operations in these challenges."
   ]
  },
  {
   "cell_type": "markdown",
   "id": "117ee689",
   "metadata": {},
   "source": [
    "### Challenge 1 — DataFrame vs Series Mastery (5 minutes)\n",
    "\n",
    "**Question:** Extract the `cases` column from `college_cases_df` in **two different ways**:\n",
    "1. As a **Series** and calculate the total cases using `.sum()`\n",
    "2. As a **DataFrame** and calculate the total cases using `.sum()`\n",
    "\n",
    "**Follow-up:** What's the difference in the output? When might you prefer each approach?"
   ]
  },
  {
   "cell_type": "code",
   "execution_count": null,
   "id": "10ab3f2c",
   "metadata": {},
   "outputs": [],
   "source": [
    "# Your turn: extract cases as Series and DataFrame, calculate totals\n"
   ]
  },
  {
   "cell_type": "markdown",
   "id": "b9687e4a",
   "metadata": {},
   "source": [
    "### Challenge 2 — Professional Index Usage (5 minutes)\n",
    "\n",
    "**Question:** Create a version of `college_cases_df` with `state` as the index. Then use `.loc[]` to:\n",
    "1. Look up all colleges in **Ohio**\n",
    "2. Look up all colleges in **California** \n",
    "3. Compare the total cases between these two states\n",
    "\n",
    "**Hint:** When state is the index, you can use `.loc['Ohio']` for lookups."
   ]
  },
  {
   "cell_type": "code",
   "execution_count": null,
   "id": "2b27fceb",
   "metadata": {},
   "outputs": [],
   "source": [
    "# Your turn: set state as index and practice lookups\n"
   ]
  },
  {
   "cell_type": "markdown",
   "id": "107af96b",
   "metadata": {},
   "source": [
    "### Challenge 3 — Complex Filtering with .loc[] (5 minutes)\n",
    "\n",
    "**Question:** Using `.loc[]`, find colleges that meet **ALL** of these criteria:\n",
    "1. Located in **Ohio, Indiana, or Kentucky**\n",
    "2. Have **more than 50 cases**\n",
    "3. Return only the `college` and `cases` columns\n",
    "\n",
    "**Hint:** Use the `.isin()` method for multiple state matching and `&` for combining conditions."
   ]
  },
  {
   "cell_type": "code",
   "execution_count": null,
   "id": "72af737f",
   "metadata": {},
   "outputs": [],
   "source": [
    "# Your turn: complex multi-condition filtering with .loc[]\n"
   ]
  },
  {
   "cell_type": "markdown",
   "id": "7e2b5f4c",
   "metadata": {},
   "source": [
    "### Challenge 4 — Advanced Data Detective Work (5 minutes)\n",
    "\n",
    "**Question:** Find **community colleges** using name-based detection and compare them to **all other colleges**:\n",
    "\n",
    "1. Use `.str.contains(\"Community\", case=False, na=False)` to identify community colleges\n",
    "2. Calculate the **average cases** for community colleges\n",
    "3. Calculate the **average cases** for non-community colleges\n",
    "4. Which type has higher average cases?\n",
    "\n",
    "**Hint:** Use `~` (tilde) to negate a condition for \"not community colleges\"."
   ]
  },
  {
   "cell_type": "code",
   "execution_count": null,
   "id": "1496eefb",
   "metadata": {},
   "outputs": [],
   "source": [
    "# Your turn: community college analysis\n"
   ]
  },
  {
   "cell_type": "markdown",
   "id": "96745b6e",
   "metadata": {},
   "source": [
    "### Challenge 5 — Professional Ranking Analysis (5 minutes)\n",
    "\n",
    "**Question:** Use professional pandas methods to find:\n",
    "\n",
    "1. **Top 5 colleges** with the highest cases (use `.nlargest()`)\n",
    "2. **Top 5 Ohio colleges** with the highest cases\n",
    "3. **Bottom 5 colleges** with the lowest cases (use `.nsmallest()`)\n",
    "\n",
    "**Discussion:** Are the lowest-case results meaningful? What might explain very low case counts?"
   ]
  },
  {
   "cell_type": "code",
   "execution_count": null,
   "id": "aaf7d571",
   "metadata": {},
   "outputs": [],
   "source": [
    "# Your turn: ranking analysis with .nlargest() and .nsmallest()\n"
   ]
  },
  {
   "cell_type": "markdown",
   "id": "5fd6d7b4",
   "metadata": {},
   "source": [
    "## 🎯 (Optional) Extension Activities\n",
    "\n",
    "If you finish early or want additional practice:\n",
    "\n",
    "### Extension 1: File Path Practice\n",
    "If you have the dataset downloaded locally, practice importing it using relative paths instead of the URL.\n",
    "\n",
    "### Extension 2: Index Optimization\n",
    "Experiment with different columns as indexes. Which ones make sense for the types of lookups you're doing?\n",
    "\n",
    "### Extension 3: Brainstorm — What else is interesting?\n",
    "Write **3 questions** you'd like to explore with this dataset in future weeks.\n",
    "\n",
    "Examples to spark ideas:\n",
    "- Which states have the highest average cases per college?\n",
    "- How do case numbers vary by institution type?\n",
    "- Are there geographic patterns in the data?"
   ]
  },
  {
   "cell_type": "markdown",
   "id": "211c3752",
   "metadata": {},
   "source": [
    "## 🎓 Lab Wrap-Up & Reflection\n",
    "\n",
    "### ✅ What You Accomplished\n",
    "In this lab, you practiced:\n",
    "- **Systematic data investigation** using the data detective methodology\n",
    "- **DataFrame vs Series distinction** and when to use each\n",
    "- **Professional subsetting** with `.loc[]` for filtering and selection\n",
    "- **Index manipulation** for more efficient data access\n",
    "- **Attributes vs methods** for clean, professional-looking code\n",
    "\n",
    "### 🤔 Reflection Questions\n",
    "Take 2-3 minutes to consider:\n",
    "- Which data detective technique will you use first on every new dataset?\n",
    "- When would you choose a Series vs DataFrame for your analysis?\n",
    "- How does using `.loc[]` make your code more professional?\n",
    "\n",
    "### 🔗 Connection to Course Goals\n",
    "These foundational skills in systematic data exploration and professional subsetting techniques will be essential for every analysis you do in this course and your career. You now have the tools to confidently approach any dataset and extract the insights that matter.\n",
    "\n",
    "### 📋 Next Steps\n",
    "- **Before next Tuesday:** Read Chapters 7-9 to reinforce today's concepts\n",
    "- **Next Tuesday:** Data manipulation and aggregation techniques\n",
    "- **Additional Practice:** Try applying these detective techniques to other datasets\n",
    "\n",
    "---\n",
    "**💾 Save your work** and be ready to share your approach and findings. Your systematic approach to data exploration will serve you well in every future analysis!"
   ]
  },
  {
   "cell_type": "markdown",
   "id": "troubleshooting_section",
   "metadata": {},
   "source": [
    "## 🚨 Troubleshooting & Common Issues\n",
    "\n",
    "**Issue 1:** `KeyError` when accessing columns\n",
    "- **Solution:** Check exact column names using `df.columns` - they're case-sensitive!\n",
    "\n",
    "**Issue 2:** Forgetting parentheses on methods\n",
    "- **Solution:** Remember: Methods = Actions = Parentheses. `df.head()` not `df.head`\n",
    "\n",
    "**Issue 3:** Using `and`/`or` instead of `&`/`|` in pandas conditions\n",
    "- **Solution:** Always use `&` (and) and `|` (or) with pandas, and wrap conditions in parentheses\n",
    "\n",
    "**Issue 4:** Confusing Series vs DataFrame outputs\n",
    "- **Solution:** Use `type()` to check what you're working with. Use `[[]]` to keep DataFrames.\n",
    "\n",
    "**General Debugging Tips:**\n",
    "- Use `.shape` to verify your filtering worked as expected\n",
    "- Use `.head()` to preview results before running complex operations\n",
    "- Break complex conditions into separate variables for easier debugging"
   ]
  }
 ],
 "metadata": {
  "kernelspec": {
   "display_name": "venv (3.12.10)",
   "language": "python",
   "name": "python3"
  },
  "language_info": {
   "codemirror_mode": {
    "name": "ipython",
    "version": 3
   },
   "file_extension": ".py",
   "mimetype": "text/x-python",
   "name": "python",
   "nbconvert_exporter": "python",
   "pygments_lexer": "ipython3",
   "version": "3.12.10"
  }
 },
 "nbformat": 4,
 "nbformat_minor": 5
}
