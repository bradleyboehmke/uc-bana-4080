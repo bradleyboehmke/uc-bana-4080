{
 "cells": [
  {
   "cell_type": "markdown",
   "metadata": {},
   "source": [
    "# TA Guidance: Week 4 Lab – Data Wrangling - From Business Question to Analysis\n",
    "\n",
    "## 🎯 Lab Overview\n",
    "\n",
    "**Duration**: 75 minutes  \n",
    "**Focus**: Data manipulation, aggregation, and joining with business context  \n",
    "**Key Skills**: pandas operations, business analysis, data wrangling workflows\n",
    "\n",
    "### Learning Objectives\n",
    "By the end of this lab, students will be able to:\n",
    "1. **Apply data manipulation techniques** to answer real business questions\n",
    "2. **Perform joins and aggregations** to combine datasets for analysis\n",
    "3. **Translate business requirements** into analytical code\n",
    "4. **Work systematically** through complex data analysis workflows\n",
    "\n",
    "### Connection to Course Content\n",
    "- **Tuesday Slides**: Data manipulation, joining, aggregation concepts\n",
    "- **Readings 10-12**: Manipulating Data, Summarizing Data, Joining Data\n",
    "- **Business Focus**: Real-world retail analytics scenarios"
   ]
  },
  {
   "cell_type": "markdown",
   "metadata": {},
   "source": [
    "## 📚 Pre-Lab Preparation\n",
    "\n",
    "### Setup and Technical Considerations\n",
    "- **Data Loading**: Uses `completejourney_py` package - students may need to install\n",
    "- **Common Issues**: \n",
    "  - Package installation problems\n",
    "  - Understanding the business scenario context\n",
    "  - Confusion about join keys (household_key vs household_id)\n",
    "- **Time Management**: This lab has 12+ questions - students will NOT finish all during class\n",
    "\n",
    "### Key Teaching Points\n",
    "1. **Business Context Matters**: Every analysis serves a real business need\n",
    "2. **Systematic Approach**: Break complex questions into steps\n",
    "3. **Data Quality**: Always check for missing values and data issues\n",
    "4. **Progressive Complexity**: Start simple, build to advanced joins and aggregations\n",
    "\n",
    "### Grouping Strategy\n",
    "- **Group Size**: 2-4 students\n",
    "- **Roles**: Consider rotating who \"drives\" the coding\n",
    "- **Pacing**: Allow groups to work at different speeds\n",
    "- **Support**: Provide hints rather than complete solutions during class"
   ]
  },
  {
   "cell_type": "markdown",
   "metadata": {},
   "source": [
    "## 🔧 Setup and Data Loading"
   ]
  },
  {
   "cell_type": "code",
   "execution_count": null,
   "metadata": {},
   "outputs": [],
   "source": [
    "# If you don't have completejourney_py installed, run: pip install completejourney-py\n",
    "from completejourney_py import get_data\n",
    "import pandas as pd\n",
    "import numpy as np\n",
    "\n",
    "# Load datasets\n",
    "cj_data = get_data()\n",
    "transactions = cj_data['transactions']\n",
    "products = cj_data['products']\n",
    "demographics = cj_data['demographics']\n",
    "\n",
    "# Quick preview\n",
    "print(\"Transactions shape:\", transactions.shape)\n",
    "print(\"Products shape:\", products.shape) \n",
    "print(\"Demographics shape:\", demographics.shape)\n",
    "\n",
    "# Show key columns\n",
    "print(\"\\nTransactions columns:\", list(transactions.columns))\n",
    "print(\"Products columns:\", list(products.columns))\n",
    "print(\"Demographics columns:\", list(demographics.columns))"
   ]
  },
  {
   "cell_type": "markdown",
   "metadata": {},
   "source": [
    "## 📋 Complete Solutions Guide\n",
    "\n",
    "### ⚠️ Teaching Notes:\n",
    "- **Use these solutions for preparation and support**\n",
    "- **Don't show complete solutions during class** - provide hints and guidance\n",
    "- **Focus on the analytical thinking process** rather than just the code\n",
    "- **Emphasize business interpretation** of results"
   ]
  },
  {
   "cell_type": "markdown",
   "metadata": {},
   "source": [
    "## Part 1 – Data Audit & Basic Exploration\n",
    "\n",
    "### Q0: Data Audit\n",
    "**Teaching Focus**: Understanding your dataset before analysis\n",
    "**Common Issues**: Students skip this step - emphasize its importance\n",
    "**Time Estimate**: 5-7 minutes"
   ]
  },
  {
   "cell_type": "code",
   "execution_count": null,
   "metadata": {},
   "outputs": [],
   "source": [
    "# Q0 COMPLETE SOLUTION\n",
    "\n",
    "# Total number of transactions\n",
    "num_transactions = transactions.shape[0]\n",
    "print(f\"Total transactions: {num_transactions:,}\")\n",
    "\n",
    "# Date range of transactions\n",
    "min_date = transactions['transaction_timestamp'].min()\n",
    "max_date = transactions['transaction_timestamp'].max()\n",
    "print(f\"Date range: {min_date} to {max_date}\")\n",
    "\n",
    "# Number of unique households and products\n",
    "num_households = demographics.shape[0]\n",
    "num_products = products.shape[0]\n",
    "print(f\"Households with demographics: {num_households:,}\")\n",
    "print(f\"Total products: {num_products:,}\")\n",
    "\n",
    "# Summary statistics for sales_value\n",
    "min_sales = transactions['sales_value'].min()\n",
    "max_sales = transactions['sales_value'].max()\n",
    "mean_sales = transactions['sales_value'].mean()\n",
    "print(f\"Sales value - Min: ${min_sales:.2f}, Max: ${max_sales:.2f}, Mean: ${mean_sales:.2f}\")\n",
    "\n",
    "# Additional insights for teaching\n",
    "print(f\"\\nUnique households in transactions: {transactions['household_id'].nunique():,}\")\n",
    "print(f\"Unique products in transactions: {transactions['product_id'].nunique():,}\")"
   ]
  },
  {
   "cell_type": "markdown",
   "metadata": {},
   "source": [
    "**💡 Teaching Points for Q0:**\n",
    "- This is a **massive retail dataset** - 2.5M+ transactions\n",
    "- **Date range spans 2+ years** - includes seasonal patterns\n",
    "- **Not all households** in demographics appear in transactions\n",
    "- **Sales values can be negative** (returns/adjustments)"
   ]
  },
  {
   "cell_type": "markdown",
   "metadata": {},
   "source": [
    "### Q1: Peak Sales Day Analysis\n",
    "**Teaching Focus**: Date manipulation and groupby operations\n",
    "**Common Issues**: \n",
    "- Forgetting `.dt.date` for date extraction\n",
    "- Confusion about groupby syntax\n",
    "**Time Estimate**: 6-8 minutes"
   ]
  },
  {
   "cell_type": "code",
   "execution_count": null,
   "metadata": {},
   "outputs": [],
   "source": [
    "# Q1 COMPLETE SOLUTION\n",
    "\n",
    "# Step 1: Create a date column from transaction_timestamp\n",
    "transactions['date'] = transactions['transaction_timestamp'].dt.date\n",
    "\n",
    "# Step 2: Group by date and sum sales_value\n",
    "daily_sales = transactions.groupby(['date'])['sales_value'].sum()\n",
    "\n",
    "# Step 3: Sort in descending order and get the top result\n",
    "peak_sales_day = daily_sales.sort_values(ascending=False).head(1)\n",
    "\n",
    "print(\"Day with highest total sales:\")\n",
    "print(peak_sales_day)\n",
    "print(f\"\\nPeak sales amount: ${peak_sales_day.values[0]:,.2f}\")\n",
    "\n",
    "# Additional business insights for discussion\n",
    "print(\"\\nTop 5 sales days:\")\n",
    "top_5_days = daily_sales.sort_values(ascending=False).head(5)\n",
    "for date, sales in top_5_days.items():\n",
    "    print(f\"{date}: ${sales:,.2f}\")"
   ]
  },
  {
   "cell_type": "markdown",
   "metadata": {},
   "source": [
    "**💡 Teaching Points for Q1:**\n",
    "- **Business Impact**: This informs $2M+ in labor cost decisions\n",
    "- **Date extraction**: `.dt.date` removes time component\n",
    "- **Peak day patterns**: Often holiday-related (discuss seasonality)\n",
    "- **Operations implications**: How would you staff this peak day?"
   ]
  },
  {
   "cell_type": "markdown",
   "metadata": {},
   "source": [
    "### Q2: Top Departments by Sales\n",
    "**Teaching Focus**: Joins and aggregation\n",
    "**Common Issues**: \n",
    "- Join syntax confusion\n",
    "- Forgetting to specify join columns\n",
    "**Time Estimate**: 6-8 minutes"
   ]
  },
  {
   "cell_type": "code",
   "execution_count": null,
   "metadata": {},
   "outputs": [],
   "source": [
    "# Q2 COMPLETE SOLUTION\n",
    "\n",
    "# Step 1: Join transactions to products on product_id\n",
    "merged_data = transactions.merge(products, on='product_id', how='inner')\n",
    "\n",
    "# Step 2: Group by department and sum sales_value\n",
    "dept_sales = merged_data.groupby('department')['sales_value'].sum()\n",
    "\n",
    "# Step 3: Sort and display top 5 departments\n",
    "top_5_depts = dept_sales.sort_values(ascending=False).head(5)\n",
    "\n",
    "print(\"Top 5 departments by total sales:\")\n",
    "for dept, sales in top_5_depts.items():\n",
    "    print(f\"{dept}: ${sales:,.2f}\")\n",
    "\n",
    "# Additional insights\n",
    "total_sales = dept_sales.sum()\n",
    "print(f\"\\nTop department represents {top_5_depts.iloc[0]/total_sales:.1%} of total sales\")"
   ]
  },
  {
   "cell_type": "markdown",
   "metadata": {},
   "source": [
    "**💡 Teaching Points for Q2:**\n",
    "- **Store management**: Which departments deserve prime floor space?\n",
    "- **Inner join**: Only keeps products that exist in both datasets\n",
    "- **Business insight**: Grocery typically dominates, but what's #2?\n",
    "- **Strategic decisions**: How would this influence promotional budgets?"
   ]
  },
  {
   "cell_type": "markdown",
   "metadata": {},
   "source": [
    "## Part 2 – Pricing & Data Quality Analysis\n",
    "\n",
    "### Q3: Average Unit Price by Department\n",
    "**Teaching Focus**: Creating calculated columns and handling data quality\n",
    "\n",
    "**Common Issues**: \n",
    "- Division by zero (quantity = 0)\n",
    "- Missing values in calculations\n",
    "\n",
    "**Time Estimate**: 8-10 minutes"
   ]
  },
  {
   "cell_type": "code",
   "execution_count": null,
   "metadata": {},
   "outputs": [],
   "source": [
    "# Q3 COMPLETE SOLUTION\n",
    "\n",
    "# Step 1: Create unit_price column\n",
    "transactions['unit_price'] = transactions['sales_value'] / transactions['quantity']\n",
    "\n",
    "# Step 2: Join transactions to products to bring in department\n",
    "merged_data = transactions.merge(products, on='product_id', how='inner')\n",
    "\n",
    "# Step 3: Calculate average unit price by department\n",
    "avg_unit_price = merged_data.groupby('department')['unit_price'].mean()\n",
    "\n",
    "print(\"Average unit price by department:\")\n",
    "avg_unit_price.sort_values(ascending=False)"
   ]
  },
  {
   "cell_type": "markdown",
   "metadata": {},
   "source": [
    "**💡 Teaching Points for Q3:**\n",
    "- **Pricing strategy**: Which departments have premium positioning?\n",
    "- **Data quality**: Division by zero creates infinite values\n",
    "- **Business context**: How do these prices compare to competitors?\n",
    "- **Calculated columns**: Creating new metrics from existing data"
   ]
  },
  {
   "cell_type": "markdown",
   "metadata": {},
   "source": [
    "### Q4: Data Quality Investigation\n",
    "**Teaching Focus**: Data quality assessment and troubleshooting\n",
    "\n",
    "**Common Issues**: \n",
    "- Not understanding why missing values occur\n",
    "- Forgetting to investigate root causes\n",
    "  \n",
    "**Time Estimate**: 5-7 minutes"
   ]
  },
  {
   "cell_type": "code",
   "execution_count": null,
   "metadata": {},
   "outputs": [],
   "source": [
    "# Q4 COMPLETE SOLUTION\n",
    "\n",
    "# Check for missing values in unit_price\n",
    "missing_unit_prices = transactions['unit_price'].isna().sum()\n",
    "print(f\"Missing unit prices: {missing_unit_prices:,}\")\n",
    "\n",
    "# Check for infinite values (division by zero)\n",
    "infinite_unit_prices = np.isinf(transactions['unit_price']).sum()\n",
    "print(f\"Infinite unit prices: {infinite_unit_prices:,}\")\n",
    "\n",
    "# Investigate the cause - quantity = 0\n",
    "zero_quantity = (transactions['quantity'] == 0).sum()\n",
    "print(f\"Transactions with quantity = 0: {zero_quantity:,}\")\n",
    "\n",
    "# Show some examples\n",
    "print(\"\\nExamples of zero quantity transactions:\")\n",
    "zero_qty_examples = transactions[transactions['quantity'] == 0].head()\n",
    "print(zero_qty_examples[['sales_value', 'quantity', 'unit_price']].head())\n",
    "\n",
    "# Business interpretation\n",
    "total_transactions = len(transactions)\n",
    "percent_problematic = (zero_quantity / total_transactions) * 100\n",
    "print(f\"\\nProblematic transactions: {percent_problematic:.2f}% of total\")"
   ]
  },
  {
   "cell_type": "markdown",
   "metadata": {},
   "source": [
    "**💡 Teaching Points for Q4:**\n",
    "- **Finance impact**: Bad data affects financial reporting accuracy\n",
    "- **Root cause analysis**: Always investigate WHY missing values occur\n",
    "- **Business context**: Zero quantity might be returns or adjustments\n",
    "- **Data cleaning**: How would you handle these cases in production?"
   ]
  },
  {
   "cell_type": "markdown",
   "metadata": {},
   "source": [
    "## Part 3 – Customer Segmentation & Behavioral Analysis\n",
    "\n",
    "### Q5: Income Level Spending Analysis\n",
    "\n",
    "**Teaching Focus**: Joining demographic data and customer segmentation\n",
    "\n",
    "**Common Issues**: \n",
    "- Confusion about join keys (household_key vs household_id)\n",
    "- Not understanding income level categories\n",
    "\n",
    "**Time Estimate**: 8-10 minutes"
   ]
  },
  {
   "cell_type": "code",
   "execution_count": null,
   "metadata": {},
   "outputs": [],
   "source": [
    "# Q5 COMPLETE SOLUTION\n",
    "\n",
    "# Step 1: Join transactions to demographics\n",
    "# Note: Check the actual column names in your dataset\n",
    "merged_data = transactions.merge(demographics, on='household_id', how='inner')\n",
    "\n",
    "# Step 2-4: Group by income, calculate mean, and sort\n",
    "income_spending = merged_data.groupby('income')['sales_value'].mean().sort_values(ascending=False)\n",
    "\n",
    "print(\"Average spending by income level:\")\n",
    "print(income_spending)\n",
    "\n",
    "# Additional business insights\n",
    "print(\"\\nCustomer count by income level:\")\n",
    "income_counts = merged_data.groupby('income')['household_id'].nunique().sort_values(ascending=False)\n",
    "print(income_counts)"
   ]
  },
  {
   "cell_type": "code",
   "execution_count": null,
   "metadata": {},
   "outputs": [],
   "source": [
    "# Marketing budget allocation insight\n",
    "print(\"\\nMarketing Priority Analysis:\")\n",
    "marketing_data = pd.DataFrame({\n",
    "    'avg_spending': income_spending,\n",
    "    'household_count': income_counts\n",
    "})\n",
    "\n",
    "marketing_data['total_potential'] = marketing_data['avg_spending'] * marketing_data['household_count']\n",
    "print(marketing_data.sort_values('total_potential', ascending=False))"
   ]
  },
  {
   "cell_type": "markdown",
   "metadata": {},
   "source": [
    "**💡 Teaching Points for Q5:**\n",
    "- **Marketing strategy**: Higher income doesn't always mean higher spending per transaction\n",
    "- **Customer segmentation**: Different income levels have different shopping patterns\n",
    "- **Budget allocation**: Consider both spending level AND customer count\n",
    "- **Join keys**: household_key connects transactions to demographics"
   ]
  },
  {
   "cell_type": "markdown",
   "metadata": {},
   "source": [
    "### Q6: Family vs Non-Family Spending\n",
    "**Teaching Focus**: Handling non-numeric categorical data\n",
    "**Common Issues**: \n",
    "- kid_count is stored as strings, not numbers\n",
    "- Understanding the fillna() and != logic\n",
    "**Time Estimate**: 8-10 minutes"
   ]
  },
  {
   "cell_type": "code",
   "execution_count": null,
   "metadata": {},
   "outputs": [],
   "source": [
    "# Q6 COMPLETE SOLUTION\n",
    "\n",
    "# Step 1: Create has_kids variable (note that kid_count is not numeric!)\n",
    "demographics['has_kids'] = demographics['kids_count'].fillna('0') != '0'\n",
    "\n",
    "# Step 2: Join transactions to demographics and analyze spending by has_kids\n",
    "merged_data = transactions.merge(demographics, on='household_id', how='inner')\n",
    "\n",
    "# Calculate average spending by family status\n",
    "family_spending = merged_data.groupby('has_kids')['sales_value'].agg(['mean', 'count', 'sum'])\n",
    "\n",
    "print(\"Spending analysis: Families vs Non-Families\")\n",
    "print(family_spending)\n",
    "\n",
    "# More detailed business analysis\n",
    "families_avg = family_spending.loc[True, 'mean']\n",
    "non_families_avg = family_spending.loc[False, 'mean']\n",
    "difference = families_avg - non_families_avg\n",
    "percent_diff = (difference / non_families_avg) * 100\n",
    "\n",
    "print(f\"\\nBusiness Insight:\")\n",
    "print(f\"Families spend ${families_avg:.2f} on average\")\n",
    "print(f\"Non-families spend ${non_families_avg:.2f} on average\")\n",
    "print(f\"Difference: ${difference:.2f} ({percent_diff:+.1f}%)\")\n",
    "\n",
    "if families_avg > non_families_avg:\n",
    "    print(\"\\n✅ RECOMMENDATION: Families spend more - expand family product lines!\")\n",
    "else:\n",
    "    print(\"\\n❌ FINDING: Non-families spend more - reconsider family expansion strategy\")"
   ]
  },
  {
   "cell_type": "markdown",
   "metadata": {},
   "source": [
    "**💡 Teaching Points for Q6:**\n",
    "- **Data types matter**: kid_count is categorical, not numeric\n",
    "- **Business validation**: Does this support family product line expansion?\n",
    "- **Merchandising impact**: How should this influence product selection?\n",
    "- **Boolean logic**: Understanding fillna() and string comparison"
   ]
  },
  {
   "cell_type": "markdown",
   "metadata": {},
   "source": [
    "### Q7: Inventory Optimization Analysis\n",
    "**Teaching Focus**: Volume vs revenue analysis\n",
    "**Common Issues**: \n",
    "- Confusing quantity vs sales_value metrics\n",
    "- Not seeing the supply chain implications\n",
    "**Time Estimate**: 6-8 minutes"
   ]
  },
  {
   "cell_type": "code",
   "execution_count": null,
   "metadata": {},
   "outputs": [],
   "source": [
    "# Q7 COMPLETE SOLUTION\n",
    "\n",
    "# Join transactions to products to get department information\n",
    "merged_data = transactions.merge(products, on='product_id', how='inner')\n",
    "\n",
    "# Group by department and sum quantity\n",
    "dept_quantity = merged_data.groupby('department')['quantity'].sum()\n",
    "\n",
    "# Sort and display top 5\n",
    "top_5_volume_depts = dept_quantity.sort_values(ascending=False).head(5)\n",
    "\n",
    "print(\"Top 5 departments by total quantity sold:\")\n",
    "for dept, qty in top_5_volume_depts.items():\n",
    "    print(f\"{dept}: {qty:,.0f} items\")\n",
    "\n",
    "# Compare with sales dollars (from Q2)\n",
    "print(\"\\nSupply Chain Insight - Volume vs Revenue comparison:\")\n",
    "dept_sales = merged_data.groupby('department')['sales_value'].sum()\n",
    "comparison = pd.DataFrame({\n",
    "    'total_quantity': dept_quantity,\n",
    "    'total_sales': dept_sales,\n",
    "    'avg_price_per_item': dept_sales / dept_quantity\n",
    "})\n",
    "\n",
    "print(\"\\nTop 5 by volume vs revenue:\")\n",
    "print(comparison.sort_values('total_quantity', ascending=False).head())"
   ]
  },
  {
   "cell_type": "markdown",
   "metadata": {},
   "source": [
    "**💡 Teaching Points for Q7:**\n",
    "- **Supply chain strategy**: High volume departments need different logistics\n",
    "- **Storage optimization**: Volume matters more than revenue for space planning\n",
    "- **Operational efficiency**: Which departments drive fulfillment complexity?\n",
    "- **Volume vs value**: Some departments sell many low-value items"
   ]
  },
  {
   "cell_type": "markdown",
   "metadata": {},
   "source": [
    "## Part 4 – Advanced Business Intelligence & Strategic Insights\n",
    "\n",
    "### Q8: Procurement Priority Product\n",
    "\n",
    "**Teaching Focus**: Product-level analysis and vendor negotiations\n",
    "\n",
    "**Common Issues**: \n",
    "- Multi-step analysis (aggregate then join)\n",
    "- Understanding procurement implications\n",
    "\n",
    "**Time Estimate**: 8-10 minutes"
   ]
  },
  {
   "cell_type": "code",
   "execution_count": null,
   "metadata": {},
   "outputs": [],
   "source": [
    "# Q8 COMPLETE SOLUTION\n",
    "\n",
    "# Group by product_id and sum quantity, retain the top 10\n",
    "product_volume = transactions.groupby('product_id', as_index=False)['quantity'].sum().sort_values(by='quantity', ascending=False).nlargest(10, 'quantity')\n",
    "product_volume.merge(products, on='product_id', how='left')"
   ]
  },
  {
   "cell_type": "markdown",
   "metadata": {},
   "source": [
    "**💡 Teaching Points for Q8:**\n",
    "- **Procurement strategy**: High-volume items have the most negotiation leverage\n",
    "- **Cost reduction**: Even small per-unit savings matter at high volumes\n",
    "- **Vendor relationships**: These products represent key supplier partnerships\n",
    "- **Multi-step analysis**: Aggregate first, then join for details"
   ]
  },
  {
   "cell_type": "markdown",
   "metadata": {},
   "source": [
    "### Q9: Pizza Category Analysis\n",
    "**Teaching Focus**: String filtering and category-specific analysis\n",
    "**Common Issues**: \n",
    "- String filtering syntax\n",
    "- Case sensitivity in searches\n",
    "**Time Estimate**: 8-10 minutes"
   ]
  },
  {
   "cell_type": "code",
   "execution_count": null,
   "metadata": {},
   "outputs": [],
   "source": [
    "# Q9 COMPLETE SOLUTION\n",
    "\n",
    "# Filter products where product_type contains \"pizza\"\n",
    "pizza_products = products[products['product_type'].str.contains('pizza', case=False, na=False)]\n",
    "\n",
    "print(f\"Found {len(pizza_products)} pizza products\")\n",
    "\n",
    "# Join pizza products to transactions\n",
    "pizza_transactions = transactions.merge(pizza_products, on='product_id', how='inner')\n",
    "\n",
    "# Group by product and sum sales_value\n",
    "pizza_sales = pizza_transactions.groupby(['product_id', 'product_type'])['sales_value'].sum().sort_values(ascending=False)\n",
    "\n",
    "print(\"\\nTop 10 pizza products by total sales:\")\n",
    "print(pizza_sales.head(10))\n",
    "\n",
    "# Category manager insights\n",
    "total_pizza_sales = pizza_sales.sum()\n",
    "top_pizza_sales = pizza_sales.iloc[0]\n",
    "top_pizza_share = (top_pizza_sales / total_pizza_sales) * 100\n",
    "\n",
    "print(f\"\\nCategory Manager Insights:\")\n",
    "print(f\"Total pizza segment sales: ${total_pizza_sales:,.2f}\")\n",
    "print(f\"Top pizza product represents {top_pizza_share:.1f}% of segment\")\n",
    "print(f\"Top product: {pizza_sales.index[0][1]}\")"
   ]
  },
  {
   "cell_type": "markdown",
   "metadata": {},
   "source": [
    "**💡 Teaching Points for Q9:**\n",
    "- **Category management**: Understanding segment performance within departments\n",
    "- **Vendor negotiations**: Which pizza brands/products are most valuable?\n",
    "- **String filtering**: `.str.contains()` with case=False for robust matching\n",
    "- **Market concentration**: How concentrated is the pizza category?"
   ]
  },
  {
   "cell_type": "markdown",
   "metadata": {},
   "source": [
    "### Q10: Premium Customer Segment Analysis\n",
    "\n",
    "**Teaching Focus**: Multi-criteria filtering and premium market analysis\n",
    "\n",
    "**Common Issues**: \n",
    "- Complex filtering logic\n",
    "- Understanding demographic segments\n",
    "\n",
    "**Time Estimate**: 10-12 minutes"
   ]
  },
  {
   "cell_type": "code",
   "execution_count": null,
   "metadata": {},
   "outputs": [],
   "source": [
    "# Q10 COMPLETE SOLUTION\n",
    "\n",
    "# First, identify the highest income level\n",
    "print(\"Available income levels:\")\n",
    "print(demographics['income'].value_counts())\n",
    "\n",
    "# Filter demographics for highest income level & has kids\n",
    "highest_income = demographics['income'].max()  # This might need adjustment based on actual data\n",
    "# Alternative approach - look for highest income descriptor\n",
    "income_levels = demographics['income'].value_counts().index\n",
    "print(f\"\\nUsing highest income level: {income_levels[0]}\")\n",
    "\n",
    "# Filter for highest income households with kids\n",
    "premium_families = demographics[\n",
    "    (demographics['income'] == income_levels[0]) & \n",
    "    (demographics['kids_count'].fillna('0') != '0')\n",
    "]\n",
    "\n",
    "print(f\"\\nPremium families (highest income + kids): {len(premium_families)} households\")\n",
    "\n",
    "# Join to transactions and products\n",
    "premium_transactions = transactions.merge(premium_families, on='household_id', how='inner')\n",
    "premium_full = premium_transactions.merge(products, on='product_id', how='inner')\n",
    "\n",
    "# Group by category and sum sales_value\n",
    "premium_category_sales = premium_full.groupby('product_category')['sales_value'].sum().sort_values(ascending=False)\n",
    "\n",
    "print(\"\\nTop categories for premium families:\")\n",
    "for category, sales in premium_category_sales.head(10).items():\n",
    "    print(f\"{category}: ${sales:,.2f}\")\n",
    "\n",
    "# Premium product buyer insights\n",
    "total_premium_sales = premium_category_sales.sum()\n",
    "top_category_share = (premium_category_sales.iloc[0] / total_premium_sales) * 100\n",
    "\n",
    "print(f\"\\nProduct Buyer Insights:\")\n",
    "print(f\"Top category represents {top_category_share:.1f}% of premium family spending\")\n",
    "print(f\"Focus category for premium product selection: {premium_category_sales.index[0]}\")"
   ]
  },
  {
   "cell_type": "markdown",
   "metadata": {},
   "source": [
    "**💡 Teaching Points for Q10:**\n",
    "- **Premium market strategy**: Understanding your most valuable customer segment\n",
    "- **Product selection**: What categories drive revenue for high-value customers?\n",
    "- **Complex filtering**: Multiple demographic criteria\n",
    "- **Business focus**: Premium families represent key revenue opportunities"
   ]
  },
  {
   "cell_type": "markdown",
   "metadata": {},
   "source": [
    "### Q11: Vendor Relationship Mapping\n",
    "**Teaching Focus**: Manufacturer analysis and vendor management\n",
    "**Common Issues**: \n",
    "- Two-step analysis (find top manufacturer, then analyze)\n",
    "- Understanding vendor concentration\n",
    "**Time Estimate**: 10-12 minutes"
   ]
  },
  {
   "cell_type": "code",
   "execution_count": null,
   "metadata": {},
   "outputs": [],
   "source": [
    "# Q11 COMPLETE SOLUTION\n",
    "\n",
    "# Join transactions to products to get manufacturer information\n",
    "manufacturer_data = transactions.merge(products, on='product_id', how='inner')\n",
    "\n",
    "# Group by manufacturer and sum sales_value\n",
    "manufacturer_sales = manufacturer_data.groupby('manufacturer_id')['sales_value'].sum().sort_values(ascending=False)\n",
    "\n",
    "print(\"Top 10 manufacturers by total sales:\")\n",
    "print(manufacturer_sales.head(10))\n",
    "\n",
    "# Find the top manufacturer\n",
    "top_manufacturer = manufacturer_sales.index[0]\n",
    "top_manufacturer_sales = manufacturer_sales.iloc[0]\n",
    "\n",
    "print(f\"\\nTop manufacturer: {top_manufacturer}\")\n",
    "print(f\"Sales: ${top_manufacturer_sales:,.2f}\")\n",
    "\n",
    "# Find which departments this manufacturer primarily sells in\n",
    "top_mfg_products = products[products['manufacturer_id'] == top_manufacturer]\n",
    "dept_distribution = top_mfg_products['department'].value_counts()\n",
    "\n",
    "print(f\"\\nDepartment distribution for {top_manufacturer}:\")\n",
    "for dept, count in dept_distribution.items():\n",
    "    percent = (count / len(top_mfg_products)) * 100\n",
    "    print(f\"{dept}: {count} products ({percent:.1f}%)\")\n",
    "\n",
    "# Vendor management insights\n",
    "total_sales = manufacturer_sales.sum()\n",
    "top_vendor_share = (top_manufacturer_sales / total_sales) * 100\n",
    "\n",
    "print(f\"\\nVendor Management Insights:\")\n",
    "print(f\"Top vendor represents {top_vendor_share:.1f}% of total sales\")\n",
    "print(f\"Primary department: {dept_distribution.index[0]}\")\n",
    "print(f\"Contract negotiation priority: HIGH\")"
   ]
  },
  {
   "cell_type": "markdown",
   "metadata": {},
   "source": [
    "**💡 Teaching Points for Q11:**\n",
    "- **Vendor concentration**: How dependent are you on key suppliers?\n",
    "- **Contract negotiations**: Top vendors have significant leverage\n",
    "- **Department focus**: Understanding where vendors compete\n",
    "- **Risk management**: What happens if you lose this vendor?"
   ]
  },
  {
   "cell_type": "markdown",
   "metadata": {},
   "source": [
    "### Q12: Customer Persona Development\n",
    "**Teaching Focus**: Complex multi-table analysis and market segmentation\n",
    "**Common Issues**: \n",
    "- Three-way joins\n",
    "- Groupby with multiple columns\n",
    "- Finding \"top\" category per income level\n",
    "**Time Estimate**: 12-15 minutes"
   ]
  },
  {
   "cell_type": "code",
   "execution_count": null,
   "metadata": {},
   "outputs": [],
   "source": [
    "# Q12 COMPLETE SOLUTION\n",
    "\n",
    "# Join demographics → transactions → products\n",
    "full_data = demographics.merge(transactions, on='household_id', how='inner')\n",
    "full_data = full_data.merge(products, on='product_id', how='inner')\n",
    "\n",
    "# Group by income level and category, sum quantity\n",
    "income_category_qty = full_data.groupby(['income', 'product_category'])['quantity'].sum().reset_index()\n",
    "\n",
    "# For each income level, find the top category\n",
    "top_categories_by_income = income_category_qty.loc[income_category_qty.groupby('income')['quantity'].idxmax()]\n",
    "print(\"Most frequently purchased category by income level:\")\n",
    "print(top_categories_by_income)\n"
   ]
  },
  {
   "cell_type": "code",
   "execution_count": null,
   "metadata": {},
   "outputs": [],
   "source": [
    "# Additional persona insights\n",
    "print(\"\\nDetailed persona analysis:\")\n",
    "persona_analysis = full_data.groupby('income').agg({\n",
    "    'household_id': 'nunique',\n",
    "    'sales_value': ['sum', 'mean'],\n",
    "    'quantity': 'sum'\n",
    "}).round(2)\n",
    "\n",
    "persona_analysis.columns = ['households', 'total_sales', 'avg_transaction', 'total_items']\n",
    "print(persona_analysis)\n",
    "\n",
    "# Marketing implications\n",
    "print(\"\\nMarketing Persona Recommendations:\")\n",
    "for _, row in top_categories_by_income.iterrows():\n",
    "    income = row['income']\n",
    "    category = row['product_category']\n",
    "    print(f\"• {income} segment: Focus advertising on {category} products\")"
   ]
  },
  {
   "cell_type": "markdown",
   "metadata": {},
   "source": [
    "**💡 Teaching Points for Q12:**\n",
    "- **Customer segmentation**: Different income levels have different preferences\n",
    "- **Marketing strategy**: Targeted advertising based on purchase behavior\n",
    "- **Complex analysis**: Three-table joins with groupby operations\n",
    "- **Business application**: How would marketing use these personas?"
   ]
  },
  {
   "cell_type": "markdown",
   "metadata": {},
   "source": [
    "## 🎯 Lab Wrap-up and Assessment\n",
    "\n",
    "### Key Concepts Students Should Master\n",
    "By the end of this lab, students should demonstrate proficiency in:\n",
    "\n",
    "1. **Data Manipulation Fundamentals**\n",
    "   - Creating calculated columns (unit_price)\n",
    "   - Date extraction and manipulation\n",
    "   - Handling missing values and data quality issues\n",
    "\n",
    "2. **Aggregation and Grouping**\n",
    "   - Single-column groupby operations\n",
    "   - Multiple aggregation functions (sum, mean, count)\n",
    "   - Sorting and ranking results\n",
    "\n",
    "3. **Joining Datasets**\n",
    "   - Inner joins between transactions, products, and demographics\n",
    "   - Understanding join keys and relationships\n",
    "   - Multi-step analysis workflows\n",
    "\n",
    "4. **Business Analysis Skills**\n",
    "   - Translating business questions into analytical code\n",
    "   - Interpreting results in business context\n",
    "   - Understanding retail analytics applications\n",
    "\n",
    "### Common Student Struggles and Solutions\n",
    "\n",
    "| Issue | Symptom | Solution Approach |\n",
    "|-------|---------|------------------|\n",
    "| **Join Key Confusion** | Errors joining demographics | Emphasize household_key vs household_id |\n",
    "| **Data Type Issues** | kid_count comparisons fail | Show string vs numeric data handling |\n",
    "| **Missing Values** | Division by zero errors | Demonstrate data quality checks |\n",
    "| **Complex Filtering** | Multi-criteria queries fail | Break into steps, explain boolean logic |\n",
    "| **Business Context** | Focus only on code | Emphasize real-world implications |\n",
    "\n",
    "### Reflection Questions\n",
    "Use these to check student understanding:\n",
    "\n",
    "1. **Technical Skills**: \"Which join operation would you use if you wanted to keep all transactions, even for products not in the products table?\"\n",
    "\n",
    "2. **Business Application**: \"How would the operations team actually use the peak sales day analysis in practice?\"\n",
    "\n",
    "3. **Data Quality**: \"What other data quality issues might affect retail analytics?\"\n",
    "\n",
    "4. **Strategic Thinking**: \"If you were the vendor management team, what additional analyses would you want?\"\n",
    "\n",
    "### Connection to Homework and Future Content\n",
    "- **Homework Quiz**: Students use their analysis results to answer quiz questions\n",
    "- **Next Week**: Building on joins and aggregations for more complex visualizations\n",
    "- **Mid-term Project**: These retail analytics skills directly apply to the project\n",
    "\n",
    "### Troubleshooting Guide\n",
    "\n",
    "**If students finish early:**\n",
    "- Explore additional business questions\n",
    "- Calculate profitability metrics\n",
    "- Analyze seasonal trends\n",
    "- Help struggling classmates\n",
    "\n",
    "**If students struggle with concepts:**\n",
    "- Break complex questions into smaller steps\n",
    "- Use business analogies to explain technical concepts\n",
    "- Provide additional guided examples\n",
    "- Focus on understanding over completion\n",
    "\n",
    "**If technology issues arise:**\n",
    "- Have backup datasets ready\n",
    "- Know common import/installation fixes\n",
    "- Pair students for screen sharing\n",
    "- Prepare offline alternatives\n",
    "\n",
    "---\n",
    "\n",
    "## 📝 Post-Lab Notes for Instructor\n",
    "\n",
    "**After each lab session, consider documenting:**\n",
    "- Which questions took longer/shorter than expected\n",
    "- Common student misconceptions that emerged\n",
    "- Technical issues that arose\n",
    "- Student engagement levels with business scenarios\n",
    "- Suggestions for improving future iterations\n",
    "\n",
    "This feedback helps refine the lab experience and ensure optimal learning outcomes for future classes."
   ]
  }
 ],
 "metadata": {
  "kernelspec": {
   "display_name": "venv (3.12.10)",
   "language": "python",
   "name": "python3"
  },
  "language_info": {
   "codemirror_mode": {
    "name": "ipython",
    "version": 3
   },
   "file_extension": ".py",
   "mimetype": "text/x-python",
   "name": "python",
   "nbconvert_exporter": "python",
   "pygments_lexer": "ipython3",
   "version": "3.12.10"
  }
 },
 "nbformat": 4,
 "nbformat_minor": 4
}
