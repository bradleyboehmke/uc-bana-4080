{
 "cells": [
  {
   "cell_type": "markdown",
   "id": "85225cf1",
   "metadata": {},
   "source": [
    "\n",
    "# Week 5 Lab: From Aggregation to Visualization & Midterm Prep\n",
    "\n",
    "<a href=\"https://colab.research.google.com/github/bradleyboehmke/uc-bana-4080/blob/main/labs/05_wk5_lab.ipynb\" target=\"_parent\"><img src=\"https://colab.research.google.com/assets/colab-badge.svg\" alt=\"Open In Colab\"/></a>\n",
    "\n",
    "This lab builds directly on Week 4’s work with the `completejourney_py` dataset. We’ll take some aggregated results from last week and turn them into effective visualizations using **Pandas**, **Matplotlib**, and **Bokeh**. Then you’ll work through your own visualizations, and finally begin exploring ideas for your **midterm project**.\n",
    "\n",
    "**Agenda**\n",
    "- **Part 1 (10–15 min):** Instructor demo – from aggregation to visualization  \n",
    "- **Part 2 (20–30 min):** Challenge – create visualizations for three business questions  \n",
    "- **Part 3 (20–30 min):** Midterm exploration – brainstorm and investigate possible project ideas  \n",
    "\n",
    "> **Sharing:** In Part 2, everyone should be prepared to share one visualization. We’ll call on a few groups.\n",
    ">\n",
    "> **Midterm Timing:** By the end of **Week 6’s lab**, you must have **approval** on your midterm business question. There are **no hard deliverables** due at the end of this lab, but you’re encouraged to discuss ideas today.\n"
   ]
  },
  {
   "cell_type": "markdown",
   "id": "a7fb9692",
   "metadata": {},
   "source": [
    "## Setup (run once)"
   ]
  },
  {
   "cell_type": "code",
   "execution_count": 2,
   "id": "cfa00d89",
   "metadata": {},
   "outputs": [
    {
     "data": {
      "text/html": [
       "    <style>\n",
       "        .bk-notebook-logo {\n",
       "            display: block;\n",
       "            width: 20px;\n",
       "            height: 20px;\n",
       "            background-image: url(data:image/png;base64,iVBORw0KGgoAAAANSUhEUgAAABQAAAAUCAYAAACNiR0NAAAABHNCSVQICAgIfAhkiAAAAAlwSFlzAAALEgAACxIB0t1+/AAAABx0RVh0U29mdHdhcmUAQWRvYmUgRmlyZXdvcmtzIENTNui8sowAAAOkSURBVDiNjZRtaJVlGMd/1/08zzln5zjP1LWcU9N0NkN8m2CYjpgQYQXqSs0I84OLIC0hkEKoPtiH3gmKoiJDU7QpLgoLjLIQCpEsNJ1vqUOdO7ppbuec5+V+rj4ctwzd8IIbbi6u+8f1539dt3A78eXC7QizUF7gyV1fD1Yqg4JWz84yffhm0qkFqBogB9rM8tZdtwVsPUhWhGcFJngGeWrPzHm5oaMmkfEg1usvLFyc8jLRqDOMru7AyC8saQr7GG7f5fvDeH7Ej8CM66nIF+8yngt6HWaKh7k49Soy9nXurCi1o3qUbS3zWfrYeQDTB/Qj6kX6Ybhw4B+bOYoLKCC9H3Nu/leUTZ1JdRWkkn2ldcCamzrcf47KKXdAJllSlxAOkRgyHsGC/zRday5Qld9DyoM4/q/rUoy/CXh3jzOu3bHUVZeU+DEn8FInkPBFlu3+nW3Nw0mk6vCDiWg8CeJaxEwuHS3+z5RgY+YBR6V1Z1nxSOfoaPa4LASWxxdNp+VWTk7+4vzaou8v8PN+xo+KY2xsw6une2frhw05CTYOmQvsEhjhWjn0bmXPjpE1+kplmmkP3suftwTubK9Vq22qKmrBhpY4jvd5afdRA3wGjFAgcnTK2s4hY0/GPNIb0nErGMCRxWOOX64Z8RAC4oCXdklmEvcL8o0BfkNK4lUg9HTl+oPlQxdNo3Mg4Nv175e/1LDGzZen30MEjRUtmXSfiTVu1kK8W4txyV6BMKlbgk3lMwYCiusNy9fVfvvwMxv8Ynl6vxoByANLTWplvuj/nF9m2+PDtt1eiHPBr1oIfhCChQMBw6Aw0UulqTKZdfVvfG7VcfIqLG9bcldL/+pdWTLxLUy8Qq38heUIjh4XlzZxzQm19lLFlr8vdQ97rjZVOLf8nclzckbcD4wxXMidpX30sFd37Fv/GtwwhzhxGVAprjbg0gCAEeIgwCZyTV2Z1REEW8O4py0wsjeloKoMr6iCY6dP92H6Vw/oTyICIthibxjm/DfN9lVz8IqtqKYLUXfoKVMVQVVJOElGjrnnUt9T9wbgp8AyYKaGlqingHZU/uG2NTZSVqwHQTWkx9hxjkpWDaCg6Ckj5qebgBVbT3V3NNXMSiWSDdGV3hrtzla7J+duwPOToIg42ChPQOQjspnSlp1V+Gjdged7+8UN5CRAV7a5EdFNwCjEaBR27b3W890TE7g24NAP/mMDXRWrGoFPQI9ls/MWO2dWFAar/xcOIImbbpA3zgAAAABJRU5ErkJggg==);\n",
       "        }\n",
       "    </style>\n",
       "    <div>\n",
       "        <a href=\"https://bokeh.org\" target=\"_blank\" class=\"bk-notebook-logo\"></a>\n",
       "        <span id=\"b4640312-b56f-42e9-b77f-3a994b504a71\">Loading BokehJS ...</span>\n",
       "    </div>\n"
      ]
     },
     "metadata": {},
     "output_type": "display_data"
    },
    {
     "data": {
      "application/javascript": "'use strict';\n(function(root) {\n  function now() {\n    return new Date();\n  }\n\n  const force = true;\n\n  if (typeof root._bokeh_onload_callbacks === \"undefined\" || force === true) {\n    root._bokeh_onload_callbacks = [];\n    root._bokeh_is_loading = undefined;\n  }\n\nconst JS_MIME_TYPE = 'application/javascript';\n  const HTML_MIME_TYPE = 'text/html';\n  const EXEC_MIME_TYPE = 'application/vnd.bokehjs_exec.v0+json';\n  const CLASS_NAME = 'output_bokeh rendered_html';\n\n  /**\n   * Render data to the DOM node\n   */\n  function render(props, node) {\n    const script = document.createElement(\"script\");\n    node.appendChild(script);\n  }\n\n  /**\n   * Handle when an output is cleared or removed\n   */\n  function handleClearOutput(event, handle) {\n    function drop(id) {\n      const view = Bokeh.index.get_by_id(id)\n      if (view != null) {\n        view.model.document.clear()\n        Bokeh.index.delete(view)\n      }\n    }\n\n    const cell = handle.cell;\n\n    const id = cell.output_area._bokeh_element_id;\n    const server_id = cell.output_area._bokeh_server_id;\n\n    // Clean up Bokeh references\n    if (id != null) {\n      drop(id)\n    }\n\n    if (server_id !== undefined) {\n      // Clean up Bokeh references\n      const cmd_clean = \"from bokeh.io.state import curstate; print(curstate().uuid_to_server['\" + server_id + \"'].get_sessions()[0].document.roots[0]._id)\";\n      cell.notebook.kernel.execute(cmd_clean, {\n        iopub: {\n          output: function(msg) {\n            const id = msg.content.text.trim()\n            drop(id)\n          }\n        }\n      });\n      // Destroy server and session\n      const cmd_destroy = \"import bokeh.io.notebook as ion; ion.destroy_server('\" + server_id + \"')\";\n      cell.notebook.kernel.execute(cmd_destroy);\n    }\n  }\n\n  /**\n   * Handle when a new output is added\n   */\n  function handleAddOutput(event, handle) {\n    const output_area = handle.output_area;\n    const output = handle.output;\n\n    // limit handleAddOutput to display_data with EXEC_MIME_TYPE content only\n    if ((output.output_type != \"display_data\") || (!Object.prototype.hasOwnProperty.call(output.data, EXEC_MIME_TYPE))) {\n      return\n    }\n\n    const toinsert = output_area.element.find(\".\" + CLASS_NAME.split(' ')[0]);\n\n    if (output.metadata[EXEC_MIME_TYPE][\"id\"] !== undefined) {\n      toinsert[toinsert.length - 1].firstChild.textContent = output.data[JS_MIME_TYPE];\n      // store reference to embed id on output_area\n      output_area._bokeh_element_id = output.metadata[EXEC_MIME_TYPE][\"id\"];\n    }\n    if (output.metadata[EXEC_MIME_TYPE][\"server_id\"] !== undefined) {\n      const bk_div = document.createElement(\"div\");\n      bk_div.innerHTML = output.data[HTML_MIME_TYPE];\n      const script_attrs = bk_div.children[0].attributes;\n      for (let i = 0; i < script_attrs.length; i++) {\n        toinsert[toinsert.length - 1].firstChild.setAttribute(script_attrs[i].name, script_attrs[i].value);\n        toinsert[toinsert.length - 1].firstChild.textContent = bk_div.children[0].textContent\n      }\n      // store reference to server id on output_area\n      output_area._bokeh_server_id = output.metadata[EXEC_MIME_TYPE][\"server_id\"];\n    }\n  }\n\n  function register_renderer(events, OutputArea) {\n\n    function append_mime(data, metadata, element) {\n      // create a DOM node to render to\n      const toinsert = this.create_output_subarea(\n        metadata,\n        CLASS_NAME,\n        EXEC_MIME_TYPE\n      );\n      this.keyboard_manager.register_events(toinsert);\n      // Render to node\n      const props = {data: data, metadata: metadata[EXEC_MIME_TYPE]};\n      render(props, toinsert[toinsert.length - 1]);\n      element.append(toinsert);\n      return toinsert\n    }\n\n    /* Handle when an output is cleared or removed */\n    events.on('clear_output.CodeCell', handleClearOutput);\n    events.on('delete.Cell', handleClearOutput);\n\n    /* Handle when a new output is added */\n    events.on('output_added.OutputArea', handleAddOutput);\n\n    /**\n     * Register the mime type and append_mime function with output_area\n     */\n    OutputArea.prototype.register_mime_type(EXEC_MIME_TYPE, append_mime, {\n      /* Is output safe? */\n      safe: true,\n      /* Index of renderer in `output_area.display_order` */\n      index: 0\n    });\n  }\n\n  // register the mime type if in Jupyter Notebook environment and previously unregistered\n  if (root.Jupyter !== undefined) {\n    const events = require('base/js/events');\n    const OutputArea = require('notebook/js/outputarea').OutputArea;\n\n    if (OutputArea.prototype.mime_types().indexOf(EXEC_MIME_TYPE) == -1) {\n      register_renderer(events, OutputArea);\n    }\n  }\n  if (typeof (root._bokeh_timeout) === \"undefined\" || force === true) {\n    root._bokeh_timeout = Date.now() + 5000;\n    root._bokeh_failed_load = false;\n  }\n\n  const NB_LOAD_WARNING = {'data': {'text/html':\n     \"<div style='background-color: #fdd'>\\n\"+\n     \"<p>\\n\"+\n     \"BokehJS does not appear to have successfully loaded. If loading BokehJS from CDN, this \\n\"+\n     \"may be due to a slow or bad network connection. Possible fixes:\\n\"+\n     \"</p>\\n\"+\n     \"<ul>\\n\"+\n     \"<li>re-rerun `output_notebook()` to attempt to load from CDN again, or</li>\\n\"+\n     \"<li>use INLINE resources instead, as so:</li>\\n\"+\n     \"</ul>\\n\"+\n     \"<code>\\n\"+\n     \"from bokeh.resources import INLINE\\n\"+\n     \"output_notebook(resources=INLINE)\\n\"+\n     \"</code>\\n\"+\n     \"</div>\"}};\n\n  function display_loaded(error = null) {\n    const el = document.getElementById(\"b4640312-b56f-42e9-b77f-3a994b504a71\");\n    if (el != null) {\n      const html = (() => {\n        if (typeof root.Bokeh === \"undefined\") {\n          if (error == null) {\n            return \"BokehJS is loading ...\";\n          } else {\n            return \"BokehJS failed to load.\";\n          }\n        } else {\n          const prefix = `BokehJS ${root.Bokeh.version}`;\n          if (error == null) {\n            return `${prefix} successfully loaded.`;\n          } else {\n            return `${prefix} <b>encountered errors</b> while loading and may not function as expected.`;\n          }\n        }\n      })();\n      el.innerHTML = html;\n\n      if (error != null) {\n        const wrapper = document.createElement(\"div\");\n        wrapper.style.overflow = \"auto\";\n        wrapper.style.height = \"5em\";\n        wrapper.style.resize = \"vertical\";\n        const content = document.createElement(\"div\");\n        content.style.fontFamily = \"monospace\";\n        content.style.whiteSpace = \"pre-wrap\";\n        content.style.backgroundColor = \"rgb(255, 221, 221)\";\n        content.textContent = error.stack ?? error.toString();\n        wrapper.append(content);\n        el.append(wrapper);\n      }\n    } else if (Date.now() < root._bokeh_timeout) {\n      setTimeout(() => display_loaded(error), 100);\n    }\n  }\n\n  function run_callbacks() {\n    try {\n      root._bokeh_onload_callbacks.forEach(function(callback) {\n        if (callback != null)\n          callback();\n      });\n    } finally {\n      delete root._bokeh_onload_callbacks\n    }\n    console.debug(\"Bokeh: all callbacks have finished\");\n  }\n\n  function load_libs(css_urls, js_urls, callback) {\n    if (css_urls == null) css_urls = [];\n    if (js_urls == null) js_urls = [];\n\n    root._bokeh_onload_callbacks.push(callback);\n    if (root._bokeh_is_loading > 0) {\n      console.debug(\"Bokeh: BokehJS is being loaded, scheduling callback at\", now());\n      return null;\n    }\n    if (js_urls == null || js_urls.length === 0) {\n      run_callbacks();\n      return null;\n    }\n    console.debug(\"Bokeh: BokehJS not loaded, scheduling load and callback at\", now());\n    root._bokeh_is_loading = css_urls.length + js_urls.length;\n\n    function on_load() {\n      root._bokeh_is_loading--;\n      if (root._bokeh_is_loading === 0) {\n        console.debug(\"Bokeh: all BokehJS libraries/stylesheets loaded\");\n        run_callbacks()\n      }\n    }\n\n    function on_error(url) {\n      console.error(\"failed to load \" + url);\n    }\n\n    for (let i = 0; i < css_urls.length; i++) {\n      const url = css_urls[i];\n      const element = document.createElement(\"link\");\n      element.onload = on_load;\n      element.onerror = on_error.bind(null, url);\n      element.rel = \"stylesheet\";\n      element.type = \"text/css\";\n      element.href = url;\n      console.debug(\"Bokeh: injecting link tag for BokehJS stylesheet: \", url);\n      document.body.appendChild(element);\n    }\n\n    for (let i = 0; i < js_urls.length; i++) {\n      const url = js_urls[i];\n      const element = document.createElement('script');\n      element.onload = on_load;\n      element.onerror = on_error.bind(null, url);\n      element.async = false;\n      element.src = url;\n      console.debug(\"Bokeh: injecting script tag for BokehJS library: \", url);\n      document.head.appendChild(element);\n    }\n  };\n\n  function inject_raw_css(css) {\n    const element = document.createElement(\"style\");\n    element.appendChild(document.createTextNode(css));\n    document.body.appendChild(element);\n  }\n\n  const js_urls = [\"https://cdn.bokeh.org/bokeh/release/bokeh-3.4.3.min.js\", \"https://cdn.bokeh.org/bokeh/release/bokeh-gl-3.4.3.min.js\", \"https://cdn.bokeh.org/bokeh/release/bokeh-widgets-3.4.3.min.js\", \"https://cdn.bokeh.org/bokeh/release/bokeh-tables-3.4.3.min.js\", \"https://cdn.bokeh.org/bokeh/release/bokeh-mathjax-3.4.3.min.js\"];\n  const css_urls = [];\n\n  const inline_js = [    function(Bokeh) {\n      Bokeh.set_log_level(\"info\");\n    },\nfunction(Bokeh) {\n    }\n  ];\n\n  function run_inline_js() {\n    if (root.Bokeh !== undefined || force === true) {\n      try {\n            for (let i = 0; i < inline_js.length; i++) {\n      inline_js[i].call(root, root.Bokeh);\n    }\n\n      } catch (error) {display_loaded(error);throw error;\n      }if (force === true) {\n        display_loaded();\n      }} else if (Date.now() < root._bokeh_timeout) {\n      setTimeout(run_inline_js, 100);\n    } else if (!root._bokeh_failed_load) {\n      console.log(\"Bokeh: BokehJS failed to load within specified timeout.\");\n      root._bokeh_failed_load = true;\n    } else if (force !== true) {\n      const cell = $(document.getElementById(\"b4640312-b56f-42e9-b77f-3a994b504a71\")).parents('.cell').data().cell;\n      cell.output_area.append_execute_result(NB_LOAD_WARNING)\n    }\n  }\n\n  if (root._bokeh_is_loading === 0) {\n    console.debug(\"Bokeh: BokehJS loaded, going straight to plotting\");\n    run_inline_js();\n  } else {\n    load_libs(css_urls, js_urls, function() {\n      console.debug(\"Bokeh: BokehJS plotting callback run at\", now());\n      run_inline_js();\n    });\n  }\n}(window));",
      "application/vnd.bokehjs_load.v0+json": ""
     },
     "metadata": {},
     "output_type": "display_data"
    }
   ],
   "source": [
    "\n",
    "# Core\n",
    "import pandas as pd\n",
    "import numpy as np\n",
    "\n",
    "# Viz\n",
    "import matplotlib.pyplot as plt\n",
    "from bokeh.plotting import figure, show, output_notebook\n",
    "from bokeh.models import HoverTool\n",
    "\n",
    "# Data\n",
    "from completejourney_py import get_data\n",
    "\n",
    "# Display Bokeh inline (Jupyter/Colab)\n",
    "output_notebook()\n",
    "\n",
    "# Load completejourney data\n",
    "cj = get_data()\n",
    "transactions = cj['transactions']\n",
    "products = cj['products']\n",
    "demographics = cj['demographics']\n",
    "\n",
    "# Optional: set a clean default style for Matplotlib\n",
    "plt.rcParams[\"figure.figsize\"] = (8, 4.5)\n",
    "plt.rcParams[\"axes.grid\"] = True\n",
    "plt.rcParams[\"axes.titlesize\"] = 12\n",
    "plt.rcParams[\"axes.labelsize\"] = 10\n"
   ]
  },
  {
   "cell_type": "markdown",
   "id": "c21d3059",
   "metadata": {},
   "source": [
    "\n",
    "📄 **Data dictionary:** https://bradleyboehmke.github.io/completejourney/articles/completejourney.html\n"
   ]
  },
  {
   "cell_type": "markdown",
   "id": "78492785",
   "metadata": {},
   "source": [
    "\n",
    "## Part 1 — Demo: Visualizing Week 4 Aggregations (Instructor-led)\n",
    "\n",
    "We’ll walk through three examples that show how to move from **aggregated data** to **clear visualizations**.\n"
   ]
  },
  {
   "cell_type": "markdown",
   "id": "a338a26c",
   "metadata": {},
   "source": [
    "\n",
    "### 1A) Total **sales by product category** → Bar chart (Pandas)\n",
    "\n",
    "**Idea:** Join transactions ↔ products to get `product_category`, aggregate sales per category, then plot the top categories.\n",
    "\n",
    "**Why Pandas here?** It’s perfect for fast exploratory charts tied directly to a Series/DataFrame.\n"
   ]
  },
  {
   "cell_type": "code",
   "execution_count": 3,
   "id": "181691e8",
   "metadata": {},
   "outputs": [
    {
     "data": {
      "image/png": "[encoded data removed]",
      "text/plain": [
       "<Figure size 800x450 with 1 Axes>"
      ]
     },
     "metadata": {},
     "output_type": "display_data"
    }
   ],
   "source": [
    "\n",
    "# Join transactions to products to bring in product_category\n",
    "tx_prod = transactions.merge(\n",
    "    products[[\"product_id\", \"product_category\"]],\n",
    "    on=\"product_id\",\n",
    "    how=\"left\"\n",
    ")\n",
    "\n",
    "# Aggregate: total sales by product_category\n",
    "sales_by_cat = (\n",
    "    tx_prod\n",
    "    .groupby(\"product_category\", dropna=False)[\"sales_value\"]\n",
    "    .sum()\n",
    "    .sort_values(ascending=False)\n",
    "    .head(15)  # top 15 for readability\n",
    ")\n",
    "\n",
    "# Quick bar plot with Pandas\n",
    "ax = sales_by_cat.plot(kind=\"bar\")\n",
    "ax.set_title(\"Top 15 Categories by Total Sales\")\n",
    "ax.set_xlabel(\"Product Category\")\n",
    "ax.set_ylabel(\"Total Sales ($)\")\n",
    "plt.tight_layout()\n",
    "plt.show()\n"
   ]
  },
  {
   "cell_type": "markdown",
   "id": "78c06109",
   "metadata": {},
   "source": [
    "\n",
    "### 1B) **Monthly revenue trend** → Line chart (Matplotlib)\n",
    "\n",
    "**Idea:** Convert timestamps → monthly periods and sum sales per month; plot with Matplotlib for finer control.\n",
    "\n",
    "**Why Matplotlib here?** You get fine-grained control over styling, markers, and layout.\n"
   ]
  },
  {
   "cell_type": "code",
   "execution_count": 10,
   "id": "b0fb20e4",
   "metadata": {},
   "outputs": [
    {
     "data": {
      "image/png": "[encoded data removed]",
      "text/plain": [
       "<Figure size 800x450 with 1 Axes>"
      ]
     },
     "metadata": {},
     "output_type": "display_data"
    }
   ],
   "source": [
    "\n",
    "# Ensure transaction timestamp is datetime\n",
    "# Aggregate to monthly sales (Month Start frequency)\n",
    "monthly_sales = (\n",
    "    transactions\n",
    "    .set_index(\"transaction_timestamp\")\n",
    "    .resample(\"MS\")[\"sales_value\"]\n",
    "    .sum()\n",
    "    .rename(\"monthly_sales\")\n",
    ")\n",
    "\n",
    "# set plot style\n",
    "plt.style.use('fivethirtyeight')\n",
    "\n",
    "# Matplotlib line chart with markers\n",
    "fig, ax = plt.subplots()\n",
    "ax.plot(monthly_sales.index, monthly_sales.values, linestyle=\"--\", linewidth=1, marker=\"o\")\n",
    "ax.set_title(\"Monthly Revenue Trend\")\n",
    "ax.set_xlabel(\"Month\")\n",
    "ax.set_ylabel(\"Sales ($)\")\n",
    "ax.tick_params(axis=\"x\", rotation=45)\n",
    "plt.tight_layout()\n",
    "plt.show()\n"
   ]
  },
  {
   "cell_type": "markdown",
   "id": "c3127ea4",
   "metadata": {},
   "source": [
    "\n",
    "### 1C) **Top 10 products by sales** → Interactive horizontal bar (Bokeh + hover)\n",
    "\n",
    "**Idea:** Aggregate total sales by product, grab descriptions, and build an interactive bar chart with hover labels.\n",
    "\n",
    "**Why Bokeh here?** Interactivity (hover, zoom, pan) and browser-based rendering—great for exploratory storytelling.  There's a lot more customization that could be done here -- see here for examples: https://docs.bokeh.org/en/latest/docs/user_guide/basic/bars.html\n"
   ]
  },
  {
   "cell_type": "code",
   "execution_count": 14,
   "id": "47f2f80e",
   "metadata": {},
   "outputs": [
    {
     "data": {
      "text/html": [
       "<div>\n",
       "<style scoped>\n",
       "    .dataframe tbody tr th:only-of-type {\n",
       "        vertical-align: middle;\n",
       "    }\n",
       "\n",
       "    .dataframe tbody tr th {\n",
       "        vertical-align: top;\n",
       "    }\n",
       "\n",
       "    .dataframe thead th {\n",
       "        text-align: right;\n",
       "    }\n",
       "</style>\n",
       "<table border=\"1\" class=\"dataframe\">\n",
       "  <thead>\n",
       "    <tr style=\"text-align: right;\">\n",
       "      <th></th>\n",
       "      <th>product_id</th>\n",
       "      <th>sales_value</th>\n",
       "      <th>manufacturer_id</th>\n",
       "      <th>department</th>\n",
       "      <th>brand</th>\n",
       "      <th>product_category</th>\n",
       "      <th>product_type</th>\n",
       "      <th>package_size</th>\n",
       "    </tr>\n",
       "  </thead>\n",
       "  <tbody>\n",
       "    <tr>\n",
       "      <th>0</th>\n",
       "      <td>6534178</td>\n",
       "      <td>303116.02</td>\n",
       "      <td>69</td>\n",
       "      <td>FUEL</td>\n",
       "      <td>Private</td>\n",
       "      <td>COUPON/MISC ITEMS</td>\n",
       "      <td>GASOLINE-REG UNLEADED</td>\n",
       "      <td>None</td>\n",
       "    </tr>\n",
       "    <tr>\n",
       "      <th>1</th>\n",
       "      <td>6533889</td>\n",
       "      <td>27467.61</td>\n",
       "      <td>69</td>\n",
       "      <td>MISCELLANEOUS</td>\n",
       "      <td>Private</td>\n",
       "      <td>COUPON/MISC ITEMS</td>\n",
       "      <td>GASOLINE-REG UNLEADED</td>\n",
       "      <td>None</td>\n",
       "    </tr>\n",
       "    <tr>\n",
       "      <th>2</th>\n",
       "      <td>1029743</td>\n",
       "      <td>22729.71</td>\n",
       "      <td>69</td>\n",
       "      <td>GROCERY</td>\n",
       "      <td>Private</td>\n",
       "      <td>FLUID MILK PRODUCTS</td>\n",
       "      <td>FLUID MILK WHITE ONLY</td>\n",
       "      <td>1 GA</td>\n",
       "    </tr>\n",
       "    <tr>\n",
       "      <th>3</th>\n",
       "      <td>6534166</td>\n",
       "      <td>20477.54</td>\n",
       "      <td>69</td>\n",
       "      <td>MISCELLANEOUS</td>\n",
       "      <td>Private</td>\n",
       "      <td>COUPON/MISC ITEMS</td>\n",
       "      <td>GASOLINE-REG UNLEADED</td>\n",
       "      <td>None</td>\n",
       "    </tr>\n",
       "    <tr>\n",
       "      <th>4</th>\n",
       "      <td>6533765</td>\n",
       "      <td>19451.66</td>\n",
       "      <td>69</td>\n",
       "      <td>FUEL</td>\n",
       "      <td>Private</td>\n",
       "      <td>FUEL</td>\n",
       "      <td>GASOLINE-REG UNLEADED</td>\n",
       "      <td>None</td>\n",
       "    </tr>\n",
       "  </tbody>\n",
       "</table>\n",
       "</div>"
      ],
      "text/plain": [
       "   product_id  sales_value  manufacturer_id     department    brand  \\\n",
       "0     6534178    303116.02               69           FUEL  Private   \n",
       "1     6533889     27467.61               69  MISCELLANEOUS  Private   \n",
       "2     1029743     22729.71               69        GROCERY  Private   \n",
       "3     6534166     20477.54               69  MISCELLANEOUS  Private   \n",
       "4     6533765     19451.66               69           FUEL  Private   \n",
       "\n",
       "      product_category           product_type package_size  \n",
       "0    COUPON/MISC ITEMS  GASOLINE-REG UNLEADED         None  \n",
       "1    COUPON/MISC ITEMS  GASOLINE-REG UNLEADED         None  \n",
       "2  FLUID MILK PRODUCTS  FLUID MILK WHITE ONLY         1 GA  \n",
       "3    COUPON/MISC ITEMS  GASOLINE-REG UNLEADED         None  \n",
       "4                 FUEL  GASOLINE-REG UNLEADED         None  "
      ]
     },
     "execution_count": 14,
     "metadata": {},
     "output_type": "execute_result"
    }
   ],
   "source": [
    "sales_by_product.head()"
   ]
  },
  {
   "cell_type": "code",
   "execution_count": 21,
   "id": "9a4825c3",
   "metadata": {},
   "outputs": [
    {
     "data": {
      "text/html": [
       "\n",
       "  <div id=\"ef5bc5bc-b5e1-40ee-be27-1437b0f1d9a2\" data-root-id=\"p1166\" style=\"display: contents;\"></div>\n"
      ]
     },
     "metadata": {},
     "output_type": "display_data"
    },
    {
     "data": {
      "application/javascript": "(function(root) {\n  function embed_document(root) {\n  const docs_json = {\"1c385d75-007e-4cdb-80ff-4bf7541b1377\":{\"version\":\"3.4.3\",\"title\":\"Bokeh Application\",\"roots\":[{\"type\":\"object\",\"name\":\"Figure\",\"id\":\"p1166\",\"attributes\":{\"height\":360,\"x_range\":{\"type\":\"object\",\"name\":\"DataRange1d\",\"id\":\"p1168\",\"attributes\":{\"start\":0}},\"y_range\":{\"type\":\"object\",\"name\":\"FactorRange\",\"id\":\"p1176\",\"attributes\":{\"factors\":[\"GASOLINE-REG UNLEADED\",\"FLUID MILK WHITE ONLY\",\"SOFT DRINKS 12/18&15PK CAN CAR\",\"BEERALEMALT LIQUORS\",\"CIGARETTES\",\"CHOICE BEEF\",\"SHREDDED CHEESE\",\"PRIMAL\",\"PREMIUM\",\"BABY DIAPERS\"]}},\"x_scale\":{\"type\":\"object\",\"name\":\"LinearScale\",\"id\":\"p1177\"},\"y_scale\":{\"type\":\"object\",\"name\":\"CategoricalScale\",\"id\":\"p1178\"},\"title\":{\"type\":\"object\",\"name\":\"Title\",\"id\":\"p1169\",\"attributes\":{\"text\":\"Top 10 Products by Sales (Interactive)\"}},\"renderers\":[{\"type\":\"object\",\"name\":\"GlyphRenderer\",\"id\":\"p1195\",\"attributes\":{\"data_source\":{\"type\":\"object\",\"name\":\"ColumnDataSource\",\"id\":\"p1189\",\"attributes\":{\"selected\":{\"type\":\"object\",\"name\":\"Selection\",\"id\":\"p1190\",\"attributes\":{\"indices\":[],\"line_indices\":[]}},\"selection_policy\":{\"type\":\"object\",\"name\":\"UnionRenderers\",\"id\":\"p1191\"},\"data\":{\"type\":\"map\",\"entries\":[[\"y\",[\"GASOLINE-REG UNLEADED\",\"FLUID MILK WHITE ONLY\",\"SOFT DRINKS 12/18&15PK CAN CAR\",\"BEERALEMALT LIQUORS\",\"CIGARETTES\",\"CHOICE BEEF\",\"SHREDDED CHEESE\",\"PRIMAL\",\"PREMIUM\",\"BABY DIAPERS\"]],[\"right\",[384044.07,91834.49,89656.71,82691.86,54349.68,45684.4,38213.73,36653.42,36017.61,33840.33]]]}}},\"view\":{\"type\":\"object\",\"name\":\"CDSView\",\"id\":\"p1196\",\"attributes\":{\"filter\":{\"type\":\"object\",\"name\":\"AllIndices\",\"id\":\"p1197\"}}},\"glyph\":{\"type\":\"object\",\"name\":\"HBar\",\"id\":\"p1192\",\"attributes\":{\"y\":{\"type\":\"field\",\"field\":\"y\"},\"height\":{\"type\":\"value\",\"value\":0.6},\"right\":{\"type\":\"field\",\"field\":\"right\"},\"line_color\":{\"type\":\"value\",\"value\":\"#1f77b4\"},\"fill_color\":{\"type\":\"value\",\"value\":\"#1f77b4\"}}},\"nonselection_glyph\":{\"type\":\"object\",\"name\":\"HBar\",\"id\":\"p1193\",\"attributes\":{\"y\":{\"type\":\"field\",\"field\":\"y\"},\"height\":{\"type\":\"value\",\"value\":0.6},\"right\":{\"type\":\"field\",\"field\":\"right\"},\"line_color\":{\"type\":\"value\",\"value\":\"#1f77b4\"},\"line_alpha\":{\"type\":\"value\",\"value\":0.1},\"fill_color\":{\"type\":\"value\",\"value\":\"#1f77b4\"},\"fill_alpha\":{\"type\":\"value\",\"value\":0.1},\"hatch_alpha\":{\"type\":\"value\",\"value\":0.1}}},\"muted_glyph\":{\"type\":\"object\",\"name\":\"HBar\",\"id\":\"p1194\",\"attributes\":{\"y\":{\"type\":\"field\",\"field\":\"y\"},\"height\":{\"type\":\"value\",\"value\":0.6},\"right\":{\"type\":\"field\",\"field\":\"right\"},\"line_color\":{\"type\":\"value\",\"value\":\"#1f77b4\"},\"line_alpha\":{\"type\":\"value\",\"value\":0.2},\"fill_color\":{\"type\":\"value\",\"value\":\"#1f77b4\"},\"fill_alpha\":{\"type\":\"value\",\"value\":0.2},\"hatch_alpha\":{\"type\":\"value\",\"value\":0.2}}}}}],\"toolbar\":{\"type\":\"object\",\"name\":\"Toolbar\",\"id\":\"p1175\",\"attributes\":{\"tools\":[{\"type\":\"object\",\"name\":\"HoverTool\",\"id\":\"p1198\",\"attributes\":{\"renderers\":\"auto\",\"tooltips\":[[\"Product\",\"@y\"],[\"Sales\",\"@right{$0,0.00}\"]]}}]}},\"toolbar_location\":null,\"left\":[{\"type\":\"object\",\"name\":\"CategoricalAxis\",\"id\":\"p1184\",\"attributes\":{\"ticker\":{\"type\":\"object\",\"name\":\"CategoricalTicker\",\"id\":\"p1185\"},\"formatter\":{\"type\":\"object\",\"name\":\"CategoricalTickFormatter\",\"id\":\"p1186\"},\"axis_label\":\"Product\",\"major_label_policy\":{\"type\":\"object\",\"name\":\"AllLabels\",\"id\":\"p1187\"}}}],\"below\":[{\"type\":\"object\",\"name\":\"LinearAxis\",\"id\":\"p1179\",\"attributes\":{\"ticker\":{\"type\":\"object\",\"name\":\"BasicTicker\",\"id\":\"p1180\",\"attributes\":{\"mantissas\":[1,2,5]}},\"formatter\":{\"type\":\"object\",\"name\":\"BasicTickFormatter\",\"id\":\"p1181\"},\"axis_label\":\"Sales ($)\",\"major_label_policy\":{\"type\":\"object\",\"name\":\"AllLabels\",\"id\":\"p1182\"}}}],\"center\":[{\"type\":\"object\",\"name\":\"Grid\",\"id\":\"p1183\",\"attributes\":{\"axis\":{\"id\":\"p1179\"}}},{\"type\":\"object\",\"name\":\"Grid\",\"id\":\"p1188\",\"attributes\":{\"dimension\":1,\"axis\":{\"id\":\"p1184\"}}}]}}]}};\n  const render_items = [{\"docid\":\"1c385d75-007e-4cdb-80ff-4bf7541b1377\",\"roots\":{\"p1166\":\"ef5bc5bc-b5e1-40ee-be27-1437b0f1d9a2\"},\"root_ids\":[\"p1166\"]}];\n  void root.Bokeh.embed.embed_items_notebook(docs_json, render_items);\n  }\n  if (root.Bokeh !== undefined) {\n    embed_document(root);\n  } else {\n    let attempts = 0;\n    const timer = setInterval(function(root) {\n      if (root.Bokeh !== undefined) {\n        clearInterval(timer);\n        embed_document(root);\n      } else {\n        attempts++;\n        if (attempts > 100) {\n          clearInterval(timer);\n          console.log(\"Bokeh: ERROR: Unable to run BokehJS code because BokehJS library is missing\");\n        }\n      }\n    }, 10, root)\n  }\n})(window);",
      "application/vnd.bokehjs_exec.v0+json": ""
     },
     "metadata": {
      "application/vnd.bokehjs_exec.v0+json": {
       "id": "p1166"
      }
     },
     "output_type": "display_data"
    }
   ],
   "source": [
    "\n",
    "# Aggregate: total sales by product\n",
    "sales_by_product = (\n",
    "    transactions\n",
    "    .merge(products, on=\"product_id\", how=\"left\")\n",
    "    .groupby(\"product_type\")[\"sales_value\"]\n",
    "    .sum()\n",
    "    .sort_values(ascending=False)\n",
    "    .head(10)\n",
    "    .reset_index()\n",
    ")\n",
    "\n",
    "# Prepare categorical y-axis and values\n",
    "factors = list(sales_by_product[\"product_type\"].fillna(\"Unknown\"))\n",
    "values = list(sales_by_product[\"sales_value\"])\n",
    "\n",
    "# Bokeh figure (output_notebook() already called in Setup)\n",
    "p = figure(\n",
    "    y_range=factors,\n",
    "    height=360,\n",
    "    title=\"Top 10 Products by Sales (Interactive)\",\n",
    "    toolbar_location=None,\n",
    "    tools=\"\"\n",
    ")\n",
    "\n",
    "# Horizontal bars\n",
    "p.hbar(y=factors, right=values, height=0.6)\n",
    "\n",
    "# Add hover to show product name and formatted sales\n",
    "hover = HoverTool(tooltips=[(\"Product\", \"@y\"), (\"Sales\", \"@right{$0,0.00}\")])\n",
    "p.add_tools(hover)\n",
    "\n",
    "# other customizations\n",
    "p.xaxis.axis_label = \"Sales ($)\"\n",
    "p.yaxis.axis_label = \"Product\"\n",
    "p.x_range.start = 0\n",
    "show(p)\n"
   ]
  },
  {
   "cell_type": "markdown",
   "id": "490570a8",
   "metadata": {},
   "source": [
    "\n",
    "## Part 2 — Challenge: Answer Business Questions with Visualizations (20–30 min)\n",
    "\n",
    "Work in small groups to answer **1 or more** of these three **business questions** using the `completejourney_py` data.\n",
    "\n",
    "For each question:\n",
    "1. Read the business question.  \n",
    "2. Review the example **analytic approach** — this breaks the business problem into tangible steps you’ve learned so far.  \n",
    "3. Use the provided analysis code to **generate the aggregated results** (code below purposely **does not** include plotting).  \n",
    "4. **Your task:** Create a clear visualization of those results using **Pandas, Matplotlib, or Bokeh**.\n",
    "\n",
    "💡 **Flexibility Note:** You are encouraged to **modify the analysis** if you have a different idea for exploring or visualizing the results. For example:\n",
    "- **Question 1:** Instead of just comparing households with vs. without kids, you could break down **snack sales by the number of children** in the household.  \n",
    "- **Question 2:** You could group similar product categories together to simplify the results.  \n",
    "- **Question 3:** You could compare soft drink trends across weekdays or highlight seasonal peaks.\n",
    "\n",
    "The goal is to answer the business question in a way that makes the insights clear.\n"
   ]
  },
  {
   "cell_type": "markdown",
   "id": "20f6bc9f",
   "metadata": {},
   "source": [
    "\n",
    "### Business Question 1\n",
    "**Do households with children purchase more snack products than households without children?**\n",
    "\n",
    "**Analytic Approach**\n",
    "- Join transactions ↔ products to get required product information.\n",
    "- Filter transactions to include only products that fall under the `SNACKS` type.  \n",
    "- Join transactions to the `demographics` dataset to identify households with children.  \n",
    "- Create a binary indicator for presence of children.\n",
    "- Aggregate total snack sales for households **with** vs. **without** children.\n"
   ]
  },
  {
   "cell_type": "code",
   "execution_count": 32,
   "id": "ec7208b4",
   "metadata": {},
   "outputs": [
    {
     "data": {
      "text/html": [
       "<div>\n",
       "<style scoped>\n",
       "    .dataframe tbody tr th:only-of-type {\n",
       "        vertical-align: middle;\n",
       "    }\n",
       "\n",
       "    .dataframe tbody tr th {\n",
       "        vertical-align: top;\n",
       "    }\n",
       "\n",
       "    .dataframe thead th {\n",
       "        text-align: right;\n",
       "    }\n",
       "</style>\n",
       "<table border=\"1\" class=\"dataframe\">\n",
       "  <thead>\n",
       "    <tr style=\"text-align: right;\">\n",
       "      <th></th>\n",
       "      <th>has_kids</th>\n",
       "      <th>total_sales</th>\n",
       "    </tr>\n",
       "  </thead>\n",
       "  <tbody>\n",
       "    <tr>\n",
       "      <th>0</th>\n",
       "      <td>False</td>\n",
       "      <td>15362.67</td>\n",
       "    </tr>\n",
       "    <tr>\n",
       "      <th>1</th>\n",
       "      <td>True</td>\n",
       "      <td>39544.67</td>\n",
       "    </tr>\n",
       "  </tbody>\n",
       "</table>\n",
       "</div>"
      ],
      "text/plain": [
       "   has_kids  total_sales\n",
       "0     False     15362.67\n",
       "1      True     39544.67"
      ]
     },
     "execution_count": 32,
     "metadata": {},
     "output_type": "execute_result"
    }
   ],
   "source": [
    "\n",
    "# Join products to get category\n",
    "tx_prod = transactions.merge(products, on=\"product_id\", how=\"left\")\n",
    "\n",
    "# Filter to snacks only\n",
    "snack_sales = tx_prod[tx_prod['product_type'].str.contains('Snacks', case=False, na=False)]\n",
    "\n",
    "# Join demographics to identify households with children\n",
    "snack_demo = snack_sales.merge(demographics, on=\"household_id\", how=\"left\")\n",
    "\n",
    "# Create a binary indicator for presence of children\n",
    "snack_demo['has_kids'] = snack_demo['kids_count'] != '0'\n",
    "\n",
    "# Aggregate total sales by presence of children\n",
    "sales_by_children = (\n",
    "    snack_demo\n",
    "    .groupby(\"has_kids\", as_index=False)\n",
    "    .agg(total_sales=(\"sales_value\", \"sum\"))\n",
    ")\n",
    "\n",
    "sales_by_children.head()\n"
   ]
  },
  {
   "cell_type": "markdown",
   "id": "3448b0c6",
   "metadata": {},
   "source": [
    "\n",
    "### Business Question 2\n",
    "**Which product categories generated the most revenue during December 2017?**\n",
    "\n",
    "**Analytic Approach**\n",
    "- Filter transactions for the month of **December 2017**.  \n",
    "- Join transactions to products to get `product_category`.  \n",
    "- Aggregate total sales by category.  \n",
    "- Sort results to find the top categories.\n"
   ]
  },
  {
   "cell_type": "code",
   "execution_count": 34,
   "id": "921d78a4",
   "metadata": {},
   "outputs": [
    {
     "data": {
      "text/html": [
       "<div>\n",
       "<style scoped>\n",
       "    .dataframe tbody tr th:only-of-type {\n",
       "        vertical-align: middle;\n",
       "    }\n",
       "\n",
       "    .dataframe tbody tr th {\n",
       "        vertical-align: top;\n",
       "    }\n",
       "\n",
       "    .dataframe thead th {\n",
       "        text-align: right;\n",
       "    }\n",
       "</style>\n",
       "<table border=\"1\" class=\"dataframe\">\n",
       "  <thead>\n",
       "    <tr style=\"text-align: right;\">\n",
       "      <th></th>\n",
       "      <th>product_category</th>\n",
       "      <th>total_sales</th>\n",
       "    </tr>\n",
       "  </thead>\n",
       "  <tbody>\n",
       "    <tr>\n",
       "      <th>75</th>\n",
       "      <td>COUPON/MISC ITEMS</td>\n",
       "      <td>31878.31</td>\n",
       "    </tr>\n",
       "    <tr>\n",
       "      <th>255</th>\n",
       "      <td>SOFT DRINKS</td>\n",
       "      <td>14904.34</td>\n",
       "    </tr>\n",
       "    <tr>\n",
       "      <th>23</th>\n",
       "      <td>BEEF</td>\n",
       "      <td>14417.55</td>\n",
       "    </tr>\n",
       "    <tr>\n",
       "      <th>120</th>\n",
       "      <td>FLUID MILK PRODUCTS</td>\n",
       "      <td>10984.17</td>\n",
       "    </tr>\n",
       "    <tr>\n",
       "      <th>49</th>\n",
       "      <td>CHEESE</td>\n",
       "      <td>10581.36</td>\n",
       "    </tr>\n",
       "  </tbody>\n",
       "</table>\n",
       "</div>"
      ],
      "text/plain": [
       "        product_category  total_sales\n",
       "75     COUPON/MISC ITEMS     31878.31\n",
       "255          SOFT DRINKS     14904.34\n",
       "23                  BEEF     14417.55\n",
       "120  FLUID MILK PRODUCTS     10984.17\n",
       "49                CHEESE     10581.36"
      ]
     },
     "execution_count": 34,
     "metadata": {},
     "output_type": "execute_result"
    }
   ],
   "source": [
    "\n",
    "# Filter to December 2017\n",
    "december_tx = transactions[\n",
    "    (transactions[\"transaction_timestamp\"].dt.year == 2017) &\n",
    "    (transactions[\"transaction_timestamp\"].dt.month == 12)\n",
    "]\n",
    "\n",
    "# Join products for category\n",
    "december_tx_prod = december_tx.merge(products, on=\"product_id\", how=\"left\")\n",
    "\n",
    "# Aggregate sales by category\n",
    "sales_by_category_dec = (\n",
    "    december_tx_prod\n",
    "    .groupby(\"product_category\", as_index=False)\n",
    "    .agg(total_sales=(\"sales_value\", \"sum\"))\n",
    "    .sort_values(\"total_sales\", ascending=False)\n",
    ")\n",
    "\n",
    "sales_by_category_dec.head()\n"
   ]
  },
  {
   "cell_type": "markdown",
   "id": "761e1083",
   "metadata": {},
   "source": [
    "\n",
    "### Business Question 3\n",
    "**How has the quantity of soft drink purchases changed over time?**\n",
    "\n",
    "**Analytic Approach**\n",
    "\n",
    "- Join transactions to products to get product information.\n",
    "- Filter transactions for products in the `SOFT DRINKS` category.  \n",
    "- Aggregate quantity sold by month end (`\"ME\"`).  \n",
    "- Look for upward or downward trends.\n"
   ]
  },
  {
   "cell_type": "code",
   "execution_count": 36,
   "id": "ad40399f",
   "metadata": {},
   "outputs": [
    {
     "data": {
      "text/html": [
       "<div>\n",
       "<style scoped>\n",
       "    .dataframe tbody tr th:only-of-type {\n",
       "        vertical-align: middle;\n",
       "    }\n",
       "\n",
       "    .dataframe tbody tr th {\n",
       "        vertical-align: top;\n",
       "    }\n",
       "\n",
       "    .dataframe thead th {\n",
       "        text-align: right;\n",
       "    }\n",
       "</style>\n",
       "<table border=\"1\" class=\"dataframe\">\n",
       "  <thead>\n",
       "    <tr style=\"text-align: right;\">\n",
       "      <th></th>\n",
       "      <th>transaction_timestamp</th>\n",
       "      <th>quantity</th>\n",
       "    </tr>\n",
       "  </thead>\n",
       "  <tbody>\n",
       "    <tr>\n",
       "      <th>0</th>\n",
       "      <td>2017-01-31</td>\n",
       "      <td>7025</td>\n",
       "    </tr>\n",
       "    <tr>\n",
       "      <th>1</th>\n",
       "      <td>2017-02-28</td>\n",
       "      <td>7292</td>\n",
       "    </tr>\n",
       "    <tr>\n",
       "      <th>2</th>\n",
       "      <td>2017-03-31</td>\n",
       "      <td>8334</td>\n",
       "    </tr>\n",
       "    <tr>\n",
       "      <th>3</th>\n",
       "      <td>2017-04-30</td>\n",
       "      <td>7627</td>\n",
       "    </tr>\n",
       "    <tr>\n",
       "      <th>4</th>\n",
       "      <td>2017-05-31</td>\n",
       "      <td>8143</td>\n",
       "    </tr>\n",
       "  </tbody>\n",
       "</table>\n",
       "</div>"
      ],
      "text/plain": [
       "  transaction_timestamp  quantity\n",
       "0            2017-01-31      7025\n",
       "1            2017-02-28      7292\n",
       "2            2017-03-31      8334\n",
       "3            2017-04-30      7627\n",
       "4            2017-05-31      8143"
      ]
     },
     "execution_count": 36,
     "metadata": {},
     "output_type": "execute_result"
    }
   ],
   "source": [
    "\n",
    "# Join products for category\n",
    "tx_prod = transactions.merge(products[[\"product_id\", \"product_category\"]],\n",
    "                             on=\"product_id\", how=\"left\")\n",
    "\n",
    "# Filter to soft drinks\n",
    "soft_drinks = tx_prod[tx_prod[\"product_category\"].str.contains(\"Soft drinks\", case=False, na=False)].copy()\n",
    "\n",
    "# Aggregate quantity by month\n",
    "soft_drinks_monthly = (\n",
    "    soft_drinks\n",
    "    .set_index(\"transaction_timestamp\")\n",
    "    .resample(\"ME\")[\"quantity\"]\n",
    "    .sum()\n",
    "    .reset_index()\n",
    ")\n",
    "\n",
    "soft_drinks_monthly.head()\n"
   ]
  },
  {
   "cell_type": "markdown",
   "id": "7dbf9e98",
   "metadata": {},
   "source": [
    "\n",
    "## Part 3 — Midterm Project Data Exploration (20–30 min)\n",
    "\n",
    "### Scenario\n",
    "You are a data scientist for **Regork**, a national grocery chain. Your manager has tasked you with identifying a potential growth area for the company to increase revenue and profits. You’ll present your findings and recommendations to the CEO.\n",
    "\n",
    "### Your Task Today\n",
    "- Explore the data to identify **possible business questions**.  \n",
    "- Begin drafting ideas for your **midterm report**.  \n",
    "- Think about both **business relevance** and **data feasibility**.  \n",
    "- Use visualizations to uncover interesting trends or anomalies.\n",
    "\n",
    "**Example directions**\n",
    "- High-value demographic–product combinations (do certain products sell better to certain age groups?)\n",
    "- Coupon redemption rates by demographic segment (are some segments more likely to use coupons?)\n",
    "- Underserved demographic segments (are there customer segments that shop infrequently?)\n",
    "- Positive/negative trends over time (are sales for certain products increasing or decreasing?)\n",
    "- Product pairings that occur together frequently (do beer and diapers go together?)\n",
    "- Seasonal or holiday-related spikes (do chips and salsa spike around the Super Bowl?)\n",
    "- Marketing campaign or coupon effectiveness (did a recent campaign increase sales?)\n",
    "\n",
    "**Midterm Timeline**\n",
    "- By the end of **Week 6’s lab**: You must have **approval** on your business question.  \n",
    "- This week: No hard deliverables, but you’re encouraged to discuss your ideas.\n"
   ]
  }
 ],
 "metadata": {
  "kernelspec": {
   "display_name": "venv (3.12.10)",
   "language": "python",
   "name": "python3"
  },
  "language_info": {
   "codemirror_mode": {
    "name": "ipython",
    "version": 3
   },
   "file_extension": ".py",
   "mimetype": "text/x-python",
   "name": "python",
   "nbconvert_exporter": "python",
   "pygments_lexer": "ipython3",
   "version": "3.12.10"
  }
 },
 "nbformat": 4,
 "nbformat_minor": 5
}
