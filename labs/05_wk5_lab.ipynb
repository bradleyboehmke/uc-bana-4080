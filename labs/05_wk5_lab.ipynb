{
 "cells": [
  {
   "cell_type": "markdown",
   "id": "85225cf1",
   "metadata": {},
   "source": [
    "\n",
    "# Week 5 Lab: From Aggregation to Visualization & Midterm Prep\n",
    "\n",
    "<a href=\"https://colab.research.google.com/github/bradleyboehmke/uc-bana-4080/blob/main/labs/05_wk5_lab.ipynb\" target=\"_parent\"><img src=\"https://colab.research.google.com/assets/colab-badge.svg\" alt=\"Open In Colab\"/></a>\n",
    "\n",
    "This lab builds directly on Week 4’s work with the `completejourney_py` dataset. We’ll take some aggregated results from last week and turn them into effective visualizations using **Pandas**, **Matplotlib**, and **Bokeh**. Then you’ll work through your own visualizations, and finally begin exploring ideas for your **midterm project**.\n",
    "\n",
    "**Agenda**\n",
    "- **Part 1 (10–15 min):** Instructor demo – from aggregation to visualization  \n",
    "- **Part 2 (20–30 min):** Challenge – create visualizations for three business questions  \n",
    "- **Part 3 (20–30 min):** Midterm exploration – brainstorm and investigate possible project ideas  \n",
    "\n",
    "> **Sharing:** In Part 2, everyone should be prepared to share one visualization. We’ll call on a few groups.\n",
    ">\n",
    "> **Midterm Timing:** By the end of **Week 6’s lab**, you must have **approval** on your midterm business question. There are **no hard deliverables** due at the end of this lab, but you’re encouraged to discuss ideas today.\n"
   ]
  },
  {
   "cell_type": "markdown",
   "id": "a7fb9692",
   "metadata": {},
   "source": [
    "## Setup (run once)"
   ]
  },
  {
   "cell_type": "code",
   "execution_count": null,
   "id": "cfa00d89",
   "metadata": {},
   "outputs": [],
   "source": [
    "\n",
    "# Core\n",
    "import pandas as pd\n",
    "import numpy as np\n",
    "\n",
    "# Viz\n",
    "import matplotlib.pyplot as plt\n",
    "from bokeh.plotting import figure, show, output_notebook\n",
    "from bokeh.models import HoverTool\n",
    "\n",
    "# Data\n",
    "from completejourney_py import get_data\n",
    "\n",
    "# Display Bokeh inline (Jupyter/Colab)\n",
    "output_notebook()\n",
    "\n",
    "# Load completejourney data\n",
    "cj = get_data()\n",
    "transactions = cj['transactions']\n",
    "products = cj['products']\n",
    "demographics = cj['demographics']\n",
    "\n",
    "# Optional: set a clean default style for Matplotlib\n",
    "plt.rcParams[\"figure.figsize\"] = (8, 4.5)\n",
    "plt.rcParams[\"axes.grid\"] = True\n",
    "plt.rcParams[\"axes.titlesize\"] = 12\n",
    "plt.rcParams[\"axes.labelsize\"] = 10\n"
   ]
  },
  {
   "cell_type": "markdown",
   "id": "c21d3059",
   "metadata": {},
   "source": [
    "\n",
    "📄 **Data dictionary:** https://bradleyboehmke.github.io/completejourney/articles/completejourney.html\n"
   ]
  },
  {
   "cell_type": "markdown",
   "id": "78492785",
   "metadata": {},
   "source": [
    "\n",
    "## Part 1 — Demo: Visualizing Week 4 Aggregations (Instructor-led)\n",
    "\n",
    "We’ll walk through three examples that show how to move from **aggregated data** to **clear visualizations**.\n"
   ]
  },
  {
   "cell_type": "markdown",
   "id": "a338a26c",
   "metadata": {},
   "source": [
    "\n",
    "### 1A) Total **sales by product category** → Bar chart (Pandas)\n",
    "\n",
    "**Idea:** Join transactions ↔ products to get `product_category`, aggregate sales per category, then plot the top categories.\n",
    "\n",
    "**Why Pandas here?** It’s perfect for fast exploratory charts tied directly to a Series/DataFrame.\n"
   ]
  },
  {
   "cell_type": "code",
   "execution_count": null,
   "id": "181691e8",
   "metadata": {},
   "outputs": [],
   "source": [
    "\n",
    "# Join transactions to products to bring in product_category\n",
    "tx_prod = transactions.merge(\n",
    "    products[[\"product_id\", \"product_category\"]],\n",
    "    on=\"product_id\",\n",
    "    how=\"left\"\n",
    ")\n",
    "\n",
    "# Aggregate: total sales by product_category\n",
    "sales_by_cat = (\n",
    "    tx_prod\n",
    "    .groupby(\"product_category\", dropna=False)[\"sales_value\"]\n",
    "    .sum()\n",
    "    .sort_values(ascending=False)\n",
    "    .head(15)  # top 15 for readability\n",
    ")\n",
    "\n",
    "# Quick bar plot with Pandas\n",
    "ax = sales_by_cat.plot(kind=\"bar\")\n",
    "ax.set_title(\"Top 15 Categories by Total Sales\")\n",
    "ax.set_xlabel(\"Product Category\")\n",
    "ax.set_ylabel(\"Total Sales ($)\")\n",
    "plt.tight_layout()\n",
    "plt.show()\n"
   ]
  },
  {
   "cell_type": "markdown",
   "id": "78c06109",
   "metadata": {},
   "source": [
    "\n",
    "### 1B) **Monthly revenue trend** → Line chart (Matplotlib)\n",
    "\n",
    "**Idea:** Convert timestamps → monthly periods and sum sales per month; plot with Matplotlib for finer control.\n",
    "\n",
    "**Why Matplotlib here?** You get fine-grained control over styling, markers, and layout.\n"
   ]
  },
  {
   "cell_type": "code",
   "execution_count": null,
   "id": "b0fb20e4",
   "metadata": {},
   "outputs": [],
   "source": [
    "\n",
    "# Ensure transaction timestamp is datetime\n",
    "# Aggregate to monthly sales (Month Start frequency)\n",
    "monthly_sales = (\n",
    "    transactions\n",
    "    .set_index(\"transaction_timestamp\")\n",
    "    .resample(\"MS\")[\"sales_value\"]\n",
    "    .sum()\n",
    "    .rename(\"monthly_sales\")\n",
    ")\n",
    "\n",
    "# set plot style\n",
    "plt.style.use('fivethirtyeight')\n",
    "\n",
    "# Matplotlib line chart with markers\n",
    "fig, ax = plt.subplots()\n",
    "ax.plot(monthly_sales.index, monthly_sales.values, linestyle=\"--\", linewidth=1, marker=\"o\")\n",
    "ax.set_title(\"Monthly Revenue Trend\")\n",
    "ax.set_xlabel(\"Month\")\n",
    "ax.set_ylabel(\"Sales ($)\")\n",
    "ax.tick_params(axis=\"x\", rotation=45)\n",
    "plt.tight_layout()\n",
    "plt.show()\n"
   ]
  },
  {
   "cell_type": "markdown",
   "id": "c3127ea4",
   "metadata": {},
   "source": [
    "\n",
    "### 1C) **Top 10 products by sales** → Interactive horizontal bar (Bokeh + hover)\n",
    "\n",
    "**Idea:** Aggregate total sales by product, grab descriptions, and build an interactive bar chart with hover labels.\n",
    "\n",
    "**Why Bokeh here?** Interactivity (hover, zoom, pan) and browser-based rendering—great for exploratory storytelling.  There's a lot more customization that could be done here -- see here for examples: https://docs.bokeh.org/en/latest/docs/user_guide/basic/bars.html\n"
   ]
  },
  {
   "cell_type": "code",
   "execution_count": null,
   "id": "47f2f80e",
   "metadata": {},
   "outputs": [],
   "source": [
    "sales_by_product.head()"
   ]
  },
  {
   "cell_type": "code",
   "execution_count": null,
   "id": "9a4825c3",
   "metadata": {},
   "outputs": [],
   "source": [
    "\n",
    "# Aggregate: total sales by product\n",
    "sales_by_product = (\n",
    "    transactions\n",
    "    .merge(products, on=\"product_id\", how=\"left\")\n",
    "    .groupby(\"product_type\")[\"sales_value\"]\n",
    "    .sum()\n",
    "    .sort_values(ascending=False)\n",
    "    .head(10)\n",
    "    .reset_index()\n",
    ")\n",
    "\n",
    "# Prepare categorical y-axis and values\n",
    "factors = list(sales_by_product[\"product_type\"].fillna(\"Unknown\"))\n",
    "values = list(sales_by_product[\"sales_value\"])\n",
    "\n",
    "# Bokeh figure (output_notebook() already called in Setup)\n",
    "p = figure(\n",
    "    y_range=factors,\n",
    "    height=360,\n",
    "    title=\"Top 10 Products by Sales (Interactive)\",\n",
    "    toolbar_location=None,\n",
    "    tools=\"\"\n",
    ")\n",
    "\n",
    "# Horizontal bars\n",
    "p.hbar(y=factors, right=values, height=0.6)\n",
    "\n",
    "# Add hover to show product name and formatted sales\n",
    "hover = HoverTool(tooltips=[(\"Product\", \"@y\"), (\"Sales\", \"@right{$0,0.00}\")])\n",
    "p.add_tools(hover)\n",
    "\n",
    "# other customizations\n",
    "p.xaxis.axis_label = \"Sales ($)\"\n",
    "p.yaxis.axis_label = \"Product\"\n",
    "p.x_range.start = 0\n",
    "show(p)\n"
   ]
  },
  {
   "cell_type": "markdown",
   "id": "490570a8",
   "metadata": {},
   "source": [
    "\n",
    "## Part 2 — Challenge: Answer Business Questions with Visualizations (20–30 min)\n",
    "\n",
    "Work in small groups to answer **1 or more** of these three **business questions** using the `completejourney_py` data.\n",
    "\n",
    "For each question:\n",
    "1. Read the business question.  \n",
    "2. Review the example **analytic approach** — this breaks the business problem into tangible steps you’ve learned so far.  \n",
    "3. Use the provided analysis code to **generate the aggregated results** (code below purposely **does not** include plotting).  \n",
    "4. **Your task:** Create a clear visualization of those results using **Pandas, Matplotlib, or Bokeh**.\n",
    "\n",
    "💡 **Flexibility Note:** You are encouraged to **modify the analysis** if you have a different idea for exploring or visualizing the results. For example:\n",
    "- **Question 1:** Instead of just comparing households with vs. without kids, you could break down **snack sales by the number of children** in the household.  \n",
    "- **Question 2:** You could group similar product categories together to simplify the results.  \n",
    "- **Question 3:** You could compare soft drink trends across weekdays or highlight seasonal peaks.\n",
    "\n",
    "The goal is to answer the business question in a way that makes the insights clear.\n"
   ]
  },
  {
   "cell_type": "markdown",
   "id": "20f6bc9f",
   "metadata": {},
   "source": [
    "\n",
    "### Business Question 1\n",
    "**Do households with children purchase more snack products than households without children?**\n",
    "\n",
    "**Analytic Approach**\n",
    "- Join transactions ↔ products to get required product information.\n",
    "- Filter transactions to include only products that fall under the `SNACKS` type.  \n",
    "- Join transactions to the `demographics` dataset to identify households with children.  \n",
    "- Create a binary indicator for presence of children.\n",
    "- Aggregate total snack sales for households **with** vs. **without** children.\n"
   ]
  },
  {
   "cell_type": "code",
   "execution_count": null,
   "id": "ec7208b4",
   "metadata": {},
   "outputs": [],
   "source": [
    "\n",
    "# Join products to get category\n",
    "tx_prod = transactions.merge(products, on=\"product_id\", how=\"left\")\n",
    "\n",
    "# Filter to snacks only\n",
    "snack_sales = tx_prod[tx_prod['product_type'].str.contains('Snacks', case=False, na=False)]\n",
    "\n",
    "# Join demographics to identify households with children\n",
    "snack_demo = snack_sales.merge(demographics, on=\"household_id\", how=\"left\")\n",
    "\n",
    "# Create a binary indicator for presence of children\n",
    "snack_demo['has_kids'] = snack_demo['kids_count'] != '0'\n",
    "\n",
    "# Aggregate total sales by presence of children\n",
    "sales_by_children = (\n",
    "    snack_demo\n",
    "    .groupby(\"has_kids\", as_index=False)\n",
    "    .agg(total_sales=(\"sales_value\", \"sum\"))\n",
    ")\n",
    "\n",
    "sales_by_children.head()\n"
   ]
  },
  {
   "cell_type": "markdown",
   "id": "3448b0c6",
   "metadata": {},
   "source": [
    "\n",
    "### Business Question 2\n",
    "**Which product categories generated the most revenue during December 2017?**\n",
    "\n",
    "**Analytic Approach**\n",
    "- Filter transactions for the month of **December 2017**.  \n",
    "- Join transactions to products to get `product_category`.  \n",
    "- Aggregate total sales by category.  \n",
    "- Sort results to find the top categories.\n"
   ]
  },
  {
   "cell_type": "code",
   "execution_count": null,
   "id": "921d78a4",
   "metadata": {},
   "outputs": [],
   "source": [
    "\n",
    "# Filter to December 2017\n",
    "december_tx = transactions[\n",
    "    (transactions[\"transaction_timestamp\"].dt.year == 2017) &\n",
    "    (transactions[\"transaction_timestamp\"].dt.month == 12)\n",
    "]\n",
    "\n",
    "# Join products for category\n",
    "december_tx_prod = december_tx.merge(products, on=\"product_id\", how=\"left\")\n",
    "\n",
    "# Aggregate sales by category\n",
    "sales_by_category_dec = (\n",
    "    december_tx_prod\n",
    "    .groupby(\"product_category\", as_index=False)\n",
    "    .agg(total_sales=(\"sales_value\", \"sum\"))\n",
    "    .sort_values(\"total_sales\", ascending=False)\n",
    ")\n",
    "\n",
    "sales_by_category_dec.head()\n"
   ]
  },
  {
   "cell_type": "markdown",
   "id": "761e1083",
   "metadata": {},
   "source": [
    "\n",
    "### Business Question 3\n",
    "**How has the quantity of soft drink purchases changed over time?**\n",
    "\n",
    "**Analytic Approach**\n",
    "\n",
    "- Join transactions to products to get product information.\n",
    "- Filter transactions for products in the `SOFT DRINKS` category.  \n",
    "- Aggregate quantity sold by month end (`\"ME\"`).  \n",
    "- Look for upward or downward trends.\n"
   ]
  },
  {
   "cell_type": "code",
   "execution_count": null,
   "id": "ad40399f",
   "metadata": {},
   "outputs": [],
   "source": [
    "\n",
    "# Join products for category\n",
    "tx_prod = transactions.merge(products[[\"product_id\", \"product_category\"]],\n",
    "                             on=\"product_id\", how=\"left\")\n",
    "\n",
    "# Filter to soft drinks\n",
    "soft_drinks = tx_prod[tx_prod[\"product_category\"].str.contains(\"Soft drinks\", case=False, na=False)].copy()\n",
    "\n",
    "# Aggregate quantity by month\n",
    "soft_drinks_monthly = (\n",
    "    soft_drinks\n",
    "    .set_index(\"transaction_timestamp\")\n",
    "    .resample(\"ME\")[\"quantity\"]\n",
    "    .sum()\n",
    "    .reset_index()\n",
    ")\n",
    "\n",
    "soft_drinks_monthly.head()\n"
   ]
  },
  {
   "cell_type": "markdown",
   "id": "7dbf9e98",
   "metadata": {},
   "source": [
    "\n",
    "## Part 3 — Midterm Project Data Exploration (20–30 min)\n",
    "\n",
    "### Scenario\n",
    "You are a data scientist for **Regork**, a national grocery chain. Your manager has tasked you with identifying a potential growth area for the company to increase revenue and profits. You’ll present your findings and recommendations to the CEO.\n",
    "\n",
    "### Your Task Today\n",
    "- Explore the data to identify **possible business questions**.  \n",
    "- Begin drafting ideas for your **midterm report**.  \n",
    "- Think about both **business relevance** and **data feasibility**.  \n",
    "- Use visualizations to uncover interesting trends or anomalies.\n",
    "\n",
    "**Example directions**\n",
    "- High-value demographic–product combinations (do certain products sell better to certain age groups?)\n",
    "- Coupon redemption rates by demographic segment (are some segments more likely to use coupons?)\n",
    "- Underserved demographic segments (are there customer segments that shop infrequently?)\n",
    "- Positive/negative trends over time (are sales for certain products increasing or decreasing?)\n",
    "- Product pairings that occur together frequently (do beer and diapers go together?)\n",
    "- Seasonal or holiday-related spikes (do chips and salsa spike around the Super Bowl?)\n",
    "- Marketing campaign or coupon effectiveness (did a recent campaign increase sales?)\n",
    "\n",
    "**Midterm Timeline**\n",
    "- By the end of **Week 6’s lab**: You must have **approval** on your business question.  \n",
    "- This week: No hard deliverables, but you’re encouraged to discuss your ideas.\n"
   ]
  }
 ],
 "metadata": {
  "kernelspec": {
   "display_name": "venv (3.12.10)",
   "language": "python",
   "name": "python3"
  },
  "language_info": {
   "codemirror_mode": {
    "name": "ipython",
    "version": 3
   },
   "file_extension": ".py",
   "mimetype": "text/x-python",
   "name": "python",
   "nbconvert_exporter": "python",
   "pygments_lexer": "ipython3",
   "version": "3.12.10"
  }
 },
 "nbformat": 4,
 "nbformat_minor": 5
}
