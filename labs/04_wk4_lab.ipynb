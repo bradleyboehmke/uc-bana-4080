{
 "cells": [
  {
   "cell_type": "markdown",
   "id": "3d0cbc01",
   "metadata": {},
   "source": [
    "# Week 4 Lab – Data Wrangling - From Business Question to Analysis\n",
    "\n",
    "<a href=\"https://colab.research.google.com/github/bradleyboehmke/uc-bana-4080/blob/main/labs/04_wk4_lab.ipynb\" target=\"_parent\"><img src=\"https://colab.research.google.com/assets/colab-badge.svg\" alt=\"Open In Colab\"/></a>"
   ]
  },
  {
   "cell_type": "markdown",
   "id": "3b4c0ffb",
   "metadata": {},
   "source": [
    "\n",
    "In this lab, we’ll use **three datasets** from the Complete Journey retail grocery data:\n",
    "\n",
    "1. **transactions** – product purchases by households (receipt-level detail)  \n",
    "2. **demographics** – household-level demographic data  \n",
    "3. **products** – metadata about products purchased  \n",
    "\n",
    "This lab reinforces this week’s readings:\n",
    "\n",
    "- **[Reading 10: Manipulating Data](https://bradleyboehmke.github.io/uc-bana-4080/10-manipulating-data.html)**\n",
    "- **[Reading 11: Summarizing Data](https://bradleyboehmke.github.io/uc-bana-4080/11_aggregating_data.html)**\n",
    "- **[Reading 12: Joining Data](https://bradleyboehmke.github.io/uc-bana-4080/12-joining-data.html)**\n",
    "\n",
    "We will:\n",
    "- Start with simple data exploration\n",
    "- Progress to manipulating and summarizing data\n",
    "- End with joining datasets to answer more complex questions\n",
    "- Practice breaking business questions into **analytical steps**\n",
    "\n",
    "You are encouraged to work in small groups of **2–4 students**. This week’s **homework** is based on this lab. You may not finish everything today; save your work as you go.\n"
   ]
  },
  {
   "cell_type": "markdown",
   "id": "c3f7a993",
   "metadata": {},
   "source": [
    "## Setup"
   ]
  },
  {
   "cell_type": "code",
   "execution_count": null,
   "id": "79effe5d",
   "metadata": {},
   "outputs": [],
   "source": [
    "# If you don't have completejourney_py installed, run: pip install completejourney-py\n",
    "from completejourney_py import get_data\n",
    "import pandas as pd\n",
    "\n",
    "# Load datasets\n",
    "cj_data = get_data()\n",
    "transactions = cj_data['transactions']\n",
    "products = cj_data['products']\n",
    "demographics = cj_data['demographics']\n",
    "\n",
    "# Quick preview\n",
    "transactions.head()\n"
   ]
  },
  {
   "cell_type": "markdown",
   "id": "7b2bfa3d",
   "metadata": {},
   "source": [
    "## Part 1 – Basic Exploration"
   ]
  },
  {
   "cell_type": "markdown",
   "id": "4f0d81b4",
   "metadata": {},
   "source": [
    "\n",
    "**Q0:** How many transactions are in our dataset, what is the date range, how many households have demographic data, how many products exist, and what are the min/max/mean sales values?  \n",
    "\n",
    "**Step-by-step instructions:**\n",
    "1. Use `.shape[0]` on `transactions` to count rows.  \n",
    "2. Use `.min()` and `.max()` on `transaction_timestamp` to find the date range.  \n",
    "3. Use `.shape[0]` on `demographics` and `products` to get counts.  \n",
    "4. Use `.min()`, `.max()`, `.mean()` on `sales_value` for basic stats.\n"
   ]
  },
  {
   "cell_type": "code",
   "execution_count": null,
   "id": "5ed08750",
   "metadata": {},
   "outputs": [],
   "source": [
    "# Starter code with blanks to fill\n",
    "# total number of transactions\n",
    "num_transactions = transactions._____"
   ]
  },
  {
   "cell_type": "code",
   "execution_count": null,
   "id": "9582b168",
   "metadata": {},
   "outputs": [],
   "source": [
    "# date range of transactions\n",
    "min_date = transactions['transaction_timestamp'].__()\n",
    "max_date = transactions['transaction_timestamp'].__()"
   ]
  },
  {
   "cell_type": "code",
   "execution_count": null,
   "id": "e1d9414e",
   "metadata": {},
   "outputs": [],
   "source": [
    "# number of unique households and products\n",
    "num_households = demographics.shape[__]\n",
    "num_products = products.shape[__]"
   ]
  },
  {
   "cell_type": "code",
   "execution_count": null,
   "id": "f80c8424",
   "metadata": {},
   "outputs": [],
   "source": [
    "# summary statistics for sales_value\n",
    "min_sales = transactions['sales_value'].__()\n",
    "max_sales = transactions['sales_value'].__()\n",
    "mean_sales = transactions['sales_value'].__()"
   ]
  },
  {
   "cell_type": "markdown",
   "id": "adac3621",
   "metadata": {},
   "source": [
    "\n",
    "**Q1:** Which day had the highest total sales?  \n",
    "\n",
    "**Step-by-step instructions:**\n",
    "1. Create a new column `date` by extracting only the date from `transaction_timestamp` (`.dt.date`).  \n",
    "2. Group by `date` and sum `sales_value`.  \n",
    "3. Sort results in descending order.  \n",
    "4. Select the top row.\n"
   ]
  },
  {
   "cell_type": "code",
   "execution_count": null,
   "id": "146b02d1",
   "metadata": {},
   "outputs": [],
   "source": [
    "# Your code here\n"
   ]
  },
  {
   "cell_type": "markdown",
   "id": "5e1af13c",
   "metadata": {},
   "source": [
    "\n",
    "**Q2:** What are the top 5 departments by total sales?  \n",
    "\n",
    "**Step-by-step instructions:**\n",
    "1. Join `transactions` to `products` on `product_id` using an inner join.  \n",
    "2. Group by `department` and sum `sales_value`.  \n",
    "3. Sort results in descending order.  \n",
    "4. Display the top 5.\n"
   ]
  },
  {
   "cell_type": "code",
   "execution_count": null,
   "id": "7879cfbb",
   "metadata": {},
   "outputs": [],
   "source": [
    "# Your code here\n"
   ]
  },
  {
   "cell_type": "markdown",
   "id": "d44f83a9",
   "metadata": {},
   "source": [
    "## Part 2 – Manipulating Data"
   ]
  },
  {
   "cell_type": "markdown",
   "id": "76b02a97",
   "metadata": {},
   "source": [
    "\n",
    "**Q3:** What is the average unit price for each department?  \n",
    "\n",
    "**Step-by-step instructions:**\n",
    "1. Create a `unit_price` column: `sales_value / quantity`.  \n",
    "2. Join `transactions` to `products` to bring in `department`.  \n",
    "3. Group by `department` and calculate the mean of `unit_price`.\n"
   ]
  },
  {
   "cell_type": "code",
   "execution_count": null,
   "id": "1ec20178",
   "metadata": {},
   "outputs": [],
   "source": [
    "# Your code here\n"
   ]
  },
  {
   "cell_type": "markdown",
   "id": "00f46386",
   "metadata": {},
   "source": [
    "\n",
    "**Q4:** Do we have missing values in `unit_price`?  \n",
    "\n",
    "**Step-by-step instructions:**\n",
    "1. Use `.isna().sum()` on `unit_price` to count missing values.  \n",
    "2. Consider filtering rows where `quantity == 0` to see if that’s the cause.\n"
   ]
  },
  {
   "cell_type": "code",
   "execution_count": null,
   "id": "c9bc32b0",
   "metadata": {},
   "outputs": [],
   "source": [
    "# Your code here\n"
   ]
  },
  {
   "cell_type": "markdown",
   "id": "bcec1288",
   "metadata": {},
   "source": [
    "## Part 3 – Aggregations"
   ]
  },
  {
   "cell_type": "markdown",
   "id": "d33e7005",
   "metadata": {},
   "source": [
    "\n",
    "**Q5:** Which income level spends the most on average? \n",
    " \n",
    "*Hint:* Join transactions to demographics, group by income, calculate mean sales per household.\n"
   ]
  },
  {
   "cell_type": "code",
   "execution_count": null,
   "id": "f85fb384",
   "metadata": {},
   "outputs": [],
   "source": [
    "# Your code here\n"
   ]
  },
  {
   "cell_type": "markdown",
   "id": "7476d90b",
   "metadata": {},
   "source": [
    "\n",
    "**Q6:** Do households with kids spend more (on average) than households without kids?  \n",
    "\n",
    "*Hint:* Use `kid_count` to group households by creating a new column (e.g., `has_kids`) that identifies whether a household has kids (`kid_count > 0`) or not (`kid_count == 0`). Compute the average spend for those with kids and those without.\n"
   ]
  },
  {
   "cell_type": "code",
   "execution_count": null,
   "id": "950537dc",
   "metadata": {},
   "outputs": [],
   "source": [
    "# Your code here\n"
   ]
  },
  {
   "cell_type": "markdown",
   "id": "a22ee537",
   "metadata": {},
   "source": [
    "\n",
    "**Q7:** What are the top 5 departments by total quantity of items sold?  \n",
    "\n",
    "*Hint:* Join to products, group by department, sum quantity, and sort.\n"
   ]
  },
  {
   "cell_type": "code",
   "execution_count": null,
   "id": "f6165bb3",
   "metadata": {},
   "outputs": [],
   "source": [
    "# Your code here\n"
   ]
  },
  {
   "cell_type": "markdown",
   "id": "5f565e67",
   "metadata": {},
   "source": [
    "## Part 4 – Joins for Deeper Insights"
   ]
  },
  {
   "cell_type": "markdown",
   "id": "ef8248f8",
   "metadata": {},
   "source": [
    "\n",
    "**Q8:** Which product is purchased most frequently?  \n",
    "\n",
    "*Hint:* Group by `product_id`, sum quantity, then join to products for description.\n"
   ]
  },
  {
   "cell_type": "code",
   "execution_count": null,
   "id": "7d702f21",
   "metadata": {},
   "outputs": [],
   "source": [
    "# Your code here\n"
   ]
  },
  {
   "cell_type": "markdown",
   "id": "5ea4c389",
   "metadata": {},
   "source": [
    "\n",
    "**Q9:** Identify all products with “pizza” in `product_type` and find the one with the greatest total sales.  \n",
    "\n",
    "*Hint:* Filter products where product_type contains \"pizza\" with `.str.contains(\"pizza\", case=False, na=False)`, join to transactions, sum sales by product.\n"
   ]
  },
  {
   "cell_type": "code",
   "execution_count": null,
   "id": "a57882c0",
   "metadata": {},
   "outputs": [],
   "source": [
    "# Your code here\n"
   ]
  },
  {
   "cell_type": "markdown",
   "id": "80acd9c5",
   "metadata": {},
   "source": [
    "\n",
    "**Q10:** Which product category brings in the most revenue for the highest-income households with kids? \n",
    " \n",
    "*Hint:* Filter demographics for the highest income level & `kid_count > 0`, join to transactions and products, group by category and compute the sum of sales value.\n"
   ]
  },
  {
   "cell_type": "code",
   "execution_count": null,
   "id": "26e047d7",
   "metadata": {},
   "outputs": [],
   "source": [
    "# Your code here\n"
   ]
  },
  {
   "cell_type": "markdown",
   "id": "3ea516d0",
   "metadata": {},
   "source": [
    "\n",
    "**Q11:** Which manufacturer has the highest total sales, and which department do they primarily sell in?  \n",
    "\n",
    "*Hint:* Join transactions to products, group by manufacturer, sum sales, find top. Then, filter products for that top manufacturer and check which department(s) they are associated with.\n"
   ]
  },
  {
   "cell_type": "code",
   "execution_count": null,
   "id": "e4f10690",
   "metadata": {},
   "outputs": [],
   "source": [
    "# Your code here\n"
   ]
  },
  {
   "cell_type": "markdown",
   "id": "f0837292",
   "metadata": {},
   "source": [
    "\n",
    "**Q12:** For each income level, what is the most frequently purchased product category?  \n",
    "\n",
    "*Hint:* Join demographics → transactions → products, group by income & category, count quantity, get top per income.\n"
   ]
  },
  {
   "cell_type": "code",
   "execution_count": null,
   "id": "572f6424",
   "metadata": {},
   "outputs": [],
   "source": [
    "# Your code here\n"
   ]
  },
  {
   "cell_type": "markdown",
   "id": "6f748c3b",
   "metadata": {},
   "source": [
    "## Homework Deliverable"
   ]
  },
  {
   "cell_type": "markdown",
   "id": "5ce8a2b0",
   "metadata": {},
   "source": [
    "\n",
    "- Implement the code to answer the above questions.  \n",
    "- Once you have all your answers, go to the homework quiz on Canvas and submit your answers.  \n",
    "- Save your notebook — you'll upload it on Canvas as part of the homework.\n"
   ]
  }
 ],
 "metadata": {
  "language_info": {
   "name": "python"
  }
 },
 "nbformat": 4,
 "nbformat_minor": 5
}
