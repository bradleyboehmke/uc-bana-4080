{
 "cells": [
  {
   "cell_type": "markdown",
   "id": "3d0cbc01",
   "metadata": {},
   "source": [
    "# Week 4 Lab – Data Wrangling - From Business Question to Analysis\n",
    "\n",
    "<a href=\"https://colab.research.google.com/github/bradleyboehmke/uc-bana-4080/blob/main/labs/04_wk4_lab.ipynb\" target=\"_parent\"><img src=\"https://colab.research.google.com/assets/colab-badge.svg\" alt=\"Open In Colab\"/></a>"
   ]
  },
  {
   "cell_type": "markdown",
   "id": "intro-scenario",
   "metadata": {},
   "source": [
    "## Welcome to RetailMax Analytics!\n",
    "\n",
    "You are a junior data analyst at RetailMax, a large grocery retail chain with hundreds of locations across the country. The leadership team has called an urgent strategy meeting next week to discuss several key business decisions, and they need data-driven insights to guide their choices.\n",
    "\n",
    "Your manager has tasked you with analyzing customer transaction data from one of our pilot stores to answer critical questions from various departments. Each analysis you perform today will directly inform million-dollar decisions about staffing, inventory, pricing, and marketing strategies.\n",
    "\n",
    "**🚨 Important Lab Logistics:**\n",
    "> **Time Management:** This lab contains 12+ analytical tasks that mirror real-world business requests. You will likely NOT complete all questions during today's class session. However, **all analyses are required for your homework quiz**, so be sure to:\n",
    "> - Save your progress frequently as you work\n",
    "> - Complete any remaining questions outside of class before the homework deadline\n",
    "> - Use your results to answer the Canvas quiz questions accurately"
   ]
  },
  {
   "cell_type": "markdown",
   "id": "dataset-context",
   "metadata": {},
   "source": [
    "### 📊 About Your Data\n",
    "This Complete Journey dataset represents 2+ years of actual grocery transaction data from a major retailer. You're analyzing:\n",
    "- **2.5 million+ transactions** from real customer purchases\n",
    "- **2,500 households** with demographic profiles  \n",
    "- **92,000+ products** across multiple departments\n",
    "- **Real purchasing patterns** including seasonal trends and customer behaviors\n",
    "\n",
    "This is the same type of data that drives billion-dollar retail decisions at companies like Walmart, Target, and Kroger.\n",
    "\n",
    "**Three datasets** from the Complete Journey retail grocery data:\n",
    "\n",
    "1. **transactions** – product purchases by households (receipt-level detail)  \n",
    "2. **demographics** – household-level demographic data  \n",
    "3. **products** – metadata about products purchased  \n",
    "\n",
    "This lab reinforces this week's readings:\n",
    "\n",
    "- **[Reading 10: Manipulating Data](https://bradleyboehmke.github.io/uc-bana-4080/10-manipulating-data.html)**\n",
    "- **[Reading 11: Summarizing Data](https://bradleyboehmke.github.io/uc-bana-4080/11_aggregating_data.html)**\n",
    "- **[Reading 12: Joining Data](https://bradleyboehmke.github.io/uc-bana-4080/12-joining-data.html)**\n",
    "\n",
    "We will:\n",
    "- Start with data audit and exploration\n",
    "- Progress to manipulating and summarizing data\n",
    "- End with joining datasets to answer more complex questions\n",
    "- Practice breaking business questions into **analytical steps**\n",
    "\n",
    "You are encouraged to work in small groups of **2–4 students**."
   ]
  },
  {
   "cell_type": "markdown",
   "id": "progress-tracker",
   "metadata": {},
   "source": [
    "### Lab Progress Tracker\n",
    "- [ ] Q0: Data Audit Complete\n",
    "- [ ] Q1: Peak Sales Day Identified  \n",
    "- [ ] Q2: Top Departments Analyzed\n",
    "- [ ] Q3: Pricing Analysis Complete\n",
    "- [ ] Q4: Data Quality Validated\n",
    "- [ ] Q5: Customer Segmentation (Income)\n",
    "- [ ] Q6: Family vs. Non-Family Spending\n",
    "- [ ] Q7: Inventory Optimization Data\n",
    "- [ ] Q8: Procurement Priority Product\n",
    "- [ ] Q9: Pizza Category Analysis\n",
    "- [ ] Q10: Premium Customer Insights\n",
    "- [ ] Q11: Vendor Relationship Mapping\n",
    "- [ ] Q12: Persona Development Data"
   ]
  },
  {
   "cell_type": "markdown",
   "id": "c3f7a993",
   "metadata": {},
   "source": [
    "## Setup"
   ]
  },
  {
   "cell_type": "code",
   "execution_count": null,
   "id": "79effe5d",
   "metadata": {},
   "outputs": [],
   "source": [
    "# If you don't have completejourney_py installed, run: pip install completejourney-py\n",
    "from completejourney_py import get_data\n",
    "import pandas as pd\n",
    "\n",
    "# Load datasets\n",
    "cj_data = get_data()\n",
    "transactions = cj_data['transactions']\n",
    "products = cj_data['products']\n",
    "demographics = cj_data['demographics']\n",
    "\n",
    "# Quick preview\n",
    "transactions.head()"
   ]
  },
  {
   "cell_type": "markdown",
   "id": "7b2bfa3d",
   "metadata": {},
   "source": [
    "## Part 1 – Data Audit & Basic Exploration"
   ]
  },
  {
   "cell_type": "markdown",
   "id": "4f0d81b4",
   "metadata": {},
   "source": [
    "**Q0:**\n",
    "**Business Question:** The analytics team needs to conduct a comprehensive data audit before presenting insights to senior leadership, ensuring we understand the scope and quality of our dataset.\n",
    "\n",
    "**Your Task:** Determine how many transactions are in our dataset, what is the date range, how many households have demographic data, how many products exist, and what are the min/max/mean sales values.\n",
    "\n",
    "**💡 Analytical Approach:**\n",
    "1. Use `.shape[0]` on `transactions` to count rows  \n",
    "2. Use `.min()` and `.max()` on `transaction_timestamp` to find the date range  \n",
    "3. Use `.shape[0]` on `demographics` and `products` to get counts  \n",
    "4. Use `.min()`, `.max()`, `.mean()` on `sales_value` for basic stats"
   ]
  },
  {
   "cell_type": "code",
   "execution_count": null,
   "id": "5ed08750",
   "metadata": {},
   "outputs": [],
   "source": [
    "# Starter code with blanks to fill\n",
    "# total number of transactions\n",
    "num_transactions = transactions._____"
   ]
  },
  {
   "cell_type": "code",
   "execution_count": null,
   "id": "9582b168",
   "metadata": {},
   "outputs": [],
   "source": [
    "# date range of transactions\n",
    "min_date = transactions['transaction_timestamp'].__()\n",
    "max_date = transactions['transaction_timestamp'].__()"
   ]
  },
  {
   "cell_type": "code",
   "execution_count": null,
   "id": "e1d9414e",
   "metadata": {},
   "outputs": [],
   "source": [
    "# number of unique households and products\n",
    "num_households = demographics.shape[__]\n",
    "num_products = products.shape[__]"
   ]
  },
  {
   "cell_type": "code",
   "execution_count": null,
   "id": "f80c8424",
   "metadata": {},
   "outputs": [],
   "source": [
    "# summary statistics for sales_value\n",
    "min_sales = transactions['sales_value'].__()\n",
    "max_sales = transactions['sales_value'].__()\n",
    "mean_sales = transactions['sales_value'].__()"
   ]
  },
  {
   "cell_type": "markdown",
   "id": "adac3621",
   "metadata": {},
   "source": [
    "**Q1:**\n",
    "**Business Question:** The operations team is trying to better align staffing requirements with customer traffic patterns to optimize labor costs and customer service.\n",
    "\n",
    "**Your Task:** Identify the day that had the highest total sales to help them understand peak demand patterns.\n",
    "\n",
    "💡 **Business Impact:** This analysis will directly influence $2M+ in annual labor costs through optimized scheduling.\n",
    "\n",
    "**💡 Analytical Approach:**\n",
    "1. Create a new column `date` by extracting only the date from `transaction_timestamp` (`.dt.date`)  \n",
    "2. Group by `date` and sum `sales_value`  \n",
    "3. Sort results in descending order  \n",
    "4. Select the top row"
   ]
  },
  {
   "cell_type": "code",
   "execution_count": null,
   "id": "146b02d1",
   "metadata": {},
   "outputs": [],
   "source": [
    "# Step 1: Create a date column from transaction_timestamp\n",
    "transactions['date'] = transactions['transaction_timestamp'].____\n",
    "\n",
    "# Step 2: Group by date and sum sales_value\n",
    "daily_sales = transactions.____(['date'])['sales_value'].____\n",
    "\n",
    "# Step 3: Sort in descending order and get the top result\n",
    "peak_sales_day = daily_sales.____().head(1)\n",
    "\n",
    "print(\"Day with highest total sales:\")\n",
    "print(peak_sales_day)"
   ]
  },
  {
   "cell_type": "markdown",
   "id": "5e1af13c",
   "metadata": {},
   "source": [
    "**Q2:**\n",
    "**Business Question:** The store manager wants to optimize floor space allocation and promotional budgets based on department performance.\n",
    "\n",
    "**Your Task:** Identify the top 5 departments by total sales to guide these strategic decisions.\n",
    "\n",
    "**💡 Analytical Approach:**\n",
    "1. Join `transactions` to `products` on `product_id` using an inner join  \n",
    "2. Group by `department` and sum `sales_value`  \n",
    "3. Sort results in descending order  \n",
    "4. Display the top 5"
   ]
  },
  {
   "cell_type": "code",
   "execution_count": null,
   "id": "7879cfbb",
   "metadata": {},
   "outputs": [],
   "source": [
    "# Step 1: Join transactions to products on product_id\n",
    "merged_data = transactions.merge(products, on='product_id', how='inner')\n",
    "\n",
    "# Step 2: Group by department and sum sales_value\n",
    "# Your code here\n",
    "\n",
    "# Step 3: Sort and display top 5 departments\n",
    "# Your code here"
   ]
  },
  {
   "cell_type": "markdown",
   "id": "d44f83a9",
   "metadata": {},
   "source": [
    "## Part 2 – Pricing & Data Quality Analysis"
   ]
  },
  {
   "cell_type": "markdown",
   "id": "76b02a97",
   "metadata": {},
   "source": [
    "**Q3:**\n",
    "**Business Question:** The pricing team is conducting a competitive analysis and needs to understand our current price positioning across different product categories.\n",
    "\n",
    "**Your Task:** Calculate the average unit price for each department.\n",
    "\n",
    "**💡 Analytical Approach:**\n",
    "1. Create a `unit_price` column: `sales_value / quantity`  \n",
    "2. Join `transactions` to `products` to bring in `department`  \n",
    "3. Group by `department` and calculate the mean of `unit_price`"
   ]
  },
  {
   "cell_type": "code",
   "execution_count": null,
   "id": "1ec20178",
   "metadata": {},
   "outputs": [],
   "source": [
    "# Step 1: Create unit_price column\n",
    "transactions['unit_price'] = ____\n",
    "\n",
    "# Step 2: Join transactions to products to bring in department\n",
    "merged_data = transactions.merge(products, on='____', how='____')\n",
    "\n",
    "# Step 3: Calculate average unit price by department\n",
    "# Your code here"
   ]
  },
  {
   "cell_type": "markdown",
   "id": "00f46386",
   "metadata": {},
   "source": [
    "**Q4:**\n",
    "**Business Question:** The finance team has raised concerns about data quality in our pricing analysis that might affect financial reporting accuracy.\n",
    "\n",
    "**Your Task:** Investigate whether we have missing values in our unit price calculations.\n",
    "\n",
    "**💡 Analytical Approach:**\n",
    "1. Use `.isna().sum()` on `unit_price` to count missing values  \n",
    "2. Consider filtering rows where `quantity == 0` to see if that's the cause"
   ]
  },
  {
   "cell_type": "code",
   "execution_count": null,
   "id": "c9bc32b0",
   "metadata": {},
   "outputs": [],
   "source": [
    "# Your code here\n"
   ]
  },
  {
   "cell_type": "markdown",
   "id": "bcec1288",
   "metadata": {},
   "source": [
    "## Part 3 – Customer Segmentation & Behavioral Analysis"
   ]
  },
  {
   "cell_type": "markdown",
   "id": "d33e7005",
   "metadata": {},
   "source": [
    "**Q5:**\n",
    "**Business Question:** The marketing team wants to develop targeted campaigns for different customer segments and needs to prioritize their marketing budget allocation.\n",
    "\n",
    "**Your Task:** Identify which income level spends the most on average.\n",
    "\n",
    "**💡 Analytical Approach:**\n",
    "1. Join transactions to demographics on household_id\n",
    "2. Group by income level \n",
    "3. Calculate mean sales_value per group\n",
    "4. Sort results to identify highest-spending segment"
   ]
  },
  {
   "cell_type": "code",
   "execution_count": null,
   "id": "f85fb384",
   "metadata": {},
   "outputs": [],
   "source": [
    "# Step 1: Join transactions to demographics\n",
    "merged_data = transactions.merge(demographics, on='household_id', how='inner')\n",
    "\n",
    "# Step 2-4: Group by income, calculate mean, and sort\n",
    "# Your code here"
   ]
  },
  {
   "cell_type": "markdown",
   "id": "7476d90b",
   "metadata": {},
   "source": [
    "**Q6:**\n",
    "**Business Question:** The merchandising team is considering expanding the family-oriented product lines and needs to validate this investment opportunity.\n",
    "\n",
    "**Your Task:** Analyze whether households with kids spend more on average than those without kids.\n",
    "\n",
    "**💡 Analytical Approach:**\n",
    "1. Use `kid_count` to create a new column (e.g., `has_kids`) that identifies whether a household has kids (`kid_count > 0`) or not (`kid_count == 0`)\n",
    "2. Note that `kid_count` is not a numeric variable 🤔\n",
    "3. Compute the average spend for those with kids and those without"
   ]
  },
  {
   "cell_type": "code",
   "execution_count": null,
   "id": "950537dc",
   "metadata": {},
   "outputs": [],
   "source": [
    "# Step 1: Create has_kids variable (note that kid_count is not numeric!)\n",
    "demographics['has_kids'] = demographics['kids_count'].fillna(0) != '0'\n",
    "\n",
    "# Step 2: Join transactions to demographics and analyze spending by has_kids\n",
    "# Your code here"
   ]
  },
  {
   "cell_type": "markdown",
   "id": "a22ee537",
   "metadata": {},
   "source": [
    "**Q7:**\n",
    "**Business Question:** The supply chain team needs to optimize inventory turnover and storage capacity allocation across different product categories.\n",
    "\n",
    "**Your Task:** Identify the top 5 departments by total quantity of items sold to inform their logistics planning.\n",
    "\n",
    "**💡 Analytical Approach:**\n",
    "1. Join transactions to products to get department information\n",
    "2. Group by department and sum quantity\n",
    "3. Sort results in descending order\n",
    "4. Display top 5"
   ]
  },
  {
   "cell_type": "code",
   "execution_count": null,
   "id": "f6165bb3",
   "metadata": {},
   "outputs": [],
   "source": [
    "# Your code here\n"
   ]
  },
  {
   "cell_type": "markdown",
   "id": "5f565e67",
   "metadata": {},
   "source": [
    "## Part 4 – Advanced Business Intelligence & Strategic Insights"
   ]
  },
  {
   "cell_type": "markdown",
   "id": "ef8248f8",
   "metadata": {},
   "source": [
    "**Q8:**\n",
    "**Business Question:** The procurement team wants to negotiate better deals with suppliers for high-volume items to reduce overall product costs.\n",
    "\n",
    "**Your Task:** Identify which product is purchased most frequently to prioritize their vendor negotiations.\n",
    "\n",
    "**💡 Analytical Approach:**\n",
    "1. Group transactions by `product_id` and sum quantity\n",
    "2. Find the product with highest total quantity\n",
    "3. Join to products table for product description"
   ]
  },
  {
   "cell_type": "code",
   "execution_count": null,
   "id": "7d702f21",
   "metadata": {},
   "outputs": [],
   "source": [
    "# Your code here\n"
   ]
  },
  {
   "cell_type": "markdown",
   "id": "5ea4c389",
   "metadata": {},
   "source": [
    "**Q9:**\n",
    "**Business Question:** The category manager for frozen foods is evaluating the pizza segment's performance for upcoming vendor reviews and contract negotiations.\n",
    "\n",
    "**Your Task:** Identify all pizza products and determine which one generates the greatest total sales.\n",
    "\n",
    "**💡 Analytical Approach:**\n",
    "1. Filter products where product_type contains \"pizza\" using `.str.contains(\"pizza\", case=False, na=False)`\n",
    "2. Join filtered products to transactions\n",
    "3. Group by product and sum sales_value\n",
    "4. Find the pizza product with highest total sales"
   ]
  },
  {
   "cell_type": "code",
   "execution_count": null,
   "id": "a57882c0",
   "metadata": {},
   "outputs": [],
   "source": [
    "# Your code here\n"
   ]
  },
  {
   "cell_type": "markdown",
   "id": "80acd9c5",
   "metadata": {},
   "source": [
    "**Q10:**\n",
    "**Business Question:** The premium product buyer wants to understand what drives revenue among our most valuable customer segment to inform future product selection.\n",
    "\n",
    "**Your Task:** Identify which product category brings in the most revenue for highest-income households with kids.\n",
    "\n",
    "**💡 Analytical Approach:**\n",
    "1. Filter demographics for the highest income level & `kid_count > 0`\n",
    "2. Join to transactions and then to products\n",
    "3. Group by category and compute the sum of sales_value\n",
    "4. Identify the top revenue-generating category"
   ]
  },
  {
   "cell_type": "code",
   "execution_count": null,
   "id": "26e047d7",
   "metadata": {},
   "outputs": [],
   "source": [
    "# Your code here\n"
   ]
  },
  {
   "cell_type": "markdown",
   "id": "3ea516d0",
   "metadata": {},
   "source": [
    "**Q11:**\n",
    "**Business Question:** The vendor management team is preparing for annual contract negotiations and needs to identify their most important supplier relationships.\n",
    "\n",
    "**Your Task:** Determine which manufacturer has the highest total sales and identify their primary department.\n",
    "\n",
    "**💡 Analytical Approach:**\n",
    "1. Join transactions to products to get manufacturer information\n",
    "2. Group by manufacturer and sum sales_value to find the top manufacturer\n",
    "3. Filter products for that top manufacturer and check which department(s) they are associated with"
   ]
  },
  {
   "cell_type": "code",
   "execution_count": null,
   "id": "e4f10690",
   "metadata": {},
   "outputs": [],
   "source": [
    "# Your code here\n"
   ]
  },
  {
   "cell_type": "markdown",
   "id": "f0837292",
   "metadata": {},
   "source": [
    "**Q12:**\n",
    "**Business Question:** The customer insights team is developing income-based personas for the marketing department to improve targeted advertising effectiveness.\n",
    "\n",
    "**Your Task:** Identify the most frequently purchased product category for each income level to support their customer segmentation strategy.\n",
    "\n",
    "**💡 Analytical Approach:**\n",
    "1. Join demographics → transactions → products to connect all data\n",
    "2. Group by income level and category\n",
    "3. Count/sum quantity for each combination\n",
    "4. For each income level, identify the top category"
   ]
  },
  {
   "cell_type": "code",
   "execution_count": null,
   "id": "572f6424",
   "metadata": {},
   "outputs": [],
   "source": [
    "# Your code here\n"
   ]
  },
  {
   "cell_type": "markdown",
   "id": "6f748c3b",
   "metadata": {},
   "source": [
    "## 📋 Next Steps & Homework"
   ]
  },
  {
   "cell_type": "markdown",
   "id": "5ce8a2b0",
   "metadata": {},
   "source": [
    "### What You've Accomplished Today\n",
    "You've performed real-world retail analytics that directly support business decision-making across multiple departments at RetailMax.\n",
    "\n",
    "### Completing Your Assignment\n",
    "1. **Finish Remaining Questions:** Complete any analyses you didn't finish during class\n",
    "2. **Document Your Findings:** Ensure all your code produces clear, interpretable results\n",
    "3. **Canvas Quiz:** Use your analytical results to answer the homework quiz questions\n",
    "4. **File Submission:** Upload your completed notebook to Canvas\n",
    "\n",
    "### Real-World Application\n",
    "The analytical techniques you've practiced today are used daily by data professionals in retail, e-commerce, and consumer goods industries. These skills directly translate to roles in business intelligence, data analysis, and strategic planning."
   ]
  }
 ],
 "metadata": {
  "kernelspec": {
   "display_name": "Python 3 (ipykernel)",
   "language": "python",
   "name": "python3"
  },
  "language_info": {
   "codemirror_mode": {
    "name": "ipython",
    "version": 3
   },
   "file_extension": ".py",
   "mimetype": "text/x-python",
   "name": "python",
   "nbconvert_exporter": "python",
   "pygments_lexer": "ipython3",
   "version": "3.11.5"
  }
 },
 "nbformat": 4,
 "nbformat_minor": 5
}
