{
 "cells": [
  {
   "cell_type": "markdown",
   "id": "366e6742",
   "metadata": {},
   "source": [
    "# Week 1 Lab: Python Setup & Basics\n",
    "Welcome to your first lab! Today you'll:\n",
    "\n",
    "- Learn how to run Python code in Google Colab\n",
    "- Practice using `print()`\n",
    "- Explore Python basics: data types, variables, and comparisons\n",
    "- Work through exercises based on real-world examples"
   ]
  },
  {
   "cell_type": "markdown",
   "id": "9cab2122",
   "metadata": {},
   "source": [
    "## 1. Getting Started with Colab\n",
    "Run your first line of Python code below:"
   ]
  },
  {
   "cell_type": "code",
   "execution_count": null,
   "id": "afb6c9a0",
   "metadata": {},
   "outputs": [],
   "source": [
    "print(\"Hello, World!\")"
   ]
  },
  {
   "cell_type": "markdown",
   "id": "64442f9e",
   "metadata": {},
   "source": [
    "### Challenge\n",
    "Create a new notebook and write the following code in it:\n",
    "```python\n",
    "print(\"Hello, my name is ______\")\n",
    "```\n",
    "Then save and download your notebook."
   ]
  },
  {
   "cell_type": "markdown",
   "id": "b07c3580",
   "metadata": {},
   "source": [
    "## 2. Try It Before We Start\n",
    "Run the code below and observe the output:"
   ]
  },
  {
   "cell_type": "code",
   "execution_count": null,
   "id": "3b1cc6d9",
   "metadata": {},
   "outputs": [],
   "source": [
    "10 + 5\n",
    "20 + 3\n",
    "print(10 + 5)\n",
    "print(20 + 3)"
   ]
  },
  {
   "cell_type": "markdown",
   "id": "ddb00ea9",
   "metadata": {},
   "source": [
    "### Discussion\n",
    "- What did you notice about the difference between lines with `print()` and those without?\n",
    "- How many outputs were shown when you ran the code?"
   ]
  },
  {
   "cell_type": "markdown",
   "id": "a847b74b",
   "metadata": {},
   "source": [
    "## 3. Python Data Types\n",
    "Explore the four common types:"
   ]
  },
  {
   "cell_type": "code",
   "execution_count": null,
   "id": "e90fa217",
   "metadata": {},
   "outputs": [],
   "source": [
    "x = 10         # int\n",
    "y = 3.14       # float\n",
    "z = \"data\"     # str\n",
    "is_student = True  # bool\n",
    "\n",
    "print(type(x), type(y), type(z), type(is_student))"
   ]
  },
  {
   "cell_type": "markdown",
   "id": "11c0933b",
   "metadata": {},
   "source": [
    "### Exercise\n",
    "Create three new variables of different types and print both the value and the type of each one."
   ]
  },
  {
   "cell_type": "markdown",
   "id": "d8e2afbd",
   "metadata": {},
   "source": [
    "## 4. Variables and Assignment"
   ]
  },
  {
   "cell_type": "code",
   "execution_count": null,
   "id": "24c62a2a",
   "metadata": {},
   "outputs": [],
   "source": [
    "price = 2.99\n",
    "quantity = 4\n",
    "total = price * quantity\n",
    "print(\"Total:\", total)"
   ]
  },
  {
   "cell_type": "markdown",
   "id": "b39fce37",
   "metadata": {},
   "source": [
    "### Exercise\n",
    "Change the price or quantity values and rerun the calculation. Try assigning your own variables and doing math with them."
   ]
  },
  {
   "cell_type": "markdown",
   "id": "0bc89424",
   "metadata": {},
   "source": [
    "## 5. Comparison Operators"
   ]
  },
  {
   "cell_type": "code",
   "execution_count": null,
   "id": "918e4f26",
   "metadata": {},
   "outputs": [],
   "source": [
    "a = 10\n",
    "b = 5\n",
    "print(a > b)\n",
    "print(a == b)\n",
    "print(\"hello\" != \"world\")"
   ]
  },
  {
   "cell_type": "markdown",
   "id": "5fec0890",
   "metadata": {},
   "source": [
    "### Exercise\n",
    "Write 3 comparisons using variables you've defined. Try combining numbers, strings, and booleans."
   ]
  },
  {
   "cell_type": "markdown",
   "id": "38e5344f",
   "metadata": {},
   "source": [
    "## 6. Putting It All Together\n",
    "A recap combining variables, math, and print formatting."
   ]
  },
  {
   "cell_type": "code",
   "execution_count": null,
   "id": "27baac52",
   "metadata": {},
   "outputs": [],
   "source": [
    "name = \"Taylor\"\n",
    "age = 20\n",
    "print(\"Hi, I'm \" + name + \" and I’ll be \" + str(age + 10) + \" in 10 years.\")"
   ]
  },
  {
   "cell_type": "markdown",
   "id": "5deb890d",
   "metadata": {},
   "source": [
    "## 7. Final Exercise – Event Summary\n",
    "Create a few variables to describe an event you're attending. Then print a short summary using those variables.\n",
    "\n",
    "### Example\n",
    "```python\n",
    "event = \"concert\"\n",
    "location = \"Cincinnati\"\n",
    "tickets = 2\n",
    "print(\"I'm going to a \" + event + \" in \" + location + \" with \" + str(tickets) + \" tickets!\")\n",
    "```"
   ]
  }
 ],
 "metadata": {},
 "nbformat": 4,
 "nbformat_minor": 5
}
