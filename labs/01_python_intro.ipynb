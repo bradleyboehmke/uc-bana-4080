{
 "cells": [
  {
   "cell_type": "markdown",
   "id": "366e6742",
   "metadata": {},
   "source": [
    "# Week 1 Lab: Python Setup & Basics\n",
    "\n",
    "<a href=\"https://colab.research.google.com/github/bradleyboehmke/uc-bana-4080/blob/main/labs/01_python_intro.ipynb\" target=\"_parent\"><img src=\"https://colab.research.google.com/assets/colab-badge.svg\" alt=\"Open In Colab\"/></a>\n",
    "\n",
    "Welcome to your first lab! Today we'll dig into:\n",
    "\n",
    "🔧 **Today’s Tools**  \n",
    "- Google Colab (starter + walkthrough notebooks)  \n",
    "- [Chapter 2: Working in Colab](https://bradleyboehmke.github.io/uc-bana-4080/02-preparing-for-code.html)\n",
    "- [Chapter 3: Python Basics](https://bradleyboehmke.github.io/uc-bana-4080/03-python-basics.html)\n",
    "\n",
    "🧪 **Lab Agenda**\n",
    "\n",
    "1. ~~**[0–15 min]** Open Colab + run `print(\"Hello World!\")`~~\n",
    "2. **[15–20 min]** What does `print()` do?  \n",
    "3. **[20–35 min]** Data types → `int`, `float`, `str`, `bool`  \n",
    "4. **[35–45 min]** Variables & reassignment  \n",
    "5. **[45–55 min]** Comparison operators  \n",
    "6. **[55–65 min]** Recap: Put it all together  \n",
    "7. **[65–85 min]** Final exercise: Event summary\n"
   ]
  },
  {
   "cell_type": "markdown",
   "id": "371e2be7",
   "metadata": {},
   "source": [
    "## Try It Before We Start!\n",
    "\n",
    "Let’s run a few lines of Python code before we dive in."
   ]
  },
  {
   "cell_type": "code",
   "execution_count": null,
   "id": "749c3d41",
   "metadata": {},
   "outputs": [],
   "source": [
    "# Store your name as a string\n",
    "name = \"Taylor\"\n",
    "\n",
    "# Store your age as a number\n",
    "age = 22\n",
    "\n",
    "# Print a personalized message\n",
    "print(\"Hi \" + name + \"! You are \" + str(age) + \" years old.\")\n",
    "\n",
    "# Calculate how many years until you turn 30\n",
    "years_to_30 = 30 - age\n",
    "print(\"You'll turn 30 in \" + str(years_to_30) + \" years.\")"
   ]
  },
  {
   "cell_type": "markdown",
   "id": "e3341e6e",
   "metadata": {},
   "source": [
    "What just happened?\n",
    "\n",
    "* You stored information using variables\n",
    "* You worked with different data types (a string and a number)\n",
    "* You used basic math and printed a personalized message\n",
    "\n",
    "Don’t worry if this isn’t totally clear yet - it will be by the end of this lab!"
   ]
  },
  {
   "cell_type": "markdown",
   "id": "9cab2122",
   "metadata": {},
   "source": [
    "## 1. Revisiting Our First Line of Code\n",
    "Let's go back to that first line of Python code you ran in Colab:"
   ]
  },
  {
   "cell_type": "code",
   "execution_count": null,
   "id": "afb6c9a0",
   "metadata": {},
   "outputs": [],
   "source": [
    "print(\"Hello, World!\")"
   ]
  },
  {
   "cell_type": "markdown",
   "id": "b07c3580",
   "metadata": {},
   "source": [
    "Now go ahead and run the following line of code which is similar but doesn't include the `print()` function:"
   ]
  },
  {
   "cell_type": "code",
   "execution_count": null,
   "id": "e625cc5b",
   "metadata": {},
   "outputs": [],
   "source": [
    "\"Hello, World!\""
   ]
  },
  {
   "cell_type": "markdown",
   "id": "d765100c",
   "metadata": {},
   "source": [
    "Do you notice a difference in the output?  How about if you run the following code:"
   ]
  },
  {
   "cell_type": "code",
   "execution_count": null,
   "id": "3b1cc6d9",
   "metadata": {},
   "outputs": [],
   "source": [
    "10 + 5\n",
    "20 + 3\n",
    "print(10 + 5)\n",
    "print(20 + 3)"
   ]
  },
  {
   "cell_type": "markdown",
   "id": "ddb00ea9",
   "metadata": {},
   "source": [
    "### Discussion\n",
    "- What did you notice about the difference between lines with `print()` and those without?\n",
    "- How many outputs were shown when you ran the code?"
   ]
  },
  {
   "cell_type": "markdown",
   "id": "f9f30474",
   "metadata": {},
   "source": [
    "The `print()` function in Python is a built-in function used to display output to the console or other specified destinations. It takes one or more arguments and converts them to string representations before writing them."
   ]
  },
  {
   "cell_type": "code",
   "execution_count": null,
   "id": "a9ad8063",
   "metadata": {},
   "outputs": [],
   "source": [
    "# We can even combine multiple items in a single print statement:\n",
    "print(\"The sum of 10 and 5 is\", 10 + 5)"
   ]
  },
  {
   "cell_type": "markdown",
   "id": "fe60fc43",
   "metadata": {},
   "source": [
    "But we're getting ahead of ourselves! Let's take a step back and look at some of the basic data types in Python and also some basic operations we can do on these data types."
   ]
  },
  {
   "cell_type": "markdown",
   "id": "a847b74b",
   "metadata": {},
   "source": [
    "## 2. Python Data Types\n",
    "Explore the four common types:"
   ]
  },
  {
   "cell_type": "code",
   "execution_count": null,
   "id": "e90fa217",
   "metadata": {},
   "outputs": [],
   "source": [
    "x = 10             # int\n",
    "y = 3.14           # float\n",
    "z = \"data\"         # str\n",
    "is_student = True  # bool"
   ]
  },
  {
   "cell_type": "markdown",
   "id": "32667c33",
   "metadata": {},
   "source": [
    "We can use the `type()` function to check the type of a variable.  Go ahead and run the following code to see the types of the variables we just created:"
   ]
  },
  {
   "cell_type": "code",
   "execution_count": null,
   "id": "feaa886d",
   "metadata": {},
   "outputs": [],
   "source": [
    "type(x)"
   ]
  },
  {
   "cell_type": "markdown",
   "id": "11c0933b",
   "metadata": {},
   "source": [
    "### Exercise\n",
    "\n",
    "1. Run type on each variable (x, y, z, is_student) to see their types.\n",
    "2. Change `x` to 10.5, `y` to \"hello\", `z` to False, and `is_student` to 1 and re-run the type checks.\n",
    "3. Before you run the following, what do you think the data types are for each line? Then, run the code in your notebook to check your answers. Were your predictions correct?\n",
    "    ```python\n",
    "    print(type(\"True\"))\n",
    "    print(type(True))\n",
    "    ```"
   ]
  },
  {
   "cell_type": "markdown",
   "id": "d8e2afbd",
   "metadata": {},
   "source": [
    "## 3. Variables and Assignment\n",
    "\n",
    "In the section above, we created variables like `x`, `y`, `z`, and `is_student`. These are just names we give to values so we can refer to them later in our code.  \n",
    "\n",
    "* `x`, `y`, `z`, and `is_student` are variable names.\n",
    "* `10`, `3.14`, `\"data\"`, and `True` are the values assigned to those variables.\n",
    "* The `=` operator is used to **assign** a value to a variable"
   ]
  },
  {
   "cell_type": "code",
   "execution_count": null,
   "id": "24c62a2a",
   "metadata": {},
   "outputs": [],
   "source": [
    "price = 2.99\n",
    "quantity = 4\n",
    "total = price * quantity\n",
    "print(\"Total:\", total)"
   ]
  },
  {
   "cell_type": "markdown",
   "id": "b39fce37",
   "metadata": {},
   "source": [
    "### Exercise\n",
    "Change the price or quantity values and rerun the calculation."
   ]
  },
  {
   "cell_type": "markdown",
   "id": "58e0921b",
   "metadata": {},
   "source": [
    "## 4. Common Operations\n",
    "\n",
    "In the example above, we did some basic math with our variables. Python allows us to perform various operations on our data types. Here are some common operations."
   ]
  },
  {
   "cell_type": "markdown",
   "id": "0e228dca",
   "metadata": {},
   "source": [
    "### Numeric Operations\n",
    "\n",
    "Go ahead and run the following code to see some basic operations with numbers:\n",
    "\n",
    "```python\n",
    "# Basic operations\n",
    "10 - 3.5   # Subtraction\n",
    "10 * 3.5   # Multiplication\n",
    "10 / 3.5   # Division (always returns a float)\n",
    "\n",
    "# More math\n",
    "10 ** 3.5  # Exponentiation (10^2 = 100)\n",
    "10 // 3.5  # Integer division (result is an int)\n",
    "10 % 3.5   # Modulus (remainder)\n",
    "```"
   ]
  },
  {
   "cell_type": "markdown",
   "id": "59a8b5bb",
   "metadata": {},
   "source": [
    "#### Exercise\n",
    "\n",
    "A 12-inch pizza costs \\$8. Use the formula for the area of a circle ($A = \\pi × r^2$) to calculate the **cost per square inch** of the pizza.\n",
    "\n",
    "Hints:\n",
    "\n",
    "* Radius ($r$) is half the diameter\n",
    "* Use `3.14159` as your approximation for $\\pi$\n",
    "* Divide the price by the area to get cost per square inch\n",
    "\n",
    "Now repeat for a 15-inch pizza that costs \\$12. Which is a better deal?"
   ]
  },
  {
   "cell_type": "markdown",
   "id": "e9ff8251",
   "metadata": {},
   "source": [
    "### String Operations\n",
    "\n",
    "Strings can be combined (concatenated), repeated, or sliced (getting parts of the string).\n"
   ]
  },
  {
   "cell_type": "code",
   "execution_count": null,
   "id": "6533e7e2",
   "metadata": {},
   "outputs": [],
   "source": [
    "# Concatenation\n",
    "\"Hello\" + \" \" + \"BANA 4080!\"   # Hello BANA 4080!"
   ]
  },
  {
   "cell_type": "code",
   "execution_count": null,
   "id": "94c13f26",
   "metadata": {},
   "outputs": [],
   "source": [
    "# String repetition\n",
    "\"ha\" * 3   # 'hahaha'"
   ]
  },
  {
   "cell_type": "code",
   "execution_count": null,
   "id": "0b625585",
   "metadata": {},
   "outputs": [],
   "source": [
    "# Get first letter (starts at 0)\n",
    "\"Taylor\"[0] # 'T'\n",
    "\n",
    "# Get first three letters\n",
    "\"Taylor\"[:3]   # 'Tay'"
   ]
  },
  {
   "cell_type": "markdown",
   "id": "ebbf500b",
   "metadata": {},
   "source": [
    "#### Exercise\n",
    "\n",
    "1. First, guess what each line of code will result in. Then run them in your notebook. Were the results what you expected?\n",
    "    ```python\n",
    "    print(\"Python\" + \"Rocks\")\n",
    "    print(\"ha\" * 5)\n",
    "    print(\"banana\"[1])\n",
    "    print(\"banana\"[::-1])   # Can you guess what this does?\n",
    "    ```\n",
    "2. Can you use slicing to print just the word `\"ana\"` from `\"banana\"`?"
   ]
  },
  {
   "cell_type": "markdown",
   "id": "0bc89424",
   "metadata": {},
   "source": [
    "## 5. Comparison Operators\n",
    "\n",
    "We often need to compare values in our code. Python provides several comparison operators that return `True` or `False` based on the comparison.\n",
    "\n",
    "| Operator | Description              | Example  | Result  |\n",
    "| -------- | ------------------------ | -------- | ------- |\n",
    "| `==`     | Equal to                 | `5 == 5` | `True`  |\n",
    "| `!=`     | Not equal to             | `5 != 3` | `True`  |\n",
    "| `>`      | Greater than             | `10 > 7` | `True`  |\n",
    "| `<`      | Less than                | `4 < 2`  | `False` |\n",
    "| `>=`     | Greater than or equal to | `3 >= 3` | `True`  |\n",
    "| `<=`     | Less than or equal to    | `8 <= 6` | `False` |"
   ]
  },
  {
   "cell_type": "code",
   "execution_count": null,
   "id": "918e4f26",
   "metadata": {},
   "outputs": [],
   "source": [
    "a = 10\n",
    "b = 5\n",
    "print(a > b)\n",
    "print(a == b)\n",
    "print(\"hello\" != \"world\")"
   ]
  },
  {
   "cell_type": "markdown",
   "id": "5fec0890",
   "metadata": {},
   "source": [
    "### Exercise\n",
    "\n",
    "#### Exercise 1: Stock Price Comparison\n",
    "\n",
    "Look up **yesterday's closing stock price** and **today's current price** for Kroger (you can make up values if needed). Assign them to variables and write a comparison to see if today’s price is higher.\n",
    "\n",
    "```python\n",
    "kr_close = _____\n",
    "kr_current = _____\n",
    "\n",
    "print(\"Is today's price higher than yesterday's close?\", kr_current ____ kr_close)\n",
    "```\n",
    "\n",
    "#### Exercise 2: Purchase Quantity Check\n",
    "\n",
    "A customer wants to buy 5 items. A promotion applies only if they buy **3 or more**. Assign the quantities to variables and write a comparison to check if the promotion applies.\n",
    "\n",
    "```python\n",
    "quantity = __\n",
    "promotion_cutoff = __\n",
    "\n",
    "print(\"Promotion applies:\", __________)\n",
    "```\n",
    "\n",
    "#### Exercise 3: Check Multiple Conditions with Comparison Operators\n",
    "\n",
    "A product is considered a **“hot seller”** if its `average_rating` is greater than **4.5** and `num_reviews` is over **100**. Assign those two values and write a single line of code that prints whether it’s a hot seller.\n",
    "\n",
    "```python\n",
    "average_rating = 4.7\n",
    "num_reviews = 135\n",
    "\n",
    "print(\"Hot seller:\", _________ > 4.5 and _________ > 100)\n",
    "```"
   ]
  },
  {
   "cell_type": "markdown",
   "id": "38e5344f",
   "metadata": {},
   "source": [
    "## 6. Putting It All Together\n",
    "A recap combining variables, math, and print formatting."
   ]
  },
  {
   "cell_type": "code",
   "execution_count": null,
   "id": "27baac52",
   "metadata": {},
   "outputs": [],
   "source": [
    "# Store your name as a string\n",
    "name = _________\n",
    "\n",
    "# Store your age as a number\n",
    "age = __\n",
    "\n",
    "# Print a personalized message\n",
    "print(\"Hi, my name is \" + name + \"! I am \" + str(age) + \" years old.\")\n",
    "\n",
    "# Calculate how many years until you turn 30\n",
    "years_to_30 = 30 - age\n",
    "print(\"I'll turn 30 in \" + str(years_to_30) + \" years.\")"
   ]
  },
  {
   "cell_type": "markdown",
   "id": "5deb890d",
   "metadata": {},
   "source": [
    "## 7. Final Exercise – Build a Simple Event Summary\n",
    "\n",
    "### The Scenario\n",
    "\n",
    "Your student club is hosting an event and you're in charge of summarizing registration data. Use what you’ve learned in this chapter to answer the following questions using Python.\n",
    "\n",
    "Write all your code **from scratch**—no copy-pasting. Try to reason through the logic before typing.\n",
    "\n",
    "* **Tickets sold:** 56\n",
    "* **Ticket price:** \\$10.50\n",
    "* **Revenue goal:** \\$600\n",
    "* **Event name:** \"Python for Everyone\"\n",
    "\n",
    "### Your Tasks\n",
    "\n",
    "1. **Create Variables**: Assign appropriate values to variables for:\n",
    "   * Event name\n",
    "   * Tickets sold\n",
    "   * Ticket price\n",
    "   * Revenue goal\n",
    "\n",
    "2. **Calculate Total Revenue**: Use math operations to calculate the total revenue earned from ticket sales.\n",
    "\n",
    "3. **Print a Summary Report**: Use `print()` and string concatenation to display a message like:\n",
    "\n",
    "   ```\n",
    "   The event \"Python for Everyone\" sold 56 tickets at $10.50 each.\n",
    "   Total revenue: $588.0\n",
    "   Met or exceeded goal: False\n",
    "   ```\n",
    "\n",
    "4. **Stretch Task** (Optional): Add a comparison that checks whether your total revenue met or exceeded the revenue goal and prints:\n",
    "\n",
    "   * `\"Yaaah! We met our goal!\"` if the goal was met\n",
    "   * `\"Booo! We missed our goal.\"` if it was not\n",
    "\n",
    "   *Hint: Ask a GenAI tool to help you construct the logic! If you can't get it, don't worry as we will talk about this later in the course.*"
   ]
  },
  {
   "cell_type": "markdown",
   "id": "1dbe7e42",
   "metadata": {},
   "source": []
  }
 ],
 "metadata": {
  "kernelspec": {
   "display_name": "venv (3.9.6)",
   "language": "python",
   "name": "python3"
  },
  "language_info": {
   "codemirror_mode": {
    "name": "ipython",
    "version": 3
   },
   "file_extension": ".py",
   "mimetype": "text/x-python",
   "name": "python",
   "nbconvert_exporter": "python",
   "pygments_lexer": "ipython3",
   "version": "3.9.6"
  }
 },
 "nbformat": 4,
 "nbformat_minor": 5
}
