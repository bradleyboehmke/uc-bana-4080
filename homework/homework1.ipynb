{
 "cells": [
  {
   "cell_type": "markdown",
   "id": "91b9c341",
   "metadata": {},
   "source": [
    "# 📝 Homework 1: Python Basics, Jupyter, and Data Structures\n",
    "\n",
    "---\n",
    "\n",
    "## 📂 Instructions\n",
    "\n",
    "Complete the tasks below in this Jupyter notebook. Most tasks require you to write Python code and use the output to answer **a separate online quiz**.\n",
    "\n",
    "At the end, you’ll also upload:\n",
    "\n",
    "- This completed `.ipynb` notebook\n",
    "- Your **bio notebook** (from Lab 2) as a **PDF**\n",
    "\n",
    "Let’s begin!\n",
    "\n",
    "<a href=\"https://colab.research.google.com/github/bradleyboehmke/uc-bana-4080/blob/main/homework/homework1.ipynb\" target=\"_parent\"><img src=\"https://colab.research.google.com/assets/colab-badge.svg\" alt=\"Open In Colab\"/></a>\n",
    "\n",
    "---\n"
   ]
  },
  {
   "cell_type": "markdown",
   "id": "f91e2994",
   "metadata": {},
   "source": [
    "## 1. Basic Python & Variables\n",
    "\n",
    "### 1.0. Budget Comparison Challenge\n",
    "\n",
    "You're organizing an event. Your current budget is $1,000.\n",
    "\n",
    "- You expect 75 attendees.\n",
    "- Each attendee costs $12.25 to serve (including food and materials).\n",
    "- Calculate the **total cost** of the event.\n",
    "- Compare the total cost to your budget.\n",
    "- Print a message that says whether you're **within budget** or **over budget**.\n",
    "\n",
    "➡️ Use your result to answer the quiz question: Are you over or under budget?\n"
   ]
  },
  {
   "cell_type": "code",
   "execution_count": null,
   "id": "f4e1c4ed",
   "metadata": {},
   "outputs": [],
   "source": [
    "# Your code here\n",
    "attendees = ____\n",
    "cost_per_person = ____\n",
    "budget = ____\n",
    "\n",
    "# Calculate total cost\n",
    "# Compare to budget and print result"
   ]
  },
  {
   "cell_type": "markdown",
   "id": "48cf6001",
   "metadata": {},
   "source": [
    "### 1.1. Ticket Revenue\n",
    "\n",
    "Your club sold 56 tickets to an event, priced at $10.50 each.\n",
    "\n",
    "👉 What is the **total revenue**?\n",
    "\n",
    "\n",
    "➡️ Use your result to answer the quiz question about total revenue."
   ]
  },
  {
   "cell_type": "code",
   "execution_count": null,
   "id": "041eb8c7",
   "metadata": {},
   "outputs": [],
   "source": [
    "# Your code here\n",
    "tickets_sold = 56\n",
    "ticket_price = 10.50\n",
    "\n",
    "# calculate total revenue"
   ]
  },
  {
   "cell_type": "markdown",
   "id": "0a96c310",
   "metadata": {},
   "source": [
    "### 1.2. Pizza Cost per Square Inch Comparison\n",
    "\n",
    "You’re deciding between two pizzas:\n",
    "\n",
    "- A 13-inch pizza that costs $18\n",
    "- A 15-inch pizza that costs $20.50\n",
    "\n",
    "Using the formula for the area of a circle \\(A = πr²\\), compute the **cost per square inch** for both pizzas. 👉 Use the equation: **cost per square inch = total cost ÷ area of the pizza.**\n",
    "\n",
    "➡️ Use your result to answer the quiz: Which pizza is cheaper per square inch?"
   ]
  },
  {
   "cell_type": "code",
   "execution_count": null,
   "id": "a9c8f311",
   "metadata": {},
   "outputs": [],
   "source": [
    "# Your code here\n",
    "# Use 3.14159 for π\n",
    "# Calculate and compare the cost per square inch for both pizzas"
   ]
  },
  {
   "cell_type": "markdown",
   "id": "35197431",
   "metadata": {},
   "source": [
    "### 1.3. String Computation Challenge\n",
    "\n",
    "You are analyzing a dataset of movie titles. Start with the following string:\n",
    "\n",
    "```python\n",
    "movie_title = \"The Lord of the Rings: The Return of the King\"\n",
    "```\n",
    "\n",
    "- Count how many characters are in the title using the `len()` function.\n",
    "- Convert the title to all uppercase.\n",
    "- Check if the word \"King\" is in the title:\n",
    "\n",
    "```python\n",
    "# hint\n",
    "contains_king = \"King\" in _____\n",
    "print(\"Contains 'King':\", contains_king)\n",
    "```\n",
    "\n",
    "➡️ Use your result to answer a quiz question about the number of characters."
   ]
  },
  {
   "cell_type": "code",
   "execution_count": null,
   "id": "46817a2a",
   "metadata": {},
   "outputs": [],
   "source": [
    "# Your code here"
   ]
  },
  {
   "cell_type": "markdown",
   "id": "66b1f9c8",
   "metadata": {},
   "source": [
    "## 2. Data Structures\n",
    "\n",
    "### 2.1. Lists\n",
    "\n",
    "Start with the following list:\n",
    "\n",
    "```python\n",
    "playlist = [\"Let It Be\", \"Hey Jude\", \"Blackbird\", \"Yesterday\", \"Come Together\"]\n",
    "```\n",
    "\n",
    "- Print the third song.\n",
    "- Add \"Something\" and \"Eleanor Rigby\" to the list.\n",
    "- Remove \"Yesterday\" from the list.\n",
    "- Print the final list.\n",
    "\n",
    "➡️ Use your final list to answer a quiz question."
   ]
  },
  {
   "cell_type": "code",
   "execution_count": null,
   "id": "a3c11d5a",
   "metadata": {},
   "outputs": [],
   "source": [
    "# code here"
   ]
  },
  {
   "cell_type": "markdown",
   "id": "04f8e0ec",
   "metadata": {},
   "source": [
    "### 2.2. Tuples\n",
    "\n",
    "Create a tuple called `coordinates` with the following values representing the (latitude, longitude): `(39.7589, -84.1916)`\n",
    "\n",
    "- Print the latitude.\n",
    "- Try changing the second value (longitude) to something else. What happens?\n",
    "- Unpack the tuple into `lat` and `lon` and print each.\n",
    "\n",
    "➡️ One quiz question will ask what specific error they get when trying to modify a tuple."
   ]
  },
  {
   "cell_type": "code",
   "execution_count": null,
   "id": "ce88be42",
   "metadata": {},
   "outputs": [],
   "source": [
    "# Your code here"
   ]
  },
  {
   "cell_type": "markdown",
   "id": "2f8e05bb",
   "metadata": {},
   "source": [
    "### 2.3. Dictionaries\n",
    "\n",
    "Create a dictionary containing these key-value pairs representing course names and their respective grades:\n",
    "\n",
    "- \"Math\": 90\n",
    "- \"History\": 85\n",
    "- \"Biology\": 88\n",
    "\n",
    "Now, with this dictionary perform the following tasks:\n",
    "\n",
    "- Print the grade for History.\n",
    "- Add a new course: \"English\" with grade 92.\n",
    "- Update Biology to 90.\n",
    "\n",
    "➡️ You’ll answer a quiz question about your dictionary contents."
   ]
  },
  {
   "cell_type": "code",
   "execution_count": null,
   "id": "cdf9855e",
   "metadata": {},
   "outputs": [],
   "source": [
    "# code here"
   ]
  },
  {
   "cell_type": "markdown",
   "id": "4c620eca",
   "metadata": {},
   "source": [
    "### 2.4. Sets\n",
    "\n",
    "Start with this set:\n",
    "\n",
    "```python\n",
    "favorite_colors = {\"blue\", \"green\", \"red\", \"purple\"}\n",
    "```\n",
    "\n",
    "- Add \"blue\" again to the set.\n",
    "- Add a new color \"orange\" to the set.\n",
    "- Print the final set.\n",
    "\n",
    "➡️ Answer a quiz question about the final set contents."
   ]
  },
  {
   "cell_type": "code",
   "execution_count": null,
   "id": "b8f3fb4b",
   "metadata": {},
   "outputs": [],
   "source": [
    "# code here"
   ]
  },
  {
   "cell_type": "markdown",
   "id": "04c6ff7c",
   "metadata": {},
   "source": [
    "## 3. Libraries\n",
    "\n",
    "### 3.1. Days Until Christmas 🎄\n",
    "\n",
    "Use Python’s `datetime` module to calculate how many days are between **July 4, 2025** and **December 25, 2025**.\n",
    "\n",
    "➡️ Quiz will ask how many days are left."
   ]
  },
  {
   "cell_type": "code",
   "execution_count": null,
   "id": "d64766a5",
   "metadata": {},
   "outputs": [],
   "source": [
    "# Your code here\n",
    "from datetime import date"
   ]
  },
  {
   "cell_type": "markdown",
   "id": "8e5c9ca7",
   "metadata": {},
   "source": [
    "### 3.2. Dice Roll 🎲\n",
    "\n",
    "Import the `random` library. Use `random.randint` to simulate two 6-sided dice rolls and compute their total. Set a random seed using `random.seed(42)` so everyone gets the same result.\n",
    "\n",
    "➡️ Quiz will ask what range of values your simulation could return."
   ]
  },
  {
   "cell_type": "code",
   "execution_count": null,
   "id": "5aaeccad",
   "metadata": {},
   "outputs": [],
   "source": [
    "_______ random\n",
    "random.seed(42)\n",
    "\n",
    "# Simulate rolling two dice and computing their total\n",
    "roll1 = random.randint(_, _)\n",
    "roll2 = random.randint(_, _)\n",
    "total = ______ + ______\n",
    "print(\"Total from two dice:\", total)\n",
    "\n",
    "# ✍️ Fill in the blank in the quiz:\n",
    "# What is the result of the dice roll simulation? (total = ____)"
   ]
  },
  {
   "cell_type": "markdown",
   "id": "0e87f6d0",
   "metadata": {},
   "source": [
    "### 3.3. Bonus: Third-Party Library\n",
    "\n",
    "(🎁 Optional) Install and import a third-party library of your choice using `pip`. Try printing something from it."
   ]
  },
  {
   "cell_type": "code",
   "execution_count": null,
   "id": "028a3b9a",
   "metadata": {},
   "outputs": [],
   "source": [
    "# Example:\n",
    "!pip install rich\n",
    "from rich import print\n",
    "print(\"This is styled output!\")"
   ]
  },
  {
   "cell_type": "markdown",
   "id": "629cba51",
   "metadata": {},
   "source": [
    "## 4. Submit Your Bio Notebook\n",
    "\n",
    "Open the personal bio notebook you created in Lab 2.\n",
    "\n",
    "✅ Double-check that it includes:\n",
    "\n",
    "- A formatted title and description\n",
    "- A photo of yourself\n",
    "- Academic and professional background\n",
    "- Python code output at the end\n",
    "\n",
    "📄 Export it as a **PDF** and upload it to Canvas along with this notebook."
   ]
  },
  {
   "cell_type": "markdown",
   "id": "e7f0447b",
   "metadata": {},
   "source": [
    "## ✅ Wrap-Up\n",
    "\n",
    "Make sure to:\n",
    "\n",
    "- Finish the online quiz\n",
    "- Upload:\n",
    "  - This notebook (`homework1.ipynb`)\n",
    "  - Your **bio notebook** as a **PDF**"
   ]
  }
 ],
 "metadata": {
  "language_info": {
   "name": "python"
  }
 },
 "nbformat": 4,
 "nbformat_minor": 5
}
